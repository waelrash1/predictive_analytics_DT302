{
  "nbformat": 4,
  "nbformat_minor": 0,
  "metadata": {
    "colab": {
      "name": "Stacking LAB.ipynb",
      "private_outputs": true,
      "provenance": [],
      "collapsed_sections": [],
      "authorship_tag": "ABX9TyNi+E6yflPWGJ/UYh0hwX9i",
      "include_colab_link": true
    },
    "kernelspec": {
      "name": "python3",
      "display_name": "Python 3"
    },
    "language_info": {
      "name": "python"
    }
  },
  "cells": [
    {
      "cell_type": "markdown",
      "metadata": {
        "id": "view-in-github",
        "colab_type": "text"
      },
      "source": [
        "<a href=\"https://colab.research.google.com/github/waelrash1/predictive_analytics_DT302/blob/main/Stacking_LAB.ipynb\" target=\"_parent\"><img src=\"https://colab.research.google.com/assets/colab-badge.svg\" alt=\"Open In Colab\"/></a>"
      ]
    },
    {
      "cell_type": "code",
      "metadata": {
        "id": "DPdKY1sAebXx"
      },
      "source": [
        "%pip install mlxtend --upgrad"
      ],
      "execution_count": null,
      "outputs": []
    },
    {
      "cell_type": "code",
      "metadata": {
        "id": "OwweT4w6YqWo"
      },
      "source": [
        "import pandas as pd\n",
        "import numpy as np\n",
        "import matplotlib.pyplot as plt\n",
        "import seaborn as sns\n",
        "from sklearn.model_selection import cross_validate\n",
        "import pydot\n",
        "from IPython.display import Image\n",
        "from sklearn.linear_model import Ridge, Lasso\n",
        "from sklearn.neighbors import KNeighborsRegressor\n",
        "from xgboost import XGBRegressor,XGBClassifier\n",
        "from sklearn.model_selection import train_test_split, cross_val_score\n",
        "from six import StringIO \n",
        "from sklearn.tree import DecisionTreeRegressor, DecisionTreeClassifier, export_graphviz\n",
        "from sklearn.ensemble import BaggingClassifier, RandomForestClassifier, BaggingRegressor, RandomForestRegressor, GradientBoostingRegressor\n",
        "from sklearn.metrics import mean_squared_error,confusion_matrix, classification_report, r2_score\n",
        "from mlxtend.regressor import StackingCVRegressor"
      ],
      "execution_count": null,
      "outputs": []
    },
    {
      "cell_type": "code",
      "metadata": {
        "id": "HcK4vDj6SSM7"
      },
      "source": [
        "#loading data hitters.csv\n",
        "\n",
        "url='https://raw.githubusercontent.com/selva86/datasets/master/Hitters.csv'\n",
        "df = pd.read_csv(url).dropna()\n",
        "df.info()\n",
        "df.sample(5)"
      ],
      "execution_count": null,
      "outputs": []
    },
    {
      "cell_type": "code",
      "metadata": {
        "id": "9dXwHulTSlH2"
      },
      "source": [
        "\n",
        "y = np.log(df.Salary)\n",
        "y=df.Salary\n",
        "dummies = pd.get_dummies(df[['League', 'Division', 'NewLeague']])\n",
        "# Drop the column with the independent variable (Salary), and columns for which we created dummy variables\n",
        "X_ = df.drop(['Salary', 'League', 'Division', 'NewLeague'], axis = 1).astype('float64')\n",
        "\n",
        "# Define the feature set X.\n",
        "X = pd.concat([X_, dummies[['League_N', 'Division_W', 'NewLeague_N']]], axis = 1)\n",
        "\n",
        "X.info()"
      ],
      "execution_count": null,
      "outputs": []
    },
    {
      "cell_type": "code",
      "metadata": {
        "id": "rB8wR7LlS8VI"
      },
      "source": [
        "X_train, X_test, y_train, y_test = train_test_split(X, y, test_size=0.3, random_state=1)"
      ],
      "execution_count": null,
      "outputs": []
    },
    {
      "cell_type": "code",
      "metadata": {
        "id": "hT-di1QSe5cz"
      },
      "source": [
        "ridge_model_L1 = Ridge(alpha = .57,random_state=1 )\n",
        "lass_model_L1 = Lasso( alpha = 2.4,max_iter = 10000,random_state=1)\n",
        "rf_model_L1=RandomForestRegressor(random_state=1)\n",
        "knn_model_L1=KNeighborsRegressor()\n",
        "xgb_model_L1=XGBRegressor(silent=True,random_state=1)\n",
        "\n",
        "xgb_model_L2=XGBRegressor(silent=True,random_state=1)\n",
        "\n",
        "models=[ridge_model_L1,\n",
        "        lass_model_L1,\n",
        "        rf_model_L1,\n",
        "        knn_model_L1,\n",
        "       xgb_model_L1]\n",
        "\n",
        "\n",
        "labels = ['Ridge Regression','Lasso Regression' , 'Random Forest', 'KNN Regression', 'XGB Regression']"
      ],
      "execution_count": null,
      "outputs": []
    },
    {
      "cell_type": "code",
      "metadata": {
        "id": "z-hDgHnrA_F3"
      },
      "source": [
        "print('5-fold cross validation:\\n')\n",
        "for model, label in zip(models,labels):\n",
        "\n",
        "    scores = cross_validate(model, X_train, y_train, \n",
        "                                              cv=5,scoring=('r2', 'neg_mean_squared_error'),\n",
        "                            return_train_score=True)\n",
        "    print(\"R_squered: %0.2f (+/- %0.2f) [%s]\"\n",
        "          % (scores['test_r2'].mean(), scores['test_r2'].std(), \"Mean_squared_error: %0.2f (+/- %0.2f) [%s]\"\n",
        "          % (-scores['test_neg_mean_squared_error'].mean(), scores['test_neg_mean_squared_error'].std(), label)))\n"
      ],
      "execution_count": null,
      "outputs": []
    },
    {
      "cell_type": "code",
      "metadata": {
        "id": "NhNy_Oi4TpN8"
      },
      "source": [
        "\n",
        "stack = StackingCVRegressor(regressors=models,\n",
        "                            meta_regressor=xgb_model_L2, cv=10,\n",
        "                            use_features_in_secondary=True,\n",
        "                            store_train_meta_features=True,\n",
        "                            shuffle=False\n",
        "                           )"
      ],
      "execution_count": null,
      "outputs": []
    },
    {
      "cell_type": "code",
      "metadata": {
        "id": "Y4qM0drIVzFR"
      },
      "source": [
        "stack.fit(X_train.values, y_train.values)\n",
        "X_test.columns = ['f0', 'f1', 'f2', 'f3', 'f4', 'f5', 'f6', 'f7', 'f8', 'f9', 'f10', 'f11',\n",
        "                  'f12', 'f13', 'f14', 'f15', 'f16', 'f17', 'f18'] # Xgboost internally renames the features\n",
        "pred = stack.predict(X_test.values)\n",
        "score_mse = mean_squared_error(y_test, pred)\n",
        "score_r2=r2_score(y_test, pred)*100\n",
        "print('Model: {0}, MSE: {1}'.format(type(stack).__name__, score_mse))\n",
        "print('Model: {0}, R2: {1}'.format(type(stack).__name__, score_r2))\n"
      ],
      "execution_count": null,
      "outputs": []
    },
    {
      "cell_type": "markdown",
      "metadata": {
        "id": "d22LmabCHYZ8"
      },
      "source": [
        "## Another Example on classiifcation"
      ]
    },
    {
      "cell_type": "code",
      "metadata": {
        "id": "R1FYN83-HiFh"
      },
      "source": [
        "%pip install vecstack"
      ],
      "execution_count": null,
      "outputs": []
    },
    {
      "cell_type": "code",
      "metadata": {
        "id": "fPabl2GiY30v"
      },
      "source": [
        "import pandas as pd\n",
        "from sklearn.datasets import load_iris\n",
        "from sklearn.model_selection import train_test_split\n",
        "from sklearn.metrics import accuracy_score\n",
        "from sklearn.neighbors import KNeighborsClassifier\n",
        "from sklearn.ensemble import RandomForestClassifier\n",
        "from xgboost import XGBClassifier\n",
        "from vecstack import stacking"
      ],
      "execution_count": null,
      "outputs": []
    },
    {
      "cell_type": "code",
      "metadata": {
        "id": "dQbto7E1l9LL"
      },
      "source": [
        "link = 'https://archive.ics.uci.edu/ml/machine-learning-databases/wine/wine.data'\n",
        "names = ['Class', 'Alcohol', 'Malic acid', 'Ash',\n",
        "         'Alcalinity of ash' ,'Magnesium', 'Total phenols',\n",
        "         'Flavanoids', 'Nonflavanoid phenols', 'Proanthocyanins',     'Color intensity', 'Hue', 'OD280/OD315 of diluted wines',\n",
        "         'Proline']\n",
        "df = pd.read_csv(link, header=None, names=names)\n",
        "df.sample(5)"
      ],
      "execution_count": null,
      "outputs": []
    },
    {
      "cell_type": "code",
      "metadata": {
        "id": "Vkk4qb2hmCXZ"
      },
      "source": [
        "y = df[['Class']]\n",
        "X = df.iloc[:,1:]\n",
        "X_train, X_test, y_train, y_test = train_test_split(X, y, test_size=0.2, random_state=0)"
      ],
      "execution_count": null,
      "outputs": []
    },
    {
      "cell_type": "code",
      "metadata": {
        "id": "wcvKaClwmH5b"
      },
      "source": [
        "models = [\n",
        "    KNeighborsClassifier(n_neighbors=5,\n",
        "                        n_jobs=-1),\n",
        "        \n",
        "    RandomForestClassifier(random_state=0, n_jobs=-1, \n",
        "                           n_estimators=100, max_depth=3),\n",
        "        \n",
        "    XGBClassifier(random_state=0, n_jobs=-1, learning_rate=0.1, \n",
        "                  n_estimators=100, max_depth=3)\n",
        "]"
      ],
      "execution_count": null,
      "outputs": []
    },
    {
      "cell_type": "code",
      "metadata": {
        "id": "gzdMJuGPmOuS"
      },
      "source": [
        "S_train, S_test = stacking(models,                   \n",
        "                           X_train, y_train, X_test,   \n",
        "                           regression=False, \n",
        "     \n",
        "                           mode='oof_pred_bag', \n",
        "       \n",
        "                           needs_proba=False,\n",
        "         \n",
        "                           save_dir=None, \n",
        "            \n",
        "                           metric=accuracy_score, \n",
        "    \n",
        "                           n_folds=4, \n",
        "                 \n",
        "                           stratified=True,\n",
        "            \n",
        "                           shuffle=True,  \n",
        "            \n",
        "                           random_state=0,    \n",
        "         \n",
        "                           verbose=2)"
      ],
      "execution_count": null,
      "outputs": []
    },
    {
      "cell_type": "markdown",
      "metadata": {
        "id": "xPmJA10Vmo1r"
      },
      "source": [
        "The stacking function takes several inputs:\n",
        "* models: the first level models we defined earlier\n",
        "* X_train, y_train, X_test: our data\n",
        "* regression: Boolean indicating whether we want to use the function for regression. In our case set to False since this is a classification\n",
        "* mode: using the earlier describe out-of-fold during cross-validation\n",
        "* needs_proba: Boolean indicating whether you need the probabilities of class labels\n",
        "* save_dir: save the result to directory Boolean\n",
        "metric: what evaluation metric to use (we imported the accuracy_score in the beginning)\n",
        "* n_folds: how many folds to use for cross-validation\n",
        "* stratified: whether to use stratified cross-validation\n",
        "* shuffle: whether to shuffle the data\n",
        "* random_state: setting a random state for reproducibility\n",
        "* verbose: 2 here refers to printing all info\n"
      ]
    },
    {
      "cell_type": "code",
      "metadata": {
        "id": "MYqi7BdtmoTq"
      },
      "source": [
        "model = XGBClassifier(random_state=0,silent=True)\n",
        "    \n",
        "model = model.fit(S_train, y_train)\n",
        "y_pred = model.predict(S_test)\n",
        "print('Final prediction score: [%.8f]' % accuracy_score(y_test, y_pred))"
      ],
      "execution_count": null,
      "outputs": []
    },
    {
      "cell_type": "code",
      "metadata": {
        "id": "pD0zaFivouYo"
      },
      "source": [
        "model =RandomForestClassifier(random_state=0, n_jobs=-1)\n",
        "    \n",
        "model = model.fit(S_train, y_train)\n",
        "y_pred = model.predict(S_test)\n",
        "print('Final prediction score: [%.8f]' % accuracy_score(y_test, y_pred))"
      ],
      "execution_count": null,
      "outputs": []
    }
  ]
}