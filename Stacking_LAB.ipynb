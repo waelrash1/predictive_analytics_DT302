{
  "nbformat": 4,
  "nbformat_minor": 0,
  "metadata": {
    "colab": {
      "name": "Stacking LAB.ipynb",
      "private_outputs": true,
      "provenance": [],
      "authorship_tag": "ABX9TyMPC136mxBJ3UPdU/+XMQBi",
      "include_colab_link": true
    },
    "kernelspec": {
      "name": "python3",
      "display_name": "Python 3"
    },
    "language_info": {
      "name": "python"
    }
  },
  "cells": [
    {
      "cell_type": "markdown",
      "metadata": {
        "id": "view-in-github",
        "colab_type": "text"
      },
      "source": [
        "<a href=\"https://colab.research.google.com/github/waelrash1/predictive_analytics_DT302/blob/main/Stacking_LAB.ipynb\" target=\"_parent\"><img src=\"https://colab.research.google.com/assets/colab-badge.svg\" alt=\"Open In Colab\"/></a>"
      ]
    },
    {
      "cell_type": "code",
      "metadata": {
        "id": "DPdKY1sAebXx"
      },
      "source": [
        "%pip install mlxtend --upgrad"
      ],
      "execution_count": null,
      "outputs": []
    },
    {
      "cell_type": "code",
      "metadata": {
        "id": "foSmWtloSgKC"
      },
      "source": [
        "import pandas as pd\n",
        "import numpy as np\n",
        "from matplotlib import pyplot as plt\n",
        "from sklearn.model_selection import train_test_split\n",
        "from sklearn.tree import DecisionTreeRegressor, DecisionTreeClassifier\n",
        "from sklearn.ensemble import BaggingClassifier, RandomForestClassifier, BaggingRegressor, RandomForestRegressor, GradientBoostingRegressor\n",
        "from sklearn.metrics import mean_squared_error,confusion_matrix, classification_report\n",
        "from sklearn.metrics import mean_squared_error\n",
        "from xgboost import XGBRegressor\n",
        "from sklearn.linear_model import Ridge,  Lasso\n",
        "from sklearn.neighbors import KNeighborsRegressor\n",
        "from mlxtend.regressor import StackingCVRegressor\n"
      ],
      "execution_count": null,
      "outputs": []
    },
    {
      "cell_type": "code",
      "metadata": {
        "id": "HcK4vDj6SSM7"
      },
      "source": [
        "url='https://raw.githubusercontent.com/selva86/datasets/master/Hitters.csv'\n",
        "df = pd.read_csv(url).dropna()\n",
        "df.info()\n",
        "df.head()"
      ],
      "execution_count": null,
      "outputs": []
    },
    {
      "cell_type": "code",
      "metadata": {
        "id": "9dXwHulTSlH2"
      },
      "source": [
        "y = np.log(df.Salary)\n",
        "y=df.Salary\n",
        "dummies = pd.get_dummies(df[['League', 'Division', 'NewLeague']])\n",
        "# Drop the column with the independent variable (Salary), and columns for which we created dummy variables\n",
        "X_ = df.drop(['Salary', 'League', 'Division', 'NewLeague'], axis = 1).astype('float64')\n",
        "\n",
        "# Define the feature set X.\n",
        "X = pd.concat([X_, dummies[['League_N', 'Division_W', 'NewLeague_N']]], axis = 1)\n",
        "\n",
        "X.info()"
      ],
      "execution_count": null,
      "outputs": []
    },
    {
      "cell_type": "code",
      "metadata": {
        "id": "rB8wR7LlS8VI"
      },
      "source": [
        "X_train, X_test, y_train, y_test = train_test_split(X, y, test_size=0.3, random_state=1)"
      ],
      "execution_count": null,
      "outputs": []
    },
    {
      "cell_type": "code",
      "metadata": {
        "id": "hT-di1QSe5cz"
      },
      "source": [
        "ridge_model = Ridge(alpha = .57,random_state=1 )\n",
        "lass_model = Lasso( alpha = 2.4,max_iter = 10000,random_state=1)\n",
        "rf_model=RandomForestRegressor(random_state=1)\n",
        "knn_model=KNeighborsRegressor()\n",
        "xgb_model_l0=XGBRegressor(silent=True,random_state=1)\n",
        "xgb_model_l1=XGBRegressor(silent=True,random_state=1)\n"
      ],
      "execution_count": null,
      "outputs": []
    },
    {
      "cell_type": "code",
      "metadata": {
        "id": "NhNy_Oi4TpN8"
      },
      "source": [
        "stack = StackingCVRegressor(regressors=(ridge_model,\n",
        "                                        lass_model,\n",
        "                                        rf_model,\n",
        "                                        knn_model,\n",
        "                                        xgb_model_l0),\n",
        "                            meta_regressor=xgb_model_l1, cv=10,\n",
        "                            use_features_in_secondary=True,\n",
        "                            store_train_meta_features=True,\n",
        "                            shuffle=False\n",
        "                           )"
      ],
      "execution_count": null,
      "outputs": []
    },
    {
      "cell_type": "code",
      "metadata": {
        "id": "Y4qM0drIVzFR"
      },
      "source": [
        "stack.fit(X_train, y_train)\n",
        "X_test.columns = ['f0', 'f1', 'f2', 'f3', 'f4', 'f5', 'f6', 'f7', 'f8', 'f9', 'f10', 'f11',\n",
        "                  'f12', 'f13', 'f14', 'f15', 'f16', 'f17', 'f18'] # Xgboost internally renames the features\n",
        "pred = stack.predict(X_test.values)\n",
        "score = mean_squared_error(y_test, pred)\n",
        "print('Model: {0}, MSE: {1}'.format(type(stack).__name__, score))\n"
      ],
      "execution_count": null,
      "outputs": []
    },
    {
      "cell_type": "code",
      "metadata": {
        "id": "fPabl2GiY30v"
      },
      "source": [
        "import numpy as np\n",
        "import matplotlib.pyplot as plt\n",
        "import matplotlib.gridspec as gridspec\n",
        "import itertools\n",
        "from sklearn.linear_model import LogisticRegression\n",
        "from sklearn.svm import SVC\n",
        "from sklearn.ensemble import RandomForestClassifier\n",
        "from mlxtend.classifier import EnsembleVoteClassifier\n",
        "from mlxtend.data import iris_data\n",
        "from mlxtend.plotting import plot_decision_regions\n",
        "\n",
        "# Initializing Classifiers\n",
        "clf1 = LogisticRegression(random_state=0)\n",
        "clf2 = RandomForestClassifier(random_state=0)\n",
        "clf3 = SVC(random_state=0, probability=True)\n",
        "eclf = EnsembleVoteClassifier(clfs=[clf1, clf2, clf3],\n",
        "                              weights=[2, 1, 1], voting='soft')\n",
        "\n",
        "# Loading some example data\n",
        "X, y = iris_data()\n",
        "X = X[:,[0, 2]]\n",
        "\n",
        "# Plotting Decision Regions\n",
        "\n",
        "gs = gridspec.GridSpec(2, 2)\n",
        "fig = plt.figure(figsize=(10, 8))\n",
        "\n",
        "labels = ['Logistic Regression',\n",
        "          'Random Forest',\n",
        "          'RBF kernel SVM',\n",
        "          'Ensemble']\n",
        "\n",
        "for clf, lab, grd in zip([clf1, clf2, clf3, eclf],\n",
        "                         labels,\n",
        "                         itertools.product([0, 1],\n",
        "                         repeat=2)):\n",
        "    clf.fit(X, y)\n",
        "    ax = plt.subplot(gs[grd[0], grd[1]])\n",
        "    fig = plot_decision_regions(X=X, y=y,\n",
        "                                clf=clf, legend=2)\n",
        "    plt.title(lab)\n",
        "\n",
        "plt.show()"
      ],
      "execution_count": null,
      "outputs": []
    }
  ]
}