{
  "nbformat": 4,
  "nbformat_minor": 0,
  "metadata": {
    "anaconda-cloud": {},
    "kernelspec": {
      "display_name": "Python [default]",
      "language": "python",
      "name": "python3"
    },
    "language_info": {
      "codemirror_mode": {
        "name": "ipython",
        "version": 3
      },
      "file_extension": ".py",
      "mimetype": "text/x-python",
      "name": "python",
      "nbconvert_exporter": "python",
      "pygments_lexer": "ipython3",
      "version": "3.5.2"
    },
    "colab": {
      "name": "Subset Selection in Python.ipynb",
      "provenance": [],
      "collapsed_sections": [],
      "include_colab_link": true
    }
  },
  "cells": [
    {
      "cell_type": "markdown",
      "metadata": {
        "id": "view-in-github",
        "colab_type": "text"
      },
      "source": [
        "<a href=\"https://colab.research.google.com/github/waelrash1/predictive_analytics_DT302/blob/main/Subset_Selection_in_Python.ipynb\" target=\"_parent\"><img src=\"https://colab.research.google.com/assets/colab-badge.svg\" alt=\"Open In Colab\"/></a>"
      ]
    },
    {
      "cell_type": "markdown",
      "metadata": {
        "id": "PC3qDdUesx5S"
      },
      "source": [
        "This lab on Subset Selection is a Python adaptation of p. 244-247 of \"Introduction to Statistical Learning with Applications in R\" by Gareth James, Daniela Witten, Trevor Hastie and Robert Tibshirani. Adapted by R. Jordan Crouser at Smith College for SDS293: Machine Learning (Spring 2016)."
      ]
    },
    {
      "cell_type": "code",
      "metadata": {
        "id": "iTMYAfOKsx5T",
        "outputId": "660b392e-0dce-49bf-9b7e-5c3fb4e8b34c",
        "colab": {
          "base_uri": "https://localhost:8080/"
        }
      },
      "source": [
        "%matplotlib inline\n",
        "import pandas as pd\n",
        "import pandas.util.testing as tm\n",
        "import numpy as np\n",
        "import itertools\n",
        "import time\n",
        "import statsmodels.api as sm\n",
        "import matplotlib.pyplot as plt"
      ],
      "execution_count": 1,
      "outputs": [
        {
          "output_type": "stream",
          "name": "stderr",
          "text": [
            "/usr/local/lib/python3.7/dist-packages/ipykernel_launcher.py:3: FutureWarning: pandas.util.testing is deprecated. Use the functions in the public API at pandas.testing instead.\n",
            "  This is separate from the ipykernel package so we can avoid doing imports until\n"
          ]
        }
      ]
    },
    {
      "cell_type": "markdown",
      "metadata": {
        "id": "FzFfryzbsx5V"
      },
      "source": [
        "# 6.5.1 Best Subset Selection\n",
        "\n",
        "Here we apply the best subset selection approach to the Hitters data. We\n",
        "wish to predict a baseball player’s Salary on the basis of various statistics\n",
        "associated with performance in the previous year. Let's take a quick look:"
      ]
    },
    {
      "cell_type": "code",
      "metadata": {
        "colab": {
          "base_uri": "https://localhost:8080/",
          "height": 224
        },
        "id": "wXRGLMSpsx5d",
        "outputId": "b09e6992-3712-4d76-8de0-a123169ebe24"
      },
      "source": [
        "hitters_df =pd.read_csv('/content/Hitters.csv')\n",
        "hitters_df.head()\n"
      ],
      "execution_count": 6,
      "outputs": [
        {
          "output_type": "execute_result",
          "data": {
            "text/html": [
              "<div>\n",
              "<style scoped>\n",
              "    .dataframe tbody tr th:only-of-type {\n",
              "        vertical-align: middle;\n",
              "    }\n",
              "\n",
              "    .dataframe tbody tr th {\n",
              "        vertical-align: top;\n",
              "    }\n",
              "\n",
              "    .dataframe thead th {\n",
              "        text-align: right;\n",
              "    }\n",
              "</style>\n",
              "<table border=\"1\" class=\"dataframe\">\n",
              "  <thead>\n",
              "    <tr style=\"text-align: right;\">\n",
              "      <th></th>\n",
              "      <th>AtBat</th>\n",
              "      <th>Hits</th>\n",
              "      <th>HmRun</th>\n",
              "      <th>Runs</th>\n",
              "      <th>RBI</th>\n",
              "      <th>Walks</th>\n",
              "      <th>Years</th>\n",
              "      <th>CAtBat</th>\n",
              "      <th>CHits</th>\n",
              "      <th>CHmRun</th>\n",
              "      <th>CRuns</th>\n",
              "      <th>CRBI</th>\n",
              "      <th>CWalks</th>\n",
              "      <th>League</th>\n",
              "      <th>Division</th>\n",
              "      <th>PutOuts</th>\n",
              "      <th>Assists</th>\n",
              "      <th>Errors</th>\n",
              "      <th>Salary</th>\n",
              "      <th>NewLeague</th>\n",
              "    </tr>\n",
              "  </thead>\n",
              "  <tbody>\n",
              "    <tr>\n",
              "      <th>0</th>\n",
              "      <td>293</td>\n",
              "      <td>66</td>\n",
              "      <td>1</td>\n",
              "      <td>30</td>\n",
              "      <td>29</td>\n",
              "      <td>14</td>\n",
              "      <td>1</td>\n",
              "      <td>293</td>\n",
              "      <td>66</td>\n",
              "      <td>1</td>\n",
              "      <td>30</td>\n",
              "      <td>29</td>\n",
              "      <td>14</td>\n",
              "      <td>A</td>\n",
              "      <td>E</td>\n",
              "      <td>446</td>\n",
              "      <td>33</td>\n",
              "      <td>20</td>\n",
              "      <td>NaN</td>\n",
              "      <td>A</td>\n",
              "    </tr>\n",
              "    <tr>\n",
              "      <th>1</th>\n",
              "      <td>315</td>\n",
              "      <td>81</td>\n",
              "      <td>7</td>\n",
              "      <td>24</td>\n",
              "      <td>38</td>\n",
              "      <td>39</td>\n",
              "      <td>14</td>\n",
              "      <td>3449</td>\n",
              "      <td>835</td>\n",
              "      <td>69</td>\n",
              "      <td>321</td>\n",
              "      <td>414</td>\n",
              "      <td>375</td>\n",
              "      <td>N</td>\n",
              "      <td>W</td>\n",
              "      <td>632</td>\n",
              "      <td>43</td>\n",
              "      <td>10</td>\n",
              "      <td>475.0</td>\n",
              "      <td>N</td>\n",
              "    </tr>\n",
              "    <tr>\n",
              "      <th>2</th>\n",
              "      <td>479</td>\n",
              "      <td>130</td>\n",
              "      <td>18</td>\n",
              "      <td>66</td>\n",
              "      <td>72</td>\n",
              "      <td>76</td>\n",
              "      <td>3</td>\n",
              "      <td>1624</td>\n",
              "      <td>457</td>\n",
              "      <td>63</td>\n",
              "      <td>224</td>\n",
              "      <td>266</td>\n",
              "      <td>263</td>\n",
              "      <td>A</td>\n",
              "      <td>W</td>\n",
              "      <td>880</td>\n",
              "      <td>82</td>\n",
              "      <td>14</td>\n",
              "      <td>480.0</td>\n",
              "      <td>A</td>\n",
              "    </tr>\n",
              "    <tr>\n",
              "      <th>3</th>\n",
              "      <td>496</td>\n",
              "      <td>141</td>\n",
              "      <td>20</td>\n",
              "      <td>65</td>\n",
              "      <td>78</td>\n",
              "      <td>37</td>\n",
              "      <td>11</td>\n",
              "      <td>5628</td>\n",
              "      <td>1575</td>\n",
              "      <td>225</td>\n",
              "      <td>828</td>\n",
              "      <td>838</td>\n",
              "      <td>354</td>\n",
              "      <td>N</td>\n",
              "      <td>E</td>\n",
              "      <td>200</td>\n",
              "      <td>11</td>\n",
              "      <td>3</td>\n",
              "      <td>500.0</td>\n",
              "      <td>N</td>\n",
              "    </tr>\n",
              "    <tr>\n",
              "      <th>4</th>\n",
              "      <td>321</td>\n",
              "      <td>87</td>\n",
              "      <td>10</td>\n",
              "      <td>39</td>\n",
              "      <td>42</td>\n",
              "      <td>30</td>\n",
              "      <td>2</td>\n",
              "      <td>396</td>\n",
              "      <td>101</td>\n",
              "      <td>12</td>\n",
              "      <td>48</td>\n",
              "      <td>46</td>\n",
              "      <td>33</td>\n",
              "      <td>N</td>\n",
              "      <td>E</td>\n",
              "      <td>805</td>\n",
              "      <td>40</td>\n",
              "      <td>4</td>\n",
              "      <td>91.5</td>\n",
              "      <td>N</td>\n",
              "    </tr>\n",
              "  </tbody>\n",
              "</table>\n",
              "</div>"
            ],
            "text/plain": [
              "   AtBat  Hits  HmRun  Runs  RBI  ...  PutOuts  Assists  Errors  Salary  NewLeague\n",
              "0    293    66      1    30   29  ...      446       33      20     NaN          A\n",
              "1    315    81      7    24   38  ...      632       43      10   475.0          N\n",
              "2    479   130     18    66   72  ...      880       82      14   480.0          A\n",
              "3    496   141     20    65   78  ...      200       11       3   500.0          N\n",
              "4    321    87     10    39   42  ...      805       40       4    91.5          N\n",
              "\n",
              "[5 rows x 20 columns]"
            ]
          },
          "metadata": {},
          "execution_count": 6
        }
      ]
    },
    {
      "cell_type": "markdown",
      "metadata": {
        "id": "3NH1i1F4sx5d"
      },
      "source": [
        "First of all, we note that the `Salary` variable is missing for some of the\n",
        "players. The `isnull()` function can be used to identify the missing observations. It returns a vector of the same length as the input vector, with a `TRUE` value\n",
        "for any elements that are missing, and a `FALSE` value for non-missing elements.\n",
        "The `sum()` function can then be used to count all of the missing elements:"
      ]
    },
    {
      "cell_type": "code",
      "metadata": {
        "id": "ulougNx8sx5e",
        "colab": {
          "base_uri": "https://localhost:8080/"
        },
        "outputId": "e14d808a-6b99-47d6-f081-58107f6c16a6"
      },
      "source": [
        "print(\"Number of null values:\", hitters_df[\"Salary\"].isnull().sum())"
      ],
      "execution_count": 4,
      "outputs": [
        {
          "output_type": "stream",
          "name": "stdout",
          "text": [
            "Number of null values: 59\n"
          ]
        }
      ]
    },
    {
      "cell_type": "markdown",
      "metadata": {
        "id": "EnnaPoe7sx5e"
      },
      "source": [
        "We see that `Salary` is missing for 59 players. The `dropna()` function\n",
        "removes all of the rows that have missing values in any variable:"
      ]
    },
    {
      "cell_type": "code",
      "metadata": {
        "id": "SFfNfaeCsx5f",
        "colab": {
          "base_uri": "https://localhost:8080/"
        },
        "outputId": "4fcc0bcf-e7f6-4473-e064-5d148e9f11dd"
      },
      "source": [
        "# Print the dimensions of the original Hitters data (322 rows x 20 columns)\n",
        "print(\"Dimensions of original data:\", hitters_df.shape)\n",
        "hitters_df_clean   = hitters_df.dropna()\n",
        "# Print the dimensions of the modified Hitters data (263 rows x 20 columns)\n",
        "print(\"Dimensions of modified data:\", hitters_df_clean.shape)\n",
        "\n",
        "# One last check: should return 0\n",
        "print(\"Number of null values:\", hitters_df_clean[\"Salary\"].isnull().sum())"
      ],
      "execution_count": 7,
      "outputs": [
        {
          "output_type": "stream",
          "name": "stdout",
          "text": [
            "Dimensions of original data: (322, 20)\n",
            "Dimensions of modified data: (263, 20)\n",
            "Number of null values: 0\n"
          ]
        }
      ]
    },
    {
      "cell_type": "code",
      "metadata": {
        "colab": {
          "base_uri": "https://localhost:8080/",
          "height": 224
        },
        "id": "jNl6p-oRz8AU",
        "outputId": "8885eb05-8936-4ce4-fb87-c4812c1955ee"
      },
      "source": [
        "hitters_df_clean.head()"
      ],
      "execution_count": 6,
      "outputs": [
        {
          "output_type": "execute_result",
          "data": {
            "text/html": [
              "<div>\n",
              "<style scoped>\n",
              "    .dataframe tbody tr th:only-of-type {\n",
              "        vertical-align: middle;\n",
              "    }\n",
              "\n",
              "    .dataframe tbody tr th {\n",
              "        vertical-align: top;\n",
              "    }\n",
              "\n",
              "    .dataframe thead th {\n",
              "        text-align: right;\n",
              "    }\n",
              "</style>\n",
              "<table border=\"1\" class=\"dataframe\">\n",
              "  <thead>\n",
              "    <tr style=\"text-align: right;\">\n",
              "      <th></th>\n",
              "      <th>AtBat</th>\n",
              "      <th>Hits</th>\n",
              "      <th>HmRun</th>\n",
              "      <th>Runs</th>\n",
              "      <th>RBI</th>\n",
              "      <th>Walks</th>\n",
              "      <th>Years</th>\n",
              "      <th>CAtBat</th>\n",
              "      <th>CHits</th>\n",
              "      <th>CHmRun</th>\n",
              "      <th>CRuns</th>\n",
              "      <th>CRBI</th>\n",
              "      <th>CWalks</th>\n",
              "      <th>League</th>\n",
              "      <th>Division</th>\n",
              "      <th>PutOuts</th>\n",
              "      <th>Assists</th>\n",
              "      <th>Errors</th>\n",
              "      <th>Salary</th>\n",
              "      <th>NewLeague</th>\n",
              "    </tr>\n",
              "  </thead>\n",
              "  <tbody>\n",
              "    <tr>\n",
              "      <th>1</th>\n",
              "      <td>315</td>\n",
              "      <td>81</td>\n",
              "      <td>7</td>\n",
              "      <td>24</td>\n",
              "      <td>38</td>\n",
              "      <td>39</td>\n",
              "      <td>14</td>\n",
              "      <td>3449</td>\n",
              "      <td>835</td>\n",
              "      <td>69</td>\n",
              "      <td>321</td>\n",
              "      <td>414</td>\n",
              "      <td>375</td>\n",
              "      <td>N</td>\n",
              "      <td>W</td>\n",
              "      <td>632</td>\n",
              "      <td>43</td>\n",
              "      <td>10</td>\n",
              "      <td>475.0</td>\n",
              "      <td>N</td>\n",
              "    </tr>\n",
              "    <tr>\n",
              "      <th>2</th>\n",
              "      <td>479</td>\n",
              "      <td>130</td>\n",
              "      <td>18</td>\n",
              "      <td>66</td>\n",
              "      <td>72</td>\n",
              "      <td>76</td>\n",
              "      <td>3</td>\n",
              "      <td>1624</td>\n",
              "      <td>457</td>\n",
              "      <td>63</td>\n",
              "      <td>224</td>\n",
              "      <td>266</td>\n",
              "      <td>263</td>\n",
              "      <td>A</td>\n",
              "      <td>W</td>\n",
              "      <td>880</td>\n",
              "      <td>82</td>\n",
              "      <td>14</td>\n",
              "      <td>480.0</td>\n",
              "      <td>A</td>\n",
              "    </tr>\n",
              "    <tr>\n",
              "      <th>3</th>\n",
              "      <td>496</td>\n",
              "      <td>141</td>\n",
              "      <td>20</td>\n",
              "      <td>65</td>\n",
              "      <td>78</td>\n",
              "      <td>37</td>\n",
              "      <td>11</td>\n",
              "      <td>5628</td>\n",
              "      <td>1575</td>\n",
              "      <td>225</td>\n",
              "      <td>828</td>\n",
              "      <td>838</td>\n",
              "      <td>354</td>\n",
              "      <td>N</td>\n",
              "      <td>E</td>\n",
              "      <td>200</td>\n",
              "      <td>11</td>\n",
              "      <td>3</td>\n",
              "      <td>500.0</td>\n",
              "      <td>N</td>\n",
              "    </tr>\n",
              "    <tr>\n",
              "      <th>4</th>\n",
              "      <td>321</td>\n",
              "      <td>87</td>\n",
              "      <td>10</td>\n",
              "      <td>39</td>\n",
              "      <td>42</td>\n",
              "      <td>30</td>\n",
              "      <td>2</td>\n",
              "      <td>396</td>\n",
              "      <td>101</td>\n",
              "      <td>12</td>\n",
              "      <td>48</td>\n",
              "      <td>46</td>\n",
              "      <td>33</td>\n",
              "      <td>N</td>\n",
              "      <td>E</td>\n",
              "      <td>805</td>\n",
              "      <td>40</td>\n",
              "      <td>4</td>\n",
              "      <td>91.5</td>\n",
              "      <td>N</td>\n",
              "    </tr>\n",
              "    <tr>\n",
              "      <th>5</th>\n",
              "      <td>594</td>\n",
              "      <td>169</td>\n",
              "      <td>4</td>\n",
              "      <td>74</td>\n",
              "      <td>51</td>\n",
              "      <td>35</td>\n",
              "      <td>11</td>\n",
              "      <td>4408</td>\n",
              "      <td>1133</td>\n",
              "      <td>19</td>\n",
              "      <td>501</td>\n",
              "      <td>336</td>\n",
              "      <td>194</td>\n",
              "      <td>A</td>\n",
              "      <td>W</td>\n",
              "      <td>282</td>\n",
              "      <td>421</td>\n",
              "      <td>25</td>\n",
              "      <td>750.0</td>\n",
              "      <td>A</td>\n",
              "    </tr>\n",
              "  </tbody>\n",
              "</table>\n",
              "</div>"
            ],
            "text/plain": [
              "   AtBat  Hits  HmRun  Runs  RBI  ...  PutOuts  Assists  Errors  Salary  NewLeague\n",
              "1    315    81      7    24   38  ...      632       43      10   475.0          N\n",
              "2    479   130     18    66   72  ...      880       82      14   480.0          A\n",
              "3    496   141     20    65   78  ...      200       11       3   500.0          N\n",
              "4    321    87     10    39   42  ...      805       40       4    91.5          N\n",
              "5    594   169      4    74   51  ...      282      421      25   750.0          A\n",
              "\n",
              "[5 rows x 20 columns]"
            ]
          },
          "metadata": {},
          "execution_count": 6
        }
      ]
    },
    {
      "cell_type": "code",
      "metadata": {
        "id": "gA5TrZ_Fsx5g"
      },
      "source": [
        "dummies = pd.get_dummies(hitters_df_clean[['League', 'Division', 'NewLeague']])\n",
        "\n",
        "y = hitters_df_clean.Salary\n",
        "\n",
        "# Drop the column with the independent variable (Salary), and columns for which we created dummy variables\n",
        "X_ = hitters_df_clean.drop(['Salary', 'League', 'Division', 'NewLeague'], axis=1).astype('float64')\n",
        "\n",
        "# Define the feature set X.\n",
        "X = pd.concat([X_, dummies[['League_N', 'Division_W', 'NewLeague_N']]], axis=1)"
      ],
      "execution_count": 8,
      "outputs": []
    },
    {
      "cell_type": "markdown",
      "metadata": {
        "id": "UVz-rLR_sx5h"
      },
      "source": [
        "We can perform best subset selection by identifying the best model that contains a given number of predictors, where **best** is quantified using RSS. We'll define a helper function to outputs the best set of variables for\n",
        "each model size:"
      ]
    },
    {
      "cell_type": "code",
      "metadata": {
        "collapsed": true,
        "id": "vjrEpBfzsx5h"
      },
      "source": [
        "def processSubset(feature_set):\n",
        "    # Fit model on feature_set and calculate RSS\n",
        "    model = sm.OLS(y,X[list(feature_set)])\n",
        "    regr = model.fit()\n",
        "    RSS = ((regr.predict(X[list(feature_set)]) - y) ** 2).sum()\n",
        "    return {\"model\":regr, \"RSS\":RSS}"
      ],
      "execution_count": 9,
      "outputs": []
    },
    {
      "cell_type": "code",
      "metadata": {
        "id": "XBkuOMzisx5i"
      },
      "source": [
        "def getBest(k):\n",
        "    \n",
        "    tic = time.time()\n",
        "    \n",
        "    results = []\n",
        "    \n",
        "    for combo in itertools.combinations(X.columns, k):\n",
        "        results.append(processSubset(combo))\n",
        "    \n",
        "    # Wrap everything up in a nice dataframe\n",
        "    models = pd.DataFrame(results)\n",
        "    \n",
        "    # Choose the model with the min RSS\n",
        "    best_model = models.loc[models['RSS'].argmin()]\n",
        "    \n",
        "    toc = time.time()\n",
        "    print(\"Processed\", models.shape[0], \"models on\", k, \"predictors in\", (toc-tic), \"seconds.\")\n",
        "    \n",
        "    # Return the best model, along with some other useful information about the model\n",
        "    return best_model"
      ],
      "execution_count": 10,
      "outputs": []
    },
    {
      "cell_type": "markdown",
      "metadata": {
        "id": "oZvMfmH_sx5j"
      },
      "source": [
        "This returns a `DataFrame` containing the best model that we generated, along with some extra information about the model. Now we want to call that function for each number of predictors $k$:"
      ]
    },
    {
      "cell_type": "code",
      "metadata": {
        "id": "ERCrJV40sx5j",
        "colab": {
          "base_uri": "https://localhost:8080/"
        },
        "outputId": "66a7d4ee-5ce1-49cc-98f1-93addbe21e86"
      },
      "source": [
        "# Could take quite awhile to complete...\n",
        "\n",
        "models_best = pd.DataFrame(columns=[\"RSS\", \"model\"])\n",
        "\n",
        "tic = time.time()\n",
        "for i in range(1,7):\n",
        "    models_best.loc[i] = getBest(i)\n",
        "\n",
        "toc = time.time()\n",
        "print(\"Total elapsed time:\", (toc-tic), \"seconds.\")"
      ],
      "execution_count": 11,
      "outputs": [
        {
          "output_type": "stream",
          "name": "stdout",
          "text": [
            "Processed 19 models on 1 predictors in 0.0769510269165039 seconds.\n",
            "Processed 171 models on 2 predictors in 0.5569167137145996 seconds.\n",
            "Processed 969 models on 3 predictors in 2.660980463027954 seconds.\n",
            "Processed 3876 models on 4 predictors in 11.27506399154663 seconds.\n",
            "Processed 11628 models on 5 predictors in 34.66517996788025 seconds.\n",
            "Processed 27132 models on 6 predictors in 88.46070766448975 seconds.\n",
            "Total elapsed time: 138.36936402320862 seconds.\n"
          ]
        }
      ]
    },
    {
      "cell_type": "markdown",
      "metadata": {
        "id": "38S_FH2psx5j"
      },
      "source": [
        "Now we have one big `DataFrame` that contains the best models we've generated along with their RSS:"
      ]
    },
    {
      "cell_type": "code",
      "metadata": {
        "id": "fkb8xAl6sx5j",
        "colab": {
          "base_uri": "https://localhost:8080/",
          "height": 235
        },
        "outputId": "119c775d-b861-464d-d568-a49b206821b0"
      },
      "source": [
        "models_best"
      ],
      "execution_count": 12,
      "outputs": [
        {
          "output_type": "execute_result",
          "data": {
            "text/html": [
              "<div>\n",
              "<style scoped>\n",
              "    .dataframe tbody tr th:only-of-type {\n",
              "        vertical-align: middle;\n",
              "    }\n",
              "\n",
              "    .dataframe tbody tr th {\n",
              "        vertical-align: top;\n",
              "    }\n",
              "\n",
              "    .dataframe thead th {\n",
              "        text-align: right;\n",
              "    }\n",
              "</style>\n",
              "<table border=\"1\" class=\"dataframe\">\n",
              "  <thead>\n",
              "    <tr style=\"text-align: right;\">\n",
              "      <th></th>\n",
              "      <th>RSS</th>\n",
              "      <th>model</th>\n",
              "    </tr>\n",
              "  </thead>\n",
              "  <tbody>\n",
              "    <tr>\n",
              "      <th>1</th>\n",
              "      <td>4.321393e+07</td>\n",
              "      <td>&lt;statsmodels.regression.linear_model.Regressio...</td>\n",
              "    </tr>\n",
              "    <tr>\n",
              "      <th>2</th>\n",
              "      <td>3.073305e+07</td>\n",
              "      <td>&lt;statsmodels.regression.linear_model.Regressio...</td>\n",
              "    </tr>\n",
              "    <tr>\n",
              "      <th>3</th>\n",
              "      <td>2.941071e+07</td>\n",
              "      <td>&lt;statsmodels.regression.linear_model.Regressio...</td>\n",
              "    </tr>\n",
              "    <tr>\n",
              "      <th>4</th>\n",
              "      <td>2.797678e+07</td>\n",
              "      <td>&lt;statsmodels.regression.linear_model.Regressio...</td>\n",
              "    </tr>\n",
              "    <tr>\n",
              "      <th>5</th>\n",
              "      <td>2.718780e+07</td>\n",
              "      <td>&lt;statsmodels.regression.linear_model.Regressio...</td>\n",
              "    </tr>\n",
              "    <tr>\n",
              "      <th>6</th>\n",
              "      <td>2.639772e+07</td>\n",
              "      <td>&lt;statsmodels.regression.linear_model.Regressio...</td>\n",
              "    </tr>\n",
              "  </tbody>\n",
              "</table>\n",
              "</div>"
            ],
            "text/plain": [
              "            RSS                                              model\n",
              "1  4.321393e+07  <statsmodels.regression.linear_model.Regressio...\n",
              "2  3.073305e+07  <statsmodels.regression.linear_model.Regressio...\n",
              "3  2.941071e+07  <statsmodels.regression.linear_model.Regressio...\n",
              "4  2.797678e+07  <statsmodels.regression.linear_model.Regressio...\n",
              "5  2.718780e+07  <statsmodels.regression.linear_model.Regressio...\n",
              "6  2.639772e+07  <statsmodels.regression.linear_model.Regressio..."
            ]
          },
          "metadata": {},
          "execution_count": 12
        }
      ]
    },
    {
      "cell_type": "markdown",
      "metadata": {
        "id": "C5xpwIj_sx5k"
      },
      "source": [
        "If we want to access the details of each model, no problem! We can get a full rundown of a single model using the `summary()` function:"
      ]
    },
    {
      "cell_type": "code",
      "metadata": {
        "id": "UVNfQfb-sx5k",
        "colab": {
          "base_uri": "https://localhost:8080/"
        },
        "outputId": "06b700e6-35a6-492d-ed8f-86685f5cb3b0"
      },
      "source": [
        "print(models_best.loc[2, \"model\"].summary())"
      ],
      "execution_count": 13,
      "outputs": [
        {
          "output_type": "stream",
          "name": "stdout",
          "text": [
            "                                 OLS Regression Results                                \n",
            "=======================================================================================\n",
            "Dep. Variable:                 Salary   R-squared (uncentered):                   0.761\n",
            "Model:                            OLS   Adj. R-squared (uncentered):              0.760\n",
            "Method:                 Least Squares   F-statistic:                              416.7\n",
            "Date:                Tue, 02 Nov 2021   Prob (F-statistic):                    5.80e-82\n",
            "Time:                        08:41:14   Log-Likelihood:                         -1907.6\n",
            "No. Observations:                 263   AIC:                                      3819.\n",
            "Df Residuals:                     261   BIC:                                      3826.\n",
            "Df Model:                           2                                                  \n",
            "Covariance Type:            nonrobust                                                  \n",
            "==============================================================================\n",
            "                 coef    std err          t      P>|t|      [0.025      0.975]\n",
            "------------------------------------------------------------------------------\n",
            "Hits           2.9538      0.261     11.335      0.000       2.441       3.467\n",
            "CRBI           0.6788      0.066     10.295      0.000       0.549       0.809\n",
            "==============================================================================\n",
            "Omnibus:                      117.551   Durbin-Watson:                   1.933\n",
            "Prob(Omnibus):                  0.000   Jarque-Bera (JB):              654.612\n",
            "Skew:                           1.729   Prob(JB):                    7.12e-143\n",
            "Kurtosis:                       9.912   Cond. No.                         5.88\n",
            "==============================================================================\n",
            "\n",
            "Warnings:\n",
            "[1] Standard Errors assume that the covariance matrix of the errors is correctly specified.\n"
          ]
        }
      ]
    },
    {
      "cell_type": "markdown",
      "metadata": {
        "id": "0ymFf4Gzsx5k"
      },
      "source": [
        "This output indicates that the best two-variable model\n",
        "contains only `Hits` and `CRBI`. To save time, we only generated results\n",
        "up to the best 7-variable model. You can use the functions we defined above to explore as many variables as are desired."
      ]
    },
    {
      "cell_type": "code",
      "metadata": {
        "id": "CMfQeLPisx5l",
        "colab": {
          "base_uri": "https://localhost:8080/"
        },
        "outputId": "753c4b96-1634-4526-b123-ab2b5b6bc409"
      },
      "source": [
        "# Show the best 19-variable model (there's actually only one)\n",
        "print(getBest(19)[\"model\"].summary())"
      ],
      "execution_count": 14,
      "outputs": [
        {
          "output_type": "stream",
          "name": "stdout",
          "text": [
            "Processed 1 models on 19 predictors in 0.013776779174804688 seconds.\n",
            "                                 OLS Regression Results                                \n",
            "=======================================================================================\n",
            "Dep. Variable:                 Salary   R-squared (uncentered):                   0.810\n",
            "Model:                            OLS   Adj. R-squared (uncentered):              0.795\n",
            "Method:                 Least Squares   F-statistic:                              54.64\n",
            "Date:                Tue, 02 Nov 2021   Prob (F-statistic):                    1.31e-76\n",
            "Time:                        08:41:18   Log-Likelihood:                         -1877.9\n",
            "No. Observations:                 263   AIC:                                      3794.\n",
            "Df Residuals:                     244   BIC:                                      3862.\n",
            "Df Model:                          19                                                  \n",
            "Covariance Type:            nonrobust                                                  \n",
            "===============================================================================\n",
            "                  coef    std err          t      P>|t|      [0.025      0.975]\n",
            "-------------------------------------------------------------------------------\n",
            "AtBat          -1.5975      0.600     -2.663      0.008      -2.779      -0.416\n",
            "Hits            7.0330      2.374      2.963      0.003       2.357      11.709\n",
            "HmRun           4.1210      6.229      0.662      0.509      -8.148      16.390\n",
            "Runs           -2.3776      2.994     -0.794      0.428      -8.276       3.520\n",
            "RBI            -1.0873      2.613     -0.416      0.678      -6.234       4.059\n",
            "Walks           6.1560      1.836      3.352      0.001       2.539       9.773\n",
            "Years           9.5196     10.128      0.940      0.348     -10.429      29.468\n",
            "CAtBat         -0.2018      0.135     -1.497      0.136      -0.467       0.064\n",
            "CHits           0.1380      0.678      0.204      0.839      -1.197       1.473\n",
            "CHmRun         -0.1669      1.625     -0.103      0.918      -3.367       3.033\n",
            "CRuns           1.5070      0.753      2.001      0.047       0.023       2.991\n",
            "CRBI            0.7742      0.696      1.113      0.267      -0.596       2.144\n",
            "CWalks         -0.7851      0.329     -2.384      0.018      -1.434      -0.137\n",
            "PutOuts         0.2856      0.078      3.673      0.000       0.132       0.439\n",
            "Assists         0.3137      0.220      1.427      0.155      -0.119       0.747\n",
            "Errors         -2.0463      4.350     -0.470      0.638     -10.615       6.522\n",
            "League_N       86.8139     78.463      1.106      0.270     -67.737     241.365\n",
            "Division_W    -97.5160     39.084     -2.495      0.013    -174.500     -20.532\n",
            "NewLeague_N   -23.9133     79.361     -0.301      0.763    -180.234     132.407\n",
            "==============================================================================\n",
            "Omnibus:                       97.217   Durbin-Watson:                   2.024\n",
            "Prob(Omnibus):                  0.000   Jarque-Bera (JB):              626.205\n",
            "Skew:                           1.320   Prob(JB):                    1.05e-136\n",
            "Kurtosis:                      10.083   Cond. No.                     2.06e+04\n",
            "==============================================================================\n",
            "\n",
            "Warnings:\n",
            "[1] Standard Errors assume that the covariance matrix of the errors is correctly specified.\n",
            "[2] The condition number is large, 2.06e+04. This might indicate that there are\n",
            "strong multicollinearity or other numerical problems.\n"
          ]
        }
      ]
    },
    {
      "cell_type": "markdown",
      "metadata": {
        "id": "VYe8bFpOsx5l"
      },
      "source": [
        "Rather than letting the results of our call to the `summary()` function print to the screen, we can access just the parts we need using the model's attributes. For example, if we want the $R^2$ value:"
      ]
    },
    {
      "cell_type": "code",
      "metadata": {
        "id": "QAJDBbGTsx5l",
        "colab": {
          "base_uri": "https://localhost:8080/"
        },
        "outputId": "37b95768-c45f-4964-dc7c-93a64258857e"
      },
      "source": [
        "models_best.loc[6, \"model\"].rsquared"
      ],
      "execution_count": 17,
      "outputs": [
        {
          "output_type": "execute_result",
          "data": {
            "text/plain": [
              "0.7951395186464754"
            ]
          },
          "metadata": {},
          "execution_count": 17
        }
      ]
    },
    {
      "cell_type": "markdown",
      "metadata": {
        "id": "eZre149csx5l"
      },
      "source": [
        "Excellent! In addition to the verbose output we get when we print the summary to the screen, fitting the `OLM` also produced many other useful statistics such as adjusted $R^2$, AIC, and BIC. We can examine these to try to select the best overall model. Let's start by looking at $R^2$ across all our models:"
      ]
    },
    {
      "cell_type": "code",
      "metadata": {
        "id": "LkSaMBBlsx5l",
        "colab": {
          "base_uri": "https://localhost:8080/"
        },
        "outputId": "dd2cde03-8f50-4f8f-a200-45241c2807e6"
      },
      "source": [
        "# Gets the second element from each row ('model') and pulls out its rsquared attribute\n",
        "models_best.apply(lambda row: row[1].rsquared, axis=1)"
      ],
      "execution_count": 18,
      "outputs": [
        {
          "output_type": "execute_result",
          "data": {
            "text/plain": [
              "1    0.664637\n",
              "2    0.761495\n",
              "3    0.771757\n",
              "4    0.782885\n",
              "5    0.789008\n",
              "6    0.795140\n",
              "dtype: float64"
            ]
          },
          "metadata": {},
          "execution_count": 18
        }
      ]
    },
    {
      "cell_type": "markdown",
      "metadata": {
        "id": "J4E-eoRIsx5m"
      },
      "source": [
        "As expected, the $R^2$ statistic increases monotonically as more\n",
        "variables are included.\n",
        "\n",
        "Plotting RSS, adjusted $R^2$, AIC, and BIC for all of the models at once will\n",
        "help us decide which model to select. Note the `type=\"l\"` option tells `R` to\n",
        "connect the plotted points with lines:"
      ]
    },
    {
      "cell_type": "code",
      "metadata": {
        "id": "9-O-cNb6sx5m",
        "colab": {
          "base_uri": "https://localhost:8080/",
          "height": 655
        },
        "outputId": "8f77a749-03f7-4a64-80a0-00262f4daca7"
      },
      "source": [
        "plt.figure(figsize=(20,10))\n",
        "plt.rcParams.update({'font.size': 18, 'lines.markersize': 10})\n",
        "\n",
        "# Set up a 2x2 grid so we can look at 4 plots at once\n",
        "plt.subplot(2, 2, 1)\n",
        "\n",
        "# We will now plot a red dot to indicate the model with the largest adjusted R^2 statistic.\n",
        "# The argmax() function can be used to identify the location of the maximum point of a vector\n",
        "plt.plot(models_best[\"RSS\"])\n",
        "plt.xlabel('# Predictors')\n",
        "plt.ylabel('RSS')\n",
        "\n",
        "# We will now plot a red dot to indicate the model with the largest adjusted R^2 statistic.\n",
        "# The argmax() function can be used to identify the location of the maximum point of a vector\n",
        "\n",
        "rsquared_adj = models_best.apply(lambda row: row[1].rsquared_adj, axis=1)\n",
        "\n",
        "plt.subplot(2, 2, 2)\n",
        "plt.plot(rsquared_adj)\n",
        "plt.plot(rsquared_adj.argmax(), rsquared_adj.max(), \"or\")\n",
        "plt.xlabel('# Predictors')\n",
        "plt.ylabel('adjusted rsquared')\n",
        "\n",
        "# We'll do the same for AIC and BIC, this time looking for the models with the SMALLEST statistic\n",
        "aic = models_best.apply(lambda row: row[1].aic, axis=1)\n",
        "\n",
        "plt.subplot(2, 2, 3)\n",
        "plt.plot(aic)\n",
        "plt.plot(aic.argmin(), aic.min(), \"or\")\n",
        "plt.xlabel('# Predictors')\n",
        "plt.ylabel('AIC')\n",
        "\n",
        "bic = models_best.apply(lambda row: row[1].bic, axis=1)\n",
        "\n",
        "plt.subplot(2, 2, 4)\n",
        "plt.plot(bic)\n",
        "plt.plot(bic.argmin(), bic.min(), \"or\")\n",
        "plt.xlabel('# Predictors')\n",
        "plt.ylabel('BIC')"
      ],
      "execution_count": 19,
      "outputs": [
        {
          "output_type": "execute_result",
          "data": {
            "text/plain": [
              "Text(0, 0.5, 'BIC')"
            ]
          },
          "metadata": {},
          "execution_count": 19
        },
        {
          "output_type": "display_data",
          "data": {
            "image/png": "[encoded data removed]",
            "text/plain": [
              "<Figure size 1440x720 with 4 Axes>"
            ]
          },
          "metadata": {
            "needs_background": "light"
          }
        }
      ]
    },
    {
      "cell_type": "markdown",
      "metadata": {
        "id": "hdER9Nn-sx5m"
      },
      "source": [
        "Recall that in the second step of our selection process, we narrowed the field down to just one model on any $k<=p$ predictors. We see that according to BIC, the best performer is the model with 6 variables. According to AIC and adjusted $R^2$ something a bit more complex might be better. Again, no one measure is going to give us an entirely accurate picture... but they all agree that a model with 5 or fewer predictors is insufficient."
      ]
    },
    {
      "cell_type": "markdown",
      "metadata": {
        "id": "Q3JrC7Vpsx5m"
      },
      "source": [
        "# 6.5.2 Forward and Backward Stepwise Selection\n",
        "We can also use a similar approach to perform forward stepwise\n",
        "or backward stepwise selection, using a slight modification of the functions we defined above:"
      ]
    },
    {
      "cell_type": "code",
      "metadata": {
        "collapsed": true,
        "id": "t0lZR64Zsx5m"
      },
      "source": [
        "def forward(predictors):\n",
        "\n",
        "    # Pull out predictors we still need to process\n",
        "    remaining_predictors = [p for p in X.columns if p not in predictors]\n",
        "    \n",
        "    tic = time.time()\n",
        "    \n",
        "    results = []\n",
        "    \n",
        "    for p in remaining_predictors:\n",
        "        results.append(processSubset(predictors+[p]))\n",
        "    \n",
        "    # Wrap everything up in a nice dataframe\n",
        "    models = pd.DataFrame(results)\n",
        "    \n",
        "    # Choose the model with the highest RSS\n",
        "    best_model = models.loc[models['RSS'].argmin()]\n",
        "    \n",
        "    toc = time.time()\n",
        "    print(\"Processed \", models.shape[0], \"models on\", len(predictors)+1, \"predictors in\", (toc-tic), \"seconds.\")\n",
        "    \n",
        "    # Return the best model, along with some other useful information about the model\n",
        "    return best_model"
      ],
      "execution_count": 20,
      "outputs": []
    },
    {
      "cell_type": "markdown",
      "metadata": {
        "id": "OYYx1O4Psx5n"
      },
      "source": [
        "Now let's see how much faster it runs!"
      ]
    },
    {
      "cell_type": "code",
      "metadata": {
        "id": "uqMrhO0bsx5n",
        "colab": {
          "base_uri": "https://localhost:8080/"
        },
        "outputId": "3cf11b2a-077b-4532-9eb7-d96f4b88ba9a"
      },
      "source": [
        "models_fwd = pd.DataFrame(columns=[\"RSS\", \"model\"])\n",
        "\n",
        "tic = time.time()\n",
        "predictors = []\n",
        "\n",
        "for i in range(1,len(X.columns)+1):    \n",
        "    models_fwd.loc[i] = forward(predictors)\n",
        "    predictors = models_fwd.loc[i][\"model\"].model.exog_names\n",
        "\n",
        "toc = time.time()\n",
        "print(\"Total elapsed time:\", (toc-tic), \"seconds.\")"
      ],
      "execution_count": 21,
      "outputs": [
        {
          "output_type": "stream",
          "name": "stdout",
          "text": [
            "Processed  19 models on 1 predictors in 0.06428098678588867 seconds.\n",
            "Processed  18 models on 2 predictors in 0.052176713943481445 seconds.\n",
            "Processed  17 models on 3 predictors in 0.049561500549316406 seconds.\n",
            "Processed  16 models on 4 predictors in 0.053255558013916016 seconds.\n",
            "Processed  15 models on 5 predictors in 0.06084871292114258 seconds.\n",
            "Processed  14 models on 6 predictors in 0.04954385757446289 seconds.\n",
            "Processed  13 models on 7 predictors in 0.05080294609069824 seconds.\n",
            "Processed  12 models on 8 predictors in 0.04697608947753906 seconds.\n",
            "Processed  11 models on 9 predictors in 0.06439685821533203 seconds.\n",
            "Processed  10 models on 10 predictors in 0.05295252799987793 seconds.\n",
            "Processed  9 models on 11 predictors in 0.05473208427429199 seconds.\n",
            "Processed  8 models on 12 predictors in 0.050492048263549805 seconds.\n",
            "Processed  7 models on 13 predictors in 0.04988813400268555 seconds.\n",
            "Processed  6 models on 14 predictors in 0.03333735466003418 seconds.\n",
            "Processed  5 models on 15 predictors in 0.022299528121948242 seconds.\n",
            "Processed  4 models on 16 predictors in 0.01589059829711914 seconds.\n",
            "Processed  3 models on 17 predictors in 0.017121076583862305 seconds.\n",
            "Processed  2 models on 18 predictors in 0.012692928314208984 seconds.\n",
            "Processed  1 models on 19 predictors in 0.007502079010009766 seconds.\n",
            "Total elapsed time: 0.9286086559295654 seconds.\n"
          ]
        }
      ]
    },
    {
      "cell_type": "markdown",
      "metadata": {
        "id": "AbqsTSAksx5n"
      },
      "source": [
        "Phew! That's a lot better. Let's take a look:"
      ]
    },
    {
      "cell_type": "code",
      "metadata": {
        "id": "7UdBxxQUsx5n",
        "colab": {
          "base_uri": "https://localhost:8080/"
        },
        "outputId": "259a003a-4208-4511-94af-7780356702f3"
      },
      "source": [
        "print(models_fwd.loc[1, \"model\"].summary())\n",
        "print(models_fwd.loc[2, \"model\"].summary())"
      ],
      "execution_count": 22,
      "outputs": [
        {
          "output_type": "stream",
          "name": "stdout",
          "text": [
            "                                 OLS Regression Results                                \n",
            "=======================================================================================\n",
            "Dep. Variable:                 Salary   R-squared (uncentered):                   0.665\n",
            "Model:                            OLS   Adj. R-squared (uncentered):              0.663\n",
            "Method:                 Least Squares   F-statistic:                              519.2\n",
            "Date:                Tue, 02 Nov 2021   Prob (F-statistic):                    4.20e-64\n",
            "Time:                        08:44:37   Log-Likelihood:                         -1952.4\n",
            "No. Observations:                 263   AIC:                                      3907.\n",
            "Df Residuals:                     262   BIC:                                      3910.\n",
            "Df Model:                           1                                                  \n",
            "Covariance Type:            nonrobust                                                  \n",
            "==============================================================================\n",
            "                 coef    std err          t      P>|t|      [0.025      0.975]\n",
            "------------------------------------------------------------------------------\n",
            "Hits           4.8833      0.214     22.787      0.000       4.461       5.305\n",
            "==============================================================================\n",
            "Omnibus:                       90.075   Durbin-Watson:                   1.949\n",
            "Prob(Omnibus):                  0.000   Jarque-Bera (JB):              293.080\n",
            "Skew:                           1.469   Prob(JB):                     2.28e-64\n",
            "Kurtosis:                       7.256   Cond. No.                         1.00\n",
            "==============================================================================\n",
            "\n",
            "Warnings:\n",
            "[1] Standard Errors assume that the covariance matrix of the errors is correctly specified.\n",
            "                                 OLS Regression Results                                \n",
            "=======================================================================================\n",
            "Dep. Variable:                 Salary   R-squared (uncentered):                   0.761\n",
            "Model:                            OLS   Adj. R-squared (uncentered):              0.760\n",
            "Method:                 Least Squares   F-statistic:                              416.7\n",
            "Date:                Tue, 02 Nov 2021   Prob (F-statistic):                    5.80e-82\n",
            "Time:                        08:44:37   Log-Likelihood:                         -1907.6\n",
            "No. Observations:                 263   AIC:                                      3819.\n",
            "Df Residuals:                     261   BIC:                                      3826.\n",
            "Df Model:                           2                                                  \n",
            "Covariance Type:            nonrobust                                                  \n",
            "==============================================================================\n",
            "                 coef    std err          t      P>|t|      [0.025      0.975]\n",
            "------------------------------------------------------------------------------\n",
            "Hits           2.9538      0.261     11.335      0.000       2.441       3.467\n",
            "CRBI           0.6788      0.066     10.295      0.000       0.549       0.809\n",
            "==============================================================================\n",
            "Omnibus:                      117.551   Durbin-Watson:                   1.933\n",
            "Prob(Omnibus):                  0.000   Jarque-Bera (JB):              654.612\n",
            "Skew:                           1.729   Prob(JB):                    7.12e-143\n",
            "Kurtosis:                       9.912   Cond. No.                         5.88\n",
            "==============================================================================\n",
            "\n",
            "Warnings:\n",
            "[1] Standard Errors assume that the covariance matrix of the errors is correctly specified.\n"
          ]
        }
      ]
    },
    {
      "cell_type": "markdown",
      "metadata": {
        "id": "yIOcdB2wsx5n"
      },
      "source": [
        "We see that using forward stepwise selection, the best one-variable\n",
        "model contains only `Hits`, and the best two-variable model additionally\n",
        "includes `CRBI`. Let's see how the models stack up against best subset selection:"
      ]
    },
    {
      "cell_type": "code",
      "metadata": {
        "id": "kBa6Wup8sx5n",
        "colab": {
          "base_uri": "https://localhost:8080/"
        },
        "outputId": "bcd78ed1-3b25-40b2-bb42-7ccd8562ffd9"
      },
      "source": [
        "print(models_best.loc[2, \"model\"].summary())\n",
        "print(models_fwd.loc[2, \"model\"].summary())"
      ],
      "execution_count": 23,
      "outputs": [
        {
          "output_type": "stream",
          "name": "stdout",
          "text": [
            "                                 OLS Regression Results                                \n",
            "=======================================================================================\n",
            "Dep. Variable:                 Salary   R-squared (uncentered):                   0.761\n",
            "Model:                            OLS   Adj. R-squared (uncentered):              0.760\n",
            "Method:                 Least Squares   F-statistic:                              416.7\n",
            "Date:                Tue, 02 Nov 2021   Prob (F-statistic):                    5.80e-82\n",
            "Time:                        08:45:14   Log-Likelihood:                         -1907.6\n",
            "No. Observations:                 263   AIC:                                      3819.\n",
            "Df Residuals:                     261   BIC:                                      3826.\n",
            "Df Model:                           2                                                  \n",
            "Covariance Type:            nonrobust                                                  \n",
            "==============================================================================\n",
            "                 coef    std err          t      P>|t|      [0.025      0.975]\n",
            "------------------------------------------------------------------------------\n",
            "Hits           2.9538      0.261     11.335      0.000       2.441       3.467\n",
            "CRBI           0.6788      0.066     10.295      0.000       0.549       0.809\n",
            "==============================================================================\n",
            "Omnibus:                      117.551   Durbin-Watson:                   1.933\n",
            "Prob(Omnibus):                  0.000   Jarque-Bera (JB):              654.612\n",
            "Skew:                           1.729   Prob(JB):                    7.12e-143\n",
            "Kurtosis:                       9.912   Cond. No.                         5.88\n",
            "==============================================================================\n",
            "\n",
            "Warnings:\n",
            "[1] Standard Errors assume that the covariance matrix of the errors is correctly specified.\n",
            "                                 OLS Regression Results                                \n",
            "=======================================================================================\n",
            "Dep. Variable:                 Salary   R-squared (uncentered):                   0.761\n",
            "Model:                            OLS   Adj. R-squared (uncentered):              0.760\n",
            "Method:                 Least Squares   F-statistic:                              416.7\n",
            "Date:                Tue, 02 Nov 2021   Prob (F-statistic):                    5.80e-82\n",
            "Time:                        08:45:14   Log-Likelihood:                         -1907.6\n",
            "No. Observations:                 263   AIC:                                      3819.\n",
            "Df Residuals:                     261   BIC:                                      3826.\n",
            "Df Model:                           2                                                  \n",
            "Covariance Type:            nonrobust                                                  \n",
            "==============================================================================\n",
            "                 coef    std err          t      P>|t|      [0.025      0.975]\n",
            "------------------------------------------------------------------------------\n",
            "Hits           2.9538      0.261     11.335      0.000       2.441       3.467\n",
            "CRBI           0.6788      0.066     10.295      0.000       0.549       0.809\n",
            "==============================================================================\n",
            "Omnibus:                      117.551   Durbin-Watson:                   1.933\n",
            "Prob(Omnibus):                  0.000   Jarque-Bera (JB):              654.612\n",
            "Skew:                           1.729   Prob(JB):                    7.12e-143\n",
            "Kurtosis:                       9.912   Cond. No.                         5.88\n",
            "==============================================================================\n",
            "\n",
            "Warnings:\n",
            "[1] Standard Errors assume that the covariance matrix of the errors is correctly specified.\n"
          ]
        }
      ]
    },
    {
      "cell_type": "markdown",
      "metadata": {
        "collapsed": true,
        "id": "3MWKSjWLsx5n"
      },
      "source": [
        "For this data, the best one-variable through six-variable\n",
        "models are each identical for best subset and forward selection.\n",
        "\n",
        "# Backward Selection\n",
        "Not much has to change to implement backward selection... just looping through the predictors in reverse!"
      ]
    },
    {
      "cell_type": "code",
      "metadata": {
        "collapsed": true,
        "id": "DQowOIn6sx5o"
      },
      "source": [
        "def backward(predictors):\n",
        "    \n",
        "    tic = time.time()\n",
        "    \n",
        "    results = []\n",
        "    \n",
        "    for combo in itertools.combinations(predictors, len(predictors)-1):\n",
        "        results.append(processSubset(combo))\n",
        "    \n",
        "    # Wrap everything up in a nice dataframe\n",
        "    models = pd.DataFrame(results)\n",
        "    \n",
        "    # Choose the model with the highest RSS\n",
        "    best_model = models.loc[models['RSS'].argmin()]\n",
        "    \n",
        "    toc = time.time()\n",
        "    print(\"Processed \", models.shape[0], \"models on\", len(predictors)-1, \"predictors in\", (toc-tic), \"seconds.\")\n",
        "    \n",
        "    # Return the best model, along with some other useful information about the model\n",
        "    return best_model"
      ],
      "execution_count": 24,
      "outputs": []
    },
    {
      "cell_type": "code",
      "metadata": {
        "id": "nQjGrKN2sx5o",
        "colab": {
          "base_uri": "https://localhost:8080/"
        },
        "outputId": "2b1bdb85-17b5-4bc7-c409-983dcdd4b0cc"
      },
      "source": [
        "models_bwd = pd.DataFrame(columns=[\"RSS\", \"model\"], index = range(1,len(X.columns)))\n",
        "\n",
        "tic = time.time()\n",
        "predictors = X.columns\n",
        "\n",
        "while(len(predictors) > 1):  \n",
        "    models_bwd.loc[len(predictors)-1] = backward(predictors)\n",
        "    predictors = models_bwd.loc[len(predictors)-1][\"model\"].model.exog_names\n",
        "\n",
        "toc = time.time()\n",
        "print(\"Total elapsed time:\", (toc-tic), \"seconds.\")"
      ],
      "execution_count": 25,
      "outputs": [
        {
          "output_type": "stream",
          "name": "stdout",
          "text": [
            "Processed  19 models on 18 predictors in 0.10054349899291992 seconds.\n",
            "Processed  18 models on 17 predictors in 0.09861111640930176 seconds.\n",
            "Processed  17 models on 16 predictors in 0.09993982315063477 seconds.\n",
            "Processed  16 models on 15 predictors in 0.057444095611572266 seconds.\n",
            "Processed  15 models on 14 predictors in 0.04815983772277832 seconds.\n",
            "Processed  14 models on 13 predictors in 0.047223806381225586 seconds.\n",
            "Processed  13 models on 12 predictors in 0.07667994499206543 seconds.\n",
            "Processed  12 models on 11 predictors in 0.0697014331817627 seconds.\n",
            "Processed  11 models on 10 predictors in 0.06610250473022461 seconds.\n",
            "Processed  10 models on 9 predictors in 0.0602872371673584 seconds.\n",
            "Processed  9 models on 8 predictors in 0.044426679611206055 seconds.\n",
            "Processed  8 models on 7 predictors in 0.04234957695007324 seconds.\n",
            "Processed  7 models on 6 predictors in 0.028273820877075195 seconds.\n",
            "Processed  6 models on 5 predictors in 0.018393993377685547 seconds.\n",
            "Processed  5 models on 4 predictors in 0.0186617374420166 seconds.\n",
            "Processed  4 models on 3 predictors in 0.014639616012573242 seconds.\n",
            "Processed  3 models on 2 predictors in 0.013812065124511719 seconds.\n",
            "Processed  2 models on 1 predictors in 0.009716272354125977 seconds.\n",
            "Total elapsed time: 0.9796261787414551 seconds.\n"
          ]
        }
      ]
    },
    {
      "cell_type": "markdown",
      "metadata": {
        "id": "H9UcSkVysx5o"
      },
      "source": [
        "For this data, the best one-variable through six-variable\n",
        "models are each identical for best subset and forward selection.\n",
        "However, the best seven-variable models identified by forward stepwise selection,\n",
        "backward stepwise selection, and best subset selection are different:"
      ]
    },
    {
      "cell_type": "code",
      "metadata": {
        "id": "FGhlTGKHsx5o",
        "colab": {
          "base_uri": "https://localhost:8080/"
        },
        "outputId": "2bd2071e-ee75-4ee7-fda0-68944788a7dc"
      },
      "source": [
        "print(\"------------\")\n",
        "print(\"Best Subset:\")\n",
        "print(\"------------\")\n",
        "print(models_best.loc[2, \"model\"].params)"
      ],
      "execution_count": 26,
      "outputs": [
        {
          "output_type": "stream",
          "name": "stdout",
          "text": [
            "------------\n",
            "Best Subset:\n",
            "------------\n",
            "Hits    2.953804\n",
            "CRBI    0.678771\n",
            "dtype: float64\n"
          ]
        }
      ]
    },
    {
      "cell_type": "code",
      "metadata": {
        "id": "G-I9cvYYsx5p",
        "outputId": "101300f7-9d4c-41ac-c9c0-23a510907650",
        "colab": {
          "base_uri": "https://localhost:8080/"
        }
      },
      "source": [
        "print(\"-----------------\")\n",
        "print(\"Foward Selection:\")\n",
        "print(\"-----------------\")\n",
        "print(models_fwd.loc[7, \"model\"].params)"
      ],
      "execution_count": 21,
      "outputs": [
        {
          "output_type": "stream",
          "name": "stdout",
          "text": [
            "-----------------\n",
            "Foward Selection:\n",
            "-----------------\n",
            "Hits            7.277149\n",
            "CRBI            0.652415\n",
            "Division_W   -110.656338\n",
            "PutOuts         0.259787\n",
            "AtBat          -1.644651\n",
            "Walks           3.684324\n",
            "League_N       49.978410\n",
            "dtype: float64\n"
          ]
        }
      ]
    },
    {
      "cell_type": "code",
      "metadata": {
        "id": "pNQPzn_isx5p",
        "outputId": "3ed26557-54e2-456a-8b1b-6de4756c0713",
        "colab": {
          "base_uri": "https://localhost:8080/"
        }
      },
      "source": [
        "print(\"-------------------\")\n",
        "print(\"Backward Selection:\")\n",
        "print(\"-------------------\")\n",
        "print(models_bwd.loc[7, \"model\"].params)"
      ],
      "execution_count": 27,
      "outputs": [
        {
          "output_type": "stream",
          "name": "stdout",
          "text": [
            "-------------------\n",
            "Backward Selection:\n",
            "-------------------\n",
            "AtBat         -1.601655\n",
            "Hits           6.148449\n",
            "Walks          5.866033\n",
            "CRuns          1.097453\n",
            "CWalks        -0.650614\n",
            "PutOuts        0.310125\n",
            "Division_W   -95.027171\n",
            "dtype: float64\n"
          ]
        }
      ]
    },
    {
      "cell_type": "markdown",
      "metadata": {
        "collapsed": true,
        "id": "TfQDl9ESsx5p"
      },
      "source": [
        "# Getting credit\n",
        "To get credit for this lab, please post an example where you would choose to use each of the following:\n",
        "- Best subset\n",
        "- Forward selection\n",
        "- Backward selection\n",
        "\n",
        "."
      ]
    }
  ]
}