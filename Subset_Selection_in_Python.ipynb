{
  "nbformat": 4,
  "nbformat_minor": 0,
  "metadata": {
    "anaconda-cloud": {},
    "kernelspec": {
      "display_name": "Python [default]",
      "language": "python",
      "name": "python3"
    },
    "language_info": {
      "codemirror_mode": {
        "name": "ipython",
        "version": 3
      },
      "file_extension": ".py",
      "mimetype": "text/x-python",
      "name": "python",
      "nbconvert_exporter": "python",
      "pygments_lexer": "ipython3",
      "version": "3.5.2"
    },
    "colab": {
      "name": "Subset Selection in Python.ipynb",
      "provenance": [],
      "collapsed_sections": [],
      "include_colab_link": true
    }
  },
  "cells": [
    {
      "cell_type": "markdown",
      "metadata": {
        "id": "view-in-github",
        "colab_type": "text"
      },
      "source": [
        "<a href=\"https://colab.research.google.com/github/waelrash1/predictive_analytics_DT302/blob/main/Subset_Selection_in_Python.ipynb\" target=\"_parent\"><img src=\"https://colab.research.google.com/assets/colab-badge.svg\" alt=\"Open In Colab\"/></a>"
      ]
    },
    {
      "cell_type": "markdown",
      "metadata": {
        "id": "PC3qDdUesx5S"
      },
      "source": [
        "This lab on Subset Selection is a Python adaptation of p. 244-247 of \"Introduction to Statistical Learning with Applications in R\" by Gareth James, Daniela Witten, Trevor Hastie and Robert Tibshirani. Adapted by R. Jordan Crouser at Smith College for SDS293: Machine Learning (Spring 2016)."
      ]
    },
    {
      "cell_type": "code",
      "metadata": {
        "id": "iTMYAfOKsx5T"
      },
      "source": [
        "%matplotlib inline\n",
        "import pandas as pd\n",
        "import pandas.testing as tm\n",
        "import numpy as np\n",
        "import itertools\n",
        "import time\n",
        "import statsmodels.api as sm\n",
        "import matplotlib.pyplot as plt"
      ],
      "execution_count": 28,
      "outputs": []
    },
    {
      "cell_type": "markdown",
      "metadata": {
        "id": "FzFfryzbsx5V"
      },
      "source": [
        "# 6.5.1 Best Subset Selection\n",
        "\n",
        "Here we apply the best subset selection approach to the Hitters data. We\n",
        "wish to predict a baseball player’s Salary on the basis of various statistics\n",
        "associated with performance in the previous year. Let's take a quick look:"
      ]
    },
    {
      "cell_type": "code",
      "metadata": {
        "colab": {
          "base_uri": "https://localhost:8080/",
          "height": 202
        },
        "id": "wXRGLMSpsx5d",
        "outputId": "b09e6992-3712-4d76-8de0-a123169ebe24"
      },
      "source": [
        "hitters_df =pd.read_csv('/content/Hitters.csv')\n",
        "hitters_df.head()\n"
      ],
      "execution_count": 6,
      "outputs": [
        {
          "output_type": "execute_result",
          "data": {
            "text/html": [
              "<div>\n",
              "<style scoped>\n",
              "    .dataframe tbody tr th:only-of-type {\n",
              "        vertical-align: middle;\n",
              "    }\n",
              "\n",
              "    .dataframe tbody tr th {\n",
              "        vertical-align: top;\n",
              "    }\n",
              "\n",
              "    .dataframe thead th {\n",
              "        text-align: right;\n",
              "    }\n",
              "</style>\n",
              "<table border=\"1\" class=\"dataframe\">\n",
              "  <thead>\n",
              "    <tr style=\"text-align: right;\">\n",
              "      <th></th>\n",
              "      <th>AtBat</th>\n",
              "      <th>Hits</th>\n",
              "      <th>HmRun</th>\n",
              "      <th>Runs</th>\n",
              "      <th>RBI</th>\n",
              "      <th>Walks</th>\n",
              "      <th>Years</th>\n",
              "      <th>CAtBat</th>\n",
              "      <th>CHits</th>\n",
              "      <th>CHmRun</th>\n",
              "      <th>CRuns</th>\n",
              "      <th>CRBI</th>\n",
              "      <th>CWalks</th>\n",
              "      <th>League</th>\n",
              "      <th>Division</th>\n",
              "      <th>PutOuts</th>\n",
              "      <th>Assists</th>\n",
              "      <th>Errors</th>\n",
              "      <th>Salary</th>\n",
              "      <th>NewLeague</th>\n",
              "    </tr>\n",
              "  </thead>\n",
              "  <tbody>\n",
              "    <tr>\n",
              "      <th>0</th>\n",
              "      <td>293</td>\n",
              "      <td>66</td>\n",
              "      <td>1</td>\n",
              "      <td>30</td>\n",
              "      <td>29</td>\n",
              "      <td>14</td>\n",
              "      <td>1</td>\n",
              "      <td>293</td>\n",
              "      <td>66</td>\n",
              "      <td>1</td>\n",
              "      <td>30</td>\n",
              "      <td>29</td>\n",
              "      <td>14</td>\n",
              "      <td>A</td>\n",
              "      <td>E</td>\n",
              "      <td>446</td>\n",
              "      <td>33</td>\n",
              "      <td>20</td>\n",
              "      <td>NaN</td>\n",
              "      <td>A</td>\n",
              "    </tr>\n",
              "    <tr>\n",
              "      <th>1</th>\n",
              "      <td>315</td>\n",
              "      <td>81</td>\n",
              "      <td>7</td>\n",
              "      <td>24</td>\n",
              "      <td>38</td>\n",
              "      <td>39</td>\n",
              "      <td>14</td>\n",
              "      <td>3449</td>\n",
              "      <td>835</td>\n",
              "      <td>69</td>\n",
              "      <td>321</td>\n",
              "      <td>414</td>\n",
              "      <td>375</td>\n",
              "      <td>N</td>\n",
              "      <td>W</td>\n",
              "      <td>632</td>\n",
              "      <td>43</td>\n",
              "      <td>10</td>\n",
              "      <td>475.0</td>\n",
              "      <td>N</td>\n",
              "    </tr>\n",
              "    <tr>\n",
              "      <th>2</th>\n",
              "      <td>479</td>\n",
              "      <td>130</td>\n",
              "      <td>18</td>\n",
              "      <td>66</td>\n",
              "      <td>72</td>\n",
              "      <td>76</td>\n",
              "      <td>3</td>\n",
              "      <td>1624</td>\n",
              "      <td>457</td>\n",
              "      <td>63</td>\n",
              "      <td>224</td>\n",
              "      <td>266</td>\n",
              "      <td>263</td>\n",
              "      <td>A</td>\n",
              "      <td>W</td>\n",
              "      <td>880</td>\n",
              "      <td>82</td>\n",
              "      <td>14</td>\n",
              "      <td>480.0</td>\n",
              "      <td>A</td>\n",
              "    </tr>\n",
              "    <tr>\n",
              "      <th>3</th>\n",
              "      <td>496</td>\n",
              "      <td>141</td>\n",
              "      <td>20</td>\n",
              "      <td>65</td>\n",
              "      <td>78</td>\n",
              "      <td>37</td>\n",
              "      <td>11</td>\n",
              "      <td>5628</td>\n",
              "      <td>1575</td>\n",
              "      <td>225</td>\n",
              "      <td>828</td>\n",
              "      <td>838</td>\n",
              "      <td>354</td>\n",
              "      <td>N</td>\n",
              "      <td>E</td>\n",
              "      <td>200</td>\n",
              "      <td>11</td>\n",
              "      <td>3</td>\n",
              "      <td>500.0</td>\n",
              "      <td>N</td>\n",
              "    </tr>\n",
              "    <tr>\n",
              "      <th>4</th>\n",
              "      <td>321</td>\n",
              "      <td>87</td>\n",
              "      <td>10</td>\n",
              "      <td>39</td>\n",
              "      <td>42</td>\n",
              "      <td>30</td>\n",
              "      <td>2</td>\n",
              "      <td>396</td>\n",
              "      <td>101</td>\n",
              "      <td>12</td>\n",
              "      <td>48</td>\n",
              "      <td>46</td>\n",
              "      <td>33</td>\n",
              "      <td>N</td>\n",
              "      <td>E</td>\n",
              "      <td>805</td>\n",
              "      <td>40</td>\n",
              "      <td>4</td>\n",
              "      <td>91.5</td>\n",
              "      <td>N</td>\n",
              "    </tr>\n",
              "  </tbody>\n",
              "</table>\n",
              "</div>"
            ],
            "text/plain": [
              "   AtBat  Hits  HmRun  Runs  RBI  ...  PutOuts  Assists  Errors  Salary  NewLeague\n",
              "0    293    66      1    30   29  ...      446       33      20     NaN          A\n",
              "1    315    81      7    24   38  ...      632       43      10   475.0          N\n",
              "2    479   130     18    66   72  ...      880       82      14   480.0          A\n",
              "3    496   141     20    65   78  ...      200       11       3   500.0          N\n",
              "4    321    87     10    39   42  ...      805       40       4    91.5          N\n",
              "\n",
              "[5 rows x 20 columns]"
            ]
          },
          "metadata": {},
          "execution_count": 6
        }
      ]
    },
    {
      "cell_type": "markdown",
      "metadata": {
        "id": "3NH1i1F4sx5d"
      },
      "source": [
        "First of all, we note that the `Salary` variable is missing for some of the\n",
        "players. The `isnull()` function can be used to identify the missing observations. It returns a vector of the same length as the input vector, with a `TRUE` value\n",
        "for any elements that are missing, and a `FALSE` value for non-missing elements.\n",
        "The `sum()` function can then be used to count all of the missing elements:"
      ]
    },
    {
      "cell_type": "code",
      "metadata": {
        "id": "ulougNx8sx5e",
        "colab": {
          "base_uri": "https://localhost:8080/"
        },
        "outputId": "e14d808a-6b99-47d6-f081-58107f6c16a6"
      },
      "source": [
        "print(\"Number of null values:\", hitters_df[\"Salary\"].isnull().sum())"
      ],
      "execution_count": 4,
      "outputs": [
        {
          "output_type": "stream",
          "name": "stdout",
          "text": [
            "Number of null values: 59\n"
          ]
        }
      ]
    },
    {
      "cell_type": "markdown",
      "metadata": {
        "id": "EnnaPoe7sx5e"
      },
      "source": [
        "We see that `Salary` is missing for 59 players. The `dropna()` function\n",
        "removes all of the rows that have missing values in any variable:"
      ]
    },
    {
      "cell_type": "code",
      "metadata": {
        "id": "SFfNfaeCsx5f",
        "colab": {
          "base_uri": "https://localhost:8080/"
        },
        "outputId": "4fcc0bcf-e7f6-4473-e064-5d148e9f11dd"
      },
      "source": [
        "# Print the dimensions of the original Hitters data (322 rows x 20 columns)\n",
        "print(\"Dimensions of original data:\", hitters_df.shape)\n",
        "hitters_df_clean   = hitters_df.dropna()\n",
        "# Print the dimensions of the modified Hitters data (263 rows x 20 columns)\n",
        "print(\"Dimensions of modified data:\", hitters_df_clean.shape)\n",
        "\n",
        "# One last check: should return 0\n",
        "print(\"Number of null values:\", hitters_df_clean[\"Salary\"].isnull().sum())"
      ],
      "execution_count": 7,
      "outputs": [
        {
          "output_type": "stream",
          "name": "stdout",
          "text": [
            "Dimensions of original data: (322, 20)\n",
            "Dimensions of modified data: (263, 20)\n",
            "Number of null values: 0\n"
          ]
        }
      ]
    },
    {
      "cell_type": "code",
      "metadata": {
        "colab": {
          "base_uri": "https://localhost:8080/",
          "height": 202
        },
        "id": "jNl6p-oRz8AU",
        "outputId": "8885eb05-8936-4ce4-fb87-c4812c1955ee"
      },
      "source": [
        "hitters_df_clean.head()"
      ],
      "execution_count": 6,
      "outputs": [
        {
          "output_type": "execute_result",
          "data": {
            "text/html": [
              "<div>\n",
              "<style scoped>\n",
              "    .dataframe tbody tr th:only-of-type {\n",
              "        vertical-align: middle;\n",
              "    }\n",
              "\n",
              "    .dataframe tbody tr th {\n",
              "        vertical-align: top;\n",
              "    }\n",
              "\n",
              "    .dataframe thead th {\n",
              "        text-align: right;\n",
              "    }\n",
              "</style>\n",
              "<table border=\"1\" class=\"dataframe\">\n",
              "  <thead>\n",
              "    <tr style=\"text-align: right;\">\n",
              "      <th></th>\n",
              "      <th>AtBat</th>\n",
              "      <th>Hits</th>\n",
              "      <th>HmRun</th>\n",
              "      <th>Runs</th>\n",
              "      <th>RBI</th>\n",
              "      <th>Walks</th>\n",
              "      <th>Years</th>\n",
              "      <th>CAtBat</th>\n",
              "      <th>CHits</th>\n",
              "      <th>CHmRun</th>\n",
              "      <th>CRuns</th>\n",
              "      <th>CRBI</th>\n",
              "      <th>CWalks</th>\n",
              "      <th>League</th>\n",
              "      <th>Division</th>\n",
              "      <th>PutOuts</th>\n",
              "      <th>Assists</th>\n",
              "      <th>Errors</th>\n",
              "      <th>Salary</th>\n",
              "      <th>NewLeague</th>\n",
              "    </tr>\n",
              "  </thead>\n",
              "  <tbody>\n",
              "    <tr>\n",
              "      <th>1</th>\n",
              "      <td>315</td>\n",
              "      <td>81</td>\n",
              "      <td>7</td>\n",
              "      <td>24</td>\n",
              "      <td>38</td>\n",
              "      <td>39</td>\n",
              "      <td>14</td>\n",
              "      <td>3449</td>\n",
              "      <td>835</td>\n",
              "      <td>69</td>\n",
              "      <td>321</td>\n",
              "      <td>414</td>\n",
              "      <td>375</td>\n",
              "      <td>N</td>\n",
              "      <td>W</td>\n",
              "      <td>632</td>\n",
              "      <td>43</td>\n",
              "      <td>10</td>\n",
              "      <td>475.0</td>\n",
              "      <td>N</td>\n",
              "    </tr>\n",
              "    <tr>\n",
              "      <th>2</th>\n",
              "      <td>479</td>\n",
              "      <td>130</td>\n",
              "      <td>18</td>\n",
              "      <td>66</td>\n",
              "      <td>72</td>\n",
              "      <td>76</td>\n",
              "      <td>3</td>\n",
              "      <td>1624</td>\n",
              "      <td>457</td>\n",
              "      <td>63</td>\n",
              "      <td>224</td>\n",
              "      <td>266</td>\n",
              "      <td>263</td>\n",
              "      <td>A</td>\n",
              "      <td>W</td>\n",
              "      <td>880</td>\n",
              "      <td>82</td>\n",
              "      <td>14</td>\n",
              "      <td>480.0</td>\n",
              "      <td>A</td>\n",
              "    </tr>\n",
              "    <tr>\n",
              "      <th>3</th>\n",
              "      <td>496</td>\n",
              "      <td>141</td>\n",
              "      <td>20</td>\n",
              "      <td>65</td>\n",
              "      <td>78</td>\n",
              "      <td>37</td>\n",
              "      <td>11</td>\n",
              "      <td>5628</td>\n",
              "      <td>1575</td>\n",
              "      <td>225</td>\n",
              "      <td>828</td>\n",
              "      <td>838</td>\n",
              "      <td>354</td>\n",
              "      <td>N</td>\n",
              "      <td>E</td>\n",
              "      <td>200</td>\n",
              "      <td>11</td>\n",
              "      <td>3</td>\n",
              "      <td>500.0</td>\n",
              "      <td>N</td>\n",
              "    </tr>\n",
              "    <tr>\n",
              "      <th>4</th>\n",
              "      <td>321</td>\n",
              "      <td>87</td>\n",
              "      <td>10</td>\n",
              "      <td>39</td>\n",
              "      <td>42</td>\n",
              "      <td>30</td>\n",
              "      <td>2</td>\n",
              "      <td>396</td>\n",
              "      <td>101</td>\n",
              "      <td>12</td>\n",
              "      <td>48</td>\n",
              "      <td>46</td>\n",
              "      <td>33</td>\n",
              "      <td>N</td>\n",
              "      <td>E</td>\n",
              "      <td>805</td>\n",
              "      <td>40</td>\n",
              "      <td>4</td>\n",
              "      <td>91.5</td>\n",
              "      <td>N</td>\n",
              "    </tr>\n",
              "    <tr>\n",
              "      <th>5</th>\n",
              "      <td>594</td>\n",
              "      <td>169</td>\n",
              "      <td>4</td>\n",
              "      <td>74</td>\n",
              "      <td>51</td>\n",
              "      <td>35</td>\n",
              "      <td>11</td>\n",
              "      <td>4408</td>\n",
              "      <td>1133</td>\n",
              "      <td>19</td>\n",
              "      <td>501</td>\n",
              "      <td>336</td>\n",
              "      <td>194</td>\n",
              "      <td>A</td>\n",
              "      <td>W</td>\n",
              "      <td>282</td>\n",
              "      <td>421</td>\n",
              "      <td>25</td>\n",
              "      <td>750.0</td>\n",
              "      <td>A</td>\n",
              "    </tr>\n",
              "  </tbody>\n",
              "</table>\n",
              "</div>"
            ],
            "text/plain": [
              "   AtBat  Hits  HmRun  Runs  RBI  ...  PutOuts  Assists  Errors  Salary  NewLeague\n",
              "1    315    81      7    24   38  ...      632       43      10   475.0          N\n",
              "2    479   130     18    66   72  ...      880       82      14   480.0          A\n",
              "3    496   141     20    65   78  ...      200       11       3   500.0          N\n",
              "4    321    87     10    39   42  ...      805       40       4    91.5          N\n",
              "5    594   169      4    74   51  ...      282      421      25   750.0          A\n",
              "\n",
              "[5 rows x 20 columns]"
            ]
          },
          "metadata": {},
          "execution_count": 6
        }
      ]
    },
    {
      "cell_type": "code",
      "metadata": {
        "id": "gA5TrZ_Fsx5g"
      },
      "source": [
        "dummies = pd.get_dummies(hitters_df_clean[['League', 'Division', 'NewLeague']])\n",
        "\n",
        "y = hitters_df_clean.Salary\n",
        "\n",
        "# Drop the column with the independent variable (Salary), and columns for which we created dummy variables\n",
        "X_ = hitters_df_clean.drop(['Salary', 'League', 'Division', 'NewLeague'], axis=1).astype('float64')\n",
        "\n",
        "# Define the feature set X.\n",
        "X = pd.concat([X_, dummies[['League_N', 'Division_W', 'NewLeague_N']]], axis=1)"
      ],
      "execution_count": 8,
      "outputs": []
    },
    {
      "cell_type": "markdown",
      "metadata": {
        "id": "UVz-rLR_sx5h"
      },
      "source": [
        "We can perform best subset selection by identifying the best model that contains a given number of predictors, where **best** is quantified using RSS. We'll define a helper function to outputs the best set of variables for\n",
        "each model size:"
      ]
    },
    {
      "cell_type": "code",
      "metadata": {
        "collapsed": true,
        "id": "vjrEpBfzsx5h"
      },
      "source": [
        "def processSubset(feature_set):\n",
        "    # Fit model on feature_set and calculate RSS\n",
        "    model = sm.OLS(y,X[list(feature_set)])\n",
        "    regr = model.fit()\n",
        "    RSS = ((regr.predict(X[list(feature_set)]) - y) ** 2).sum()\n",
        "    return {\"model\":regr, \"RSS\":RSS}"
      ],
      "execution_count": 9,
      "outputs": []
    },
    {
      "cell_type": "code",
      "metadata": {
        "id": "XBkuOMzisx5i"
      },
      "source": [
        "def getBest(k):\n",
        "    \n",
        "    tic = time.time()\n",
        "    \n",
        "    results = []\n",
        "    \n",
        "    for combo in itertools.combinations(X.columns, k):\n",
        "        results.append(processSubset(combo))\n",
        "    \n",
        "    # Wrap everything up in a nice dataframe\n",
        "    models = pd.DataFrame(results)\n",
        "    \n",
        "    # Choose the model with the min RSS\n",
        "    best_model = models.loc[models['RSS'].argmin()]\n",
        "    \n",
        "    toc = time.time()\n",
        "    print(\"Processed\", models.shape[0], \"models on\", k, \"predictors in\", (toc-tic), \"seconds.\")\n",
        "    \n",
        "    # Return the best model, along with some other useful information about the model\n",
        "    return best_model"
      ],
      "execution_count": 10,
      "outputs": []
    },
    {
      "cell_type": "markdown",
      "metadata": {
        "id": "oZvMfmH_sx5j"
      },
      "source": [
        "This returns a `DataFrame` containing the best model that we generated, along with some extra information about the model. Now we want to call that function for each number of predictors $k$:"
      ]
    },
    {
      "cell_type": "code",
      "metadata": {
        "id": "ERCrJV40sx5j",
        "colab": {
          "base_uri": "https://localhost:8080/"
        },
        "outputId": "66a7d4ee-5ce1-49cc-98f1-93addbe21e86"
      },
      "source": [
        "# Could take quite awhile to complete...\n",
        "\n",
        "models_best = pd.DataFrame(columns=[\"RSS\", \"model\"])\n",
        "\n",
        "tic = time.time()\n",
        "for i in range(1,7):\n",
        "    models_best.loc[i] = getBest(i)\n",
        "\n",
        "toc = time.time()\n",
        "print(\"Total elapsed time:\", (toc-tic), \"seconds.\")"
      ],
      "execution_count": 11,
      "outputs": [
        {
          "output_type": "stream",
          "name": "stdout",
          "text": [
            "Processed 19 models on 1 predictors in 0.0769510269165039 seconds.\n",
            "Processed 171 models on 2 predictors in 0.5569167137145996 seconds.\n",
            "Processed 969 models on 3 predictors in 2.660980463027954 seconds.\n",
            "Processed 3876 models on 4 predictors in 11.27506399154663 seconds.\n",
            "Processed 11628 models on 5 predictors in 34.66517996788025 seconds.\n",
            "Processed 27132 models on 6 predictors in 88.46070766448975 seconds.\n",
            "Total elapsed time: 138.36936402320862 seconds.\n"
          ]
        }
      ]
    },
    {
      "cell_type": "markdown",
      "metadata": {
        "id": "38S_FH2psx5j"
      },
      "source": [
        "Now we have one big `DataFrame` that contains the best models we've generated along with their RSS:"
      ]
    },
    {
      "cell_type": "code",
      "metadata": {
        "id": "fkb8xAl6sx5j"
      },
      "source": [
        "models_best"
      ],
      "execution_count": null,
      "outputs": []
    },
    {
      "cell_type": "markdown",
      "metadata": {
        "id": "C5xpwIj_sx5k"
      },
      "source": [
        "If we want to access the details of each model, no problem! We can get a full rundown of a single model using the `summary()` function:"
      ]
    },
    {
      "cell_type": "code",
      "metadata": {
        "id": "UVNfQfb-sx5k"
      },
      "source": [
        "print(models_best.loc[2, \"model\"].summary())"
      ],
      "execution_count": null,
      "outputs": []
    },
    {
      "cell_type": "markdown",
      "metadata": {
        "id": "0ymFf4Gzsx5k"
      },
      "source": [
        "This output indicates that the best two-variable model\n",
        "contains only `Hits` and `CRBI`. To save time, we only generated results\n",
        "up to the best 7-variable model. You can use the functions we defined above to explore as many variables as are desired."
      ]
    },
    {
      "cell_type": "code",
      "metadata": {
        "id": "CMfQeLPisx5l"
      },
      "source": [
        "# Show the best 19-variable model (there's actually only one)\n",
        "print(getBest(19)[\"model\"].summary())"
      ],
      "execution_count": null,
      "outputs": []
    },
    {
      "cell_type": "markdown",
      "metadata": {
        "id": "VYe8bFpOsx5l"
      },
      "source": [
        "Rather than letting the results of our call to the `summary()` function print to the screen, we can access just the parts we need using the model's attributes. For example, if we want the $R^2$ value:"
      ]
    },
    {
      "cell_type": "code",
      "metadata": {
        "id": "QAJDBbGTsx5l"
      },
      "source": [
        "models_best.loc[6, \"model\"].rsquared"
      ],
      "execution_count": null,
      "outputs": []
    },
    {
      "cell_type": "markdown",
      "metadata": {
        "id": "eZre149csx5l"
      },
      "source": [
        "Excellent! In addition to the verbose output we get when we print the summary to the screen, fitting the `OLM` also produced many other useful statistics such as adjusted $R^2$, AIC, and BIC. We can examine these to try to select the best overall model. Let's start by looking at $R^2$ across all our models:"
      ]
    },
    {
      "cell_type": "code",
      "metadata": {
        "id": "LkSaMBBlsx5l"
      },
      "source": [
        "# Gets the second element from each row ('model') and pulls out its rsquared attribute\n",
        "models_best.apply(lambda row: row[1].rsquared, axis=1)"
      ],
      "execution_count": null,
      "outputs": []
    },
    {
      "cell_type": "markdown",
      "metadata": {
        "id": "J4E-eoRIsx5m"
      },
      "source": [
        "As expected, the $R^2$ statistic increases monotonically as more\n",
        "variables are included.\n",
        "\n",
        "Plotting RSS, adjusted $R^2$, AIC, and BIC for all of the models at once will\n",
        "help us decide which model to select. Note the `type=\"l\"` option tells `R` to\n",
        "connect the plotted points with lines:"
      ]
    },
    {
      "cell_type": "code",
      "metadata": {
        "id": "9-O-cNb6sx5m"
      },
      "source": [
        "plt.figure(figsize=(20,10))\n",
        "plt.rcParams.update({'font.size': 18, 'lines.markersize': 10})\n",
        "\n",
        "# Set up a 2x2 grid so we can look at 4 plots at once\n",
        "plt.subplot(2, 2, 1)\n",
        "\n",
        "# We will now plot a red dot to indicate the model with the largest adjusted R^2 statistic.\n",
        "# The argmax() function can be used to identify the location of the maximum point of a vector\n",
        "plt.plot(models_best[\"RSS\"])\n",
        "plt.xlabel('# Predictors')\n",
        "plt.ylabel('RSS')\n",
        "\n",
        "# We will now plot a red dot to indicate the model with the largest adjusted R^2 statistic.\n",
        "# The argmax() function can be used to identify the location of the maximum point of a vector\n",
        "\n",
        "rsquared_adj = models_best.apply(lambda row: row[1].rsquared_adj, axis=1)\n",
        "\n",
        "plt.subplot(2, 2, 2)\n",
        "plt.plot(rsquared_adj)\n",
        "plt.plot(rsquared_adj.argmax(), rsquared_adj.max(), \"or\")\n",
        "plt.xlabel('# Predictors')\n",
        "plt.ylabel('adjusted rsquared')\n",
        "\n",
        "# We'll do the same for AIC and BIC, this time looking for the models with the SMALLEST statistic\n",
        "aic = models_best.apply(lambda row: row[1].aic, axis=1)\n",
        "\n",
        "plt.subplot(2, 2, 3)\n",
        "plt.plot(aic)\n",
        "plt.plot(aic.argmin(), aic.min(), \"or\")\n",
        "plt.xlabel('# Predictors')\n",
        "plt.ylabel('AIC')\n",
        "\n",
        "bic = models_best.apply(lambda row: row[1].bic, axis=1)\n",
        "\n",
        "plt.subplot(2, 2, 4)\n",
        "plt.plot(bic)\n",
        "plt.plot(bic.argmin(), bic.min(), \"or\")\n",
        "plt.xlabel('# Predictors')\n",
        "plt.ylabel('BIC')"
      ],
      "execution_count": null,
      "outputs": []
    },
    {
      "cell_type": "markdown",
      "metadata": {
        "id": "hdER9Nn-sx5m"
      },
      "source": [
        "Recall that in the second step of our selection process, we narrowed the field down to just one model on any $k<=p$ predictors. We see that according to BIC, the best performer is the model with 6 variables. According to AIC and adjusted $R^2$ something a bit more complex might be better. Again, no one measure is going to give us an entirely accurate picture... but they all agree that a model with 5 or fewer predictors is insufficient."
      ]
    },
    {
      "cell_type": "markdown",
      "metadata": {
        "id": "Q3JrC7Vpsx5m"
      },
      "source": [
        "# 6.5.2 Forward and Backward Stepwise Selection\n",
        "We can also use a similar approach to perform forward stepwise\n",
        "or backward stepwise selection, using a slight modification of the functions we defined above:"
      ]
    },
    {
      "cell_type": "code",
      "metadata": {
        "collapsed": true,
        "id": "t0lZR64Zsx5m"
      },
      "source": [
        "def forward(predictors):\n",
        "\n",
        "    # Pull out predictors we still need to process\n",
        "    remaining_predictors = [p for p in X.columns if p not in predictors]\n",
        "    \n",
        "    tic = time.time()\n",
        "    \n",
        "    results = []\n",
        "    \n",
        "    for p in remaining_predictors:\n",
        "        results.append(processSubset(predictors+[p]))\n",
        "    \n",
        "    # Wrap everything up in a nice dataframe\n",
        "    models = pd.DataFrame(results)\n",
        "    \n",
        "    # Choose the model with the highest RSS\n",
        "    best_model = models.loc[models['RSS'].argmin()]\n",
        "    \n",
        "    toc = time.time()\n",
        "    print(\"Processed \", models.shape[0], \"models on\", len(predictors)+1, \"predictors in\", (toc-tic), \"seconds.\")\n",
        "    \n",
        "    # Return the best model, along with some other useful information about the model\n",
        "    return best_model"
      ],
      "execution_count": 20,
      "outputs": []
    },
    {
      "cell_type": "markdown",
      "metadata": {
        "id": "OYYx1O4Psx5n"
      },
      "source": [
        "Now let's see how much faster it runs!"
      ]
    },
    {
      "cell_type": "code",
      "metadata": {
        "id": "uqMrhO0bsx5n"
      },
      "source": [
        "models_fwd = pd.DataFrame(columns=[\"RSS\", \"model\"])\n",
        "\n",
        "tic = time.time()\n",
        "predictors = []\n",
        "\n",
        "for i in range(1,len(X.columns)+1):    \n",
        "    models_fwd.loc[i] = forward(predictors)\n",
        "    predictors = models_fwd.loc[i][\"model\"].model.exog_names\n",
        "\n",
        "toc = time.time()\n",
        "print(\"Total elapsed time:\", (toc-tic), \"seconds.\")"
      ],
      "execution_count": null,
      "outputs": []
    },
    {
      "cell_type": "markdown",
      "metadata": {
        "id": "AbqsTSAksx5n"
      },
      "source": [
        "Phew! That's a lot better. Let's take a look:"
      ]
    },
    {
      "cell_type": "code",
      "metadata": {
        "id": "7UdBxxQUsx5n"
      },
      "source": [
        "print(models_fwd.loc[1, \"model\"].summary())\n",
        "print(models_fwd.loc[2, \"model\"].summary())"
      ],
      "execution_count": null,
      "outputs": []
    },
    {
      "cell_type": "markdown",
      "metadata": {
        "id": "yIOcdB2wsx5n"
      },
      "source": [
        "We see that using forward stepwise selection, the best one-variable\n",
        "model contains only `Hits`, and the best two-variable model additionally\n",
        "includes `CRBI`. Let's see how the models stack up against best subset selection:"
      ]
    },
    {
      "cell_type": "code",
      "metadata": {
        "id": "kBa6Wup8sx5n"
      },
      "source": [
        "print(models_best.loc[2, \"model\"].summary())\n",
        "print(models_fwd.loc[2, \"model\"].summary())"
      ],
      "execution_count": null,
      "outputs": []
    },
    {
      "cell_type": "markdown",
      "metadata": {
        "collapsed": true,
        "id": "3MWKSjWLsx5n"
      },
      "source": [
        "For this data, the best one-variable through six-variable\n",
        "models are each identical for best subset and forward selection.\n",
        "\n",
        "# Backward Selection\n",
        "Not much has to change to implement backward selection... just looping through the predictors in reverse!"
      ]
    },
    {
      "cell_type": "code",
      "metadata": {
        "collapsed": true,
        "id": "DQowOIn6sx5o"
      },
      "source": [
        "def backward(predictors):\n",
        "    \n",
        "    tic = time.time()\n",
        "    \n",
        "    results = []\n",
        "    \n",
        "    for combo in itertools.combinations(predictors, len(predictors)-1):\n",
        "        print(combo)\n",
        "        results.append(processSubset(combo))\n",
        "    \n",
        "    # Wrap everything up in a nice dataframe\n",
        "    models = pd.DataFrame(results)\n",
        "    \n",
        "    # Choose the model with the highest RSS\n",
        "    best_model = models.loc[models['RSS'].argmin()]\n",
        "    \n",
        "    toc = time.time()\n",
        "    print(\"Processed \", models.shape[0], \"models on\", len(predictors)-1, \"predictors in\", (toc-tic), \"seconds.\")\n",
        "    \n",
        "    # Return the best model, along with some other useful information about the model\n",
        "    return best_model"
      ],
      "execution_count": 29,
      "outputs": []
    },
    {
      "cell_type": "code",
      "metadata": {
        "id": "nQjGrKN2sx5o"
      },
      "source": [
        "models_bwd = pd.DataFrame(columns=[\"RSS\", \"model\"], index = range(1,len(X.columns)))\n",
        "\n",
        "tic = time.time()\n",
        "predictors = X.columns\n",
        "\n",
        "while(len(predictors) > 1):  \n",
        "    models_bwd.loc[len(predictors)-1] = backward(predictors)\n",
        "    predictors = models_bwd.loc[len(predictors)-1][\"model\"].model.exog_names\n",
        "\n",
        "toc = time.time()\n",
        "print(\"Total elapsed time:\", (toc-tic), \"seconds.\")"
      ],
      "execution_count": null,
      "outputs": []
    },
    {
      "cell_type": "markdown",
      "metadata": {
        "id": "H9UcSkVysx5o"
      },
      "source": [
        "For this data, the best one-variable through six-variable\n",
        "models are each identical for best subset and forward selection.\n",
        "However, the best seven-variable models identified by forward stepwise selection,\n",
        "backward stepwise selection, and best subset selection are different:"
      ]
    },
    {
      "cell_type": "code",
      "metadata": {
        "id": "FGhlTGKHsx5o"
      },
      "source": [
        "print(\"------------\")\n",
        "print(\"Best Subset:\")\n",
        "print(\"------------\")\n",
        "print(models_best.loc[2, \"model\"].params)"
      ],
      "execution_count": null,
      "outputs": []
    },
    {
      "cell_type": "code",
      "metadata": {
        "id": "G-I9cvYYsx5p"
      },
      "source": [
        "print(\"-----------------\")\n",
        "print(\"Foward Selection:\")\n",
        "print(\"-----------------\")\n",
        "print(models_fwd.loc[7, \"model\"].params)"
      ],
      "execution_count": null,
      "outputs": []
    },
    {
      "cell_type": "code",
      "metadata": {
        "id": "pNQPzn_isx5p"
      },
      "source": [
        "print(\"-------------------\")\n",
        "print(\"Backward Selection:\")\n",
        "print(\"-------------------\")\n",
        "print(models_bwd.loc[7, \"model\"].params)"
      ],
      "execution_count": null,
      "outputs": []
    },
    {
      "cell_type": "markdown",
      "metadata": {
        "collapsed": true,
        "id": "TfQDl9ESsx5p"
      },
      "source": [
        "# Getting credit\n",
        "To get credit for this lab, please post an example where you would choose to use each of the following:\n",
        "- Best subset\n",
        "- Forward selection\n",
        "- Backward selection\n",
        "\n",
        "."
      ]
    }
  ]
}