{
  "cells": [
    {
      "cell_type": "markdown",
      "metadata": {
        "id": "view-in-github",
        "colab_type": "text"
      },
      "source": [
        "<a href=\"https://colab.research.google.com/github/waelrash1/predictive_analytics_DT302/blob/main/NLP_assignment.ipynb\" target=\"_parent\"><img src=\"https://colab.research.google.com/assets/colab-badge.svg\" alt=\"Open In Colab\"/></a>"
      ]
    },
    {
      "cell_type": "markdown",
      "metadata": {
        "id": "c_Z-i5i_PcHf"
      },
      "source": []
    },
    {
      "cell_type": "markdown",
      "metadata": {
        "id": "yV9WW7voPcHj"
      },
      "source": [
        "# Natural Language Processing </a>\n",
        "\n",
        "## Assignment: K Nearest Neighbors Model for the IMDB Movie Review Dataset\n",
        "\n",
        "For the final project, build a K Nearest Neighbors model to predict the sentiment (positive or negative) of movie reviews. The dataset is originally hosted here: http://ai.stanford.edu/~amaas/data/sentiment/\n",
        "\n",
        "Use the notebooks from the class and implement the model, train and test with the corresponding datasets.\n",
        "\n",
        "You can follow these steps:\n",
        "1. Read training-test data (Given)\n",
        "2. Train a KNN classifier (Implement)\n",
        "3. Make predictions on your test dataset (Implement)\n",
        "4. Expermintation (Implement)\n",
        "\n",
        "__You can use the KNN Classifier from here: https://scikit-learn.org/stable/modules/generated/sklearn.neighbors.KNeighborsClassifier.html__"
      ]
    },
    {
      "cell_type": "markdown",
      "metadata": {
        "id": "Qf9gzc3NPcHm"
      },
      "source": [
        "## 1. Reading the dataset\n",
        "\n",
        "We will use the __pandas__ library to read our dataset."
      ]
    },
    {
      "cell_type": "markdown",
      "metadata": {
        "id": "6R1S95FYPcHm"
      },
      "source": [
        "#### __Training data:__\n",
        "Let's read our training data. Here, we have the text and label fields. Labe is 1 for positive reviews and 0 for negative reviews."
      ]
    },
    {
      "cell_type": "code",
      "execution_count": null,
      "metadata": {
        "id": "imYuQ2EcPcHn"
      },
      "outputs": [],
      "source": [
        "import pandas as pd\n",
        "\n",
        "train_df = pd.read_csv('https://raw.githubusercontent.com/aws-samples/aws-machine-learning-university-accelerated-nlp/master/data/final_project/imdb_train.csv', header=0)\n",
        "train_df.head()"
      ]
    },
    {
      "cell_type": "markdown",
      "metadata": {
        "id": "h5c7uQRYPcHn"
      },
      "source": [
        "#### __Test data:__"
      ]
    },
    {
      "cell_type": "code",
      "execution_count": null,
      "metadata": {
        "id": "DiBpa04fPcHo"
      },
      "outputs": [],
      "source": [
        "import pandas as pd\n",
        "\n",
        "test_df = pd.read_csv('https://raw.githubusercontent.com/aws-samples/aws-machine-learning-university-accelerated-nlp/master/data/final_project/imdb_test.csv', header=0)\n",
        "test_df.head()"
      ]
    },
    {
      "cell_type": "markdown",
      "metadata": {
        "id": "_n7O1xvmPcHp"
      },
      "source": [
        "## 2. Train a KNN Classifier\n",
        "Here, you will apply pre-processing operations we covered in the class. Then, you can split your dataset to training and validation here. For your first submission, you will use __K Nearest Neighbors Classifier__. It is available [here](https://scikit-learn.org/stable/modules/generated/sklearn.neighbors.KNeighborsClassifier.html)."
      ]
    },
    {
      "cell_type": "code",
      "execution_count": null,
      "metadata": {
        "id": "5f90bOZGPcHp"
      },
      "outputs": [],
      "source": [
        "# Implement this"
      ]
    },
    {
      "cell_type": "markdown",
      "metadata": {
        "id": "rieXB-QtPcHq"
      },
      "source": [
        "## 3. Make predictions on your test dataset\n",
        "\n",
        "Once we select our best performing model, we can use it to make predictions on the test dataset. You can simply use __.fit()__ function with your training data to use the best performing K value and use __.predict()__ with your test data to get your test predictions."
      ]
    },
    {
      "cell_type": "code",
      "execution_count": null,
      "metadata": {
        "id": "BssNQEfAPcHq"
      },
      "outputs": [],
      "source": [
        "# Implement this"
      ]
    },
    {
      "cell_type": "markdown",
      "source": [
        "## 4. Experimentation\n",
        "\n",
        "For each of the following tasks, track both the **weighted F1-score** and **accuracy**:\n",
        "\n",
        "1. **Change the binary parameter in CountVectorizer**: Test both `binary=True` and `binary=False`, and evaluate performance.\n",
        "2. **Switch to TfidfVectorizer**: Replace the CountVectorizer with TfidfVectorizer and compare results.\n",
        "3. **Adjust the max_features**: Experiment with different values of `max_features` for both TfidfVectorizer and CountVectorizer (`binary=True`).\n",
        "4. **Optimize KNN**: Select the best-performing model from task 3 and vary the number of neighbors (`n_neighbors`) in the KNN classifier.\n"
      ],
      "metadata": {
        "id": "Lhp8mXM_Ax8d"
      }
    },
    {
      "cell_type": "code",
      "source": [
        "# Task 1\n",
        "\n",
        "# Implement this"
      ],
      "metadata": {
        "id": "9RpHvtEWCVB1"
      },
      "execution_count": null,
      "outputs": []
    },
    {
      "cell_type": "code",
      "source": [
        "# Task 2\n",
        "\n",
        "# Implement this"
      ],
      "metadata": {
        "id": "6bNcCQ2PCfiu"
      },
      "execution_count": null,
      "outputs": []
    },
    {
      "cell_type": "code",
      "source": [
        "# Task 3\n",
        "\n",
        "# Implement this"
      ],
      "metadata": {
        "id": "M_bnccPMCgM9"
      },
      "execution_count": null,
      "outputs": []
    },
    {
      "cell_type": "code",
      "source": [
        "# Task 4\n",
        "\n",
        "# Implement this"
      ],
      "metadata": {
        "id": "OL1koC0RChNf"
      },
      "execution_count": null,
      "outputs": []
    }
  ],
  "metadata": {
    "kernelspec": {
      "display_name": "conda_python3",
      "language": "python",
      "name": "conda_python3"
    },
    "language_info": {
      "codemirror_mode": {
        "name": "ipython",
        "version": 3
      },
      "file_extension": ".py",
      "mimetype": "text/x-python",
      "name": "python",
      "nbconvert_exporter": "python",
      "pygments_lexer": "ipython3",
      "version": "3.6.13"
    },
    "colab": {
      "provenance": [],
      "include_colab_link": true
    }
  },
  "nbformat": 4,
  "nbformat_minor": 0
}