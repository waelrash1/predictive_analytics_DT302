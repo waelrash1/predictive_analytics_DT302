{
  "nbformat": 4,
  "nbformat_minor": 0,
  "metadata": {
    "colab": {
      "name": "Gradient Descent.ipynb",
      "private_outputs": true,
      "provenance": [],
      "authorship_tag": "ABX9TyOh+46MSFa5EvR7jTifrKno",
      "include_colab_link": true
    },
    "kernelspec": {
      "name": "python3",
      "display_name": "Python 3"
    },
    "language_info": {
      "name": "python"
    }
  },
  "cells": [
    {
      "cell_type": "markdown",
      "metadata": {
        "id": "view-in-github",
        "colab_type": "text"
      },
      "source": [
        "<a href=\"https://colab.research.google.com/github/waelrash1/predictive_analytics_DT302/blob/main/Gradient_Descent.ipynb\" target=\"_parent\"><img src=\"https://colab.research.google.com/assets/colab-badge.svg\" alt=\"Open In Colab\"/></a>"
      ]
    },
    {
      "cell_type": "code",
      "metadata": {
        "id": "jAqyqld-k1xZ"
      },
      "source": [
        "\n",
        "from matplotlib import pyplot as plt"
      ],
      "execution_count": null,
      "outputs": []
    },
    {
      "cell_type": "code",
      "metadata": {
        "id": "TK4IbL04jsd5"
      },
      "source": [
        "cur_x = 3 # The algorithm starts at x=3\n",
        "rate = 0.01 # Learning rate\n",
        "precision = 0.000001 #This tells us when to stop the algorithm\n",
        "previous_step_size = 1 #\n",
        "max_iters = 10000 # maximum number of iterations\n",
        "iters = 0 #iteration counter\n",
        "df = lambda x: 2*(x+5) #Gradient of our function\n",
        "hist=list()"
      ],
      "execution_count": null,
      "outputs": []
    },
    {
      "cell_type": "code",
      "metadata": {
        "id": "PQKeDbvAjyY-"
      },
      "source": [
        "while previous_step_size > precision and iters < max_iters:\n",
        "    prev_x = cur_x #Store current x value in prev_x\n",
        "    cur_x = cur_x - rate * df(prev_x) #Grad descent\n",
        "    previous_step_size = abs(cur_x - prev_x) #Change in x\n",
        "    iters = iters+1 #iteration count\n",
        "    hist.append((cur_x+5)**2)\n",
        "    print(\"Iteration\",iters,\"\\nX value is\",cur_x) #Print iterations\n",
        "    \n",
        "print(\"The local minimum occurs at\", cur_x)"
      ],
      "execution_count": null,
      "outputs": []
    },
    {
      "cell_type": "code",
      "metadata": {
        "id": "TbCH2NcokwdA"
      },
      "source": [
        "plt.plot(hist)\n",
        "plt.xlabel(\"X\")\n",
        "plt.ylabel(\"Cost function\")"
      ],
      "execution_count": null,
      "outputs": []
    }
  ]
}