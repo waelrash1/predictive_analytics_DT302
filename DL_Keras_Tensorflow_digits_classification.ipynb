{
  "nbformat": 4,
  "nbformat_minor": 0,
  "metadata": {
    "colab": {
      "name": "DL Keras Tensorflow- digits classification",
      "private_outputs": true,
      "provenance": [],
      "collapsed_sections": [],
      "authorship_tag": "ABX9TyMG52jzeNIuo/EiKelRVXk9",
      "include_colab_link": true
    },
    "kernelspec": {
      "name": "python3",
      "display_name": "Python 3"
    },
    "language_info": {
      "name": "python"
    }
  },
  "cells": [
    {
      "cell_type": "markdown",
      "metadata": {
        "id": "view-in-github",
        "colab_type": "text"
      },
      "source": [
        "<a href=\"https://colab.research.google.com/github/waelrash1/predictive_analytics_DT302/blob/main/DL_Keras_Tensorflow_digits_classification.ipynb\" target=\"_parent\"><img src=\"https://colab.research.google.com/assets/colab-badge.svg\" alt=\"Open In Colab\"/></a>"
      ]
    },
    {
      "cell_type": "code",
      "metadata": {
        "id": "LdoKnfpne7p2"
      },
      "source": [
        "%matplotlib inline\n",
        "import matplotlib.pyplot as plt\n",
        "import numpy as np\n",
        "from sklearn.datasets import load_digits\n",
        "\n",
        "digits = load_digits()"
      ],
      "execution_count": null,
      "outputs": []
    },
    {
      "cell_type": "code",
      "metadata": {
        "id": "J9dwQ8DPe_1Y"
      },
      "source": [
        "sample_index = 10\n",
        "plt.figure(figsize=(3, 3))\n",
        "plt.imshow(digits.images[sample_index], cmap=plt.cm.gray_r,\n",
        "           interpolation='nearest')\n",
        "plt.title(\"image label: %d\" % digits.target[sample_index]);"
      ],
      "execution_count": null,
      "outputs": []
    },
    {
      "cell_type": "markdown",
      "metadata": {
        "id": "zyb9fI64MoKh"
      },
      "source": [
        "# tSNE to visualize digitsˇ"
      ]
    },
    {
      "cell_type": "code",
      "metadata": {
        "id": "yPkcB78HMmLK"
      },
      "source": [
        "from sklearn import datasets\n",
        "digits = datasets.load_digits()\n",
        "# Take the first 500 data points: it's hard to see 1500 points\n",
        "X = digits.data[:5  00]\n",
        "y = digits.target[:500]"
      ],
      "execution_count": null,
      "outputs": []
    },
    {
      "cell_type": "code",
      "metadata": {
        "id": "s9CEg_TqM8kC"
      },
      "source": [
        "from sklearn.manifold import TSNE\n",
        "tsne = TSNE(n_components=2, random_state=0)"
      ],
      "execution_count": null,
      "outputs": []
    },
    {
      "cell_type": "code",
      "metadata": {
        "id": "7hzjswD-NCpC"
      },
      "source": [
        "X_2d = tsne.fit_transform(X)"
      ],
      "execution_count": null,
      "outputs": []
    },
    {
      "cell_type": "code",
      "metadata": {
        "id": "JSgNRIa8NOtt"
      },
      "source": [
        "target_ids = range(len(digits.target_names))\n",
        "\n",
        "from matplotlib import pyplot as plt\n",
        "plt.figure(figsize=(10, 8))\n",
        "colors = 'r', 'g', 'b', 'c', 'm', 'y', 'k', 'w', 'orange', 'purple'\n",
        "for i, c, label in zip(target_ids, colors, digits.target_names):\n",
        "    plt.scatter(X_2d[y == i, 0], X_2d[y == i, 1], c=c, label=label)\n",
        "plt.legend()\n",
        "plt.show()"
      ],
      "execution_count": null,
      "outputs": []
    },
    {
      "cell_type": "code",
      "metadata": {
        "id": "KbC0rKO6fJTy"
      },
      "source": [
        "from sklearn import preprocessing\n",
        "from sklearn.model_selection import train_test_split\n",
        "\n",
        "data = np.asarray(digits.data, dtype='float32')\n",
        "target = np.asarray(digits.target, dtype='int32')\n",
        "\n",
        "X_train, X_test, y_train, y_test = train_test_split(\n",
        "    data, target, test_size=0.15, random_state=37)\n",
        "\n",
        "# mean = 0 ; standard deviation = 1.0\n",
        "scaler = preprocessing.StandardScaler()\n",
        "X_train = scaler.fit_transform(X_train)\n",
        "X_test = scaler.transform(X_test)\n",
        "\n",
        "# print(scaler.mean_)\n",
        "# print(scaler.scale_)"
      ],
      "execution_count": null,
      "outputs": []
    },
    {
      "cell_type": "code",
      "metadata": {
        "id": "d7esUgAwfcPu"
      },
      "source": [
        "X_train.shape"
      ],
      "execution_count": null,
      "outputs": []
    },
    {
      "cell_type": "code",
      "metadata": {
        "id": "ZaIyoO1fc8rU"
      },
      "source": [
        "import tensorflow as tf\n",
        "from tensorflow.keras.models import Sequential\n",
        "from tensorflow.keras.layers import Dense\n",
        "from tensorflow.keras.optimizers import SGD\n",
        "from tensorflow.keras.utils import to_categorical\n",
        "from tensorflow.keras.metrics import Accuracy\n",
        "\n",
        "n_features = 8 * 8\n",
        "n_classes = 10\n",
        "n_hidden = 10\n",
        "\n",
        "keras_model = Sequential()\n",
        "keras_model.add(Dense(n_hidden, input_dim=n_features, activation='sigmoid'))\n",
        "keras_model.add(Dense(n_classes, activation='softmax'))\n",
        "\n",
        "keras_model.summary()\n"
      ],
      "execution_count": null,
      "outputs": []
    },
    {
      "cell_type": "code",
      "metadata": {
        "id": "nstFEKooPC1o"
      },
      "source": [
        "\n",
        "keras_model.compile(optimizer=SGD(learning_rate=3),\n",
        "                    loss='categorical_crossentropy', metrics=['accuracy'])\n",
        "\n",
        " \n",
        "my_callbacks = [\n",
        "    tf.keras.callbacks.EarlyStopping(patience=2),\n",
        "    tf.keras.callbacks.ModelCheckpoint(filepath='model.{epoch:02d}-{loss:.2f}.h5'),\n",
        "    tf.keras.callbacks.TensorBoard(log_dir='./logs'),]\n",
        "\n",
        "keras_model.fit(X_train, to_categorical(y_train), epochs=15, batch_size=32, callbacks=my_callbacks); "
      ],
      "execution_count": null,
      "outputs": []
    },
    {
      "cell_type": "code",
      "metadata": {
        "id": "TURYR3p1g4rM"
      },
      "source": [
        "prob=keras_model.predict(X_test)\n",
        "ypred=np.argmax(prob, axis=-1)\n",
        "Acc= Accuracy()\n",
        "Acc.update_state(ypred, y_test)\n",
        "Acc.result().numpy()\n"
      ],
      "execution_count": null,
      "outputs": []
    },
    {
      "cell_type": "code",
      "metadata": {
        "id": "VHUGTwKesxs1"
      },
      "source": [
        "%matplotlib inline\n",
        "import matplotlib.pyplot as plt\n",
        "sample_idx = 42\n",
        "plt.imshow(scaler.inverse_transform(X_test[sample_idx].reshape(1, -1)).reshape(8, 8),\n",
        "           cmap=plt.cm.gray_r, interpolation='nearest')\n",
        "plt.title(\"true label: %d\" % y_test[sample_idx])\n",
        "\n",
        "# Compute all probabilities for all samples in the test set at\n",
        "# once:\n",
        "probabilities = keras_model.predict(X_test, verbose=0)\n",
        "\n",
        "print(\"Predicted probability distribution for sample #42:\")\n",
        "for class_idx, prob in enumerate(probabilities[sample_idx]):\n",
        "    print(\"%d: %0.5f\" % (class_idx, prob))\n",
        "print()\n",
        "    \n",
        "print(\"Likelihood of true class for sample #42:\")\n",
        "p_42 = probabilities[sample_idx, y_test[sample_idx]]\n",
        "print(p_42)\n",
        "print()\n",
        "\n",
        "print(\"Negative Log Likelihood of true class for sample #42:\")\n",
        "print(-np.log(p_42))\n",
        "print()\n",
        "\n",
        "print(\"Average negative loglikelihood of the test set:\")\n",
        "Y_test = to_categorical(y_test)\n",
        "loglikelihoods = np.sum(np.log(probabilities) * Y_test, axis=1)\n",
        "print(-np.mean(loglikelihoods))"
      ],
      "execution_count": null,
      "outputs": []
    }
  ]
}