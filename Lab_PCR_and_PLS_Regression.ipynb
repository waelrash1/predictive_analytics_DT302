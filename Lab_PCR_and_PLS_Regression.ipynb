{
  "nbformat": 4,
  "nbformat_minor": 0,
  "metadata": {
    "anaconda-cloud": {},
    "kernelspec": {
      "display_name": "Python [default]",
      "language": "python",
      "name": "python3"
    },
    "language_info": {
      "codemirror_mode": {
        "name": "ipython",
        "version": 3
      },
      "file_extension": ".py",
      "mimetype": "text/x-python",
      "name": "python",
      "nbconvert_exporter": "python",
      "pygments_lexer": "ipython3",
      "version": "3.5.2"
    },
    "colab": {
      "name": "Lab  PCR and PLS Regression.ipynb",
      "provenance": [],
      "include_colab_link": true
    }
  },
  "cells": [
    {
      "cell_type": "markdown",
      "metadata": {
        "id": "view-in-github",
        "colab_type": "text"
      },
      "source": [
        "<a href=\"https://colab.research.google.com/github/waelrash1/predictive_analytics_DT302/blob/main/Lab_PCR_and_PLS_Regression.ipynb\" target=\"_parent\"><img src=\"https://colab.research.google.com/assets/colab-badge.svg\" alt=\"Open In Colab\"/></a>"
      ]
    },
    {
      "cell_type": "markdown",
      "metadata": {
        "id": "ALLiRpnX3_yN"
      },
      "source": [
        "This lab on PCS and PLS is a python adaptation of p. 256-259 of \"Introduction to Statistical Learning with Applications in R\" by Gareth James, Daniela Witten, Trevor Hastie and Robert Tibshirani. Original adaptation by J. Warmenhoven, updated by R. Jordan Crouser at Smith College for SDS293: Machine Learning (Spring 2016).\n",
        "\n",
        "# 6.7.1 Principal Components Regression\n",
        "\n",
        "Principal components regression (PCR) can be performed using the `PCA()`\n",
        "function, which is part of the `sklearn` library. In this lab, we'll apply PCR to the `Hitters`\n",
        "data, in order to predict `Salary`. As in previous labs, we'll start by ensuring that the missing values have\n",
        "been removed from the data:"
      ]
    },
    {
      "cell_type": "code",
      "metadata": {
        "id": "OOQ9WCc_3_yR"
      },
      "source": [
        "%matplotlib inline\n",
        "\n",
        "import pandas as pd\n",
        "import numpy as np\n",
        "import matplotlib.pyplot as plt\n",
        "\n",
        "from sklearn.preprocessing import scale \n",
        "from sklearn import model_selection\n",
        "from sklearn.model_selection import KFold\n",
        "from sklearn.model_selection import cross_validate\n",
        "from sklearn.model_selection import cross_val_score, train_test_split\n",
        "from sklearn.decomposition import PCA\n",
        "from sklearn.linear_model import LinearRegression\n",
        "from sklearn.cross_decomposition import PLSRegression, PLSSVD\n",
        "from sklearn.metrics import mean_squared_error\n",
        "\n",
        "\n"
      ],
      "execution_count": 1,
      "outputs": []
    },
    {
      "cell_type": "code",
      "metadata": {
        "colab": {
          "base_uri": "https://localhost:8080/"
        },
        "id": "hnBmW-RXg1gT",
        "outputId": "73e995b0-93ea-4cbf-d977-63b9122cd3ed"
      },
      "source": [
        "url='https://raw.githubusercontent.com/selva86/datasets/master/Hitters.csv'\n",
        "df = pd.read_csv(url).dropna()\n",
        "df.info()\n",
        "dummies = pd.get_dummies(df[['League', 'Division', 'NewLeague']])"
      ],
      "execution_count": 3,
      "outputs": [
        {
          "output_type": "stream",
          "name": "stdout",
          "text": [
            "<class 'pandas.core.frame.DataFrame'>\n",
            "Int64Index: 263 entries, 1 to 321\n",
            "Data columns (total 20 columns):\n",
            " #   Column     Non-Null Count  Dtype  \n",
            "---  ------     --------------  -----  \n",
            " 0   AtBat      263 non-null    int64  \n",
            " 1   Hits       263 non-null    int64  \n",
            " 2   HmRun      263 non-null    int64  \n",
            " 3   Runs       263 non-null    int64  \n",
            " 4   RBI        263 non-null    int64  \n",
            " 5   Walks      263 non-null    int64  \n",
            " 6   Years      263 non-null    int64  \n",
            " 7   CAtBat     263 non-null    int64  \n",
            " 8   CHits      263 non-null    int64  \n",
            " 9   CHmRun     263 non-null    int64  \n",
            " 10  CRuns      263 non-null    int64  \n",
            " 11  CRBI       263 non-null    int64  \n",
            " 12  CWalks     263 non-null    int64  \n",
            " 13  League     263 non-null    object \n",
            " 14  Division   263 non-null    object \n",
            " 15  PutOuts    263 non-null    int64  \n",
            " 16  Assists    263 non-null    int64  \n",
            " 17  Errors     263 non-null    int64  \n",
            " 18  Salary     263 non-null    float64\n",
            " 19  NewLeague  263 non-null    object \n",
            "dtypes: float64(1), int64(16), object(3)\n",
            "memory usage: 43.1+ KB\n"
          ]
        }
      ]
    },
    {
      "cell_type": "markdown",
      "metadata": {
        "id": "xDFsybgY3_yS"
      },
      "source": [
        "Let's set up our data:"
      ]
    },
    {
      "cell_type": "code",
      "metadata": {
        "collapsed": true,
        "id": "pqYiahjd3_yT"
      },
      "source": [
        "y = df.Salary\n",
        "\n",
        "# Drop the column with the independent variable (Salary), and columns for which we created dummy variables\n",
        "X_ = df.drop(['Salary', 'League', 'Division', 'NewLeague'], axis=1).astype('float64')\n",
        "\n",
        "# Define the feature set X.\n",
        "X = pd.concat([X_, dummies[['League_N', 'Division_W', 'NewLeague_N']]], axis=1)"
      ],
      "execution_count": 4,
      "outputs": []
    },
    {
      "cell_type": "markdown",
      "metadata": {
        "id": "2MvijP4o3_yT"
      },
      "source": [
        "Unfortunately `sklearn` does not have an implementation of PCA and regression combined like the `pls`, package in R: https://cran.r-project.org/web/packages/pls/vignettes/pls-manual.pdf so we'll have to do it ourselves.\n",
        "\n",
        "We'll start by performing Principal Components Analysis (PCA), remembering to scale the data:"
      ]
    },
    {
      "cell_type": "code",
      "metadata": {
        "colab": {
          "base_uri": "https://localhost:8080/",
          "height": 663
        },
        "id": "ig-ikV3L3_yU",
        "outputId": "6b00e967-b70e-436e-b13f-23cf9d9e24a2"
      },
      "source": [
        "pca = PCA() # create a PCA model\n",
        "X_reduced = pca.fit_transform(scale(X)) # train the PCA model of scaled data X-- unsupervised\n",
        "pd.DataFrame(pca.components_.T) # components tansposed matrix\n",
        "\n"
      ],
      "execution_count": 5,
      "outputs": [
        {
          "output_type": "execute_result",
          "data": {
            "text/html": [
              "<div>\n",
              "<style scoped>\n",
              "    .dataframe tbody tr th:only-of-type {\n",
              "        vertical-align: middle;\n",
              "    }\n",
              "\n",
              "    .dataframe tbody tr th {\n",
              "        vertical-align: top;\n",
              "    }\n",
              "\n",
              "    .dataframe thead th {\n",
              "        text-align: right;\n",
              "    }\n",
              "</style>\n",
              "<table border=\"1\" class=\"dataframe\">\n",
              "  <thead>\n",
              "    <tr style=\"text-align: right;\">\n",
              "      <th></th>\n",
              "      <th>0</th>\n",
              "      <th>1</th>\n",
              "      <th>2</th>\n",
              "      <th>3</th>\n",
              "      <th>4</th>\n",
              "      <th>5</th>\n",
              "      <th>6</th>\n",
              "      <th>7</th>\n",
              "      <th>8</th>\n",
              "      <th>9</th>\n",
              "      <th>10</th>\n",
              "      <th>11</th>\n",
              "      <th>12</th>\n",
              "      <th>13</th>\n",
              "      <th>14</th>\n",
              "      <th>15</th>\n",
              "      <th>16</th>\n",
              "      <th>17</th>\n",
              "      <th>18</th>\n",
              "    </tr>\n",
              "  </thead>\n",
              "  <tbody>\n",
              "    <tr>\n",
              "      <th>0</th>\n",
              "      <td>0.198290</td>\n",
              "      <td>-0.383784</td>\n",
              "      <td>0.088626</td>\n",
              "      <td>0.031967</td>\n",
              "      <td>0.028117</td>\n",
              "      <td>-0.070646</td>\n",
              "      <td>0.107044</td>\n",
              "      <td>0.269810</td>\n",
              "      <td>-0.012183</td>\n",
              "      <td>0.145621</td>\n",
              "      <td>0.097328</td>\n",
              "      <td>0.103150</td>\n",
              "      <td>-0.039850</td>\n",
              "      <td>0.306248</td>\n",
              "      <td>0.532433</td>\n",
              "      <td>-0.510331</td>\n",
              "      <td>0.139342</td>\n",
              "      <td>-0.106790</td>\n",
              "      <td>0.053777</td>\n",
              "    </tr>\n",
              "    <tr>\n",
              "      <th>1</th>\n",
              "      <td>0.195861</td>\n",
              "      <td>-0.377271</td>\n",
              "      <td>0.074032</td>\n",
              "      <td>0.017982</td>\n",
              "      <td>-0.004652</td>\n",
              "      <td>-0.082240</td>\n",
              "      <td>0.130026</td>\n",
              "      <td>0.388722</td>\n",
              "      <td>-0.061604</td>\n",
              "      <td>0.130476</td>\n",
              "      <td>0.014433</td>\n",
              "      <td>0.121009</td>\n",
              "      <td>0.003593</td>\n",
              "      <td>0.210616</td>\n",
              "      <td>-0.023442</td>\n",
              "      <td>0.720168</td>\n",
              "      <td>-0.167363</td>\n",
              "      <td>0.043568</td>\n",
              "      <td>-0.097782</td>\n",
              "    </tr>\n",
              "    <tr>\n",
              "      <th>2</th>\n",
              "      <td>0.204369</td>\n",
              "      <td>-0.237136</td>\n",
              "      <td>-0.216186</td>\n",
              "      <td>-0.235831</td>\n",
              "      <td>0.077660</td>\n",
              "      <td>-0.149646</td>\n",
              "      <td>-0.505833</td>\n",
              "      <td>-0.226278</td>\n",
              "      <td>0.127422</td>\n",
              "      <td>-0.351111</td>\n",
              "      <td>-0.202190</td>\n",
              "      <td>-0.314852</td>\n",
              "      <td>-0.108689</td>\n",
              "      <td>-0.001353</td>\n",
              "      <td>0.355455</td>\n",
              "      <td>0.200408</td>\n",
              "      <td>0.047702</td>\n",
              "      <td>-0.058377</td>\n",
              "      <td>-0.024805</td>\n",
              "    </tr>\n",
              "    <tr>\n",
              "      <th>3</th>\n",
              "      <td>0.198337</td>\n",
              "      <td>-0.377721</td>\n",
              "      <td>-0.017166</td>\n",
              "      <td>-0.049942</td>\n",
              "      <td>-0.038536</td>\n",
              "      <td>-0.136660</td>\n",
              "      <td>0.201764</td>\n",
              "      <td>0.114518</td>\n",
              "      <td>-0.171230</td>\n",
              "      <td>0.032245</td>\n",
              "      <td>-0.312187</td>\n",
              "      <td>-0.321700</td>\n",
              "      <td>-0.381219</td>\n",
              "      <td>-0.266583</td>\n",
              "      <td>-0.468300</td>\n",
              "      <td>-0.220518</td>\n",
              "      <td>0.140946</td>\n",
              "      <td>0.047050</td>\n",
              "      <td>0.059145</td>\n",
              "    </tr>\n",
              "    <tr>\n",
              "      <th>4</th>\n",
              "      <td>0.235174</td>\n",
              "      <td>-0.314531</td>\n",
              "      <td>-0.073085</td>\n",
              "      <td>-0.138985</td>\n",
              "      <td>0.024299</td>\n",
              "      <td>-0.111675</td>\n",
              "      <td>-0.319440</td>\n",
              "      <td>0.005082</td>\n",
              "      <td>0.131146</td>\n",
              "      <td>-0.172233</td>\n",
              "      <td>0.243415</td>\n",
              "      <td>0.347752</td>\n",
              "      <td>0.440143</td>\n",
              "      <td>-0.007486</td>\n",
              "      <td>-0.461468</td>\n",
              "      <td>-0.237366</td>\n",
              "      <td>-0.106688</td>\n",
              "      <td>0.063998</td>\n",
              "      <td>0.019351</td>\n",
              "    </tr>\n",
              "    <tr>\n",
              "      <th>5</th>\n",
              "      <td>0.208924</td>\n",
              "      <td>-0.229606</td>\n",
              "      <td>0.045636</td>\n",
              "      <td>-0.130615</td>\n",
              "      <td>-0.032495</td>\n",
              "      <td>-0.019480</td>\n",
              "      <td>0.558420</td>\n",
              "      <td>-0.623342</td>\n",
              "      <td>-0.021438</td>\n",
              "      <td>-0.120940</td>\n",
              "      <td>0.176393</td>\n",
              "      <td>0.185278</td>\n",
              "      <td>0.041020</td>\n",
              "      <td>-0.237940</td>\n",
              "      <td>0.176549</td>\n",
              "      <td>0.102541</td>\n",
              "      <td>-0.042240</td>\n",
              "      <td>0.006655</td>\n",
              "      <td>-0.018030</td>\n",
              "    </tr>\n",
              "    <tr>\n",
              "      <th>6</th>\n",
              "      <td>0.282575</td>\n",
              "      <td>0.262402</td>\n",
              "      <td>0.034581</td>\n",
              "      <td>0.095312</td>\n",
              "      <td>-0.010361</td>\n",
              "      <td>0.033243</td>\n",
              "      <td>-0.012029</td>\n",
              "      <td>0.138314</td>\n",
              "      <td>-0.010645</td>\n",
              "      <td>-0.512507</td>\n",
              "      <td>0.191547</td>\n",
              "      <td>0.354594</td>\n",
              "      <td>-0.605010</td>\n",
              "      <td>0.086080</td>\n",
              "      <td>-0.066239</td>\n",
              "      <td>-0.024135</td>\n",
              "      <td>-0.095586</td>\n",
              "      <td>-0.085780</td>\n",
              "      <td>0.020309</td>\n",
              "    </tr>\n",
              "    <tr>\n",
              "      <th>7</th>\n",
              "      <td>0.330463</td>\n",
              "      <td>0.192904</td>\n",
              "      <td>0.083574</td>\n",
              "      <td>0.091114</td>\n",
              "      <td>0.011716</td>\n",
              "      <td>0.024377</td>\n",
              "      <td>0.012057</td>\n",
              "      <td>0.147030</td>\n",
              "      <td>-0.054657</td>\n",
              "      <td>-0.101137</td>\n",
              "      <td>-0.030238</td>\n",
              "      <td>-0.062390</td>\n",
              "      <td>0.148585</td>\n",
              "      <td>-0.168155</td>\n",
              "      <td>0.157743</td>\n",
              "      <td>-0.056835</td>\n",
              "      <td>0.182264</td>\n",
              "      <td>0.720128</td>\n",
              "      <td>-0.409277</td>\n",
              "    </tr>\n",
              "    <tr>\n",
              "      <th>8</th>\n",
              "      <td>0.330742</td>\n",
              "      <td>0.182899</td>\n",
              "      <td>0.086251</td>\n",
              "      <td>0.083751</td>\n",
              "      <td>0.008524</td>\n",
              "      <td>0.029395</td>\n",
              "      <td>0.020000</td>\n",
              "      <td>0.194547</td>\n",
              "      <td>-0.094925</td>\n",
              "      <td>-0.077220</td>\n",
              "      <td>-0.029848</td>\n",
              "      <td>-0.083475</td>\n",
              "      <td>0.266807</td>\n",
              "      <td>-0.290311</td>\n",
              "      <td>0.136632</td>\n",
              "      <td>0.110442</td>\n",
              "      <td>0.031999</td>\n",
              "      <td>-0.003477</td>\n",
              "      <td>0.770272</td>\n",
              "    </tr>\n",
              "    <tr>\n",
              "      <th>9</th>\n",
              "      <td>0.318979</td>\n",
              "      <td>0.126297</td>\n",
              "      <td>-0.086272</td>\n",
              "      <td>-0.074278</td>\n",
              "      <td>0.032652</td>\n",
              "      <td>-0.040780</td>\n",
              "      <td>-0.228830</td>\n",
              "      <td>-0.249490</td>\n",
              "      <td>0.167949</td>\n",
              "      <td>0.650534</td>\n",
              "      <td>0.079790</td>\n",
              "      <td>0.074114</td>\n",
              "      <td>-0.330107</td>\n",
              "      <td>0.039828</td>\n",
              "      <td>-0.009399</td>\n",
              "      <td>-0.026816</td>\n",
              "      <td>-0.291752</td>\n",
              "      <td>0.254301</td>\n",
              "      <td>0.166104</td>\n",
              "    </tr>\n",
              "    <tr>\n",
              "      <th>10</th>\n",
              "      <td>0.338208</td>\n",
              "      <td>0.172276</td>\n",
              "      <td>0.052996</td>\n",
              "      <td>0.069177</td>\n",
              "      <td>-0.017569</td>\n",
              "      <td>0.006874</td>\n",
              "      <td>0.063057</td>\n",
              "      <td>0.084597</td>\n",
              "      <td>-0.093523</td>\n",
              "      <td>0.010116</td>\n",
              "      <td>-0.151711</td>\n",
              "      <td>-0.229114</td>\n",
              "      <td>0.202301</td>\n",
              "      <td>-0.129123</td>\n",
              "      <td>0.049945</td>\n",
              "      <td>-0.162387</td>\n",
              "      <td>-0.622512</td>\n",
              "      <td>-0.400103</td>\n",
              "      <td>-0.344135</td>\n",
              "    </tr>\n",
              "    <tr>\n",
              "      <th>11</th>\n",
              "      <td>0.340343</td>\n",
              "      <td>0.168092</td>\n",
              "      <td>0.014993</td>\n",
              "      <td>0.006674</td>\n",
              "      <td>0.027985</td>\n",
              "      <td>0.011476</td>\n",
              "      <td>-0.118539</td>\n",
              "      <td>-0.002230</td>\n",
              "      <td>0.051372</td>\n",
              "      <td>0.281008</td>\n",
              "      <td>0.097190</td>\n",
              "      <td>0.120661</td>\n",
              "      <td>0.032869</td>\n",
              "      <td>-0.208779</td>\n",
              "      <td>-0.069401</td>\n",
              "      <td>0.142912</td>\n",
              "      <td>0.609594</td>\n",
              "      <td>-0.475372</td>\n",
              "      <td>-0.259940</td>\n",
              "    </tr>\n",
              "    <tr>\n",
              "      <th>12</th>\n",
              "      <td>0.316803</td>\n",
              "      <td>0.192315</td>\n",
              "      <td>0.042121</td>\n",
              "      <td>0.030371</td>\n",
              "      <td>-0.033969</td>\n",
              "      <td>0.033988</td>\n",
              "      <td>0.177639</td>\n",
              "      <td>-0.263124</td>\n",
              "      <td>-0.002584</td>\n",
              "      <td>-0.081613</td>\n",
              "      <td>-0.190550</td>\n",
              "      <td>-0.215694</td>\n",
              "      <td>0.166700</td>\n",
              "      <td>0.736944</td>\n",
              "      <td>-0.244820</td>\n",
              "      <td>0.004483</td>\n",
              "      <td>0.169723</td>\n",
              "      <td>0.004740</td>\n",
              "      <td>0.087714</td>\n",
              "    </tr>\n",
              "    <tr>\n",
              "      <th>13</th>\n",
              "      <td>0.077697</td>\n",
              "      <td>-0.155737</td>\n",
              "      <td>0.051274</td>\n",
              "      <td>-0.287591</td>\n",
              "      <td>0.105866</td>\n",
              "      <td>0.924090</td>\n",
              "      <td>-0.019082</td>\n",
              "      <td>0.065108</td>\n",
              "      <td>0.094082</td>\n",
              "      <td>-0.005917</td>\n",
              "      <td>-0.035528</td>\n",
              "      <td>-0.041542</td>\n",
              "      <td>-0.038175</td>\n",
              "      <td>-0.011982</td>\n",
              "      <td>-0.027451</td>\n",
              "      <td>-0.010897</td>\n",
              "      <td>-0.015599</td>\n",
              "      <td>0.004609</td>\n",
              "      <td>-0.002309</td>\n",
              "    </tr>\n",
              "    <tr>\n",
              "      <th>14</th>\n",
              "      <td>-0.000842</td>\n",
              "      <td>-0.168652</td>\n",
              "      <td>0.397871</td>\n",
              "      <td>0.524053</td>\n",
              "      <td>-0.011125</td>\n",
              "      <td>0.035223</td>\n",
              "      <td>-0.013229</td>\n",
              "      <td>-0.075600</td>\n",
              "      <td>0.706801</td>\n",
              "      <td>-0.060310</td>\n",
              "      <td>-0.087099</td>\n",
              "      <td>-0.098120</td>\n",
              "      <td>-0.033609</td>\n",
              "      <td>-0.085674</td>\n",
              "      <td>-0.041749</td>\n",
              "      <td>0.017497</td>\n",
              "      <td>-0.013090</td>\n",
              "      <td>-0.013444</td>\n",
              "      <td>0.008872</td>\n",
              "    </tr>\n",
              "    <tr>\n",
              "      <th>15</th>\n",
              "      <td>-0.007859</td>\n",
              "      <td>-0.200760</td>\n",
              "      <td>0.382850</td>\n",
              "      <td>0.421917</td>\n",
              "      <td>0.055290</td>\n",
              "      <td>0.148183</td>\n",
              "      <td>-0.372539</td>\n",
              "      <td>-0.301207</td>\n",
              "      <td>-0.609276</td>\n",
              "      <td>0.027996</td>\n",
              "      <td>0.075912</td>\n",
              "      <td>0.009193</td>\n",
              "      <td>-0.035014</td>\n",
              "      <td>0.023559</td>\n",
              "      <td>-0.014239</td>\n",
              "      <td>0.023906</td>\n",
              "      <td>-0.008841</td>\n",
              "      <td>-0.000428</td>\n",
              "      <td>-0.006087</td>\n",
              "    </tr>\n",
              "    <tr>\n",
              "      <th>16</th>\n",
              "      <td>-0.054471</td>\n",
              "      <td>0.095213</td>\n",
              "      <td>0.547725</td>\n",
              "      <td>-0.396013</td>\n",
              "      <td>0.011992</td>\n",
              "      <td>-0.136837</td>\n",
              "      <td>-0.076509</td>\n",
              "      <td>-0.026194</td>\n",
              "      <td>-0.001727</td>\n",
              "      <td>0.015921</td>\n",
              "      <td>-0.580759</td>\n",
              "      <td>0.406626</td>\n",
              "      <td>0.009116</td>\n",
              "      <td>-0.016491</td>\n",
              "      <td>0.042854</td>\n",
              "      <td>-0.023716</td>\n",
              "      <td>-0.007534</td>\n",
              "      <td>-0.001700</td>\n",
              "      <td>0.005876</td>\n",
              "    </tr>\n",
              "    <tr>\n",
              "      <th>17</th>\n",
              "      <td>-0.025725</td>\n",
              "      <td>0.036680</td>\n",
              "      <td>-0.016201</td>\n",
              "      <td>0.042747</td>\n",
              "      <td>0.985726</td>\n",
              "      <td>-0.090885</td>\n",
              "      <td>0.113390</td>\n",
              "      <td>0.002935</td>\n",
              "      <td>0.003470</td>\n",
              "      <td>-0.011500</td>\n",
              "      <td>-0.013549</td>\n",
              "      <td>-0.000624</td>\n",
              "      <td>0.000723</td>\n",
              "      <td>0.006168</td>\n",
              "      <td>-0.049761</td>\n",
              "      <td>-0.003533</td>\n",
              "      <td>-0.015916</td>\n",
              "      <td>-0.003545</td>\n",
              "      <td>-0.000887</td>\n",
              "    </tr>\n",
              "    <tr>\n",
              "      <th>18</th>\n",
              "      <td>-0.041910</td>\n",
              "      <td>0.077584</td>\n",
              "      <td>0.544582</td>\n",
              "      <td>-0.417718</td>\n",
              "      <td>0.014458</td>\n",
              "      <td>-0.156965</td>\n",
              "      <td>-0.022636</td>\n",
              "      <td>0.067734</td>\n",
              "      <td>0.038457</td>\n",
              "      <td>-0.023255</td>\n",
              "      <td>0.543970</td>\n",
              "      <td>-0.429403</td>\n",
              "      <td>-0.062339</td>\n",
              "      <td>0.029395</td>\n",
              "      <td>-0.062473</td>\n",
              "      <td>0.012527</td>\n",
              "      <td>-0.005491</td>\n",
              "      <td>-0.003484</td>\n",
              "      <td>-0.007555</td>\n",
              "    </tr>\n",
              "  </tbody>\n",
              "</table>\n",
              "</div>"
            ],
            "text/plain": [
              "          0         1         2   ...        16        17        18\n",
              "0   0.198290 -0.383784  0.088626  ...  0.139342 -0.106790  0.053777\n",
              "1   0.195861 -0.377271  0.074032  ... -0.167363  0.043568 -0.097782\n",
              "2   0.204369 -0.237136 -0.216186  ...  0.047702 -0.058377 -0.024805\n",
              "3   0.198337 -0.377721 -0.017166  ...  0.140946  0.047050  0.059145\n",
              "4   0.235174 -0.314531 -0.073085  ... -0.106688  0.063998  0.019351\n",
              "5   0.208924 -0.229606  0.045636  ... -0.042240  0.006655 -0.018030\n",
              "6   0.282575  0.262402  0.034581  ... -0.095586 -0.085780  0.020309\n",
              "7   0.330463  0.192904  0.083574  ...  0.182264  0.720128 -0.409277\n",
              "8   0.330742  0.182899  0.086251  ...  0.031999 -0.003477  0.770272\n",
              "9   0.318979  0.126297 -0.086272  ... -0.291752  0.254301  0.166104\n",
              "10  0.338208  0.172276  0.052996  ... -0.622512 -0.400103 -0.344135\n",
              "11  0.340343  0.168092  0.014993  ...  0.609594 -0.475372 -0.259940\n",
              "12  0.316803  0.192315  0.042121  ...  0.169723  0.004740  0.087714\n",
              "13  0.077697 -0.155737  0.051274  ... -0.015599  0.004609 -0.002309\n",
              "14 -0.000842 -0.168652  0.397871  ... -0.013090 -0.013444  0.008872\n",
              "15 -0.007859 -0.200760  0.382850  ... -0.008841 -0.000428 -0.006087\n",
              "16 -0.054471  0.095213  0.547725  ... -0.007534 -0.001700  0.005876\n",
              "17 -0.025725  0.036680 -0.016201  ... -0.015916 -0.003545 -0.000887\n",
              "18 -0.041910  0.077584  0.544582  ... -0.005491 -0.003484 -0.007555\n",
              "\n",
              "[19 rows x 19 columns]"
            ]
          },
          "metadata": {},
          "execution_count": 5
        }
      ]
    },
    {
      "cell_type": "code",
      "metadata": {
        "id": "VEFleABtZusK",
        "outputId": "a1acdfa5-6c52-4429-ce71-b409bc0daf4a",
        "colab": {
          "base_uri": "https://localhost:8080/",
          "height": 643
        }
      },
      "source": [
        "expLianedVariance=(pca.explained_variance_/pca.explained_variance_.sum())*100\n",
        "expLianedVarianceCum=expLianedVariance.cumsum()\n",
        "pd.DataFrame( expLianedVarianceCum, expLianedVariance)"
      ],
      "execution_count": 9,
      "outputs": [
        {
          "output_type": "execute_result",
          "data": {
            "text/html": [
              "<div>\n",
              "<style scoped>\n",
              "    .dataframe tbody tr th:only-of-type {\n",
              "        vertical-align: middle;\n",
              "    }\n",
              "\n",
              "    .dataframe tbody tr th {\n",
              "        vertical-align: top;\n",
              "    }\n",
              "\n",
              "    .dataframe thead th {\n",
              "        text-align: right;\n",
              "    }\n",
              "</style>\n",
              "<table border=\"1\" class=\"dataframe\">\n",
              "  <thead>\n",
              "    <tr style=\"text-align: right;\">\n",
              "      <th></th>\n",
              "      <th>0</th>\n",
              "    </tr>\n",
              "  </thead>\n",
              "  <tbody>\n",
              "    <tr>\n",
              "      <th>38.314240</th>\n",
              "      <td>38.314240</td>\n",
              "    </tr>\n",
              "    <tr>\n",
              "      <th>21.841076</th>\n",
              "      <td>60.155315</td>\n",
              "    </tr>\n",
              "    <tr>\n",
              "      <th>10.686359</th>\n",
              "      <td>70.841675</td>\n",
              "    </tr>\n",
              "    <tr>\n",
              "      <th>8.192520</th>\n",
              "      <td>79.034194</td>\n",
              "    </tr>\n",
              "    <tr>\n",
              "      <th>5.256081</th>\n",
              "      <td>84.290275</td>\n",
              "    </tr>\n",
              "    <tr>\n",
              "      <th>4.344504</th>\n",
              "      <td>88.634779</td>\n",
              "    </tr>\n",
              "    <tr>\n",
              "      <th>3.628108</th>\n",
              "      <td>92.262888</td>\n",
              "    </tr>\n",
              "    <tr>\n",
              "      <th>2.700156</th>\n",
              "      <td>94.963043</td>\n",
              "    </tr>\n",
              "    <tr>\n",
              "      <th>1.319648</th>\n",
              "      <td>96.282691</td>\n",
              "    </tr>\n",
              "    <tr>\n",
              "      <th>0.972722</th>\n",
              "      <td>97.255413</td>\n",
              "    </tr>\n",
              "    <tr>\n",
              "      <th>0.722341</th>\n",
              "      <td>97.977754</td>\n",
              "    </tr>\n",
              "    <tr>\n",
              "      <th>0.670946</th>\n",
              "      <td>98.648700</td>\n",
              "    </tr>\n",
              "    <tr>\n",
              "      <th>0.503087</th>\n",
              "      <td>99.151787</td>\n",
              "    </tr>\n",
              "    <tr>\n",
              "      <th>0.321246</th>\n",
              "      <td>99.473033</td>\n",
              "    </tr>\n",
              "    <tr>\n",
              "      <th>0.273558</th>\n",
              "      <td>99.746591</td>\n",
              "    </tr>\n",
              "    <tr>\n",
              "      <th>0.147397</th>\n",
              "      <td>99.893988</td>\n",
              "    </tr>\n",
              "    <tr>\n",
              "      <th>0.074172</th>\n",
              "      <td>99.968159</td>\n",
              "    </tr>\n",
              "    <tr>\n",
              "      <th>0.025592</th>\n",
              "      <td>99.993751</td>\n",
              "    </tr>\n",
              "    <tr>\n",
              "      <th>0.006249</th>\n",
              "      <td>100.000000</td>\n",
              "    </tr>\n",
              "  </tbody>\n",
              "</table>\n",
              "</div>"
            ],
            "text/plain": [
              "                    0\n",
              "38.314240   38.314240\n",
              "21.841076   60.155315\n",
              "10.686359   70.841675\n",
              "8.192520    79.034194\n",
              "5.256081    84.290275\n",
              "4.344504    88.634779\n",
              "3.628108    92.262888\n",
              "2.700156    94.963043\n",
              "1.319648    96.282691\n",
              "0.972722    97.255413\n",
              "0.722341    97.977754\n",
              "0.670946    98.648700\n",
              "0.503087    99.151787\n",
              "0.321246    99.473033\n",
              "0.273558    99.746591\n",
              "0.147397    99.893988\n",
              "0.074172    99.968159\n",
              "0.025592    99.993751\n",
              "0.006249   100.000000"
            ]
          },
          "metadata": {},
          "execution_count": 9
        }
      ]
    },
    {
      "cell_type": "code",
      "metadata": {
        "colab": {
          "base_uri": "https://localhost:8080/"
        },
        "id": "NYOdCaSLerm-",
        "outputId": "fb9a6218-7a3e-4694-e1ba-b041109c9a48"
      },
      "source": [
        "expLianedVariance.size\n"
      ],
      "execution_count": 11,
      "outputs": [
        {
          "output_type": "execute_result",
          "data": {
            "text/plain": [
              "19"
            ]
          },
          "metadata": {},
          "execution_count": 11
        }
      ]
    },
    {
      "cell_type": "code",
      "metadata": {
        "colab": {
          "base_uri": "https://localhost:8080/",
          "height": 312
        },
        "id": "Szv_5cQ0bNmu",
        "outputId": "8770323b-9709-49b5-efff-9dc23740b714"
      },
      "source": [
        "xlabel=range(1, expLianedVariance.size+1)\n",
        "xlabel=np.reshape( np.asarray(list(xlabel)), (19,))\n",
        "N_PC_sel=5\n",
        "variance_N_PC= expLianedVarianceCum[N_PC_sel-1]\n",
        "plt.figure( )\n",
        "\n",
        "plt.plot(list(xlabel),expLianedVariance, label='Comp. Variation')\n",
        "plt.plot(list(xlabel),expLianedVarianceCum, label = 'Cum. Variation', linewidth=3)\n",
        "#Vertical line at the selected no of components\n",
        "plt.axvline(x=N_PC_sel, linestyle='dashed',linewidth=.5, color='grey')\n",
        "# add apoint\n",
        "plt.plot(N_PC_sel,variance_N_PC, color='green', marker='o')\n",
        "plt.text(N_PC_sel,variance_N_PC,\"{0:.0%}\".format(variance_N_PC/100.0), horizontalalignment='right')\n",
        "\n",
        "plt.legend()\n",
        "plt.title('PCA')\n",
        "plt.xlabel('Number of principal components')\n",
        "plt.ylabel('Expalined Variation')\n",
        "plt.ylim([0,100])\n",
        "plt.xlim([0,20])"
      ],
      "execution_count": 34,
      "outputs": [
        {
          "output_type": "execute_result",
          "data": {
            "text/plain": [
              "(0.0, 20.0)"
            ]
          },
          "metadata": {},
          "execution_count": 34
        },
        {
          "output_type": "display_data",
          "data": {
            "image/png": "[encoded data removed]",
            "text/plain": [
              "<Figure size 432x288 with 1 Axes>"
            ]
          },
          "metadata": {
            "needs_background": "light"
          }
        }
      ]
    },
    {
      "cell_type": "markdown",
      "metadata": {
        "id": "5KjOBBPr3_yU"
      },
      "source": [
        "Let's print out the first few variables of the first few principal components:"
      ]
    },
    {
      "cell_type": "code",
      "metadata": {
        "colab": {
          "base_uri": "https://localhost:8080/",
          "height": 205
        },
        "id": "GzHEhio53_yV",
        "outputId": "412d098a-8a4a-4def-8081-1d53c6b4fdb0"
      },
      "source": [
        "pd.DataFrame(pca.components_.T).loc[:4,:5]"
      ],
      "execution_count": null,
      "outputs": [
        {
          "output_type": "execute_result",
          "data": {
            "text/html": [
              "<div>\n",
              "<style scoped>\n",
              "    .dataframe tbody tr th:only-of-type {\n",
              "        vertical-align: middle;\n",
              "    }\n",
              "\n",
              "    .dataframe tbody tr th {\n",
              "        vertical-align: top;\n",
              "    }\n",
              "\n",
              "    .dataframe thead th {\n",
              "        text-align: right;\n",
              "    }\n",
              "</style>\n",
              "<table border=\"1\" class=\"dataframe\">\n",
              "  <thead>\n",
              "    <tr style=\"text-align: right;\">\n",
              "      <th></th>\n",
              "      <th>0</th>\n",
              "      <th>1</th>\n",
              "      <th>2</th>\n",
              "      <th>3</th>\n",
              "      <th>4</th>\n",
              "      <th>5</th>\n",
              "    </tr>\n",
              "  </thead>\n",
              "  <tbody>\n",
              "    <tr>\n",
              "      <th>0</th>\n",
              "      <td>0.198290</td>\n",
              "      <td>-0.383784</td>\n",
              "      <td>0.088626</td>\n",
              "      <td>0.031967</td>\n",
              "      <td>0.028117</td>\n",
              "      <td>-0.070646</td>\n",
              "    </tr>\n",
              "    <tr>\n",
              "      <th>1</th>\n",
              "      <td>0.195861</td>\n",
              "      <td>-0.377271</td>\n",
              "      <td>0.074032</td>\n",
              "      <td>0.017982</td>\n",
              "      <td>-0.004652</td>\n",
              "      <td>-0.082240</td>\n",
              "    </tr>\n",
              "    <tr>\n",
              "      <th>2</th>\n",
              "      <td>0.204369</td>\n",
              "      <td>-0.237136</td>\n",
              "      <td>-0.216186</td>\n",
              "      <td>-0.235831</td>\n",
              "      <td>0.077660</td>\n",
              "      <td>-0.149646</td>\n",
              "    </tr>\n",
              "    <tr>\n",
              "      <th>3</th>\n",
              "      <td>0.198337</td>\n",
              "      <td>-0.377721</td>\n",
              "      <td>-0.017166</td>\n",
              "      <td>-0.049942</td>\n",
              "      <td>-0.038536</td>\n",
              "      <td>-0.136660</td>\n",
              "    </tr>\n",
              "    <tr>\n",
              "      <th>4</th>\n",
              "      <td>0.235174</td>\n",
              "      <td>-0.314531</td>\n",
              "      <td>-0.073085</td>\n",
              "      <td>-0.138985</td>\n",
              "      <td>0.024299</td>\n",
              "      <td>-0.111675</td>\n",
              "    </tr>\n",
              "  </tbody>\n",
              "</table>\n",
              "</div>"
            ],
            "text/plain": [
              "          0         1         2         3         4         5\n",
              "0  0.198290 -0.383784  0.088626  0.031967  0.028117 -0.070646\n",
              "1  0.195861 -0.377271  0.074032  0.017982 -0.004652 -0.082240\n",
              "2  0.204369 -0.237136 -0.216186 -0.235831  0.077660 -0.149646\n",
              "3  0.198337 -0.377721 -0.017166 -0.049942 -0.038536 -0.136660\n",
              "4  0.235174 -0.314531 -0.073085 -0.138985  0.024299 -0.111675"
            ]
          },
          "metadata": {},
          "execution_count": 68
        }
      ]
    },
    {
      "cell_type": "markdown",
      "metadata": {
        "id": "FZbSY9QU3_yV"
      },
      "source": [
        "Now we'll perform 10-fold cross-validation to see how it influences the MSE:"
      ]
    },
    {
      "cell_type": "code",
      "metadata": {
        "colab": {
          "base_uri": "https://localhost:8080/",
          "height": 295
        },
        "id": "2HVZFr9T3_yW",
        "outputId": "0d4d8c8f-d29d-4c44-e446-80b601426ab8"
      },
      "source": [
        "# 10-fold CV, with shuffle\n",
        "from sklearn.model_selection import KFold\n",
        "n = len(X_reduced)\n",
        "kf_10 = KFold( n_splits=10, shuffle=True, random_state=1)\n",
        "\n",
        "regr = LinearRegression()\n",
        "mse = []\n",
        "\n",
        "# Calculate MSE with only the intercept (no principal components in regression)\n",
        "score = -1*cross_val_score(regr, np.ones((n,1)), y.ravel(), cv=kf_10, scoring='neg_mean_squared_error').mean()    \n",
        "mse.append(score)\n",
        "\n",
        "# Calculate MSE using CV for the 19 principle components, adding one component at the time.\n",
        "for i in np.arange(1, 20):\n",
        "    score = -1*cross_val_score(regr, X_reduced[:,:i], y.ravel(), cv=kf_10, scoring='neg_mean_squared_error').mean()\n",
        "    mse.append(score)\n",
        "    \n",
        "# Plot results    \n",
        "plt.plot(mse, '-v')\n",
        "plt.xlabel('Number of principal components in regression')\n",
        "plt.ylabel('MSE')\n",
        "plt.title('Salary')\n",
        "plt.xlim(xmin=-1);"
      ],
      "execution_count": 32,
      "outputs": [
        {
          "output_type": "display_data",
          "data": {
            "image/png": "[encoded data removed]",
            "text/plain": [
              "<Figure size 432x288 with 1 Axes>"
            ]
          },
          "metadata": {
            "needs_background": "light"
          }
        }
      ]
    },
    {
      "cell_type": "markdown",
      "metadata": {
        "id": "Z-6LGIKi3_yX"
      },
      "source": [
        "We see that the smallest cross-validation error occurs when $M = 18$ components\n",
        "are used. This is barely fewer than $M = 19$, which amounts to\n",
        "simply performing least squares, because when all of the components are\n",
        "used in PCR no dimension reduction occurs. However, from the plot we\n",
        "also see that the cross-validation error is roughly the same when only one\n",
        "component is included in the model. This suggests that a model that uses\n",
        "just a small number of components might suffice."
      ]
    },
    {
      "cell_type": "markdown",
      "metadata": {
        "id": "Fsm1Q-8z3_yX"
      },
      "source": [
        "We'll do a little math to get the amount of variance explained by adding each consecutive principal component:"
      ]
    },
    {
      "cell_type": "code",
      "metadata": {
        "colab": {
          "base_uri": "https://localhost:8080/"
        },
        "id": "vlYoD2zN3_yX",
        "outputId": "e816f925-fdca-4bf9-cb12-8e598455d0f8"
      },
      "source": [
        "np.cumsum(np.round(pca.explained_variance_ratio_, decimals=4)*100)"
      ],
      "execution_count": null,
      "outputs": [
        {
          "output_type": "execute_result",
          "data": {
            "text/plain": [
              "array([38.31, 60.15, 70.84, 79.03, 84.29, 88.63, 92.26, 94.96, 96.28,\n",
              "       97.25, 97.97, 98.64, 99.14, 99.46, 99.73, 99.88, 99.95, 99.98,\n",
              "       99.99])"
            ]
          },
          "metadata": {},
          "execution_count": 84
        }
      ]
    },
    {
      "cell_type": "markdown",
      "metadata": {
        "id": "FPhtyjNl3_yY"
      },
      "source": [
        "We'll dig deeper into this concept in Chapter 10, but for now we can think of this as the amount of information about the predictors or the response that is captured using $M$ principal components. For example,\n",
        "setting $M = 1$ only captures 38.31% of all the variance, or information, in\n",
        "the predictors. In contrast, using $M = 6$ increases the value to 88.63%. If\n",
        "we were to use all $M = p = 19$ components, this would increase to 100%.\n",
        "\n",
        "Now let's perform PCA on the training data and evaluate its test set\n",
        "performance:"
      ]
    },
    {
      "cell_type": "code",
      "metadata": {
        "colab": {
          "base_uri": "https://localhost:8080/",
          "height": 295
        },
        "id": "-jS1Ral13_yY",
        "outputId": "eb53c8bf-7207-4d91-ed9f-96e9ef447476"
      },
      "source": [
        "pca2 = PCA()\n",
        "\n",
        "# Split into training and test sets\n",
        "X_train, X_test , y_train, y_test = train_test_split(X, y, test_size=0.5, random_state=1)\n",
        "\n",
        "# Scale the data\n",
        "X_reduced_train = pca2.fit_transform(scale(X_train))\n",
        "n = len(X_reduced_train)\n",
        "\n",
        "# 10-fold CV, with shuffle\n",
        "kf_10 = KFold( n_splits=10, shuffle=True, random_state=1)\n",
        "\n",
        "mse = []\n",
        "\n",
        "# Calculate MSE with only the intercept (no principal components in regression)\n",
        "score = -1*cross_val_score(regr, np.ones((n,1)), y_train.ravel(), cv=kf_10, scoring='neg_mean_squared_error').mean()    \n",
        "mse.append(score)\n",
        "\n",
        "# Calculate MSE using CV for the 19 principle components, adding one component at the time.\n",
        "for i in np.arange(1, 20):\n",
        "    score = -1*cross_val_score(regr, X_reduced_train[:,:i], y_train.ravel(), cv=kf_10, scoring='neg_mean_squared_error').mean()\n",
        "    mse.append(score)\n",
        "\n",
        "plt.plot(np.array(mse), '-v')\n",
        "plt.xlabel('Number of principal components in regression')\n",
        "plt.ylabel('MSE')\n",
        "plt.title('Salary')\n",
        "plt.xlim(xmin=-1);"
      ],
      "execution_count": null,
      "outputs": [
        {
          "output_type": "display_data",
          "data": {
            "image/png": "[encoded data removed]",
            "text/plain": [
              "<Figure size 432x288 with 1 Axes>"
            ]
          },
          "metadata": {
            "needs_background": "light"
          }
        }
      ]
    },
    {
      "cell_type": "markdown",
      "metadata": {
        "id": "C3vYQTc93_yY"
      },
      "source": [
        "We find that the lowest cross-validation error occurs when $M = 6$\n",
        "components are used. Now we'll see how it performs on the test data and compute the test MSE as follows:"
      ]
    },
    {
      "cell_type": "code",
      "metadata": {
        "colab": {
          "base_uri": "https://localhost:8080/"
        },
        "id": "-7ckatDs3_yY",
        "outputId": "c709b333-61a0-42aa-bbc0-5d1bf7dae262"
      },
      "source": [
        "X_reduced_test = pca2.transform(scale(X_test))[:,:7]\n",
        "\n",
        "# Train regression model on training data \n",
        "regr = LinearRegression()\n",
        "regr.fit(X_reduced_train[:,:7], y_train)\n",
        "\n",
        "# Prediction with test data\n",
        "pred = regr.predict(X_reduced_test)\n",
        "mean_squared_error(y_test, pred)"
      ],
      "execution_count": null,
      "outputs": [
        {
          "output_type": "execute_result",
          "data": {
            "text/plain": [
              "111994.42273636989"
            ]
          },
          "metadata": {},
          "execution_count": 91
        }
      ]
    },
    {
      "cell_type": "markdown",
      "metadata": {
        "id": "JtgZkhdM3_yZ"
      },
      "source": [
        "This test set MSE is competitive with the results obtained using ridge regression\n",
        "and the lasso. However, as a result of the way PCR is implemented,\n",
        "the final model is more difficult to interpret because it does not perform\n",
        "any kind of variable selection or even directly produce coefficient estimates."
      ]
    },
    {
      "cell_type": "markdown",
      "metadata": {
        "id": "WDobiHH73_yZ"
      },
      "source": [
        "# 6.7.2 Partial Least Squares\n",
        "\n",
        "Scikit-learn `PLSRegression` gives same results as the `pls` package in R when using `method='oscorespls'`. However, the standard method used is `'kernelpls'`, which we'll use here. Feel free to try out both."
      ]
    },
    {
      "cell_type": "code",
      "metadata": {
        "colab": {
          "base_uri": "https://localhost:8080/",
          "height": 312
        },
        "id": "Vw-Z78pO3_yZ",
        "outputId": "ffa513e9-7f40-42e2-de62-f5a3b8f3f5e3"
      },
      "source": [
        "n = len(X_train)\n",
        "\n",
        "# 10-fold CV, with shuffle\n",
        "kf_10 = KFold(n_splits=10, shuffle=True, random_state=1)\n",
        "\n",
        "mse = []\n",
        "\n",
        "for i in np.arange(1, 20):\n",
        "    pls = PLSRegression(n_components=i)\n",
        "    score = cross_val_score(pls, scale(X_train), y_train, cv=kf_10, scoring='neg_mean_squared_error').mean()\n",
        "    mse.append(-score)\n",
        "\n",
        "# Plot results\n",
        "plt.plot(np.arange(1, 20), np.array(mse), '-v')\n",
        "plt.xlabel('Number of principal components in regression')\n",
        "plt.ylabel('MSE')\n",
        "plt.title('Salary')\n",
        "plt.xlim(xmin=-1)"
      ],
      "execution_count": null,
      "outputs": [
        {
          "output_type": "execute_result",
          "data": {
            "text/plain": [
              "(-1.0, 19.9)"
            ]
          },
          "metadata": {},
          "execution_count": 93
        },
        {
          "output_type": "display_data",
          "data": {
            "image/png": "[encoded data removed]",
            "text/plain": [
              "<Figure size 432x288 with 1 Axes>"
            ]
          },
          "metadata": {
            "needs_background": "light"
          }
        }
      ]
    },
    {
      "cell_type": "markdown",
      "metadata": {
        "id": "vPu_okJb3_yZ"
      },
      "source": [
        "The lowest cross-validation error occurs when only $M = 2$ partial least\n",
        "squares dimensions are used. We now evaluate the corresponding test set\n",
        "MSE:"
      ]
    },
    {
      "cell_type": "code",
      "metadata": {
        "colab": {
          "base_uri": "https://localhost:8080/"
        },
        "id": "htBGhpUc3_ya",
        "outputId": "4811efe2-2e7c-4d24-a403-563379ae58e5"
      },
      "source": [
        "pls = PLSRegression(n_components=2)\n",
        "pls.fit(scale(X_train), y_train)\n",
        "\n",
        "mean_squared_error(y_test, pls.predict(scale(X_test)))"
      ],
      "execution_count": null,
      "outputs": [
        {
          "output_type": "execute_result",
          "data": {
            "text/plain": [
              "104838.51042760801"
            ]
          },
          "metadata": {},
          "execution_count": 94
        }
      ]
    },
    {
      "cell_type": "markdown",
      "metadata": {
        "id": "zAGY41lb3_ya"
      },
      "source": [
        "The test MSE is again comparable to the test MSE\n",
        "obtained using ridge regression, the lasso, and PCR."
      ]
    },
    {
      "cell_type": "markdown",
      "metadata": {
        "id": "VRksGD8z3_ya"
      },
      "source": [
        "The test MSE is again comparable to the test MSE\n",
        "obtained using ridge regression, the lasso, and PCR.\n",
        "\n",
        "# Your turn!\n",
        "Now it's time to test out these approaches (PCR and PLS) and evaluation methods (validation set, cross validation) on other datasets. You may want to work with a team on this portion of the lab.\n",
        "You may use any of the datasets included in ISLR, or choose one from the UCI machine learning repository (http://archive.ics.uci.edu/ml/datasets.html). Download a dataset, and try to determine the optimal set of parameters to use to model it! You are free to use the same dataset you used in Labs 9 and 10, or you can choose a new one."
      ]
    },
    {
      "cell_type": "code",
      "metadata": {
        "collapsed": true,
        "id": "cC0BPWEe3_ya"
      },
      "source": [
        "# Your code here"
      ],
      "execution_count": null,
      "outputs": []
    },
    {
      "cell_type": "markdown",
      "metadata": {
        "id": "kQpKVEha3_ya"
      },
      "source": [
        "To get credit for this lab, post your responses to the following questions:\n",
        " - Which dataset did you choose?\n",
        " - What was your response variable (i.e. what were you trying to model)?\n",
        " - Which method performed better?\n",
        " - Which method do you think tends to have lower bias?\n",
        " - Which method do you think tends to have lower variance?\n",
        " \n",
        "to Moodle: https://moodle.smith.edu/mod/quiz/view.php?id=260068"
      ]
    }
  ]
}