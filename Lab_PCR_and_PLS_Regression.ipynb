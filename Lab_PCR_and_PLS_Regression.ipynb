{
  "nbformat": 4,
  "nbformat_minor": 0,
  "metadata": {
    "anaconda-cloud": {},
    "kernelspec": {
      "display_name": "Python [default]",
      "language": "python",
      "name": "python3"
    },
    "language_info": {
      "codemirror_mode": {
        "name": "ipython",
        "version": 3
      },
      "file_extension": ".py",
      "mimetype": "text/x-python",
      "name": "python",
      "nbconvert_exporter": "python",
      "pygments_lexer": "ipython3",
      "version": "3.5.2"
    },
    "colab": {
      "name": "Lab  PCR and PLS Regression.ipynb",
      "provenance": [],
      "include_colab_link": true
    }
  },
  "cells": [
    {
      "cell_type": "markdown",
      "metadata": {
        "id": "view-in-github",
        "colab_type": "text"
      },
      "source": [
        "<a href=\"https://colab.research.google.com/github/waelrash1/predictive_analytics_DT302/blob/main/Lab_PCR_and_PLS_Regression.ipynb\" target=\"_parent\"><img src=\"https://colab.research.google.com/assets/colab-badge.svg\" alt=\"Open In Colab\"/></a>"
      ]
    },
    {
      "cell_type": "markdown",
      "metadata": {
        "id": "ALLiRpnX3_yN"
      },
      "source": [
        "This lab on PCS and PLS is a python adaptation of p. 256-259 of \"Introduction to Statistical Learning with Applications in R\" by Gareth James, Daniela Witten, Trevor Hastie and Robert Tibshirani. Original adaptation by J. Warmenhoven, updated by R. Jordan Crouser at Smith College for SDS293: Machine Learning (Spring 2016).\n",
        "\n",
        "# 6.7.1 Principal Components Regression\n",
        "\n",
        "Principal components regression (PCR) can be performed using the `PCA()`\n",
        "function, which is part of the `sklearn` library. In this lab, we'll apply PCR to the `Hitters`\n",
        "data, in order to predict `Salary`. As in previous labs, we'll start by ensuring that the missing values have\n",
        "been removed from the data:"
      ]
    },
    {
      "cell_type": "code",
      "metadata": {
        "id": "OOQ9WCc_3_yR"
      },
      "source": [
        "%matplotlib inline\n",
        "\n",
        "import pandas as pd\n",
        "import numpy as np\n",
        "import matplotlib.pyplot as plt\n",
        "\n",
        "from sklearn.preprocessing import scale \n",
        "from sklearn import model_selection\n",
        "from sklearn.model_selection import KFold\n",
        "from sklearn.model_selection import cross_validate\n",
        "from sklearn.model_selection import cross_val_score, train_test_split\n",
        "from sklearn.decomposition import PCA\n",
        "from sklearn.linear_model import LinearRegression\n",
        "from sklearn.cross_decomposition import PLSRegression, PLSSVD\n",
        "from sklearn.metrics import mean_squared_error\n",
        "\n",
        "\n"
      ],
      "execution_count": 87,
      "outputs": []
    },
    {
      "cell_type": "code",
      "metadata": {
        "colab": {
          "base_uri": "https://localhost:8080/"
        },
        "id": "hnBmW-RXg1gT",
        "outputId": "233d4db4-2f27-4130-aabd-76c228d36963"
      },
      "source": [
        "\n",
        "df = pd.read_csv('/content/Hitters.csv').dropna()\n",
        "df.info()\n",
        "dummies = pd.get_dummies(df[['League', 'Division', 'NewLeague']])"
      ],
      "execution_count": 63,
      "outputs": [
        {
          "output_type": "stream",
          "name": "stdout",
          "text": [
            "<class 'pandas.core.frame.DataFrame'>\n",
            "Int64Index: 263 entries, 1 to 321\n",
            "Data columns (total 20 columns):\n",
            " #   Column     Non-Null Count  Dtype  \n",
            "---  ------     --------------  -----  \n",
            " 0   AtBat      263 non-null    int64  \n",
            " 1   Hits       263 non-null    int64  \n",
            " 2   HmRun      263 non-null    int64  \n",
            " 3   Runs       263 non-null    int64  \n",
            " 4   RBI        263 non-null    int64  \n",
            " 5   Walks      263 non-null    int64  \n",
            " 6   Years      263 non-null    int64  \n",
            " 7   CAtBat     263 non-null    int64  \n",
            " 8   CHits      263 non-null    int64  \n",
            " 9   CHmRun     263 non-null    int64  \n",
            " 10  CRuns      263 non-null    int64  \n",
            " 11  CRBI       263 non-null    int64  \n",
            " 12  CWalks     263 non-null    int64  \n",
            " 13  League     263 non-null    object \n",
            " 14  Division   263 non-null    object \n",
            " 15  PutOuts    263 non-null    int64  \n",
            " 16  Assists    263 non-null    int64  \n",
            " 17  Errors     263 non-null    int64  \n",
            " 18  Salary     263 non-null    float64\n",
            " 19  NewLeague  263 non-null    object \n",
            "dtypes: float64(1), int64(16), object(3)\n",
            "memory usage: 43.1+ KB\n"
          ]
        }
      ]
    },
    {
      "cell_type": "markdown",
      "metadata": {
        "id": "xDFsybgY3_yS"
      },
      "source": [
        "Let's set up our data:"
      ]
    },
    {
      "cell_type": "code",
      "metadata": {
        "collapsed": true,
        "id": "pqYiahjd3_yT"
      },
      "source": [
        "y = df.Salary\n",
        "\n",
        "# Drop the column with the independent variable (Salary), and columns for which we created dummy variables\n",
        "X_ = df.drop(['Salary', 'League', 'Division', 'NewLeague'], axis=1).astype('float64')\n",
        "\n",
        "# Define the feature set X.\n",
        "X = pd.concat([X_, dummies[['League_N', 'Division_W', 'NewLeague_N']]], axis=1)"
      ],
      "execution_count": 64,
      "outputs": []
    },
    {
      "cell_type": "markdown",
      "metadata": {
        "id": "2MvijP4o3_yT"
      },
      "source": [
        "Unfortunately `sklearn` does not have an implementation of PCA and regression combined like the `pls`, package in R: https://cran.r-project.org/web/packages/pls/vignettes/pls-manual.pdf so we'll have to do it ourselves.\n",
        "\n",
        "We'll start by performing Principal Components Analysis (PCA), remembering to scale the data:"
      ]
    },
    {
      "cell_type": "code",
      "metadata": {
        "colab": {
          "base_uri": "https://localhost:8080/",
          "height": 643
        },
        "id": "ig-ikV3L3_yU",
        "outputId": "75878a93-a67f-4c7b-a273-1840f090dd24"
      },
      "source": [
        "pca = PCA()\n",
        "X_reduced = pca.fit_transform(scale(X))\n",
        "pd.DataFrame(pca.components_.T)\n",
        "expLianedVariance=(pca.explained_variance_/pca.explained_variance_.sum())*100\n",
        "expLianedVarianceCum=expLianedVariance.cumsum()\n",
        "pd.DataFrame(expLianedVariance, expLianedVarianceCum)\n"
      ],
      "execution_count": 65,
      "outputs": [
        {
          "output_type": "execute_result",
          "data": {
            "text/html": [
              "<div>\n",
              "<style scoped>\n",
              "    .dataframe tbody tr th:only-of-type {\n",
              "        vertical-align: middle;\n",
              "    }\n",
              "\n",
              "    .dataframe tbody tr th {\n",
              "        vertical-align: top;\n",
              "    }\n",
              "\n",
              "    .dataframe thead th {\n",
              "        text-align: right;\n",
              "    }\n",
              "</style>\n",
              "<table border=\"1\" class=\"dataframe\">\n",
              "  <thead>\n",
              "    <tr style=\"text-align: right;\">\n",
              "      <th></th>\n",
              "      <th>0</th>\n",
              "    </tr>\n",
              "  </thead>\n",
              "  <tbody>\n",
              "    <tr>\n",
              "      <th>38.314240</th>\n",
              "      <td>38.314240</td>\n",
              "    </tr>\n",
              "    <tr>\n",
              "      <th>60.155315</th>\n",
              "      <td>21.841076</td>\n",
              "    </tr>\n",
              "    <tr>\n",
              "      <th>70.841675</th>\n",
              "      <td>10.686359</td>\n",
              "    </tr>\n",
              "    <tr>\n",
              "      <th>79.034194</th>\n",
              "      <td>8.192520</td>\n",
              "    </tr>\n",
              "    <tr>\n",
              "      <th>84.290275</th>\n",
              "      <td>5.256081</td>\n",
              "    </tr>\n",
              "    <tr>\n",
              "      <th>88.634779</th>\n",
              "      <td>4.344504</td>\n",
              "    </tr>\n",
              "    <tr>\n",
              "      <th>92.262888</th>\n",
              "      <td>3.628108</td>\n",
              "    </tr>\n",
              "    <tr>\n",
              "      <th>94.963043</th>\n",
              "      <td>2.700156</td>\n",
              "    </tr>\n",
              "    <tr>\n",
              "      <th>96.282691</th>\n",
              "      <td>1.319648</td>\n",
              "    </tr>\n",
              "    <tr>\n",
              "      <th>97.255413</th>\n",
              "      <td>0.972722</td>\n",
              "    </tr>\n",
              "    <tr>\n",
              "      <th>97.977754</th>\n",
              "      <td>0.722341</td>\n",
              "    </tr>\n",
              "    <tr>\n",
              "      <th>98.648700</th>\n",
              "      <td>0.670946</td>\n",
              "    </tr>\n",
              "    <tr>\n",
              "      <th>99.151787</th>\n",
              "      <td>0.503087</td>\n",
              "    </tr>\n",
              "    <tr>\n",
              "      <th>99.473033</th>\n",
              "      <td>0.321246</td>\n",
              "    </tr>\n",
              "    <tr>\n",
              "      <th>99.746591</th>\n",
              "      <td>0.273558</td>\n",
              "    </tr>\n",
              "    <tr>\n",
              "      <th>99.893988</th>\n",
              "      <td>0.147397</td>\n",
              "    </tr>\n",
              "    <tr>\n",
              "      <th>99.968159</th>\n",
              "      <td>0.074172</td>\n",
              "    </tr>\n",
              "    <tr>\n",
              "      <th>99.993751</th>\n",
              "      <td>0.025592</td>\n",
              "    </tr>\n",
              "    <tr>\n",
              "      <th>100.000000</th>\n",
              "      <td>0.006249</td>\n",
              "    </tr>\n",
              "  </tbody>\n",
              "</table>\n",
              "</div>"
            ],
            "text/plain": [
              "                    0\n",
              "38.314240   38.314240\n",
              "60.155315   21.841076\n",
              "70.841675   10.686359\n",
              "79.034194    8.192520\n",
              "84.290275    5.256081\n",
              "88.634779    4.344504\n",
              "92.262888    3.628108\n",
              "94.963043    2.700156\n",
              "96.282691    1.319648\n",
              "97.255413    0.972722\n",
              "97.977754    0.722341\n",
              "98.648700    0.670946\n",
              "99.151787    0.503087\n",
              "99.473033    0.321246\n",
              "99.746591    0.273558\n",
              "99.893988    0.147397\n",
              "99.968159    0.074172\n",
              "99.993751    0.025592\n",
              "100.000000   0.006249"
            ]
          },
          "metadata": {},
          "execution_count": 65
        }
      ]
    },
    {
      "cell_type": "code",
      "metadata": {
        "colab": {
          "base_uri": "https://localhost:8080/"
        },
        "id": "NYOdCaSLerm-",
        "outputId": "065231f8-43bb-4f0b-f138-97e5db010eaa"
      },
      "source": [
        "a=expLianedVariance.size\n",
        "a"
      ],
      "execution_count": 66,
      "outputs": [
        {
          "output_type": "execute_result",
          "data": {
            "text/plain": [
              "19"
            ]
          },
          "metadata": {},
          "execution_count": 66
        }
      ]
    },
    {
      "cell_type": "code",
      "metadata": {
        "colab": {
          "base_uri": "https://localhost:8080/",
          "height": 300
        },
        "id": "Szv_5cQ0bNmu",
        "outputId": "84cf543e-a05f-412b-858c-96f81c7b20dc"
      },
      "source": [
        "xlabel=range(1, expLianedVariance.size+1)\n",
        "xlabel=np.reshape( np.asarray(list(xlabel)), (19,))\n",
        "\n",
        "plt.figure( )\n",
        "plt.xlabel('No of Componenets')\n",
        "plt.ylabel('Expalined Variation')\n",
        "plt.plot(list(xlabel),expLianedVariance, label='Comp. Variation')\n",
        "plt.plot(list(xlabel),expLianedVarianceCum, label = 'Cum. Variation')\n",
        "plt.legend()\n",
        "plt.ylim([0,100])\n",
        "plt.xlim([0,20])"
      ],
      "execution_count": 67,
      "outputs": [
        {
          "output_type": "execute_result",
          "data": {
            "text/plain": [
              "(0.0, 20.0)"
            ]
          },
          "metadata": {},
          "execution_count": 67
        },
        {
          "output_type": "display_data",
          "data": {
            "image/png": "[encoded data removed]",
            "text/plain": [
              "<Figure size 432x288 with 1 Axes>"
            ]
          },
          "metadata": {
            "needs_background": "light"
          }
        }
      ]
    },
    {
      "cell_type": "markdown",
      "metadata": {
        "id": "5KjOBBPr3_yU"
      },
      "source": [
        "Let's print out the first few variables of the first few principal components:"
      ]
    },
    {
      "cell_type": "code",
      "metadata": {
        "colab": {
          "base_uri": "https://localhost:8080/",
          "height": 205
        },
        "id": "GzHEhio53_yV",
        "outputId": "412d098a-8a4a-4def-8081-1d53c6b4fdb0"
      },
      "source": [
        "pd.DataFrame(pca.components_.T).loc[:4,:5]"
      ],
      "execution_count": 68,
      "outputs": [
        {
          "output_type": "execute_result",
          "data": {
            "text/html": [
              "<div>\n",
              "<style scoped>\n",
              "    .dataframe tbody tr th:only-of-type {\n",
              "        vertical-align: middle;\n",
              "    }\n",
              "\n",
              "    .dataframe tbody tr th {\n",
              "        vertical-align: top;\n",
              "    }\n",
              "\n",
              "    .dataframe thead th {\n",
              "        text-align: right;\n",
              "    }\n",
              "</style>\n",
              "<table border=\"1\" class=\"dataframe\">\n",
              "  <thead>\n",
              "    <tr style=\"text-align: right;\">\n",
              "      <th></th>\n",
              "      <th>0</th>\n",
              "      <th>1</th>\n",
              "      <th>2</th>\n",
              "      <th>3</th>\n",
              "      <th>4</th>\n",
              "      <th>5</th>\n",
              "    </tr>\n",
              "  </thead>\n",
              "  <tbody>\n",
              "    <tr>\n",
              "      <th>0</th>\n",
              "      <td>0.198290</td>\n",
              "      <td>-0.383784</td>\n",
              "      <td>0.088626</td>\n",
              "      <td>0.031967</td>\n",
              "      <td>0.028117</td>\n",
              "      <td>-0.070646</td>\n",
              "    </tr>\n",
              "    <tr>\n",
              "      <th>1</th>\n",
              "      <td>0.195861</td>\n",
              "      <td>-0.377271</td>\n",
              "      <td>0.074032</td>\n",
              "      <td>0.017982</td>\n",
              "      <td>-0.004652</td>\n",
              "      <td>-0.082240</td>\n",
              "    </tr>\n",
              "    <tr>\n",
              "      <th>2</th>\n",
              "      <td>0.204369</td>\n",
              "      <td>-0.237136</td>\n",
              "      <td>-0.216186</td>\n",
              "      <td>-0.235831</td>\n",
              "      <td>0.077660</td>\n",
              "      <td>-0.149646</td>\n",
              "    </tr>\n",
              "    <tr>\n",
              "      <th>3</th>\n",
              "      <td>0.198337</td>\n",
              "      <td>-0.377721</td>\n",
              "      <td>-0.017166</td>\n",
              "      <td>-0.049942</td>\n",
              "      <td>-0.038536</td>\n",
              "      <td>-0.136660</td>\n",
              "    </tr>\n",
              "    <tr>\n",
              "      <th>4</th>\n",
              "      <td>0.235174</td>\n",
              "      <td>-0.314531</td>\n",
              "      <td>-0.073085</td>\n",
              "      <td>-0.138985</td>\n",
              "      <td>0.024299</td>\n",
              "      <td>-0.111675</td>\n",
              "    </tr>\n",
              "  </tbody>\n",
              "</table>\n",
              "</div>"
            ],
            "text/plain": [
              "          0         1         2         3         4         5\n",
              "0  0.198290 -0.383784  0.088626  0.031967  0.028117 -0.070646\n",
              "1  0.195861 -0.377271  0.074032  0.017982 -0.004652 -0.082240\n",
              "2  0.204369 -0.237136 -0.216186 -0.235831  0.077660 -0.149646\n",
              "3  0.198337 -0.377721 -0.017166 -0.049942 -0.038536 -0.136660\n",
              "4  0.235174 -0.314531 -0.073085 -0.138985  0.024299 -0.111675"
            ]
          },
          "metadata": {},
          "execution_count": 68
        }
      ]
    },
    {
      "cell_type": "markdown",
      "metadata": {
        "id": "FZbSY9QU3_yV"
      },
      "source": [
        "Now we'll perform 10-fold cross-validation to see how it influences the MSE:"
      ]
    },
    {
      "cell_type": "code",
      "metadata": {
        "colab": {
          "base_uri": "https://localhost:8080/",
          "height": 295
        },
        "id": "2HVZFr9T3_yW",
        "outputId": "d49e2863-1023-4aa1-e548-1d063fcea7b8"
      },
      "source": [
        "# 10-fold CV, with shuffle\n",
        "from sklearn.model_selection import KFold\n",
        "n = len(X_reduced)\n",
        "kf_10 = KFold( n_splits=10, shuffle=True, random_state=1)\n",
        "\n",
        "regr = LinearRegression()\n",
        "mse = []\n",
        "\n",
        "# Calculate MSE with only the intercept (no principal components in regression)\n",
        "score = -1*cross_val_score(regr, np.ones((n,1)), y.ravel(), cv=kf_10, scoring='neg_mean_squared_error').mean()    \n",
        "mse.append(score)\n",
        "\n",
        "# Calculate MSE using CV for the 19 principle components, adding one component at the time.\n",
        "for i in np.arange(1, 20):\n",
        "    score = -1*cross_val_score(regr, X_reduced[:,:i], y.ravel(), cv=kf_10, scoring='neg_mean_squared_error').mean()\n",
        "    mse.append(score)\n",
        "    \n",
        "# Plot results    \n",
        "plt.plot(mse, '-v')\n",
        "plt.xlabel('Number of principal components in regression')\n",
        "plt.ylabel('MSE')\n",
        "plt.title('Salary')\n",
        "plt.xlim(xmin=-1);"
      ],
      "execution_count": 83,
      "outputs": [
        {
          "output_type": "display_data",
          "data": {
            "image/png": "[encoded data removed]",
            "text/plain": [
              "<Figure size 432x288 with 1 Axes>"
            ]
          },
          "metadata": {
            "needs_background": "light"
          }
        }
      ]
    },
    {
      "cell_type": "markdown",
      "metadata": {
        "id": "Z-6LGIKi3_yX"
      },
      "source": [
        "We see that the smallest cross-validation error occurs when $M = 18$ components\n",
        "are used. This is barely fewer than $M = 19$, which amounts to\n",
        "simply performing least squares, because when all of the components are\n",
        "used in PCR no dimension reduction occurs. However, from the plot we\n",
        "also see that the cross-validation error is roughly the same when only one\n",
        "component is included in the model. This suggests that a model that uses\n",
        "just a small number of components might suffice."
      ]
    },
    {
      "cell_type": "markdown",
      "metadata": {
        "id": "Fsm1Q-8z3_yX"
      },
      "source": [
        "We'll do a little math to get the amount of variance explained by adding each consecutive principal component:"
      ]
    },
    {
      "cell_type": "code",
      "metadata": {
        "colab": {
          "base_uri": "https://localhost:8080/"
        },
        "id": "vlYoD2zN3_yX",
        "outputId": "e816f925-fdca-4bf9-cb12-8e598455d0f8"
      },
      "source": [
        "np.cumsum(np.round(pca.explained_variance_ratio_, decimals=4)*100)"
      ],
      "execution_count": 84,
      "outputs": [
        {
          "output_type": "execute_result",
          "data": {
            "text/plain": [
              "array([38.31, 60.15, 70.84, 79.03, 84.29, 88.63, 92.26, 94.96, 96.28,\n",
              "       97.25, 97.97, 98.64, 99.14, 99.46, 99.73, 99.88, 99.95, 99.98,\n",
              "       99.99])"
            ]
          },
          "metadata": {},
          "execution_count": 84
        }
      ]
    },
    {
      "cell_type": "markdown",
      "metadata": {
        "id": "FPhtyjNl3_yY"
      },
      "source": [
        "We'll dig deeper into this concept in Chapter 10, but for now we can think of this as the amount of information about the predictors or the response that is captured using $M$ principal components. For example,\n",
        "setting $M = 1$ only captures 38.31% of all the variance, or information, in\n",
        "the predictors. In contrast, using $M = 6$ increases the value to 88.63%. If\n",
        "we were to use all $M = p = 19$ components, this would increase to 100%.\n",
        "\n",
        "Now let's perform PCA on the training data and evaluate its test set\n",
        "performance:"
      ]
    },
    {
      "cell_type": "code",
      "metadata": {
        "colab": {
          "base_uri": "https://localhost:8080/",
          "height": 295
        },
        "id": "-jS1Ral13_yY",
        "outputId": "eb53c8bf-7207-4d91-ed9f-96e9ef447476"
      },
      "source": [
        "pca2 = PCA()\n",
        "\n",
        "# Split into training and test sets\n",
        "X_train, X_test , y_train, y_test = train_test_split(X, y, test_size=0.5, random_state=1)\n",
        "\n",
        "# Scale the data\n",
        "X_reduced_train = pca2.fit_transform(scale(X_train))\n",
        "n = len(X_reduced_train)\n",
        "\n",
        "# 10-fold CV, with shuffle\n",
        "kf_10 = KFold( n_splits=10, shuffle=True, random_state=1)\n",
        "\n",
        "mse = []\n",
        "\n",
        "# Calculate MSE with only the intercept (no principal components in regression)\n",
        "score = -1*cross_val_score(regr, np.ones((n,1)), y_train.ravel(), cv=kf_10, scoring='neg_mean_squared_error').mean()    \n",
        "mse.append(score)\n",
        "\n",
        "# Calculate MSE using CV for the 19 principle components, adding one component at the time.\n",
        "for i in np.arange(1, 20):\n",
        "    score = -1*cross_val_score(regr, X_reduced_train[:,:i], y_train.ravel(), cv=kf_10, scoring='neg_mean_squared_error').mean()\n",
        "    mse.append(score)\n",
        "\n",
        "plt.plot(np.array(mse), '-v')\n",
        "plt.xlabel('Number of principal components in regression')\n",
        "plt.ylabel('MSE')\n",
        "plt.title('Salary')\n",
        "plt.xlim(xmin=-1);"
      ],
      "execution_count": 90,
      "outputs": [
        {
          "output_type": "display_data",
          "data": {
            "image/png": "[encoded data removed]",
            "text/plain": [
              "<Figure size 432x288 with 1 Axes>"
            ]
          },
          "metadata": {
            "needs_background": "light"
          }
        }
      ]
    },
    {
      "cell_type": "markdown",
      "metadata": {
        "id": "C3vYQTc93_yY"
      },
      "source": [
        "We find that the lowest cross-validation error occurs when $M = 6$\n",
        "components are used. Now we'll see how it performs on the test data and compute the test MSE as follows:"
      ]
    },
    {
      "cell_type": "code",
      "metadata": {
        "colab": {
          "base_uri": "https://localhost:8080/"
        },
        "id": "-7ckatDs3_yY",
        "outputId": "c709b333-61a0-42aa-bbc0-5d1bf7dae262"
      },
      "source": [
        "X_reduced_test = pca2.transform(scale(X_test))[:,:7]\n",
        "\n",
        "# Train regression model on training data \n",
        "regr = LinearRegression()\n",
        "regr.fit(X_reduced_train[:,:7], y_train)\n",
        "\n",
        "# Prediction with test data\n",
        "pred = regr.predict(X_reduced_test)\n",
        "mean_squared_error(y_test, pred)"
      ],
      "execution_count": 91,
      "outputs": [
        {
          "output_type": "execute_result",
          "data": {
            "text/plain": [
              "111994.42273636989"
            ]
          },
          "metadata": {},
          "execution_count": 91
        }
      ]
    },
    {
      "cell_type": "markdown",
      "metadata": {
        "id": "JtgZkhdM3_yZ"
      },
      "source": [
        "This test set MSE is competitive with the results obtained using ridge regression\n",
        "and the lasso. However, as a result of the way PCR is implemented,\n",
        "the final model is more difficult to interpret because it does not perform\n",
        "any kind of variable selection or even directly produce coefficient estimates."
      ]
    },
    {
      "cell_type": "markdown",
      "metadata": {
        "id": "WDobiHH73_yZ"
      },
      "source": [
        "# 6.7.2 Partial Least Squares\n",
        "\n",
        "Scikit-learn `PLSRegression` gives same results as the `pls` package in R when using `method='oscorespls'`. However, the standard method used is `'kernelpls'`, which we'll use here. Feel free to try out both."
      ]
    },
    {
      "cell_type": "code",
      "metadata": {
        "colab": {
          "base_uri": "https://localhost:8080/",
          "height": 312
        },
        "id": "Vw-Z78pO3_yZ",
        "outputId": "ffa513e9-7f40-42e2-de62-f5a3b8f3f5e3"
      },
      "source": [
        "n = len(X_train)\n",
        "\n",
        "# 10-fold CV, with shuffle\n",
        "kf_10 = KFold(n_splits=10, shuffle=True, random_state=1)\n",
        "\n",
        "mse = []\n",
        "\n",
        "for i in np.arange(1, 20):\n",
        "    pls = PLSRegression(n_components=i)\n",
        "    score = cross_val_score(pls, scale(X_train), y_train, cv=kf_10, scoring='neg_mean_squared_error').mean()\n",
        "    mse.append(-score)\n",
        "\n",
        "# Plot results\n",
        "plt.plot(np.arange(1, 20), np.array(mse), '-v')\n",
        "plt.xlabel('Number of principal components in regression')\n",
        "plt.ylabel('MSE')\n",
        "plt.title('Salary')\n",
        "plt.xlim(xmin=-1)"
      ],
      "execution_count": 93,
      "outputs": [
        {
          "output_type": "execute_result",
          "data": {
            "text/plain": [
              "(-1.0, 19.9)"
            ]
          },
          "metadata": {},
          "execution_count": 93
        },
        {
          "output_type": "display_data",
          "data": {
            "image/png": "[encoded data removed]",
            "text/plain": [
              "<Figure size 432x288 with 1 Axes>"
            ]
          },
          "metadata": {
            "needs_background": "light"
          }
        }
      ]
    },
    {
      "cell_type": "markdown",
      "metadata": {
        "id": "vPu_okJb3_yZ"
      },
      "source": [
        "The lowest cross-validation error occurs when only $M = 2$ partial least\n",
        "squares dimensions are used. We now evaluate the corresponding test set\n",
        "MSE:"
      ]
    },
    {
      "cell_type": "code",
      "metadata": {
        "colab": {
          "base_uri": "https://localhost:8080/"
        },
        "id": "htBGhpUc3_ya",
        "outputId": "4811efe2-2e7c-4d24-a403-563379ae58e5"
      },
      "source": [
        "pls = PLSRegression(n_components=2)\n",
        "pls.fit(scale(X_train), y_train)\n",
        "\n",
        "mean_squared_error(y_test, pls.predict(scale(X_test)))"
      ],
      "execution_count": 94,
      "outputs": [
        {
          "output_type": "execute_result",
          "data": {
            "text/plain": [
              "104838.51042760801"
            ]
          },
          "metadata": {},
          "execution_count": 94
        }
      ]
    },
    {
      "cell_type": "markdown",
      "metadata": {
        "id": "zAGY41lb3_ya"
      },
      "source": [
        "The test MSE is again comparable to the test MSE\n",
        "obtained using ridge regression, the lasso, and PCR."
      ]
    },
    {
      "cell_type": "markdown",
      "metadata": {
        "id": "VRksGD8z3_ya"
      },
      "source": [
        "The test MSE is again comparable to the test MSE\n",
        "obtained using ridge regression, the lasso, and PCR.\n",
        "\n",
        "# Your turn!\n",
        "Now it's time to test out these approaches (PCR and PLS) and evaluation methods (validation set, cross validation) on other datasets. You may want to work with a team on this portion of the lab.\n",
        "You may use any of the datasets included in ISLR, or choose one from the UCI machine learning repository (http://archive.ics.uci.edu/ml/datasets.html). Download a dataset, and try to determine the optimal set of parameters to use to model it! You are free to use the same dataset you used in Labs 9 and 10, or you can choose a new one."
      ]
    },
    {
      "cell_type": "code",
      "metadata": {
        "collapsed": true,
        "id": "cC0BPWEe3_ya"
      },
      "source": [
        "# Your code here"
      ],
      "execution_count": null,
      "outputs": []
    },
    {
      "cell_type": "markdown",
      "metadata": {
        "id": "kQpKVEha3_ya"
      },
      "source": [
        "To get credit for this lab, post your responses to the following questions:\n",
        " - Which dataset did you choose?\n",
        " - What was your response variable (i.e. what were you trying to model)?\n",
        " - Which method performed better?\n",
        " - Which method do you think tends to have lower bias?\n",
        " - Which method do you think tends to have lower variance?\n",
        " \n",
        "to Moodle: https://moodle.smith.edu/mod/quiz/view.php?id=260068"
      ]
    }
  ]
}