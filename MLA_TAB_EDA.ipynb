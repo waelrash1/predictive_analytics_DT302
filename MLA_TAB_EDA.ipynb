{
  "cells": [
    {
      "cell_type": "markdown",
      "metadata": {
        "id": "view-in-github",
        "colab_type": "text"
      },
      "source": [
        "<a href=\"https://colab.research.google.com/github/waelrash1/predictive_analytics_DT302/blob/main/MLA_TAB_EDA.ipynb\" target=\"_parent\"><img src=\"https://colab.research.google.com/assets/colab-badge.svg\" alt=\"Open In Colab\"/></a>"
      ]
    },
    {
      "cell_type": "markdown",
      "metadata": {
        "id": "3vl34toA0CKp"
      },
      "source": []
    },
    {
      "cell_type": "markdown",
      "metadata": {
        "id": "0n6vDLcV0CKs"
      },
      "source": [
        "# <a>Tabular Data -</a>\n",
        "\n",
        "\n",
        "## Exploratory data analysis\n",
        "https://www.kaggle.com/datasets/aaronschlegel/austin-animal-center-shelter-intakes-and-outcomes\n",
        "\n",
        "In this notebook, we go through basic steps of exploratory data analysis (EDA), performing initial data investigations to discover patterns, spot anomalies, and look for insights to inform later ML modeling choices.\n",
        "\n",
        "1. <a href=\"#1\">Read the dataset</a>\n",
        "2. <a href=\"#2\">Overall Statistics</a>\n",
        "3. <a href=\"#3\">Univariate Statistics: Basic Plots</a>\n",
        "4. <a href=\"#4\">Multivariate Statistics: Scatter Plots and Correlations</a>\n",
        "5. <a href=\"#5\">Handling Missing Values</a>\n",
        "    * <a href=\"#51\">Drop columns with missing values</a>\n",
        "    * <a href=\"#52\">Drop rows with missing values</a>\n",
        "    * <a href=\"#53\">Impute (fill-in) missing values with .fillna()</a>\n",
        "    * <a href=\"#54\">Impute (fill-in) missing values with sklearn's SimpleImputer</a>\n",
        "    \n",
        "__Austin Animal Center Dataset__:\n",
        "\n",
        "In this exercise, we are working with pet adoption data from __Austin Animal Center__. We have two datasets that cover intake and outcome of animals. Intake data is available from [here](https://data.austintexas.gov/Health-and-Community-Services/Austin-Animal-Center-Intakes/wter-evkm) and outcome is from [here](https://data.austintexas.gov/Health-and-Community-Services/Austin-Animal-Center-Outcomes/9t4d-g238). \n",
        "\n",
        "In order to work with a single table, we joined the intake and outcome tables using the \"Animal ID\" column and created a single __review.csv__ file. We also didn't consider animals with multiple entries to the facility to keep our dataset simple. If you want to see the original datasets and the merged data with multiple entries, they are available under data/review folder: Austin_Animal_Center_Intakes.csv, Austin_Animal_Center_Outcomes.csv and Austin_Animal_Center_Intakes_Outcomes.csv.\n",
        "\n",
        "__Dataset schema:__ \n",
        "- __Pet ID__ - Unique ID of pet\n",
        "- __Outcome Type__ - State of pet at the time of recording the outcome (0 = not placed, 1 = placed). This is the field to predict.\n",
        "- __Sex upon Outcome__ - Sex of pet at outcome\n",
        "- __Name__ - Name of pet \n",
        "- __Found Location__ - Found location of pet before entered the center\n",
        "- __Intake Type__ - Circumstances bringing the pet to the center\n",
        "- __Intake Condition__ - Health condition of pet when entered the center\n",
        "- __Pet Type__ - Type of pet\n",
        "- __Sex upon Intake__ - Sex of pet when entered the center\n",
        "- __Breed__ - Breed of pet \n",
        "- __Color__ - Color of pet \n",
        "- __Age upon Intake Days__ - Age of pet when entered the center (days)\n",
        "- __Age upon Outcome Days__ - Age of pet at outcome (days)\n"
      ]
    },
    {
      "cell_type": "markdown",
      "metadata": {
        "id": "pLicWXVt0CKu"
      },
      "source": [
        "## 1. <a name=\"1\">Read the dataset</a>\n",
        "(<a href=\"#0\">Go to top</a>)\n",
        "\n",
        "Let's read the dataset into a dataframe, using Pandas."
      ]
    },
    {
      "cell_type": "code",
      "execution_count": 7,
      "metadata": {
        "colab": {
          "base_uri": "https://localhost:8080/"
        },
        "id": "qGjKjT5S0CKv",
        "outputId": "7198a4ea-cd69-47cb-80b5-0a1fa8fd927d"
      },
      "outputs": [
        {
          "output_type": "stream",
          "name": "stdout",
          "text": [
            "The shape of the dataset is: (95485, 13)\n"
          ]
        }
      ],
      "source": [
        "import pandas as pd\n",
        "\n",
        "from google.colab import data_table\n",
        "data_table.enable_dataframe_formatter()\n",
        "\n",
        "import warnings\n",
        "warnings.filterwarnings(\"ignore\")\n",
        "  \n",
        "df = pd.read_csv('https://raw.githubusercontent.com/aws-samples/aws-machine-learning-university-accelerated-tab/master/data/review/review_dataset.csv')\n",
        "\n",
        "print('The shape of the dataset is:', df.shape)"
      ]
    },
    {
      "cell_type": "markdown",
      "metadata": {
        "id": "sJO4tfeR0CKv"
      },
      "source": [
        "## 2. <a name=\"2\">Overall Statistics</a>\n",
        "(<a href=\"#0\">Go to top</a>)\n",
        "\n",
        "We will look at number of rows, columns and some simple statistics of the dataset."
      ]
    },
    {
      "cell_type": "code",
      "execution_count": 8,
      "metadata": {
        "colab": {
          "base_uri": "https://localhost:8080/",
          "height": 378
        },
        "id": "X3IqRxyx0CKw",
        "outputId": "98236412-c75c-4689-cde6-8d5134d54bd7"
      },
      "outputs": [
        {
          "output_type": "execute_result",
          "data": {
            "text/plain": [
              "    Pet ID  Outcome Type Sex upon Outcome        Name  \\\n",
              "0  A794011           1.0    Neutered Male       Chunk   \n",
              "1  A776359           1.0    Neutered Male       Gizmo   \n",
              "2  A674754           0.0      Intact Male         NaN   \n",
              "3  A689724           1.0    Neutered Male  *Donatello   \n",
              "4  A680969           1.0    Neutered Male       *Zeus   \n",
              "\n",
              "                        Found Location      Intake Type Intake Condition  \\\n",
              "0                          Austin (TX)  Owner Surrender           Normal   \n",
              "1    7201 Levander Loop in Austin (TX)            Stray           Normal   \n",
              "2        12034 Research in Austin (TX)            Stray          Nursing   \n",
              "3     2300 Waterway Bnd in Austin (TX)            Stray           Normal   \n",
              "4  4701 Staggerbrush Rd in Austin (TX)            Stray          Nursing   \n",
              "\n",
              "  Pet Type Sex upon Intake                    Breed               Color  \\\n",
              "0      Cat   Neutered Male   Domestic Shorthair Mix   Brown Tabby/White   \n",
              "1      Dog     Intact Male  Chihuahua Shorthair Mix         White/Brown   \n",
              "2      Cat     Intact Male   Domestic Shorthair Mix        Orange Tabby   \n",
              "3      Cat     Intact Male   Domestic Shorthair Mix               Black   \n",
              "4      Cat     Intact Male   Domestic Shorthair Mix  White/Orange Tabby   \n",
              "\n",
              "   Age upon Intake Days  Age upon Outcome Days  \n",
              "0                   730                    730  \n",
              "1                   365                    365  \n",
              "2                     6                      6  \n",
              "3                    60                     60  \n",
              "4                     7                     60  "
            ],
            "text/html": [
              "\n",
              "  <div id=\"df-0a787cea-66c7-4800-b02b-49ae78a22d6c\">\n",
              "    <div class=\"colab-df-container\">\n",
              "      <div>\n",
              "<style scoped>\n",
              "    .dataframe tbody tr th:only-of-type {\n",
              "        vertical-align: middle;\n",
              "    }\n",
              "\n",
              "    .dataframe tbody tr th {\n",
              "        vertical-align: top;\n",
              "    }\n",
              "\n",
              "    .dataframe thead th {\n",
              "        text-align: right;\n",
              "    }\n",
              "</style>\n",
              "<table border=\"1\" class=\"dataframe\">\n",
              "  <thead>\n",
              "    <tr style=\"text-align: right;\">\n",
              "      <th></th>\n",
              "      <th>Pet ID</th>\n",
              "      <th>Outcome Type</th>\n",
              "      <th>Sex upon Outcome</th>\n",
              "      <th>Name</th>\n",
              "      <th>Found Location</th>\n",
              "      <th>Intake Type</th>\n",
              "      <th>Intake Condition</th>\n",
              "      <th>Pet Type</th>\n",
              "      <th>Sex upon Intake</th>\n",
              "      <th>Breed</th>\n",
              "      <th>Color</th>\n",
              "      <th>Age upon Intake Days</th>\n",
              "      <th>Age upon Outcome Days</th>\n",
              "    </tr>\n",
              "  </thead>\n",
              "  <tbody>\n",
              "    <tr>\n",
              "      <th>0</th>\n",
              "      <td>A794011</td>\n",
              "      <td>1.0</td>\n",
              "      <td>Neutered Male</td>\n",
              "      <td>Chunk</td>\n",
              "      <td>Austin (TX)</td>\n",
              "      <td>Owner Surrender</td>\n",
              "      <td>Normal</td>\n",
              "      <td>Cat</td>\n",
              "      <td>Neutered Male</td>\n",
              "      <td>Domestic Shorthair Mix</td>\n",
              "      <td>Brown Tabby/White</td>\n",
              "      <td>730</td>\n",
              "      <td>730</td>\n",
              "    </tr>\n",
              "    <tr>\n",
              "      <th>1</th>\n",
              "      <td>A776359</td>\n",
              "      <td>1.0</td>\n",
              "      <td>Neutered Male</td>\n",
              "      <td>Gizmo</td>\n",
              "      <td>7201 Levander Loop in Austin (TX)</td>\n",
              "      <td>Stray</td>\n",
              "      <td>Normal</td>\n",
              "      <td>Dog</td>\n",
              "      <td>Intact Male</td>\n",
              "      <td>Chihuahua Shorthair Mix</td>\n",
              "      <td>White/Brown</td>\n",
              "      <td>365</td>\n",
              "      <td>365</td>\n",
              "    </tr>\n",
              "    <tr>\n",
              "      <th>2</th>\n",
              "      <td>A674754</td>\n",
              "      <td>0.0</td>\n",
              "      <td>Intact Male</td>\n",
              "      <td>NaN</td>\n",
              "      <td>12034 Research in Austin (TX)</td>\n",
              "      <td>Stray</td>\n",
              "      <td>Nursing</td>\n",
              "      <td>Cat</td>\n",
              "      <td>Intact Male</td>\n",
              "      <td>Domestic Shorthair Mix</td>\n",
              "      <td>Orange Tabby</td>\n",
              "      <td>6</td>\n",
              "      <td>6</td>\n",
              "    </tr>\n",
              "    <tr>\n",
              "      <th>3</th>\n",
              "      <td>A689724</td>\n",
              "      <td>1.0</td>\n",
              "      <td>Neutered Male</td>\n",
              "      <td>*Donatello</td>\n",
              "      <td>2300 Waterway Bnd in Austin (TX)</td>\n",
              "      <td>Stray</td>\n",
              "      <td>Normal</td>\n",
              "      <td>Cat</td>\n",
              "      <td>Intact Male</td>\n",
              "      <td>Domestic Shorthair Mix</td>\n",
              "      <td>Black</td>\n",
              "      <td>60</td>\n",
              "      <td>60</td>\n",
              "    </tr>\n",
              "    <tr>\n",
              "      <th>4</th>\n",
              "      <td>A680969</td>\n",
              "      <td>1.0</td>\n",
              "      <td>Neutered Male</td>\n",
              "      <td>*Zeus</td>\n",
              "      <td>4701 Staggerbrush Rd in Austin (TX)</td>\n",
              "      <td>Stray</td>\n",
              "      <td>Nursing</td>\n",
              "      <td>Cat</td>\n",
              "      <td>Intact Male</td>\n",
              "      <td>Domestic Shorthair Mix</td>\n",
              "      <td>White/Orange Tabby</td>\n",
              "      <td>7</td>\n",
              "      <td>60</td>\n",
              "    </tr>\n",
              "  </tbody>\n",
              "</table>\n",
              "</div>\n",
              "      <button class=\"colab-df-convert\" onclick=\"convertToInteractive('df-0a787cea-66c7-4800-b02b-49ae78a22d6c')\"\n",
              "              title=\"Convert this dataframe to an interactive table.\"\n",
              "              style=\"display:none;\">\n",
              "        \n",
              "  <svg xmlns=\"http://www.w3.org/2000/svg\" height=\"24px\"viewBox=\"0 0 24 24\"\n",
              "       width=\"24px\">\n",
              "    <path d=\"M0 0h24v24H0V0z\" fill=\"none\"/>\n",
              "    <path d=\"M18.56 5.44l.94 2.06.94-2.06 2.06-.94-2.06-.94-.94-2.06-.94 2.06-2.06.94zm-11 1L8.5 8.5l.94-2.06 2.06-.94-2.06-.94L8.5 2.5l-.94 2.06-2.06.94zm10 10l.94 2.06.94-2.06 2.06-.94-2.06-.94-.94-2.06-.94 2.06-2.06.94z\"/><path d=\"M17.41 7.96l-1.37-1.37c-.4-.4-.92-.59-1.43-.59-.52 0-1.04.2-1.43.59L10.3 9.45l-7.72 7.72c-.78.78-.78 2.05 0 2.83L4 21.41c.39.39.9.59 1.41.59.51 0 1.02-.2 1.41-.59l7.78-7.78 2.81-2.81c.8-.78.8-2.07 0-2.86zM5.41 20L4 18.59l7.72-7.72 1.47 1.35L5.41 20z\"/>\n",
              "  </svg>\n",
              "      </button>\n",
              "      \n",
              "  <style>\n",
              "    .colab-df-container {\n",
              "      display:flex;\n",
              "      flex-wrap:wrap;\n",
              "      gap: 12px;\n",
              "    }\n",
              "\n",
              "    .colab-df-convert {\n",
              "      background-color: #E8F0FE;\n",
              "      border: none;\n",
              "      border-radius: 50%;\n",
              "      cursor: pointer;\n",
              "      display: none;\n",
              "      fill: #1967D2;\n",
              "      height: 32px;\n",
              "      padding: 0 0 0 0;\n",
              "      width: 32px;\n",
              "    }\n",
              "\n",
              "    .colab-df-convert:hover {\n",
              "      background-color: #E2EBFA;\n",
              "      box-shadow: 0px 1px 2px rgba(60, 64, 67, 0.3), 0px 1px 3px 1px rgba(60, 64, 67, 0.15);\n",
              "      fill: #174EA6;\n",
              "    }\n",
              "\n",
              "    [theme=dark] .colab-df-convert {\n",
              "      background-color: #3B4455;\n",
              "      fill: #D2E3FC;\n",
              "    }\n",
              "\n",
              "    [theme=dark] .colab-df-convert:hover {\n",
              "      background-color: #434B5C;\n",
              "      box-shadow: 0px 1px 3px 1px rgba(0, 0, 0, 0.15);\n",
              "      filter: drop-shadow(0px 1px 2px rgba(0, 0, 0, 0.3));\n",
              "      fill: #FFFFFF;\n",
              "    }\n",
              "  </style>\n",
              "\n",
              "      <script>\n",
              "        const buttonEl =\n",
              "          document.querySelector('#df-0a787cea-66c7-4800-b02b-49ae78a22d6c button.colab-df-convert');\n",
              "        buttonEl.style.display =\n",
              "          google.colab.kernel.accessAllowed ? 'block' : 'none';\n",
              "\n",
              "        async function convertToInteractive(key) {\n",
              "          const element = document.querySelector('#df-0a787cea-66c7-4800-b02b-49ae78a22d6c');\n",
              "          const dataTable =\n",
              "            await google.colab.kernel.invokeFunction('convertToInteractive',\n",
              "                                                     [key], {});\n",
              "          if (!dataTable) return;\n",
              "\n",
              "          const docLinkHtml = 'Like what you see? Visit the ' +\n",
              "            '<a target=\"_blank\" href=https://colab.research.google.com/notebooks/data_table.ipynb>data table notebook</a>'\n",
              "            + ' to learn more about interactive tables.';\n",
              "          element.innerHTML = '';\n",
              "          dataTable['output_type'] = 'display_data';\n",
              "          await google.colab.output.renderOutput(dataTable, element);\n",
              "          const docLink = document.createElement('div');\n",
              "          docLink.innerHTML = docLinkHtml;\n",
              "          element.appendChild(docLink);\n",
              "        }\n",
              "      </script>\n",
              "    </div>\n",
              "  </div>\n",
              "  "
            ],
            "application/vnd.google.colaboratory.module+javascript": "\n      import \"https://ssl.gstatic.com/colaboratory/data_table/a8bd4d5e58f96183/data_table.js\";\n\n      window.createDataTable({\n        data: [[{\n            'v': 0,\n            'f': \"0\",\n        },\n\"A794011\",\n{\n            'v': 1.0,\n            'f': \"1.0\",\n        },\n\"Neutered Male\",\n\"Chunk\",\n\"Austin (TX)\",\n\"Owner Surrender\",\n\"Normal\",\n\"Cat\",\n\"Neutered Male\",\n\"Domestic Shorthair Mix\",\n\"Brown Tabby/White\",\n{\n            'v': 730,\n            'f': \"730\",\n        },\n{\n            'v': 730,\n            'f': \"730\",\n        }],\n [{\n            'v': 1,\n            'f': \"1\",\n        },\n\"A776359\",\n{\n            'v': 1.0,\n            'f': \"1.0\",\n        },\n\"Neutered Male\",\n\"Gizmo\",\n\"7201 Levander Loop in Austin (TX)\",\n\"Stray\",\n\"Normal\",\n\"Dog\",\n\"Intact Male\",\n\"Chihuahua Shorthair Mix\",\n\"White/Brown\",\n{\n            'v': 365,\n            'f': \"365\",\n        },\n{\n            'v': 365,\n            'f': \"365\",\n        }],\n [{\n            'v': 2,\n            'f': \"2\",\n        },\n\"A674754\",\n{\n            'v': 0.0,\n            'f': \"0.0\",\n        },\n\"Intact Male\",\nNaN,\n\"12034 Research in Austin (TX)\",\n\"Stray\",\n\"Nursing\",\n\"Cat\",\n\"Intact Male\",\n\"Domestic Shorthair Mix\",\n\"Orange Tabby\",\n{\n            'v': 6,\n            'f': \"6\",\n        },\n{\n            'v': 6,\n            'f': \"6\",\n        }],\n [{\n            'v': 3,\n            'f': \"3\",\n        },\n\"A689724\",\n{\n            'v': 1.0,\n            'f': \"1.0\",\n        },\n\"Neutered Male\",\n\"*Donatello\",\n\"2300 Waterway Bnd in Austin (TX)\",\n\"Stray\",\n\"Normal\",\n\"Cat\",\n\"Intact Male\",\n\"Domestic Shorthair Mix\",\n\"Black\",\n{\n            'v': 60,\n            'f': \"60\",\n        },\n{\n            'v': 60,\n            'f': \"60\",\n        }],\n [{\n            'v': 4,\n            'f': \"4\",\n        },\n\"A680969\",\n{\n            'v': 1.0,\n            'f': \"1.0\",\n        },\n\"Neutered Male\",\n\"*Zeus\",\n\"4701 Staggerbrush Rd in Austin (TX)\",\n\"Stray\",\n\"Nursing\",\n\"Cat\",\n\"Intact Male\",\n\"Domestic Shorthair Mix\",\n\"White/Orange Tabby\",\n{\n            'v': 7,\n            'f': \"7\",\n        },\n{\n            'v': 60,\n            'f': \"60\",\n        }]],\n        columns: [[\"number\", \"index\"], [\"string\", \"Pet ID\"], [\"number\", \"Outcome Type\"], [\"string\", \"Sex upon Outcome\"], [\"string\", \"Name\"], [\"string\", \"Found Location\"], [\"string\", \"Intake Type\"], [\"string\", \"Intake Condition\"], [\"string\", \"Pet Type\"], [\"string\", \"Sex upon Intake\"], [\"string\", \"Breed\"], [\"string\", \"Color\"], [\"number\", \"Age upon Intake Days\"], [\"number\", \"Age upon Outcome Days\"]],\n        columnOptions: [{\"width\": \"1px\", \"className\": \"index_column\"}],\n        rowsPerPage: 25,\n        helpUrl: \"https://colab.research.google.com/notebooks/data_table.ipynb\",\n        suppressOutputScrolling: true,\n        minimumWidth: undefined,\n      });\n    "
          },
          "metadata": {},
          "execution_count": 8
        }
      ],
      "source": [
        "# Print the first five rows\n",
        "# NaN means missing data\n",
        "df.head()"
      ]
    },
    {
      "cell_type": "code",
      "execution_count": 9,
      "metadata": {
        "colab": {
          "base_uri": "https://localhost:8080/"
        },
        "id": "E-dnCKap0CKw",
        "outputId": "3979b0b6-bdf2-4911-d01a-34bad6d4f1f9"
      },
      "outputs": [
        {
          "output_type": "stream",
          "name": "stdout",
          "text": [
            "<class 'pandas.core.frame.DataFrame'>\n",
            "RangeIndex: 95485 entries, 0 to 95484\n",
            "Data columns (total 13 columns):\n",
            " #   Column                 Non-Null Count  Dtype  \n",
            "---  ------                 --------------  -----  \n",
            " 0   Pet ID                 95485 non-null  object \n",
            " 1   Outcome Type           95485 non-null  float64\n",
            " 2   Sex upon Outcome       95484 non-null  object \n",
            " 3   Name                   59138 non-null  object \n",
            " 4   Found Location         95485 non-null  object \n",
            " 5   Intake Type            95485 non-null  object \n",
            " 6   Intake Condition       95485 non-null  object \n",
            " 7   Pet Type               95485 non-null  object \n",
            " 8   Sex upon Intake        95484 non-null  object \n",
            " 9   Breed                  95485 non-null  object \n",
            " 10  Color                  95485 non-null  object \n",
            " 11  Age upon Intake Days   95485 non-null  int64  \n",
            " 12  Age upon Outcome Days  95485 non-null  int64  \n",
            "dtypes: float64(1), int64(2), object(10)\n",
            "memory usage: 9.5+ MB\n"
          ]
        }
      ],
      "source": [
        "# Let's see the data types and non-null values for each column\n",
        "df.info()"
      ]
    },
    {
      "cell_type": "code",
      "execution_count": 11,
      "metadata": {
        "colab": {
          "base_uri": "https://localhost:8080/",
          "height": 261
        },
        "id": "N09KEDTh0CKx",
        "outputId": "76c5dc59-09f7-40d5-faba-90fecf882fd3"
      },
      "outputs": [
        {
          "output_type": "execute_result",
          "data": {
            "text/plain": [
              "       Outcome Type  Age upon Intake Days  Age upon Outcome Days\n",
              "count  95485.000000          95485.000000           95485.000000\n",
              "mean       0.564005            703.436959             717.757313\n",
              "std        0.495889           1052.252197            1055.023160\n",
              "min        0.000000              0.000000               0.000000\n",
              "25%        0.000000             30.000000              60.000000\n",
              "50%        1.000000            365.000000             365.000000\n",
              "75%        1.000000            730.000000             730.000000\n",
              "max        1.000000           9125.000000            9125.000000"
            ],
            "text/html": [
              "\n",
              "  <div id=\"df-b320bfef-8f62-48ac-a268-ef316e6f644e\">\n",
              "    <div class=\"colab-df-container\">\n",
              "      <div>\n",
              "<style scoped>\n",
              "    .dataframe tbody tr th:only-of-type {\n",
              "        vertical-align: middle;\n",
              "    }\n",
              "\n",
              "    .dataframe tbody tr th {\n",
              "        vertical-align: top;\n",
              "    }\n",
              "\n",
              "    .dataframe thead th {\n",
              "        text-align: right;\n",
              "    }\n",
              "</style>\n",
              "<table border=\"1\" class=\"dataframe\">\n",
              "  <thead>\n",
              "    <tr style=\"text-align: right;\">\n",
              "      <th></th>\n",
              "      <th>Outcome Type</th>\n",
              "      <th>Age upon Intake Days</th>\n",
              "      <th>Age upon Outcome Days</th>\n",
              "    </tr>\n",
              "  </thead>\n",
              "  <tbody>\n",
              "    <tr>\n",
              "      <th>count</th>\n",
              "      <td>95485.000000</td>\n",
              "      <td>95485.000000</td>\n",
              "      <td>95485.000000</td>\n",
              "    </tr>\n",
              "    <tr>\n",
              "      <th>mean</th>\n",
              "      <td>0.564005</td>\n",
              "      <td>703.436959</td>\n",
              "      <td>717.757313</td>\n",
              "    </tr>\n",
              "    <tr>\n",
              "      <th>std</th>\n",
              "      <td>0.495889</td>\n",
              "      <td>1052.252197</td>\n",
              "      <td>1055.023160</td>\n",
              "    </tr>\n",
              "    <tr>\n",
              "      <th>min</th>\n",
              "      <td>0.000000</td>\n",
              "      <td>0.000000</td>\n",
              "      <td>0.000000</td>\n",
              "    </tr>\n",
              "    <tr>\n",
              "      <th>25%</th>\n",
              "      <td>0.000000</td>\n",
              "      <td>30.000000</td>\n",
              "      <td>60.000000</td>\n",
              "    </tr>\n",
              "    <tr>\n",
              "      <th>50%</th>\n",
              "      <td>1.000000</td>\n",
              "      <td>365.000000</td>\n",
              "      <td>365.000000</td>\n",
              "    </tr>\n",
              "    <tr>\n",
              "      <th>75%</th>\n",
              "      <td>1.000000</td>\n",
              "      <td>730.000000</td>\n",
              "      <td>730.000000</td>\n",
              "    </tr>\n",
              "    <tr>\n",
              "      <th>max</th>\n",
              "      <td>1.000000</td>\n",
              "      <td>9125.000000</td>\n",
              "      <td>9125.000000</td>\n",
              "    </tr>\n",
              "  </tbody>\n",
              "</table>\n",
              "</div>\n",
              "      <button class=\"colab-df-convert\" onclick=\"convertToInteractive('df-b320bfef-8f62-48ac-a268-ef316e6f644e')\"\n",
              "              title=\"Convert this dataframe to an interactive table.\"\n",
              "              style=\"display:none;\">\n",
              "        \n",
              "  <svg xmlns=\"http://www.w3.org/2000/svg\" height=\"24px\"viewBox=\"0 0 24 24\"\n",
              "       width=\"24px\">\n",
              "    <path d=\"M0 0h24v24H0V0z\" fill=\"none\"/>\n",
              "    <path d=\"M18.56 5.44l.94 2.06.94-2.06 2.06-.94-2.06-.94-.94-2.06-.94 2.06-2.06.94zm-11 1L8.5 8.5l.94-2.06 2.06-.94-2.06-.94L8.5 2.5l-.94 2.06-2.06.94zm10 10l.94 2.06.94-2.06 2.06-.94-2.06-.94-.94-2.06-.94 2.06-2.06.94z\"/><path d=\"M17.41 7.96l-1.37-1.37c-.4-.4-.92-.59-1.43-.59-.52 0-1.04.2-1.43.59L10.3 9.45l-7.72 7.72c-.78.78-.78 2.05 0 2.83L4 21.41c.39.39.9.59 1.41.59.51 0 1.02-.2 1.41-.59l7.78-7.78 2.81-2.81c.8-.78.8-2.07 0-2.86zM5.41 20L4 18.59l7.72-7.72 1.47 1.35L5.41 20z\"/>\n",
              "  </svg>\n",
              "      </button>\n",
              "      \n",
              "  <style>\n",
              "    .colab-df-container {\n",
              "      display:flex;\n",
              "      flex-wrap:wrap;\n",
              "      gap: 12px;\n",
              "    }\n",
              "\n",
              "    .colab-df-convert {\n",
              "      background-color: #E8F0FE;\n",
              "      border: none;\n",
              "      border-radius: 50%;\n",
              "      cursor: pointer;\n",
              "      display: none;\n",
              "      fill: #1967D2;\n",
              "      height: 32px;\n",
              "      padding: 0 0 0 0;\n",
              "      width: 32px;\n",
              "    }\n",
              "\n",
              "    .colab-df-convert:hover {\n",
              "      background-color: #E2EBFA;\n",
              "      box-shadow: 0px 1px 2px rgba(60, 64, 67, 0.3), 0px 1px 3px 1px rgba(60, 64, 67, 0.15);\n",
              "      fill: #174EA6;\n",
              "    }\n",
              "\n",
              "    [theme=dark] .colab-df-convert {\n",
              "      background-color: #3B4455;\n",
              "      fill: #D2E3FC;\n",
              "    }\n",
              "\n",
              "    [theme=dark] .colab-df-convert:hover {\n",
              "      background-color: #434B5C;\n",
              "      box-shadow: 0px 1px 3px 1px rgba(0, 0, 0, 0.15);\n",
              "      filter: drop-shadow(0px 1px 2px rgba(0, 0, 0, 0.3));\n",
              "      fill: #FFFFFF;\n",
              "    }\n",
              "  </style>\n",
              "\n",
              "      <script>\n",
              "        const buttonEl =\n",
              "          document.querySelector('#df-b320bfef-8f62-48ac-a268-ef316e6f644e button.colab-df-convert');\n",
              "        buttonEl.style.display =\n",
              "          google.colab.kernel.accessAllowed ? 'block' : 'none';\n",
              "\n",
              "        async function convertToInteractive(key) {\n",
              "          const element = document.querySelector('#df-b320bfef-8f62-48ac-a268-ef316e6f644e');\n",
              "          const dataTable =\n",
              "            await google.colab.kernel.invokeFunction('convertToInteractive',\n",
              "                                                     [key], {});\n",
              "          if (!dataTable) return;\n",
              "\n",
              "          const docLinkHtml = 'Like what you see? Visit the ' +\n",
              "            '<a target=\"_blank\" href=https://colab.research.google.com/notebooks/data_table.ipynb>data table notebook</a>'\n",
              "            + ' to learn more about interactive tables.';\n",
              "          element.innerHTML = '';\n",
              "          dataTable['output_type'] = 'display_data';\n",
              "          await google.colab.output.renderOutput(dataTable, element);\n",
              "          const docLink = document.createElement('div');\n",
              "          docLink.innerHTML = docLinkHtml;\n",
              "          element.appendChild(docLink);\n",
              "        }\n",
              "      </script>\n",
              "    </div>\n",
              "  </div>\n",
              "  "
            ],
            "application/vnd.google.colaboratory.module+javascript": "\n      import \"https://ssl.gstatic.com/colaboratory/data_table/a8bd4d5e58f96183/data_table.js\";\n\n      window.createDataTable({\n        data: [[\"count\",\n{\n            'v': 95485.0,\n            'f': \"95485.0\",\n        },\n{\n            'v': 95485.0,\n            'f': \"95485.0\",\n        },\n{\n            'v': 95485.0,\n            'f': \"95485.0\",\n        }],\n [\"mean\",\n{\n            'v': 0.5640048175106037,\n            'f': \"0.5640048175106037\",\n        },\n{\n            'v': 703.4369586846102,\n            'f': \"703.4369586846102\",\n        },\n{\n            'v': 717.757312666911,\n            'f': \"717.757312666911\",\n        }],\n [\"std\",\n{\n            'v': 0.49588905883417284,\n            'f': \"0.49588905883417284\",\n        },\n{\n            'v': 1052.252196875731,\n            'f': \"1052.252196875731\",\n        },\n{\n            'v': 1055.023159851455,\n            'f': \"1055.023159851455\",\n        }],\n [\"min\",\n{\n            'v': 0.0,\n            'f': \"0.0\",\n        },\n{\n            'v': 0.0,\n            'f': \"0.0\",\n        },\n{\n            'v': 0.0,\n            'f': \"0.0\",\n        }],\n [\"25%\",\n{\n            'v': 0.0,\n            'f': \"0.0\",\n        },\n{\n            'v': 30.0,\n            'f': \"30.0\",\n        },\n{\n            'v': 60.0,\n            'f': \"60.0\",\n        }],\n [\"50%\",\n{\n            'v': 1.0,\n            'f': \"1.0\",\n        },\n{\n            'v': 365.0,\n            'f': \"365.0\",\n        },\n{\n            'v': 365.0,\n            'f': \"365.0\",\n        }],\n [\"75%\",\n{\n            'v': 1.0,\n            'f': \"1.0\",\n        },\n{\n            'v': 730.0,\n            'f': \"730.0\",\n        },\n{\n            'v': 730.0,\n            'f': \"730.0\",\n        }],\n [\"max\",\n{\n            'v': 1.0,\n            'f': \"1.0\",\n        },\n{\n            'v': 9125.0,\n            'f': \"9125.0\",\n        },\n{\n            'v': 9125.0,\n            'f': \"9125.0\",\n        }]],\n        columns: [[\"string\", \"index\"], [\"number\", \"Outcome Type\"], [\"number\", \"Age upon Intake Days\"], [\"number\", \"Age upon Outcome Days\"]],\n        columnOptions: [{\"width\": \"1px\", \"className\": \"index_column\"}],\n        rowsPerPage: 25,\n        helpUrl: \"https://colab.research.google.com/notebooks/data_table.ipynb\",\n        suppressOutputScrolling: true,\n        minimumWidth: undefined,\n      });\n    "
          },
          "metadata": {},
          "execution_count": 11
        }
      ],
      "source": [
        "# This prints basic statistics for numerical columns\n",
        "\n",
        "df.describe()"
      ]
    },
    {
      "cell_type": "markdown",
      "metadata": {
        "id": "dV1W2d1B0CKx"
      },
      "source": [
        "Let's separate model features and model target."
      ]
    },
    {
      "cell_type": "code",
      "execution_count": 12,
      "metadata": {
        "id": "SwoB_JDS0CKy",
        "outputId": "efed59c1-2abc-4310-f77d-0a9fb4556673",
        "colab": {
          "base_uri": "https://localhost:8080/"
        }
      },
      "outputs": [
        {
          "output_type": "stream",
          "name": "stdout",
          "text": [
            "Index(['Pet ID', 'Outcome Type', 'Sex upon Outcome', 'Name', 'Found Location',\n",
            "       'Intake Type', 'Intake Condition', 'Pet Type', 'Sex upon Intake',\n",
            "       'Breed', 'Color', 'Age upon Intake Days', 'Age upon Outcome Days'],\n",
            "      dtype='object')\n"
          ]
        }
      ],
      "source": [
        "print(df.columns)"
      ]
    },
    {
      "cell_type": "code",
      "execution_count": 14,
      "metadata": {
        "colab": {
          "base_uri": "https://localhost:8080/"
        },
        "id": "XIDtPaX10CKy",
        "outputId": "5a510dc0-526b-4624-f281-266a955cca14"
      },
      "outputs": [
        {
          "output_type": "stream",
          "name": "stdout",
          "text": [
            "Model features:  Index(['Pet ID', 'Sex upon Outcome', 'Name', 'Found Location', 'Intake Type',\n",
            "       'Intake Condition', 'Pet Type', 'Sex upon Intake', 'Breed', 'Color',\n",
            "       'Age upon Intake Days', 'Age upon Outcome Days'],\n",
            "      dtype='object')\n",
            "Model target:  Outcome Type\n"
          ]
        }
      ],
      "source": [
        "model_features = df.columns.drop('Outcome Type')\n",
        "model_target = 'Outcome Type'\n",
        "\n",
        "print('Model features: ', model_features)\n",
        "print('Model target: ', model_target)"
      ]
    },
    {
      "cell_type": "markdown",
      "metadata": {
        "id": "msLtPCi20CKz"
      },
      "source": [
        "We can explore the features set further, figuring out first what features are numerical or categorical. Beware that some integer-valued features could actually be categorical features, and some categorical features could be text features. "
      ]
    },
    {
      "cell_type": "code",
      "execution_count": 15,
      "metadata": {
        "colab": {
          "base_uri": "https://localhost:8080/"
        },
        "id": "GeZoAfe80CK0",
        "outputId": "fade5339-af0f-405d-9093-bed4af9fe7c7"
      },
      "outputs": [
        {
          "output_type": "stream",
          "name": "stdout",
          "text": [
            "Numerical columns: Index(['Age upon Intake Days', 'Age upon Outcome Days'], dtype='object')\n",
            "\n",
            "Categorical columns: Index(['Pet ID', 'Sex upon Outcome', 'Name', 'Found Location', 'Intake Type',\n",
            "       'Intake Condition', 'Pet Type', 'Sex upon Intake', 'Breed', 'Color'],\n",
            "      dtype='object')\n"
          ]
        }
      ],
      "source": [
        "import numpy as np\n",
        "numerical_features_all = df[model_features].select_dtypes(include=np.number).columns\n",
        "print('Numerical columns:',numerical_features_all)\n",
        "\n",
        "print('')\n",
        "\n",
        "categorical_features_all = df[model_features].select_dtypes(include='object').columns\n",
        "print('Categorical columns:',categorical_features_all)\n"
      ]
    },
    {
      "cell_type": "markdown",
      "metadata": {
        "id": "xAtk0Tv60CK0"
      },
      "source": [
        "## 3. <a name=\"3\">Basic Plots</a>\n",
        "(<a href=\"#0\">Go to top</a>)\n",
        "\n",
        "In this section, we examine our data with plots. Important note: These plots ignore null (missing) values. We will learn how to deal with missing values in the next section.\n",
        "\n",
        "\n",
        "__Bar plots__: These plots show counts of categorical data fields. __value_counts()__ function yields the counts of each unique value. It is useful for categorical variables.\n",
        "\n",
        "First, let's look at the distribution of the model target."
      ]
    },
    {
      "cell_type": "code",
      "execution_count": 16,
      "metadata": {
        "colab": {
          "base_uri": "https://localhost:8080/"
        },
        "id": "bJSxOKe80CK0",
        "outputId": "5945d259-2283-4f72-8ce8-069e944357dc"
      },
      "outputs": [
        {
          "output_type": "execute_result",
          "data": {
            "text/plain": [
              "1.0    53854\n",
              "0.0    41631\n",
              "Name: Outcome Type, dtype: int64"
            ]
          },
          "metadata": {},
          "execution_count": 16
        }
      ],
      "source": [
        "df[model_target].value_counts()"
      ]
    },
    {
      "cell_type": "markdown",
      "metadata": {
        "id": "Etv2ek-o0CK1"
      },
      "source": [
        "__plot.bar()__ addition to the __value_counts()__ function makes a bar plot of the values."
      ]
    },
    {
      "cell_type": "code",
      "execution_count": 21,
      "metadata": {
        "colab": {
          "base_uri": "https://localhost:8080/",
          "height": 271
        },
        "id": "NOCqjt_Y0CK1",
        "outputId": "669d8280-4c20-418e-d8aa-f83155e2ada2"
      },
      "outputs": [
        {
          "output_type": "display_data",
          "data": {
            "text/plain": [
              "<Figure size 432x288 with 1 Axes>"
            ],
            "image/png": "[encoded data removed]"
          },
          "metadata": {
            "needs_background": "light"
          }
        }
      ],
      "source": [
        "import matplotlib.pyplot as plt\n",
        "%matplotlib inline\n",
        "\n",
        "df[model_target].value_counts().plot.bar()\n",
        "plt.show()"
      ]
    },
    {
      "cell_type": "markdown",
      "metadata": {
        "id": "2uGnkBnn0CK1"
      },
      "source": [
        "Now onto the categorical features, exploring number of unique values per feature."
      ]
    },
    {
      "cell_type": "code",
      "execution_count": 22,
      "metadata": {
        "colab": {
          "base_uri": "https://localhost:8080/"
        },
        "id": "AnMKCUIl0CK2",
        "outputId": "c9e08eee-97e1-41ec-8d69-6cf8df81df49"
      },
      "outputs": [
        {
          "output_type": "stream",
          "name": "stdout",
          "text": [
            "A794011    1\n",
            "A666713    1\n",
            "A725018    1\n",
            "A757574    1\n",
            "A737442    1\n",
            "          ..\n",
            "A758938    1\n",
            "A779434    1\n",
            "A699290    1\n",
            "A779183    1\n",
            "A815419    1\n",
            "Name: Pet ID, Length: 95485, dtype: int64\n",
            "Neutered Male    30244\n",
            "Spayed Female    28145\n",
            "Intact Female    13724\n",
            "Intact Male      13646\n",
            "Unknown           9725\n",
            "Name: Sex upon Outcome, dtype: int64\n",
            "Bella          338\n",
            "Luna           313\n",
            "Max            311\n",
            "Daisy          239\n",
            "Lucy           223\n",
            "              ... \n",
            "Ewok             1\n",
            "*Clouseau        1\n",
            "*Minky           1\n",
            "Tigger Lily      1\n",
            "*Squanchy        1\n",
            "Name: Name, Length: 17468, dtype: int64\n",
            "Austin (TX)                                  14833\n",
            "Travis (TX)                                   1402\n",
            "7201 Levander Loop in Austin (TX)              644\n",
            "Outside Jurisdiction                           607\n",
            "Del Valle (TX)                                 426\n",
            "                                             ...  \n",
            "Cherry Creek On  Brodie Ln in Austin (TX)        1\n",
            "Cameron Rd At Parmer Ln in Austin (TX)           1\n",
            "303 W. Mlk in Austin (TX)                        1\n",
            "131 Totvia  Drive in Bastrop (TX)                1\n",
            "1311 Hyman in Austin (TX)                        1\n",
            "Name: Found Location, Length: 43951, dtype: int64\n",
            "Stray                 70203\n",
            "Owner Surrender       15146\n",
            "Public Assist          5236\n",
            "Wildlife               4554\n",
            "Euthanasia Request      235\n",
            "Abandoned               111\n",
            "Name: Intake Type, dtype: int64\n",
            "Normal      81912\n",
            "Injured      5386\n",
            "Sick         4291\n",
            "Nursing      3172\n",
            "Aged          352\n",
            "Other         189\n",
            "Feral          97\n",
            "Pregnant       63\n",
            "Medical        21\n",
            "Behavior        2\n",
            "Name: Intake Condition, dtype: int64\n",
            "Dog          48719\n",
            "Cat          40082\n",
            "Other         6115\n",
            "Bird           553\n",
            "Livestock       16\n",
            "Name: Pet Type, dtype: int64\n",
            "Intact Male      33369\n",
            "Intact Female    32515\n",
            "Neutered Male    10521\n",
            "Unknown           9725\n",
            "Spayed Female     9354\n",
            "Name: Sex upon Intake, dtype: int64\n",
            "Domestic Shorthair Mix                    27689\n",
            "Domestic Shorthair                         5076\n",
            "Pit Bull Mix                               5017\n",
            "Chihuahua Shorthair Mix                    4963\n",
            "Labrador Retriever Mix                     4789\n",
            "                                          ...  \n",
            "Carolina Dog/Border Collie                    1\n",
            "Swedish Vallhund                              1\n",
            "Plott Hound/Dachshund                         1\n",
            "Miniature Schnauzer/Labrador Retriever        1\n",
            "Airedale Terrier/Standard Poodle              1\n",
            "Name: Breed, Length: 2395, dtype: int64\n",
            "Black/White                9688\n",
            "Black                      8528\n",
            "Brown Tabby                6077\n",
            "Brown                      4440\n",
            "White                      3312\n",
            "                           ... \n",
            "Chocolate/Gold                1\n",
            "Torbie/Calico                 1\n",
            "Yellow/Red                    1\n",
            "Orange/Gray                   1\n",
            "Tortie Point/Seal Point       1\n",
            "Name: Color, Length: 567, dtype: int64\n"
          ]
        }
      ],
      "source": [
        "for c in categorical_features_all: \n",
        "    print(df[c].value_counts())\n",
        "    "
      ]
    },
    {
      "cell_type": "markdown",
      "metadata": {
        "id": "fc6ofBFy0CK2"
      },
      "source": [
        "Based on the number of unique values (unique IDs for example won't be very useful to visualize, for example), for some categorical features, let's see some bar plot visualizations. For simplicity and speed, here we only show box plots for those features with less than 50 unique values."
      ]
    },
    {
      "cell_type": "code",
      "execution_count": null,
      "metadata": {
        "colab": {
          "base_uri": "https://localhost:8080/",
          "height": 1000
        },
        "id": "puJ3cjdB0CK2",
        "outputId": "35b0f0c1-45e7-4b0f-ac5f-739d255afc10"
      },
      "outputs": [
        {
          "output_type": "stream",
          "name": "stdout",
          "text": [
            "Sex upon Outcome\n"
          ]
        },
        {
          "output_type": "display_data",
          "data": {
            "text/plain": [
              "<Figure size 432x288 with 1 Axes>"
            ],
            "image/png": "[encoded data removed]"
          },
          "metadata": {
            "needs_background": "light"
          }
        },
        {
          "output_type": "stream",
          "name": "stdout",
          "text": [
            "Intake Type\n"
          ]
        },
        {
          "output_type": "display_data",
          "data": {
            "text/plain": [
              "<Figure size 432x288 with 1 Axes>"
            ],
            "image/png": "[encoded data removed]"
          },
          "metadata": {
            "needs_background": "light"
          }
        },
        {
          "output_type": "stream",
          "name": "stdout",
          "text": [
            "Intake Condition\n"
          ]
        },
        {
          "output_type": "display_data",
          "data": {
            "text/plain": [
              "<Figure size 432x288 with 1 Axes>"
            ],
            "image/png": "[encoded data removed]"
          },
          "metadata": {
            "needs_background": "light"
          }
        },
        {
          "output_type": "stream",
          "name": "stdout",
          "text": [
            "Pet Type\n"
          ]
        },
        {
          "output_type": "display_data",
          "data": {
            "text/plain": [
              "<Figure size 432x288 with 1 Axes>"
            ],
            "image/png": "[encoded data removed]"
          },
          "metadata": {
            "needs_background": "light"
          }
        },
        {
          "output_type": "stream",
          "name": "stdout",
          "text": [
            "Sex upon Intake\n"
          ]
        },
        {
          "output_type": "display_data",
          "data": {
            "text/plain": [
              "<Figure size 432x288 with 1 Axes>"
            ],
            "image/png": "[encoded data removed]"
          },
          "metadata": {
            "needs_background": "light"
          }
        }
      ],
      "source": [
        "import matplotlib.pyplot as plt\n",
        "%matplotlib inline\n",
        "\n",
        "for c in categorical_features_all:\n",
        "    if len(df[c].value_counts()) < 50:\n",
        "        print(c)\n",
        "        df[c].value_counts().plot.bar()\n",
        "        plt.show()"
      ]
    },
    {
      "cell_type": "markdown",
      "metadata": {
        "id": "ghaVeAOC0CK2"
      },
      "source": [
        "__Histograms:__ Histograms show distribution of numeric data. Data is divided into \"buckets\" or \"bins\"."
      ]
    },
    {
      "cell_type": "code",
      "execution_count": null,
      "metadata": {
        "id": "mQCXWpxC0CK3",
        "outputId": "1935a502-24a2-4044-85a2-2797e145524d"
      },
      "outputs": [
        {
          "name": "stdout",
          "output_type": "stream",
          "text": [
            "Age upon Intake Days\n"
          ]
        },
        {
          "data": {
            "image/png": "[encoded data removed]",
            "text/plain": [
              "<Figure size 432x288 with 1 Axes>"
            ]
          },
          "metadata": {
            "needs_background": "light"
          },
          "output_type": "display_data"
        },
        {
          "name": "stdout",
          "output_type": "stream",
          "text": [
            "Age upon Outcome Days\n"
          ]
        },
        {
          "data": {
            "image/png": "[encoded data removed]",
            "text/plain": [
              "<Figure size 432x288 with 1 Axes>"
            ]
          },
          "metadata": {
            "needs_background": "light"
          },
          "output_type": "display_data"
        }
      ],
      "source": [
        "import matplotlib.pyplot as plt\n",
        "%matplotlib inline\n",
        "\n",
        "for c in numerical_features_all:\n",
        "    print(c)\n",
        "    df[c].plot.hist(bins=5)\n",
        "    plt.show()"
      ]
    },
    {
      "cell_type": "markdown",
      "metadata": {
        "id": "jTNXqeo00CK3"
      },
      "source": [
        "If for some histograms the values are heavily placed in the first bin, it is good to check for outliers, either checking the min-max values of those particular features and/or explore value ranges."
      ]
    },
    {
      "cell_type": "code",
      "execution_count": 23,
      "metadata": {
        "colab": {
          "base_uri": "https://localhost:8080/"
        },
        "id": "EyrYDt6O0CK3",
        "outputId": "3fb55b50-e887-4643-c972-176d7f4b9f05"
      },
      "outputs": [
        {
          "output_type": "stream",
          "name": "stdout",
          "text": [
            "Age upon Intake Days\n",
            "min: 0 max: 9125\n",
            "Age upon Outcome Days\n",
            "min: 0 max: 9125\n"
          ]
        }
      ],
      "source": [
        "for c in numerical_features_all:\n",
        "    print(c)\n",
        "    print('min:', df[c].min(), 'max:', df[c].max())"
      ]
    },
    {
      "cell_type": "markdown",
      "metadata": {
        "id": "XZmHYjn40CK3"
      },
      "source": [
        "With __value_counts()__ function, we can increase the number of histogram bins to 10 for more bins for a more refined view of the numerical features."
      ]
    },
    {
      "cell_type": "code",
      "execution_count": 24,
      "metadata": {
        "colab": {
          "base_uri": "https://localhost:8080/"
        },
        "id": "Myz4cfl10CK3",
        "outputId": "832d51f4-44eb-4dcd-b95f-f652d4001480"
      },
      "outputs": [
        {
          "output_type": "stream",
          "name": "stdout",
          "text": [
            "Age upon Intake Days\n",
            "(-9.126, 912.5]     74835\n",
            "(912.5, 1825.0]     10647\n",
            "(1825.0, 2737.5]     3471\n",
            "(2737.5, 3650.0]     3998\n",
            "(3650.0, 4562.5]     1234\n",
            "(4562.5, 5475.0]     1031\n",
            "(5475.0, 6387.5]      183\n",
            "(6387.5, 7300.0]       79\n",
            "(7300.0, 8212.5]        5\n",
            "(8212.5, 9125.0]        2\n",
            "Name: Age upon Intake Days, dtype: int64\n",
            "Age upon Outcome Days\n",
            "(-9.126, 912.5]     74642\n",
            "(912.5, 1825.0]     10699\n",
            "(1825.0, 2737.5]     3465\n",
            "(2737.5, 3650.0]     4080\n",
            "(3650.0, 4562.5]     1263\n",
            "(4562.5, 5475.0]     1061\n",
            "(5475.0, 6387.5]      187\n",
            "(6387.5, 7300.0]       81\n",
            "(7300.0, 8212.5]        5\n",
            "(8212.5, 9125.0]        2\n",
            "Name: Age upon Outcome Days, dtype: int64\n"
          ]
        }
      ],
      "source": [
        "for c in numerical_features_all: \n",
        "    print(c)\n",
        "    print(df[c].value_counts(bins=10, sort=False))\n",
        "    plt.show()"
      ]
    },
    {
      "cell_type": "markdown",
      "metadata": {
        "id": "QBFzduMG0CK3"
      },
      "source": [
        "If any outliers are identified as very likely wrong values, dropping them could improve the numerical values histograms, and later overall model performance. While a good rule of thumb is that anything not in the range of (Q1 - 1.5 IQR) and (Q3 + 1.5 IQR) is an outlier, other rules for removing 'outliers' should be considered as well. For example, removing any values in the upper 1%. "
      ]
    },
    {
      "cell_type": "code",
      "execution_count": 25,
      "metadata": {
        "colab": {
          "base_uri": "https://localhost:8080/"
        },
        "id": "80T3aPQq0CK4",
        "outputId": "d7e602a8-7bac-4036-fad7-0dfeb6cafad3"
      },
      "outputs": [
        {
          "output_type": "stream",
          "name": "stdout",
          "text": [
            "Age upon Intake Days\n",
            "Age upon Outcome Days\n"
          ]
        }
      ],
      "source": [
        "for c in numerical_features_all:\n",
        "    print(c)\n",
        "    \n",
        "    # Drop values below Q1 - 1.5 IQR and beyond Q3 + 1.5 IQR\n",
        "    #Q1 = df[c].quantile(0.25)\n",
        "    #Q3 = df[c].quantile(0.75)\n",
        "    #IQR = Q3 - Q1\n",
        "    #print (Q1 - 1.5*IQR, Q3 + 1.5*IQR)\n",
        "    \n",
        "    #dropIndexes = df[df[c] > Q3 + 1.5*IQR].index\n",
        "    #df.drop(dropIndexes , inplace=True)\n",
        "    #dropIndexes = df[df[c] < Q1 - 1.5*IQR].index\n",
        "    #df.drop(dropIndexes , inplace=True)\n",
        "    \n",
        "    # Drop values beyond 90% of max()\n",
        "    dropIndexes = df[df[c] > df[c].max()*9/10].index\n",
        "    df.drop(dropIndexes , inplace=True)\n"
      ]
    },
    {
      "cell_type": "code",
      "execution_count": 27,
      "metadata": {
        "id": "zBhOKYbW0CK4",
        "outputId": "d1c8cbae-48ba-4f45-8746-eaa744460531",
        "colab": {
          "base_uri": "https://localhost:8080/"
        }
      },
      "outputs": [
        {
          "output_type": "stream",
          "name": "stdout",
          "text": [
            "Age upon Intake Days\n",
            "(-6.936, 693.5]     61425\n",
            "(693.5, 1387.0]     18400\n",
            "(1387.0, 2080.5]     5657\n",
            "(2080.5, 2774.0]     3471\n",
            "(2774.0, 3467.5]     2557\n",
            "(3467.5, 4161.0]     1962\n",
            "(4161.0, 4854.5]     1148\n",
            "(4854.5, 5548.0]      596\n",
            "(5548.0, 6241.5]      183\n",
            "(6241.5, 6935.0]       63\n",
            "Name: Age upon Intake Days, dtype: int64\n",
            "Age upon Outcome Days\n",
            "(-6.936, 693.5]     61208\n",
            "(693.5, 1387.0]     18490\n",
            "(1387.0, 2080.5]     5643\n",
            "(2080.5, 2774.0]     3465\n",
            "(2774.0, 3467.5]     2600\n",
            "(3467.5, 4161.0]     2004\n",
            "(4161.0, 4854.5]     1196\n",
            "(4854.5, 5548.0]      604\n",
            "(5548.0, 6241.5]      187\n",
            "(6241.5, 6935.0]       65\n",
            "Name: Age upon Outcome Days, dtype: int64\n"
          ]
        }
      ],
      "source": [
        "for c in numerical_features_all:\n",
        "    print(c)\n",
        "    print(df[c].value_counts(bins=10, sort=False))\n",
        "    plt.show()"
      ]
    },
    {
      "cell_type": "markdown",
      "metadata": {
        "id": "5G_3t6WZ0CK4"
      },
      "source": [
        "Let's see the histograms again, with more bins for vizibility."
      ]
    },
    {
      "cell_type": "code",
      "execution_count": 28,
      "metadata": {
        "colab": {
          "base_uri": "https://localhost:8080/",
          "height": 549
        },
        "id": "qywCqknQ0CK4",
        "outputId": "8bdaafeb-697a-49fa-aaae-54b46d8bd02d"
      },
      "outputs": [
        {
          "output_type": "stream",
          "name": "stdout",
          "text": [
            "Age upon Intake Days\n"
          ]
        },
        {
          "output_type": "display_data",
          "data": {
            "text/plain": [
              "<Figure size 432x288 with 1 Axes>"
            ],
            "image/png": "[encoded data removed]"
          },
          "metadata": {
            "needs_background": "light"
          }
        },
        {
          "output_type": "stream",
          "name": "stdout",
          "text": [
            "Age upon Outcome Days\n"
          ]
        },
        {
          "output_type": "display_data",
          "data": {
            "text/plain": [
              "<Figure size 432x288 with 1 Axes>"
            ],
            "image/png": "[encoded data removed]"
          },
          "metadata": {
            "needs_background": "light"
          }
        }
      ],
      "source": [
        "for c in numerical_features_all:\n",
        "    print(c)\n",
        "    df[c].plot.hist(bins=100)\n",
        "    plt.show()"
      ]
    },
    {
      "cell_type": "markdown",
      "metadata": {
        "id": "0w3PZv700CK4"
      },
      "source": [
        "## 4. <a name=\"4\">Scatter Plots and Correlation</a>\n",
        "(<a href=\"#0\">Go to top</a>)\n",
        "\n",
        "### Scatter plot\n",
        "Scatter plots are simple 2D plots of two numerical variables that can be used to examine the relationship between two variables. "
      ]
    },
    {
      "cell_type": "code",
      "execution_count": null,
      "metadata": {
        "colab": {
          "base_uri": "https://localhost:8080/",
          "height": 1000
        },
        "id": "WJZgagPW0CK5",
        "outputId": "a24b7739-6a86-40b8-ddce-4385f32f514c"
      },
      "outputs": [
        {
          "output_type": "display_data",
          "data": {
            "text/plain": [
              "<Figure size 1152x1152 with 4 Axes>"
            ],
            "image/png": "[encoded data removed]"
          },
          "metadata": {
            "needs_background": "light"
          }
        }
      ],
      "source": [
        "%matplotlib inline\n",
        "import matplotlib.pyplot as plt\n",
        "\n",
        "fig, axes = plt.subplots(len(numerical_features_all), len(numerical_features_all), figsize=(16, 16), sharex=False, sharey=False)\n",
        "for i in range(0,len(numerical_features_all)):\n",
        "    for j in range(0,len(numerical_features_all)):\n",
        "        axes[i,j].scatter(x = df[numerical_features_all[i]], y = df[numerical_features_all[j]])\n",
        "fig.tight_layout()"
      ]
    },
    {
      "cell_type": "markdown",
      "metadata": {
        "id": "I-aN76F20CK5"
      },
      "source": [
        "### Scatterplot with Identification\n",
        "\n",
        "We can also add the target values, 0 or 1, to our scatter plot."
      ]
    },
    {
      "cell_type": "code",
      "execution_count": null,
      "metadata": {
        "colab": {
          "base_uri": "https://localhost:8080/",
          "height": 279
        },
        "id": "sNij9xAT0CK5",
        "outputId": "abdc82ab-e20b-435c-d800-42953704d9af"
      },
      "outputs": [
        {
          "output_type": "display_data",
          "data": {
            "text/plain": [
              "<Figure size 432x288 with 1 Axes>"
            ],
            "image/png": "[encoded data removed]"
          },
          "metadata": {
            "needs_background": "light"
          }
        }
      ],
      "source": [
        "import seaborn as sns\n",
        "\n",
        "X1 = df[[numerical_features_all[0], numerical_features_all[1]]][df[model_target] == 0]\n",
        "X2 = df[[numerical_features_all[0], numerical_features_all[1]]][df[model_target] == 1]\n",
        "\n",
        "plt.scatter(X1.iloc[:,0], \n",
        "            X1.iloc[:,1], \n",
        "            s=50, \n",
        "            c='blue', \n",
        "            marker='o', \n",
        "            label='0')\n",
        "\n",
        "plt.scatter(X2.iloc[:,0], \n",
        "            X2.iloc[:,1], \n",
        "            s=50, \n",
        "            c='red', \n",
        "            marker='v', \n",
        "            label='1')\n",
        "\n",
        "plt.xlabel(numerical_features_all[0])\n",
        "plt.ylabel(numerical_features_all[1])\n",
        "plt.legend()\n",
        "plt.grid()\n",
        "plt.show()"
      ]
    },
    {
      "cell_type": "markdown",
      "metadata": {
        "id": "B7Faj6zk0CK5"
      },
      "source": [
        "Scatterplots with identification, can sometimes help identify whether or not we can get good separation between the data points, based on these two numerical features alone. "
      ]
    },
    {
      "cell_type": "markdown",
      "metadata": {
        "id": "RWELGHgl0CK5"
      },
      "source": [
        "### Correlation Matrix Heatmat\n",
        "We plot the correlation matrix. Correlation scores are calculated for numerical fields. "
      ]
    },
    {
      "cell_type": "code",
      "execution_count": null,
      "metadata": {
        "colab": {
          "base_uri": "https://localhost:8080/",
          "height": 112
        },
        "id": "eewRUIGm0CK5",
        "outputId": "47102908-cdad-439a-fc28-1d4363dd9864"
      },
      "outputs": [
        {
          "output_type": "execute_result",
          "data": {
            "text/plain": [
              "<pandas.io.formats.style.Styler at 0x7ff6c0ff6090>"
            ],
            "text/html": [
              "<style type=\"text/css\">\n",
              "#T_9f146_row0_col0, #T_9f146_row1_col1 {\n",
              "  background-color: #d9d9d9;\n",
              "  color: #000000;\n",
              "}\n",
              "#T_9f146_row0_col1, #T_9f146_row1_col0 {\n",
              "  background-color: #3182bd;\n",
              "  color: #f1f1f1;\n",
              "}\n",
              "</style>\n",
              "<table id=\"T_9f146_\" class=\"dataframe\">\n",
              "  <thead>\n",
              "    <tr>\n",
              "      <th class=\"blank level0\" >&nbsp;</th>\n",
              "      <th class=\"col_heading level0 col0\" >Age upon Intake Days</th>\n",
              "      <th class=\"col_heading level0 col1\" >Age upon Outcome Days</th>\n",
              "    </tr>\n",
              "  </thead>\n",
              "  <tbody>\n",
              "    <tr>\n",
              "      <th id=\"T_9f146_level0_row0\" class=\"row_heading level0 row0\" >Age upon Intake Days</th>\n",
              "      <td id=\"T_9f146_row0_col0\" class=\"data row0 col0\" >1.000000</td>\n",
              "      <td id=\"T_9f146_row0_col1\" class=\"data row0 col1\" >0.998839</td>\n",
              "    </tr>\n",
              "    <tr>\n",
              "      <th id=\"T_9f146_level0_row1\" class=\"row_heading level0 row1\" >Age upon Outcome Days</th>\n",
              "      <td id=\"T_9f146_row1_col0\" class=\"data row1 col0\" >0.998839</td>\n",
              "      <td id=\"T_9f146_row1_col1\" class=\"data row1 col1\" >1.000000</td>\n",
              "    </tr>\n",
              "  </tbody>\n",
              "</table>\n"
            ]
          },
          "metadata": {},
          "execution_count": 30
        }
      ],
      "source": [
        "cols=[numerical_features_all[0], numerical_features_all[1]]\n",
        "#print(df[cols].corr())\n",
        "df[cols].corr().style.background_gradient(cmap='tab20c')"
      ]
    },
    {
      "cell_type": "markdown",
      "metadata": {
        "id": "7l0OkStV0CK6"
      },
      "source": [
        "Similar to scatterplots, but now the correlation matrix values can more clearly pinpoint relationships between the numerical features. Correlation values of -1 means perfect negative correlation, 1 means perfect positive correlation, and 0 means there is no relationship between the two numerical features."
      ]
    },
    {
      "cell_type": "markdown",
      "metadata": {
        "id": "nt88gI4h0CK6"
      },
      "source": [
        "### A fancy example using Seaborn"
      ]
    },
    {
      "cell_type": "code",
      "execution_count": null,
      "metadata": {
        "colab": {
          "base_uri": "https://localhost:8080/",
          "height": 558
        },
        "id": "tRxrwTYo0CK6",
        "outputId": "11eb4c9f-63be-4898-cc2d-c1f31a394f35"
      },
      "outputs": [
        {
          "output_type": "execute_result",
          "data": {
            "text/plain": [
              "<matplotlib.axes._subplots.AxesSubplot at 0x7ff6b0ad2a50>"
            ]
          },
          "metadata": {},
          "execution_count": 31
        },
        {
          "output_type": "display_data",
          "data": {
            "text/plain": [
              "<Figure size 792x648 with 2 Axes>"
            ],
            "image/png": "[encoded data removed]"
          },
          "metadata": {}
        }
      ],
      "source": [
        "from string import ascii_letters\n",
        "import numpy as np\n",
        "import pandas as pd\n",
        "import seaborn as sns\n",
        "import matplotlib.pyplot as plt\n",
        "\n",
        "sns.set(style=\"white\")\n",
        "\n",
        "# Generate a large random dataset\n",
        "rs = np.random.RandomState(33)\n",
        "d = pd.DataFrame(data=rs.normal(size=(100, 26)),\n",
        "                 columns=list(ascii_letters[26:]))\n",
        "\n",
        "# Compute the correlation matrix\n",
        "corr = d.corr()\n",
        "\n",
        "# Generate a mask for the upper triangle\n",
        "mask = np.triu(np.ones_like(corr, dtype=np.bool))\n",
        "\n",
        "# Set up the matplotlib figure\n",
        "f, ax = plt.subplots(figsize=(11, 9))\n",
        "\n",
        "# Generate a custom diverging colormap\n",
        "cmap = sns.diverging_palette(220, 10, as_cmap=True)\n",
        "\n",
        "# Draw the heatmap with the mask and correct aspect ratio\n",
        "sns.heatmap(corr, mask=mask, cmap=cmap, vmax=.3, center=0,\n",
        "            square=True, linewidths=.5, cbar_kws={\"shrink\": .5})"
      ]
    },
    {
      "cell_type": "markdown",
      "metadata": {
        "id": "4IzKwIaH0CK6"
      },
      "source": [
        "Also, more exploratory data analysis might reveal other important hidden atributes and/or relationships of the model features considered. "
      ]
    },
    {
      "cell_type": "markdown",
      "metadata": {
        "id": "mNd6uAFo0CK6"
      },
      "source": [
        "## 5. <a name=\"5\">Handling Missing Values</a>\n",
        "(<a href=\"#0\">Go to top</a>)\n",
        "\n",
        "  * <a href=\"#51\">Drop columns with missing values</a>\n",
        "  * <a href=\"#52\">Drop rows with missing values</a>\n",
        "  * <a href=\"#53\"> Impute (fill-in) missing values with .fillna()</a>\n",
        "  * <a href=\"#54\"> Impute (fill-in) missing values with sklearn's SimpleImputer</a>\n",
        "\n",
        "Let's first check the number of missing (nan) values for each column."
      ]
    },
    {
      "cell_type": "code",
      "execution_count": null,
      "metadata": {
        "colab": {
          "base_uri": "https://localhost:8080/"
        },
        "id": "fIyTOlY90CK6",
        "outputId": "6be32244-a850-4740-d022-3717643634bb"
      },
      "outputs": [
        {
          "output_type": "execute_result",
          "data": {
            "text/plain": [
              "Pet ID                       0\n",
              "Outcome Type                 0\n",
              "Sex upon Outcome             1\n",
              "Name                     36343\n",
              "Found Location               0\n",
              "Intake Type                  0\n",
              "Intake Condition             0\n",
              "Pet Type                     0\n",
              "Sex upon Intake              1\n",
              "Breed                        0\n",
              "Color                        0\n",
              "Age upon Intake Days         0\n",
              "Age upon Outcome Days        0\n",
              "dtype: int64"
            ]
          },
          "metadata": {},
          "execution_count": 20
        }
      ],
      "source": [
        "df.isna().sum()"
      ]
    },
    {
      "cell_type": "markdown",
      "metadata": {
        "id": "RQHlGZly0CK6"
      },
      "source": [
        "Let's explore a few options dealing with missing values, when there are values missing on many features, both numerical and categorical types. "
      ]
    },
    {
      "cell_type": "markdown",
      "metadata": {
        "id": "fbjrLBIh0CK7"
      },
      "source": [
        "### <a name=\"51\">Drop columns with missing values</a>\n",
        "(<a href=\"#5\">Go to Handling Missing Values</a>)\n",
        "\n",
        "We can drop some feautures/columns if we think there is significant amount of missing data in those features. Here we \n",
        "are dropping features having more than 20% missing values.\n",
        "\n",
        "__Hint:__ You can also use __inplace=True__ parameter to drop features inplace without assignment.\n"
      ]
    },
    {
      "cell_type": "code",
      "execution_count": null,
      "metadata": {
        "colab": {
          "base_uri": "https://localhost:8080/",
          "height": 621
        },
        "id": "INgaUE-50CK7",
        "outputId": "789eb681-1f1c-44f7-ac9b-f60f80cbdd26"
      },
      "outputs": [
        {
          "output_type": "stream",
          "name": "stdout",
          "text": [
            "Pet ID                   0.000000\n",
            "Outcome Type             0.000000\n",
            "Sex upon Outcome         0.000010\n",
            "Name                     0.380706\n",
            "Found Location           0.000000\n",
            "Intake Type              0.000000\n",
            "Intake Condition         0.000000\n",
            "Pet Type                 0.000000\n",
            "Sex upon Intake          0.000010\n",
            "Breed                    0.000000\n",
            "Color                    0.000000\n",
            "Age upon Intake Days     0.000000\n",
            "Age upon Outcome Days    0.000000\n",
            "dtype: float64\n",
            "Index(['Name'], dtype='object')\n"
          ]
        },
        {
          "output_type": "execute_result",
          "data": {
            "text/plain": [
              "    Pet ID  Outcome Type Sex upon Outcome  \\\n",
              "0  A794011           1.0    Neutered Male   \n",
              "1  A776359           1.0    Neutered Male   \n",
              "2  A674754           0.0      Intact Male   \n",
              "3  A689724           1.0    Neutered Male   \n",
              "4  A680969           1.0    Neutered Male   \n",
              "\n",
              "                        Found Location      Intake Type Intake Condition  \\\n",
              "0                          Austin (TX)  Owner Surrender           Normal   \n",
              "1    7201 Levander Loop in Austin (TX)            Stray           Normal   \n",
              "2        12034 Research in Austin (TX)            Stray          Nursing   \n",
              "3     2300 Waterway Bnd in Austin (TX)            Stray           Normal   \n",
              "4  4701 Staggerbrush Rd in Austin (TX)            Stray          Nursing   \n",
              "\n",
              "  Pet Type Sex upon Intake                    Breed               Color  \\\n",
              "0      Cat   Neutered Male   Domestic Shorthair Mix   Brown Tabby/White   \n",
              "1      Dog     Intact Male  Chihuahua Shorthair Mix         White/Brown   \n",
              "2      Cat     Intact Male   Domestic Shorthair Mix        Orange Tabby   \n",
              "3      Cat     Intact Male   Domestic Shorthair Mix               Black   \n",
              "4      Cat     Intact Male   Domestic Shorthair Mix  White/Orange Tabby   \n",
              "\n",
              "   Age upon Intake Days  Age upon Outcome Days  \n",
              "0                   730                    730  \n",
              "1                   365                    365  \n",
              "2                     6                      6  \n",
              "3                    60                     60  \n",
              "4                     7                     60  "
            ],
            "text/html": [
              "\n",
              "  <div id=\"df-cdb70f0e-ede4-4dcd-9dd4-b65781468781\">\n",
              "    <div class=\"colab-df-container\">\n",
              "      <div>\n",
              "<style scoped>\n",
              "    .dataframe tbody tr th:only-of-type {\n",
              "        vertical-align: middle;\n",
              "    }\n",
              "\n",
              "    .dataframe tbody tr th {\n",
              "        vertical-align: top;\n",
              "    }\n",
              "\n",
              "    .dataframe thead th {\n",
              "        text-align: right;\n",
              "    }\n",
              "</style>\n",
              "<table border=\"1\" class=\"dataframe\">\n",
              "  <thead>\n",
              "    <tr style=\"text-align: right;\">\n",
              "      <th></th>\n",
              "      <th>Pet ID</th>\n",
              "      <th>Outcome Type</th>\n",
              "      <th>Sex upon Outcome</th>\n",
              "      <th>Found Location</th>\n",
              "      <th>Intake Type</th>\n",
              "      <th>Intake Condition</th>\n",
              "      <th>Pet Type</th>\n",
              "      <th>Sex upon Intake</th>\n",
              "      <th>Breed</th>\n",
              "      <th>Color</th>\n",
              "      <th>Age upon Intake Days</th>\n",
              "      <th>Age upon Outcome Days</th>\n",
              "    </tr>\n",
              "  </thead>\n",
              "  <tbody>\n",
              "    <tr>\n",
              "      <th>0</th>\n",
              "      <td>A794011</td>\n",
              "      <td>1.0</td>\n",
              "      <td>Neutered Male</td>\n",
              "      <td>Austin (TX)</td>\n",
              "      <td>Owner Surrender</td>\n",
              "      <td>Normal</td>\n",
              "      <td>Cat</td>\n",
              "      <td>Neutered Male</td>\n",
              "      <td>Domestic Shorthair Mix</td>\n",
              "      <td>Brown Tabby/White</td>\n",
              "      <td>730</td>\n",
              "      <td>730</td>\n",
              "    </tr>\n",
              "    <tr>\n",
              "      <th>1</th>\n",
              "      <td>A776359</td>\n",
              "      <td>1.0</td>\n",
              "      <td>Neutered Male</td>\n",
              "      <td>7201 Levander Loop in Austin (TX)</td>\n",
              "      <td>Stray</td>\n",
              "      <td>Normal</td>\n",
              "      <td>Dog</td>\n",
              "      <td>Intact Male</td>\n",
              "      <td>Chihuahua Shorthair Mix</td>\n",
              "      <td>White/Brown</td>\n",
              "      <td>365</td>\n",
              "      <td>365</td>\n",
              "    </tr>\n",
              "    <tr>\n",
              "      <th>2</th>\n",
              "      <td>A674754</td>\n",
              "      <td>0.0</td>\n",
              "      <td>Intact Male</td>\n",
              "      <td>12034 Research in Austin (TX)</td>\n",
              "      <td>Stray</td>\n",
              "      <td>Nursing</td>\n",
              "      <td>Cat</td>\n",
              "      <td>Intact Male</td>\n",
              "      <td>Domestic Shorthair Mix</td>\n",
              "      <td>Orange Tabby</td>\n",
              "      <td>6</td>\n",
              "      <td>6</td>\n",
              "    </tr>\n",
              "    <tr>\n",
              "      <th>3</th>\n",
              "      <td>A689724</td>\n",
              "      <td>1.0</td>\n",
              "      <td>Neutered Male</td>\n",
              "      <td>2300 Waterway Bnd in Austin (TX)</td>\n",
              "      <td>Stray</td>\n",
              "      <td>Normal</td>\n",
              "      <td>Cat</td>\n",
              "      <td>Intact Male</td>\n",
              "      <td>Domestic Shorthair Mix</td>\n",
              "      <td>Black</td>\n",
              "      <td>60</td>\n",
              "      <td>60</td>\n",
              "    </tr>\n",
              "    <tr>\n",
              "      <th>4</th>\n",
              "      <td>A680969</td>\n",
              "      <td>1.0</td>\n",
              "      <td>Neutered Male</td>\n",
              "      <td>4701 Staggerbrush Rd in Austin (TX)</td>\n",
              "      <td>Stray</td>\n",
              "      <td>Nursing</td>\n",
              "      <td>Cat</td>\n",
              "      <td>Intact Male</td>\n",
              "      <td>Domestic Shorthair Mix</td>\n",
              "      <td>White/Orange Tabby</td>\n",
              "      <td>7</td>\n",
              "      <td>60</td>\n",
              "    </tr>\n",
              "  </tbody>\n",
              "</table>\n",
              "</div>\n",
              "      <button class=\"colab-df-convert\" onclick=\"convertToInteractive('df-cdb70f0e-ede4-4dcd-9dd4-b65781468781')\"\n",
              "              title=\"Convert this dataframe to an interactive table.\"\n",
              "              style=\"display:none;\">\n",
              "        \n",
              "  <svg xmlns=\"http://www.w3.org/2000/svg\" height=\"24px\"viewBox=\"0 0 24 24\"\n",
              "       width=\"24px\">\n",
              "    <path d=\"M0 0h24v24H0V0z\" fill=\"none\"/>\n",
              "    <path d=\"M18.56 5.44l.94 2.06.94-2.06 2.06-.94-2.06-.94-.94-2.06-.94 2.06-2.06.94zm-11 1L8.5 8.5l.94-2.06 2.06-.94-2.06-.94L8.5 2.5l-.94 2.06-2.06.94zm10 10l.94 2.06.94-2.06 2.06-.94-2.06-.94-.94-2.06-.94 2.06-2.06.94z\"/><path d=\"M17.41 7.96l-1.37-1.37c-.4-.4-.92-.59-1.43-.59-.52 0-1.04.2-1.43.59L10.3 9.45l-7.72 7.72c-.78.78-.78 2.05 0 2.83L4 21.41c.39.39.9.59 1.41.59.51 0 1.02-.2 1.41-.59l7.78-7.78 2.81-2.81c.8-.78.8-2.07 0-2.86zM5.41 20L4 18.59l7.72-7.72 1.47 1.35L5.41 20z\"/>\n",
              "  </svg>\n",
              "      </button>\n",
              "      \n",
              "  <style>\n",
              "    .colab-df-container {\n",
              "      display:flex;\n",
              "      flex-wrap:wrap;\n",
              "      gap: 12px;\n",
              "    }\n",
              "\n",
              "    .colab-df-convert {\n",
              "      background-color: #E8F0FE;\n",
              "      border: none;\n",
              "      border-radius: 50%;\n",
              "      cursor: pointer;\n",
              "      display: none;\n",
              "      fill: #1967D2;\n",
              "      height: 32px;\n",
              "      padding: 0 0 0 0;\n",
              "      width: 32px;\n",
              "    }\n",
              "\n",
              "    .colab-df-convert:hover {\n",
              "      background-color: #E2EBFA;\n",
              "      box-shadow: 0px 1px 2px rgba(60, 64, 67, 0.3), 0px 1px 3px 1px rgba(60, 64, 67, 0.15);\n",
              "      fill: #174EA6;\n",
              "    }\n",
              "\n",
              "    [theme=dark] .colab-df-convert {\n",
              "      background-color: #3B4455;\n",
              "      fill: #D2E3FC;\n",
              "    }\n",
              "\n",
              "    [theme=dark] .colab-df-convert:hover {\n",
              "      background-color: #434B5C;\n",
              "      box-shadow: 0px 1px 3px 1px rgba(0, 0, 0, 0.15);\n",
              "      filter: drop-shadow(0px 1px 2px rgba(0, 0, 0, 0.3));\n",
              "      fill: #FFFFFF;\n",
              "    }\n",
              "  </style>\n",
              "\n",
              "      <script>\n",
              "        const buttonEl =\n",
              "          document.querySelector('#df-cdb70f0e-ede4-4dcd-9dd4-b65781468781 button.colab-df-convert');\n",
              "        buttonEl.style.display =\n",
              "          google.colab.kernel.accessAllowed ? 'block' : 'none';\n",
              "\n",
              "        async function convertToInteractive(key) {\n",
              "          const element = document.querySelector('#df-cdb70f0e-ede4-4dcd-9dd4-b65781468781');\n",
              "          const dataTable =\n",
              "            await google.colab.kernel.invokeFunction('convertToInteractive',\n",
              "                                                     [key], {});\n",
              "          if (!dataTable) return;\n",
              "\n",
              "          const docLinkHtml = 'Like what you see? Visit the ' +\n",
              "            '<a target=\"_blank\" href=https://colab.research.google.com/notebooks/data_table.ipynb>data table notebook</a>'\n",
              "            + ' to learn more about interactive tables.';\n",
              "          element.innerHTML = '';\n",
              "          dataTable['output_type'] = 'display_data';\n",
              "          await google.colab.output.renderOutput(dataTable, element);\n",
              "          const docLink = document.createElement('div');\n",
              "          docLink.innerHTML = docLinkHtml;\n",
              "          element.appendChild(docLink);\n",
              "        }\n",
              "      </script>\n",
              "    </div>\n",
              "  </div>\n",
              "  "
            ]
          },
          "metadata": {},
          "execution_count": 21
        }
      ],
      "source": [
        "threshold = 2/10\n",
        "print((df.isna().sum()/len(df.index)))\n",
        "columns_to_drop = df.loc[:,list(((df.isna().sum()/len(df.index))>=threshold))].columns    \n",
        "print(columns_to_drop)\n",
        "\n",
        "df_columns_dropped = df.drop(columns_to_drop, axis = 1)  \n",
        "df_columns_dropped.head()"
      ]
    },
    {
      "cell_type": "code",
      "execution_count": null,
      "metadata": {
        "colab": {
          "base_uri": "https://localhost:8080/"
        },
        "id": "21faOuY_0CK7",
        "outputId": "b8e1edf7-2da5-48ab-c10c-0504b5a025d3"
      },
      "outputs": [
        {
          "output_type": "execute_result",
          "data": {
            "text/plain": [
              "Pet ID                   0\n",
              "Outcome Type             0\n",
              "Sex upon Outcome         1\n",
              "Found Location           0\n",
              "Intake Type              0\n",
              "Intake Condition         0\n",
              "Pet Type                 0\n",
              "Sex upon Intake          1\n",
              "Breed                    0\n",
              "Color                    0\n",
              "Age upon Intake Days     0\n",
              "Age upon Outcome Days    0\n",
              "dtype: int64"
            ]
          },
          "metadata": {},
          "execution_count": 24
        }
      ],
      "source": [
        "df_columns_dropped.isna().sum()"
      ]
    },
    {
      "cell_type": "code",
      "execution_count": null,
      "metadata": {
        "colab": {
          "base_uri": "https://localhost:8080/"
        },
        "id": "2Jm_cE_k0CK7",
        "outputId": "b909bb60-56a0-465e-8ec8-e991237843e0"
      },
      "outputs": [
        {
          "output_type": "execute_result",
          "data": {
            "text/plain": [
              "(95462, 12)"
            ]
          },
          "metadata": {},
          "execution_count": 23
        }
      ],
      "source": [
        "df_columns_dropped.shape"
      ]
    },
    {
      "cell_type": "markdown",
      "metadata": {
        "id": "UXZhae3I0CK7"
      },
      "source": [
        "Note the reduced size of the dataset features. This can sometimes lead to underfitting models -- not having enough features to build a good model able to capture the pattern in the dataset, especially when dropping features that are essential to the task at hand. "
      ]
    },
    {
      "cell_type": "markdown",
      "metadata": {
        "id": "GnxwQQ230CK7"
      },
      "source": [
        "### <a name=\"52\">Drop rows with missing values</a>\n",
        "(<a href=\"#5\">Go to Handling Missing Values</a>)\n",
        "\n",
        "Here, we simply drop rows that have at least one missing value. There are other drop options to explore, depending on specific problems."
      ]
    },
    {
      "cell_type": "code",
      "execution_count": null,
      "metadata": {
        "id": "dm5oTFOL0CK8"
      },
      "outputs": [],
      "source": [
        "df_missing_dropped = df.dropna()"
      ]
    },
    {
      "cell_type": "markdown",
      "metadata": {
        "id": "wdGmcVEK0CK8"
      },
      "source": [
        "Let's check the missing values below."
      ]
    },
    {
      "cell_type": "code",
      "execution_count": null,
      "metadata": {
        "scrolled": false,
        "id": "c7mUPYy90CK8",
        "outputId": "2f9a67a4-4ebf-4a68-da68-537a567625ae"
      },
      "outputs": [
        {
          "data": {
            "text/plain": [
              "Pet ID                   0\n",
              "Outcome Type             0\n",
              "Sex upon Outcome         0\n",
              "Name                     0\n",
              "Found Location           0\n",
              "Intake Type              0\n",
              "Intake Condition         0\n",
              "Pet Type                 0\n",
              "Sex upon Intake          0\n",
              "Breed                    0\n",
              "Color                    0\n",
              "Age upon Intake Days     0\n",
              "Age upon Outcome Days    0\n",
              "dtype: int64"
            ]
          },
          "execution_count": 28,
          "metadata": {},
          "output_type": "execute_result"
        }
      ],
      "source": [
        "df_missing_dropped.isna().sum()"
      ]
    },
    {
      "cell_type": "code",
      "execution_count": null,
      "metadata": {
        "id": "o79AKjE90CK8",
        "outputId": "eeaf1bd1-faf7-4309-8cf3-8e2bf0e8ee71"
      },
      "outputs": [
        {
          "data": {
            "text/plain": [
              "(59118, 13)"
            ]
          },
          "execution_count": 29,
          "metadata": {},
          "output_type": "execute_result"
        }
      ],
      "source": [
        "df_missing_dropped.shape"
      ]
    },
    {
      "cell_type": "markdown",
      "metadata": {
        "id": "rCpBVoEQ0CK8"
      },
      "source": [
        "This approach can dramatically reduce the number of data samples. This can sometimes lead to overfitting models -- especially when the number of features is greater or comparable to the number of data samples. "
      ]
    },
    {
      "cell_type": "markdown",
      "metadata": {
        "id": "SSlGNvdP0CK8"
      },
      "source": [
        "### <a name=\"53\">Impute (fill-in) missing values with .fillna()</a>\n",
        "(<a href=\"#5\">Go to Handling Missing Values</a>)\n",
        "\n",
        "Rather than dropping rows (data samples) and/or columns (features), another strategy to deal with missing values would be to actually complete the missing values with new values: imputation of missing values.\n",
        "\n",
        "__Imputing Numerical Values:__ The easiest way to impute numerical values is to get the __average (mean) value__ for the corresponding column and use that as the new value for each missing record in that column. "
      ]
    },
    {
      "cell_type": "code",
      "execution_count": null,
      "metadata": {
        "colab": {
          "base_uri": "https://localhost:8080/"
        },
        "id": "Sxy5csgq0CK8",
        "outputId": "c5844326-206a-43eb-c42f-98051fbe796d"
      },
      "outputs": [
        {
          "output_type": "stream",
          "name": "stdout",
          "text": [
            "Age upon Intake Days     0\n",
            "Age upon Outcome Days    0\n",
            "dtype: int64\n",
            "Age upon Intake Days     0\n",
            "Age upon Outcome Days    0\n",
            "dtype: int64\n"
          ]
        }
      ],
      "source": [
        "# Impute numerical features by using the mean per feature to replace the nans\n",
        "\n",
        "# Assign our df to a new df \n",
        "df_imputed = df.copy()\n",
        "print(df_imputed[numerical_features_all].isna().sum())\n",
        "\n",
        "# Impute our two numerical features with the means. \n",
        "df_imputed[numerical_features_all] = df_imputed[numerical_features_all].fillna(df_imputed[numerical_features_all].mean())\n",
        "\n",
        "print(df_imputed[numerical_features_all].isna().sum())"
      ]
    },
    {
      "cell_type": "markdown",
      "metadata": {
        "id": "JUTigT2m0CK9"
      },
      "source": [
        "__Imputing Categorical Values:__ We can impute categorical values by getting the most common (mode) value for the corresponding column and use that as the new value for each missing record in that column. "
      ]
    },
    {
      "cell_type": "code",
      "execution_count": null,
      "metadata": {
        "id": "g218sOr30CK9",
        "outputId": "ce30c6fe-9b86-4d58-f1e5-1c00197236fa"
      },
      "outputs": [
        {
          "name": "stdout",
          "output_type": "stream",
          "text": [
            "Pet ID                  0\n",
            "Sex upon Outcome        1\n",
            "Name                36343\n",
            "Found Location          0\n",
            "Intake Type             0\n",
            "Intake Condition        0\n",
            "Pet Type                0\n",
            "Sex upon Intake         1\n",
            "Breed                   0\n",
            "Color                   0\n",
            "dtype: int64\n",
            "Pet ID 0        A047759\n",
            "1        A134067\n",
            "2        A141142\n",
            "3        A163459\n",
            "4        A165752\n",
            "          ...   \n",
            "95457    A819862\n",
            "95458    A819864\n",
            "95459    A819865\n",
            "95460    A819895\n",
            "95461    A819908\n",
            "Length: 95462, dtype: object\n",
            "Sex upon Outcome 0    Neutered Male\n",
            "dtype: object\n",
            "Name 0    Bella\n",
            "dtype: object\n",
            "Found Location 0    Austin (TX)\n",
            "dtype: object\n",
            "Intake Type 0    Stray\n",
            "dtype: object\n",
            "Intake Condition 0    Normal\n",
            "dtype: object\n",
            "Pet Type 0    Dog\n",
            "dtype: object\n",
            "Sex upon Intake 0    Intact Male\n",
            "dtype: object\n",
            "Breed 0    Domestic Shorthair Mix\n",
            "dtype: object\n",
            "Color 0    Black/White\n",
            "dtype: object\n",
            "Pet ID              0\n",
            "Sex upon Outcome    0\n",
            "Name                0\n",
            "Found Location      0\n",
            "Intake Type         0\n",
            "Intake Condition    0\n",
            "Pet Type            0\n",
            "Sex upon Intake     0\n",
            "Breed               0\n",
            "Color               0\n",
            "dtype: int64\n"
          ]
        }
      ],
      "source": [
        "# Impute categorical features by using the mode per feature to replace the nans\n",
        "\n",
        "# Assign our df to a new df \n",
        "df_imputed_c = df.copy()\n",
        "print(df_imputed_c[categorical_features_all].isna().sum())\n",
        "\n",
        "for c in categorical_features_all:\n",
        "    # Find the mode per each feature\n",
        "    mode_impute = df_imputed_c[c].mode()\n",
        "    print(c, mode_impute)\n",
        "\n",
        "    # Impute our categorical features with the mode\n",
        "    # \"inplace=True\" parameter replaces missing values in place (no need for left handside assignment)\n",
        "    df_imputed_c[c].fillna(False, inplace=True)\n",
        "\n",
        "print(df_imputed_c[categorical_features_all].isna().sum())"
      ]
    },
    {
      "cell_type": "markdown",
      "metadata": {
        "id": "c2R-_cfO0CK9"
      },
      "source": [
        "We can also create a new category, such as \"Missing\", for alll or elected categorical features."
      ]
    },
    {
      "cell_type": "code",
      "execution_count": null,
      "metadata": {
        "id": "TLDLmEnX0CK9",
        "outputId": "e56bed51-7e05-42cf-ef0c-ada6221cd2b2"
      },
      "outputs": [
        {
          "name": "stdout",
          "output_type": "stream",
          "text": [
            "Pet ID                  0\n",
            "Sex upon Outcome        1\n",
            "Name                36343\n",
            "Found Location          0\n",
            "Intake Type             0\n",
            "Intake Condition        0\n",
            "Pet Type                0\n",
            "Sex upon Intake         1\n",
            "Breed                   0\n",
            "Color                   0\n",
            "dtype: int64\n",
            "Pet ID              0\n",
            "Sex upon Outcome    0\n",
            "Name                0\n",
            "Found Location      0\n",
            "Intake Type         0\n",
            "Intake Condition    0\n",
            "Pet Type            0\n",
            "Sex upon Intake     0\n",
            "Breed               0\n",
            "Color               0\n",
            "dtype: int64\n"
          ]
        }
      ],
      "source": [
        "# Impute categorical features by using a placeholder value\n",
        "\n",
        "# Assign our df to a new df \n",
        "df_imputed = df.copy()\n",
        "print(df_imputed[categorical_features_all].isna().sum())\n",
        "\n",
        "# Impute our categorical features with a new category named \"Missing\". \n",
        "df_imputed[categorical_features_all]= df_imputed[categorical_features_all].fillna(\"Missing\")\n",
        "\n",
        "print(df_imputed[categorical_features_all].isna().sum())"
      ]
    },
    {
      "cell_type": "markdown",
      "metadata": {
        "id": "_JhQZruF0CK9"
      },
      "source": [
        "### <a name=\"54\">Impute (fill-in) missing values with sklearn's __SimpleImputer__</a>\n",
        "(<a href=\"#5\">Go to Handling Missing Values</a>)\n",
        "\n",
        "A more elegant way to implement imputation is using sklearn's __SimpleImputer__, a class implementing .fit() and .transform() methods.\n"
      ]
    },
    {
      "cell_type": "code",
      "execution_count": null,
      "metadata": {
        "colab": {
          "base_uri": "https://localhost:8080/"
        },
        "id": "Kml4_QCH0CK9",
        "outputId": "3a649525-0009-4888-aad1-9b5c870628a9"
      },
      "outputs": [
        {
          "output_type": "stream",
          "name": "stdout",
          "text": [
            "Age upon Intake Days     0\n",
            "Age upon Outcome Days    0\n",
            "dtype: int64\n",
            "Age upon Intake Days     0\n",
            "Age upon Outcome Days    0\n",
            "dtype: int64\n"
          ]
        }
      ],
      "source": [
        "# Impute numerical columns by using the mean per column to replace the nans\n",
        "\n",
        "from sklearn.impute import SimpleImputer\n",
        "\n",
        "# Assign our df to a new df\n",
        "df_sklearn_imputed = df.copy()\n",
        "print(df_sklearn_imputed[numerical_features_all].isna().sum())\n",
        "\n",
        "imputer = SimpleImputer(strategy='mean')\n",
        "df_sklearn_imputed[numerical_features_all] = imputer.fit_transform(df_sklearn_imputed[numerical_features_all])\n",
        "\n",
        "print(df_sklearn_imputed[numerical_features_all].isna().sum())"
      ]
    },
    {
      "cell_type": "code",
      "execution_count": null,
      "metadata": {
        "colab": {
          "base_uri": "https://localhost:8080/"
        },
        "id": "BoSubOuu0CK-",
        "outputId": "f6a439a5-3b66-44ef-96ef-823540eccfd0"
      },
      "outputs": [
        {
          "output_type": "stream",
          "name": "stdout",
          "text": [
            "Index(['Name', 'Sex upon Intake'], dtype='object')\n",
            "Name               36343\n",
            "Sex upon Intake        1\n",
            "dtype: int64\n",
            "Name               0\n",
            "Sex upon Intake    0\n",
            "dtype: int64\n"
          ]
        }
      ],
      "source": [
        "# Impute categorical columns by using the mode per column to replace the nans\n",
        "\n",
        "# Pick some categorical features you desire to impute with this approach\n",
        "categoricals_missing_values = df[categorical_features_all].loc[:,list(((df[categorical_features_all].isna().sum()/len(df.index)) > 0.0))].columns    \n",
        "columns_to_impute = categoricals_missing_values[1:3]\n",
        "print(columns_to_impute)\n",
        "\n",
        "from sklearn.impute import SimpleImputer\n",
        "\n",
        "# Assign our df to a new df\n",
        "df_sklearn_imputer = df.copy()\n",
        "print(df_sklearn_imputer[columns_to_impute].isna().sum())\n",
        "\n",
        "imputer = SimpleImputer(strategy='most_frequent')\n",
        "df_sklearn_imputer[columns_to_impute] = imputer.fit_transform(df_sklearn_imputer[columns_to_impute])\n",
        "\n",
        "print(df_sklearn_imputer[columns_to_impute].isna().sum())"
      ]
    },
    {
      "cell_type": "code",
      "execution_count": 29,
      "metadata": {
        "colab": {
          "base_uri": "https://localhost:8080/"
        },
        "id": "EoBgiaO_0CK-",
        "outputId": "48d57ffe-d4fd-41b8-a75c-b83d82ba454d"
      },
      "outputs": [
        {
          "output_type": "stream",
          "name": "stdout",
          "text": [
            "Index(['Name', 'Sex upon Intake'], dtype='object')\n",
            "Name               36343\n",
            "Sex upon Intake        1\n",
            "dtype: int64\n",
            "Name               0\n",
            "Sex upon Intake    0\n",
            "dtype: int64\n"
          ]
        }
      ],
      "source": [
        "# Impute categorical columns by using a placeholder \"Missing\"\n",
        "\n",
        "# Pick some categorical features you desire to impute with this approach\n",
        "categoricals_missing_values = df[categorical_features_all].loc[:,list(((df[categorical_features_all].isna().sum()/len(df.index)) > 0.0))].columns    \n",
        "columns_to_impute = categoricals_missing_values[1:3]\n",
        "print(columns_to_impute)\n",
        "\n",
        "from sklearn.impute import SimpleImputer\n",
        "\n",
        "# Assign our df to a new df\n",
        "df_sklearn_imputer = df.copy()\n",
        "print(df_sklearn_imputer[columns_to_impute].isna().sum())\n",
        "\n",
        "imputer = SimpleImputer(strategy='constant', fill_value = \"Missing\")\n",
        "df_sklearn_imputer[columns_to_impute] = imputer.fit_transform(df_sklearn_imputer[columns_to_impute])\n",
        "\n",
        "print(df_sklearn_imputer[columns_to_impute].isna().sum())"
      ]
    },
    {
      "cell_type": "markdown",
      "source": [
        "# New section"
      ],
      "metadata": {
        "id": "FbhsnATDT_zl"
      }
    }
  ],
  "metadata": {
    "kernelspec": {
      "display_name": "conda_mxnet_p36",
      "language": "python",
      "name": "conda_mxnet_p36"
    },
    "language_info": {
      "codemirror_mode": {
        "name": "ipython",
        "version": 3
      },
      "file_extension": ".py",
      "mimetype": "text/x-python",
      "name": "python",
      "nbconvert_exporter": "python",
      "pygments_lexer": "ipython3",
      "version": "3.6.13"
    },
    "colab": {
      "provenance": [],
      "toc_visible": true,
      "include_colab_link": true
    }
  },
  "nbformat": 4,
  "nbformat_minor": 0
}