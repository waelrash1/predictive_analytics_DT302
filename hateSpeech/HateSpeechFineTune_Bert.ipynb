{
  "metadata": {
    "kernelspec": {
      "language": "python",
      "display_name": "Python 3",
      "name": "python3"
    },
    "language_info": {
      "name": "python",
      "version": "3.10.14",
      "mimetype": "text/x-python",
      "codemirror_mode": {
        "name": "ipython",
        "version": 3
      },
      "pygments_lexer": "ipython3",
      "nbconvert_exporter": "python",
      "file_extension": ".py"
    },
    "kaggle": {
      "accelerator": "nvidiaTeslaT4",
      "dataSources": [
        {
          "sourceId": 7257995,
          "sourceType": "datasetVersion",
          "datasetId": 4205998
        }
      ],
      "dockerImageVersionId": 30787,
      "isInternetEnabled": true,
      "language": "python",
      "sourceType": "notebook",
      "isGpuEnabled": true
    },
    "colab": {
      "name": "HateSpeechFineTune_Bert",
      "provenance": [],
      "include_colab_link": true
    }
  },
  "nbformat_minor": 0,
  "nbformat": 4,
  "cells": [
    {
      "cell_type": "markdown",
      "metadata": {
        "id": "view-in-github",
        "colab_type": "text"
      },
      "source": [
        "<a href=\"https://colab.research.google.com/github/waelrash1/predictive_analytics_DT302/blob/main/hateSpeech/HateSpeechFineTune_Bert.ipynb\" target=\"_parent\"><img src=\"https://colab.research.google.com/assets/colab-badge.svg\" alt=\"Open In Colab\"/></a>"
      ]
    },
    {
      "source": [
        "# IMPORTANT: RUN THIS CELL IN ORDER TO IMPORT YOUR KAGGLE DATA SOURCES,\n",
        "# THEN FEEL FREE TO DELETE THIS CELL.\n",
        "# NOTE: THIS NOTEBOOK ENVIRONMENT DIFFERS FROM KAGGLE'S PYTHON\n",
        "# ENVIRONMENT SO THERE MAY BE MISSING LIBRARIES USED BY YOUR\n",
        "# NOTEBOOK.\n",
        "import kagglehub\n",
        "waalbannyantudre_hate_speech_detection_curated_dataset_path = kagglehub.dataset_download('waalbannyantudre/hate-speech-detection-curated-dataset')\n",
        "\n",
        "print('Data source import complete.')\n"
      ],
      "metadata": {
        "id": "ku_L_Qb64UFn"
      },
      "cell_type": "code",
      "outputs": [],
      "execution_count": null
    },
    {
      "cell_type": "markdown",
      "source": [
        "# Transfer learning"
      ],
      "metadata": {
        "id": "Srek7rR_4UFp"
      }
    },
    {
      "cell_type": "markdown",
      "source": [],
      "metadata": {
        "id": "b_WFFfZj4UFq"
      }
    },
    {
      "cell_type": "code",
      "source": [
        "import pandas as pd\n",
        "import numpy as np\n",
        "from sklearn.model_selection import train_test_split\n",
        "from tqdm import tqdm\n",
        "from transformers import AutoTokenizer, AutoModel\n",
        "from sklearn.model_selection import train_test_split\n",
        "from sklearn.svm import SVC\n",
        "from sklearn.metrics import classification_report\n",
        "import torch\n",
        "\n",
        "# Load your dataset\n",
        "dataset_path = '/kaggle/input/hate-speech-detection-curated-dataset/HateSpeechDatasetBalanced.csv'\n",
        "data = pd.read_csv(dataset_path)\n",
        "print(\"Original dataset shape:\", data.shape)\n",
        "\n",
        "# Perform stratified sampling for p% of the data, to expalin the idea\n",
        "# in your case use the datset as whole but you need to manage the computation\n",
        "sampled_data, _ = train_test_split(\n",
        "    data,\n",
        "    test_size=0.98,                 # Leave out 80%, keep 20%\n",
        "    stratify=data['Label'],        # Maintain class distribution\n",
        "    random_state=42                # For reproducibility\n",
        ")\n",
        "\n",
        "# Output the sampled dataset details\n",
        "print(\"Sampled dataset shape:\", sampled_data.shape)\n",
        "print(\"Class distribution in sampled data:\")\n",
        "print(sampled_data['Label'].value_counts(normalize=True))  # Verify class balance\n",
        "data=sampled_data"
      ],
      "metadata": {
        "trusted": true,
        "execution": {
          "iopub.status.busy": "2024-11-29T09:07:31.734925Z",
          "iopub.execute_input": "2024-11-29T09:07:31.735196Z",
          "iopub.status.idle": "2024-11-29T09:07:43.631052Z",
          "shell.execute_reply.started": "2024-11-29T09:07:31.735166Z",
          "shell.execute_reply": "2024-11-29T09:07:43.630178Z"
        },
        "id": "-W1Ixycw4UFq",
        "outputId": "f9205f31-d824-452a-d786-8a8d3a0d50c5"
      },
      "outputs": [
        {
          "name": "stdout",
          "text": "Original dataset shape: (726119, 2)\nSampled dataset shape: (14522, 2)\nClass distribution in sampled data:\nLabel\n1    0.501997\n0    0.498003\nName: proportion, dtype: float64\n",
          "output_type": "stream"
        }
      ],
      "execution_count": null
    },
    {
      "cell_type": "code",
      "source": [
        "# Train-test split\n",
        "train_x, test_texts, train_y, test_labels = train_test_split(\n",
        "    data['Content'], data['Label'], test_size=0.2, random_state=42\n",
        ")\n",
        "\n",
        "# Train-Val split\n",
        "train_texts, val_texts, train_labels, val_labels = train_test_split(\n",
        "   train_x, train_y,  test_size=0.2, random_state=42\n",
        ")\n",
        "\n",
        "print(\"Train dataset shape:\", train_texts.shape)\n",
        "print(\"Val dataset shape:\", val_texts.shape)\n",
        "print(\"Test dataset shape:\", test_texts.shape)"
      ],
      "metadata": {
        "trusted": true,
        "execution": {
          "iopub.status.busy": "2024-11-29T09:11:48.063615Z",
          "iopub.execute_input": "2024-11-29T09:11:48.063976Z",
          "iopub.status.idle": "2024-11-29T09:11:48.076586Z",
          "shell.execute_reply.started": "2024-11-29T09:11:48.063943Z",
          "shell.execute_reply": "2024-11-29T09:11:48.075702Z"
        },
        "id": "PuJpzOi64UFr",
        "outputId": "32daa6da-91f3-483d-a570-a3923b15f63c"
      },
      "outputs": [
        {
          "name": "stdout",
          "text": "Train dataset shape: (9293,)\nVal dataset shape: (2324,)\nTest dataset shape: (2905,)\n",
          "output_type": "stream"
        }
      ],
      "execution_count": null
    },
    {
      "cell_type": "markdown",
      "source": [
        "# Fine-Tune Model\n",
        "The transformers library allows you to fine-tune a model on a specific task using classes like Trainer or custom PyTorch code.\n",
        "\n",
        "\n",
        "> **The GroNLP/hateBER**T model has approximately **110 million** parameters. This is based on its architecture, which is derived from the BERT base uncased model, a standard transformer architecture with **12 layers, 12 attention heads** , and a hidden size of **768**.\n",
        "\n",
        "## Approach 1: Using the Trainer API\n",
        "* This simplifies the process:\n",
        "\n",
        "1. Convert your dataset into Dataset objects.\n",
        "1. Define a model head for you1. r task (e.g., classification)."
      ],
      "metadata": {
        "id": "v2FhpW5J4UFs"
      }
    },
    {
      "cell_type": "code",
      "source": [
        "\n",
        "# Convert data to Hugging Face Dataset\n",
        "train_dataset = Dataset.from_dict({\"text\": train_texts, \"label\": train_labels})\n",
        "val_dataset = Dataset.from_dict({\"text\": val_texts, \"label\": val_labels})\n",
        "test_dataset = Dataset.from_dict({\"text\": test_texts, \"label\": test_labels})"
      ],
      "metadata": {
        "trusted": true,
        "execution": {
          "iopub.status.busy": "2024-11-29T09:14:11.572067Z",
          "iopub.execute_input": "2024-11-29T09:14:11.572441Z",
          "iopub.status.idle": "2024-11-29T09:14:11.608684Z",
          "shell.execute_reply.started": "2024-11-29T09:14:11.57241Z",
          "shell.execute_reply": "2024-11-29T09:14:11.607944Z"
        },
        "id": "zxjdlN5a4UFs"
      },
      "outputs": [],
      "execution_count": null
    },
    {
      "cell_type": "code",
      "source": [
        "device = \"cuda\" if torch.cuda.is_available() else \"cpu\"\n",
        "print(device)"
      ],
      "metadata": {
        "trusted": true,
        "execution": {
          "iopub.status.busy": "2024-11-29T11:09:30.759877Z",
          "iopub.execute_input": "2024-11-29T11:09:30.76026Z",
          "iopub.status.idle": "2024-11-29T11:09:30.766258Z",
          "shell.execute_reply.started": "2024-11-29T11:09:30.7602Z",
          "shell.execute_reply": "2024-11-29T11:09:30.765393Z"
        },
        "id": "XosruDHV4UFt",
        "outputId": "dae027da-57e2-4c9b-9f65-6cfec8e70348"
      },
      "outputs": [
        {
          "name": "stdout",
          "text": "cuda\n",
          "output_type": "stream"
        }
      ],
      "execution_count": null
    },
    {
      "cell_type": "code",
      "source": [
        "\n",
        "# Tokenize\n",
        "def preprocess(examples):\n",
        "    return tokenizer(examples[\"text\"], truncation=True, padding=True, max_length=512)\n",
        "train_dataset = train_dataset.map(preprocess, batched=True)\n",
        "val_dataset = val_dataset.map(preprocess, batched=True)\n",
        "test_dataset = test_dataset.map(preprocess, batched=True)\n",
        "\n",
        "# Load model for classification\n",
        "model = AutoModelForSequenceClassification.from_pretrained(\"GroNLP/hateBERT\", num_labels=2).to(device)"
      ],
      "metadata": {
        "trusted": true,
        "execution": {
          "iopub.status.busy": "2024-11-29T09:20:26.491796Z",
          "iopub.execute_input": "2024-11-29T09:20:26.492163Z",
          "iopub.status.idle": "2024-11-29T09:20:29.932605Z",
          "shell.execute_reply.started": "2024-11-29T09:20:26.492133Z",
          "shell.execute_reply": "2024-11-29T09:20:29.931619Z"
        },
        "id": "IEkYSPHw4UFu",
        "outputId": "8015cf44-d559-4838-bfa4-b5213022ca8b",
        "colab": {
          "referenced_widgets": [
            "0719cdf8c55f408d841ce8db1f12ad30",
            "fe895115b1cc40dfabd5337bd00114e0",
            "a167662365964ac89d593529477d0e3a"
          ]
        }
      },
      "outputs": [
        {
          "output_type": "display_data",
          "data": {
            "text/plain": "Map:   0%|          | 0/9293 [00:00<?, ? examples/s]",
            "application/vnd.jupyter.widget-view+json": {
              "version_major": 2,
              "version_minor": 0,
              "model_id": "0719cdf8c55f408d841ce8db1f12ad30"
            }
          },
          "metadata": {}
        },
        {
          "output_type": "display_data",
          "data": {
            "text/plain": "Map:   0%|          | 0/2324 [00:00<?, ? examples/s]",
            "application/vnd.jupyter.widget-view+json": {
              "version_major": 2,
              "version_minor": 0,
              "model_id": "fe895115b1cc40dfabd5337bd00114e0"
            }
          },
          "metadata": {}
        },
        {
          "output_type": "display_data",
          "data": {
            "text/plain": "Map:   0%|          | 0/2905 [00:00<?, ? examples/s]",
            "application/vnd.jupyter.widget-view+json": {
              "version_major": 2,
              "version_minor": 0,
              "model_id": "a167662365964ac89d593529477d0e3a"
            }
          },
          "metadata": {}
        },
        {
          "name": "stderr",
          "text": "Some weights of BertForSequenceClassification were not initialized from the model checkpoint at GroNLP/hateBERT and are newly initialized: ['classifier.bias', 'classifier.weight']\nYou should probably TRAIN this model on a down-stream task to be able to use it for predictions and inference.\n",
          "output_type": "stream"
        }
      ],
      "execution_count": null
    },
    {
      "cell_type": "code",
      "source": [
        "\n",
        "\n",
        "# Training arguments\n",
        "training_args = TrainingArguments(\n",
        "    output_dir=\"./results\",\n",
        "    evaluation_strategy=\"epoch\",\n",
        "    save_strategy=\"epoch\",\n",
        "    learning_rate=5e-5,\n",
        "    per_device_train_batch_size=8,\n",
        "    per_device_eval_batch_size=8,\n",
        "    num_train_epochs=4,\n",
        "    weight_decay=0.01,\n",
        "    logging_dir=\"./logs\",\n",
        "    logging_steps=10,\n",
        "    load_best_model_at_end=True,\n",
        "    metric_for_best_model=\"accuracy\",\n",
        ")\n",
        "\n",
        "# Define evaluation metric\n",
        "from sklearn.metrics import accuracy_score\n",
        "\n",
        "def compute_metrics(eval_pred):\n",
        "    logits, labels = eval_pred\n",
        "    predictions = np.argmax(logits, axis=-1)\n",
        "    return {\"accuracy\": accuracy_score(labels, predictions)}\n",
        "\n",
        "# Trainer\n",
        "trainer = Trainer(\n",
        "    model=model,\n",
        "    args=training_args,\n",
        "    train_dataset=train_dataset,\n",
        "    eval_dataset=val_dataset,\n",
        "    tokenizer=tokenizer,\n",
        "    compute_metrics=compute_metrics,\n",
        ")\n",
        "\n",
        "# Train model\n",
        "trainer.train()\n"
      ],
      "metadata": {
        "trusted": true,
        "execution": {
          "iopub.status.busy": "2024-11-29T09:22:39.487992Z",
          "iopub.execute_input": "2024-11-29T09:22:39.488407Z",
          "iopub.status.idle": "2024-11-29T10:02:40.375684Z",
          "shell.execute_reply.started": "2024-11-29T09:22:39.488374Z",
          "shell.execute_reply": "2024-11-29T10:02:40.374294Z"
        },
        "id": "xpYO6qS64UFu",
        "outputId": "b85b2ec0-59fc-41c4-cd6e-6c6901c696cb",
        "colab": {
          "referenced_widgets": [
            "f7e2213a88e84af3b64ec8def4cb36c0"
          ]
        }
      },
      "outputs": [
        {
          "name": "stderr",
          "text": "/opt/conda/lib/python3.10/site-packages/transformers/training_args.py:1545: FutureWarning: `evaluation_strategy` is deprecated and will be removed in version 4.46 of 🤗 Transformers. Use `eval_strategy` instead\n  warnings.warn(\n\u001b[34m\u001b[1mwandb\u001b[0m: \u001b[33mWARNING\u001b[0m The `run_name` is currently set to the same value as `TrainingArguments.output_dir`. If this was not intended, please specify a different run name by setting the `TrainingArguments.run_name` parameter.\n\u001b[34m\u001b[1mwandb\u001b[0m: Using wandb-core as the SDK backend. Please refer to https://wandb.me/wandb-core for more information.\n\u001b[34m\u001b[1mwandb\u001b[0m: Logging into wandb.ai. (Learn how to deploy a W&B server locally: https://wandb.me/wandb-server)\n\u001b[34m\u001b[1mwandb\u001b[0m: You can find your API key in your browser here: https://wandb.ai/authorize\n\u001b[34m\u001b[1mwandb\u001b[0m: Paste an API key from your profile and hit enter, or press ctrl+c to quit:",
          "output_type": "stream"
        },
        {
          "output_type": "stream",
          "name": "stdin",
          "text": "  ········\n"
        },
        {
          "name": "stderr",
          "text": "\u001b[34m\u001b[1mwandb\u001b[0m: \u001b[32m\u001b[41mERROR\u001b[0m API key must be 40 characters long, yours was 4\n\u001b[34m\u001b[1mwandb\u001b[0m: Logging into wandb.ai. (Learn how to deploy a W&B server locally: https://wandb.me/wandb-server)\n\u001b[34m\u001b[1mwandb\u001b[0m: You can find your API key in your browser here: https://wandb.ai/authorize\n\u001b[34m\u001b[1mwandb\u001b[0m: Paste an API key from your profile and hit enter, or press ctrl+c to quit:",
          "output_type": "stream"
        },
        {
          "output_type": "stream",
          "name": "stdin",
          "text": "  ········\n"
        },
        {
          "name": "stderr",
          "text": "\u001b[34m\u001b[1mwandb\u001b[0m: Appending key for api.wandb.ai to your netrc file: /root/.netrc\n",
          "output_type": "stream"
        },
        {
          "output_type": "display_data",
          "data": {
            "text/plain": "VBox(children=(Label(value='Waiting for wandb.init()...\\r'), FloatProgress(value=0.011112889155558352, max=1.0…",
            "application/vnd.jupyter.widget-view+json": {
              "version_major": 2,
              "version_minor": 0,
              "model_id": "f7e2213a88e84af3b64ec8def4cb36c0"
            }
          },
          "metadata": {}
        },
        {
          "output_type": "display_data",
          "data": {
            "text/plain": "<IPython.core.display.HTML object>",
            "text/html": "Tracking run with wandb version 0.18.3"
          },
          "metadata": {}
        },
        {
          "output_type": "display_data",
          "data": {
            "text/plain": "<IPython.core.display.HTML object>",
            "text/html": "Run data is saved locally in <code>/kaggle/working/wandb/run-20241129_093356-t7hzeisr</code>"
          },
          "metadata": {}
        },
        {
          "output_type": "display_data",
          "data": {
            "text/plain": "<IPython.core.display.HTML object>",
            "text/html": "Syncing run <strong><a href='https://wandb.ai/waelrash1-technological-university-dublin/huggingface/runs/t7hzeisr' target=\"_blank\">./results</a></strong> to <a href='https://wandb.ai/waelrash1-technological-university-dublin/huggingface' target=\"_blank\">Weights & Biases</a> (<a href='https://wandb.me/run' target=\"_blank\">docs</a>)<br/>"
          },
          "metadata": {}
        },
        {
          "output_type": "display_data",
          "data": {
            "text/plain": "<IPython.core.display.HTML object>",
            "text/html": " View project at <a href='https://wandb.ai/waelrash1-technological-university-dublin/huggingface' target=\"_blank\">https://wandb.ai/waelrash1-technological-university-dublin/huggingface</a>"
          },
          "metadata": {}
        },
        {
          "output_type": "display_data",
          "data": {
            "text/plain": "<IPython.core.display.HTML object>",
            "text/html": " View run at <a href='https://wandb.ai/waelrash1-technological-university-dublin/huggingface/runs/t7hzeisr' target=\"_blank\">https://wandb.ai/waelrash1-technological-university-dublin/huggingface/runs/t7hzeisr</a>"
          },
          "metadata": {}
        },
        {
          "name": "stderr",
          "text": "/opt/conda/lib/python3.10/site-packages/torch/nn/parallel/parallel_apply.py:79: FutureWarning: `torch.cuda.amp.autocast(args...)` is deprecated. Please use `torch.amp.autocast('cuda', args...)` instead.\n  with torch.cuda.device(device), torch.cuda.stream(stream), autocast(enabled=autocast_enabled):\n/opt/conda/lib/python3.10/site-packages/torch/nn/parallel/_functions.py:68: UserWarning: Was asked to gather along dimension 0, but all input tensors were scalars; will instead unsqueeze and return a vector.\n  warnings.warn('Was asked to gather along dimension 0, but all '\n",
          "output_type": "stream"
        },
        {
          "output_type": "display_data",
          "data": {
            "text/plain": "<IPython.core.display.HTML object>",
            "text/html": "\n    <div>\n      \n      <progress value='2324' max='2324' style='width:300px; height:20px; vertical-align: middle;'></progress>\n      [2324/2324 28:37, Epoch 4/4]\n    </div>\n    <table border=\"1\" class=\"dataframe\">\n  <thead>\n <tr style=\"text-align: left;\">\n      <th>Epoch</th>\n      <th>Training Loss</th>\n      <th>Validation Loss</th>\n      <th>Accuracy</th>\n    </tr>\n  </thead>\n  <tbody>\n    <tr>\n      <td>1</td>\n      <td>0.406000</td>\n      <td>0.346931</td>\n      <td>0.847246</td>\n    </tr>\n    <tr>\n      <td>2</td>\n      <td>0.378300</td>\n      <td>0.521840</td>\n      <td>0.827022</td>\n    </tr>\n    <tr>\n      <td>3</td>\n      <td>0.175800</td>\n      <td>0.871206</td>\n      <td>0.825731</td>\n    </tr>\n    <tr>\n      <td>4</td>\n      <td>0.002700</td>\n      <td>0.961082</td>\n      <td>0.829174</td>\n    </tr>\n  </tbody>\n</table><p>"
          },
          "metadata": {}
        },
        {
          "name": "stderr",
          "text": "/opt/conda/lib/python3.10/site-packages/torch/nn/parallel/parallel_apply.py:79: FutureWarning: `torch.cuda.amp.autocast(args...)` is deprecated. Please use `torch.amp.autocast('cuda', args...)` instead.\n  with torch.cuda.device(device), torch.cuda.stream(stream), autocast(enabled=autocast_enabled):\n/opt/conda/lib/python3.10/site-packages/torch/nn/parallel/_functions.py:68: UserWarning: Was asked to gather along dimension 0, but all input tensors were scalars; will instead unsqueeze and return a vector.\n  warnings.warn('Was asked to gather along dimension 0, but all '\n/opt/conda/lib/python3.10/site-packages/torch/nn/parallel/parallel_apply.py:79: FutureWarning: `torch.cuda.amp.autocast(args...)` is deprecated. Please use `torch.amp.autocast('cuda', args...)` instead.\n  with torch.cuda.device(device), torch.cuda.stream(stream), autocast(enabled=autocast_enabled):\n/opt/conda/lib/python3.10/site-packages/torch/nn/parallel/_functions.py:68: UserWarning: Was asked to gather along dimension 0, but all input tensors were scalars; will instead unsqueeze and return a vector.\n  warnings.warn('Was asked to gather along dimension 0, but all '\n/opt/conda/lib/python3.10/site-packages/torch/nn/parallel/parallel_apply.py:79: FutureWarning: `torch.cuda.amp.autocast(args...)` is deprecated. Please use `torch.amp.autocast('cuda', args...)` instead.\n  with torch.cuda.device(device), torch.cuda.stream(stream), autocast(enabled=autocast_enabled):\n/opt/conda/lib/python3.10/site-packages/torch/nn/parallel/_functions.py:68: UserWarning: Was asked to gather along dimension 0, but all input tensors were scalars; will instead unsqueeze and return a vector.\n  warnings.warn('Was asked to gather along dimension 0, but all '\n/opt/conda/lib/python3.10/site-packages/torch/nn/parallel/parallel_apply.py:79: FutureWarning: `torch.cuda.amp.autocast(args...)` is deprecated. Please use `torch.amp.autocast('cuda', args...)` instead.\n  with torch.cuda.device(device), torch.cuda.stream(stream), autocast(enabled=autocast_enabled):\n/opt/conda/lib/python3.10/site-packages/torch/nn/parallel/_functions.py:68: UserWarning: Was asked to gather along dimension 0, but all input tensors were scalars; will instead unsqueeze and return a vector.\n  warnings.warn('Was asked to gather along dimension 0, but all '\n",
          "output_type": "stream"
        },
        {
          "execution_count": 14,
          "output_type": "execute_result",
          "data": {
            "text/plain": "TrainOutput(global_step=2324, training_loss=0.1925801417147965, metrics={'train_runtime': 2398.9164, 'train_samples_per_second': 15.495, 'train_steps_per_second': 0.969, 'total_flos': 6927839476491120.0, 'train_loss': 0.1925801417147965, 'epoch': 4.0})"
          },
          "metadata": {}
        }
      ],
      "execution_count": null
    },
    {
      "cell_type": "code",
      "source": [
        "from sklearn.metrics import classification_report\n",
        "import numpy as np\n",
        "\n",
        "# Generate predictions on the test set\n",
        "predictions = trainer.predict(test_dataset)\n",
        "\n",
        "# Extract logits and true labels\n",
        "logits = predictions.predictions\n",
        "true_labels = predictions.label_ids\n",
        "\n",
        "# Convert logits to predicted class labels\n",
        "predicted_labels = np.argmax(logits, axis=-1)\n",
        "\n",
        "# Generate classification report\n",
        "report = classification_report(true_labels, predicted_labels, target_names=[\"Class 0\", \"Class 1\"])\n",
        "print(\"Classification Report:\")\n",
        "print(report)\n",
        "\n",
        "# Save the fine-tuned model and tokenizer\n",
        "model.save_pretrained(\"./fine_tuned_hatebert\")\n",
        "tokenizer.save_pretrained(\"./fine_tuned_hatebert\")\n"
      ],
      "metadata": {
        "trusted": true,
        "execution": {
          "iopub.status.busy": "2024-11-29T10:03:59.459636Z",
          "iopub.execute_input": "2024-11-29T10:03:59.460024Z",
          "iopub.status.idle": "2024-11-29T10:04:38.240607Z",
          "shell.execute_reply.started": "2024-11-29T10:03:59.459993Z",
          "shell.execute_reply": "2024-11-29T10:04:38.239704Z"
        },
        "id": "a7W44a3K4UFv",
        "outputId": "86561bd8-c5a3-4304-fc23-9797c83cca16"
      },
      "outputs": [
        {
          "name": "stderr",
          "text": "/opt/conda/lib/python3.10/site-packages/torch/nn/parallel/parallel_apply.py:79: FutureWarning: `torch.cuda.amp.autocast(args...)` is deprecated. Please use `torch.amp.autocast('cuda', args...)` instead.\n  with torch.cuda.device(device), torch.cuda.stream(stream), autocast(enabled=autocast_enabled):\n/opt/conda/lib/python3.10/site-packages/torch/nn/parallel/_functions.py:68: UserWarning: Was asked to gather along dimension 0, but all input tensors were scalars; will instead unsqueeze and return a vector.\n  warnings.warn('Was asked to gather along dimension 0, but all '\n",
          "output_type": "stream"
        },
        {
          "output_type": "display_data",
          "data": {
            "text/plain": "<IPython.core.display.HTML object>",
            "text/html": ""
          },
          "metadata": {}
        },
        {
          "name": "stdout",
          "text": "Classification Report:\n              precision    recall  f1-score   support\n\n     Class 0       0.86      0.83      0.85      1483\n     Class 1       0.83      0.86      0.85      1422\n\n    accuracy                           0.85      2905\n   macro avg       0.85      0.85      0.85      2905\nweighted avg       0.85      0.85      0.85      2905\n\n",
          "output_type": "stream"
        },
        {
          "execution_count": 15,
          "output_type": "execute_result",
          "data": {
            "text/plain": "('./fine_tuned_hatebert/tokenizer_config.json',\n './fine_tuned_hatebert/special_tokens_map.json',\n './fine_tuned_hatebert/vocab.txt',\n './fine_tuned_hatebert/added_tokens.json',\n './fine_tuned_hatebert/tokenizer.json')"
          },
          "metadata": {}
        }
      ],
      "execution_count": null
    },
    {
      "cell_type": "code",
      "source": [
        "import torch\n",
        "\n",
        "# Clear GPU memory\n",
        "torch.cuda.empty_cache()"
      ],
      "metadata": {
        "trusted": true,
        "id": "HYaZfI664UFv"
      },
      "outputs": [],
      "execution_count": null
    },
    {
      "cell_type": "markdown",
      "source": [
        "## Approach 2: Custom Fine-Tuning with PyTorch\n",
        "If you prefer more control:\n",
        "\n",
        "* Add a classification head.\n",
        "* D efine a custom training loop."
      ],
      "metadata": {
        "id": "VUiZ7Q-s4UFw"
      }
    },
    {
      "cell_type": "code",
      "source": [
        "from transformers import AutoModelForSequenceClassification, TrainingArguments, Trainer\n",
        "from datasets import Dataset\n",
        "# Ensure tokenizer is defined before the preprocess function\n",
        "from transformers import AutoTokenizer\n",
        "# Load hateBERT tokenizer and model\n",
        "base_model = \"GroNLP/hateBERT\"\n",
        "tokenizer = AutoTokenizer.from_pretrained(base_model)\n",
        "model = AutoModel.from_pretrained(base_model)\n",
        "\n"
      ],
      "metadata": {
        "trusted": true,
        "execution": {
          "iopub.status.busy": "2024-11-29T11:14:08.759744Z",
          "iopub.execute_input": "2024-11-29T11:14:08.760679Z",
          "iopub.status.idle": "2024-11-29T11:14:08.961304Z",
          "shell.execute_reply.started": "2024-11-29T11:14:08.760642Z",
          "shell.execute_reply": "2024-11-29T11:14:08.960618Z"
        },
        "id": "kNUqTYi14UFw"
      },
      "outputs": [],
      "execution_count": null
    },
    {
      "cell_type": "code",
      "source": [
        "from torch.utils.data import DataLoader, Dataset\n",
        "from torch import nn, optim\n",
        "\n",
        "# Define Dataset class\n",
        "class TextDataset(Dataset):\n",
        "    def __init__(self, texts, labels):\n",
        "        self.texts = texts\n",
        "        self.labels = labels\n",
        "\n",
        "    def __len__(self):\n",
        "        return len(self.texts)\n",
        "\n",
        "    def __getitem__(self, idx):\n",
        "        return self.texts[idx], self.labels[idx]\n",
        "\n",
        "\n",
        "# Prepare data\n",
        "train_dataset = TextDataset(train_texts.tolist(), train_labels.tolist())\n",
        "val_dataset = TextDataset(val_texts.tolist(), val_labels.tolist())\n",
        "test_dataset=TextDataset(test_texts.tolist(), test_labels.tolist())"
      ],
      "metadata": {
        "trusted": true,
        "execution": {
          "iopub.status.busy": "2024-11-29T11:10:10.227362Z",
          "iopub.execute_input": "2024-11-29T11:10:10.227995Z",
          "iopub.status.idle": "2024-11-29T11:10:10.235424Z",
          "shell.execute_reply.started": "2024-11-29T11:10:10.227962Z",
          "shell.execute_reply": "2024-11-29T11:10:10.234575Z"
        },
        "id": "efmXk2fw4UFw"
      },
      "outputs": [],
      "execution_count": null
    },
    {
      "cell_type": "code",
      "source": [
        "#Loading Data\n",
        "train_loader = DataLoader(train_dataset, batch_size=16, shuffle=True)\n",
        "val_loader = DataLoader(val_dataset, batch_size=16)\n",
        "test_loader= DataLoader(test_dataset, batch_size=16)"
      ],
      "metadata": {
        "trusted": true,
        "execution": {
          "iopub.status.busy": "2024-11-29T11:44:33.7832Z",
          "iopub.execute_input": "2024-11-29T11:44:33.7836Z",
          "iopub.status.idle": "2024-11-29T11:44:33.789137Z",
          "shell.execute_reply.started": "2024-11-29T11:44:33.783569Z",
          "shell.execute_reply": "2024-11-29T11:44:33.788407Z"
        },
        "id": "AhvJfQkY4UFx"
      },
      "outputs": [],
      "execution_count": null
    },
    {
      "cell_type": "code",
      "source": [
        "from transformers import AutoModel, AutoTokenizer\n",
        "import torch.nn as nn\n",
        "import torch.optim as optim\n",
        "\n",
        "# Initialize the base model\n",
        "base_model_name = \"GroNLP/hateBERT\"\n",
        "base_model = AutoModel.from_pretrained(base_model_name)\n",
        "\n",
        "# Define the classification head\n",
        "class HateBERTClassifier(nn.Module):\n",
        "    def __init__(self, base_model, num_labels):\n",
        "        super(HateBERTClassifier, self).__init__()\n",
        "        self.base = base_model\n",
        "        self.classifier = nn.Linear(base_model.config.hidden_size, num_labels)\n",
        "\n",
        "    def forward(self, input_ids, attention_mask, **kwargs):\n",
        "        outputs = self.base(input_ids=input_ids, attention_mask=attention_mask)\n",
        "        pooled_output = outputs.last_hidden_state.mean(dim=1)\n",
        "        return self.classifier(pooled_output)\n",
        "\n",
        "# Initialize the tokenizer\n",
        "tokenizer = AutoTokenizer.from_pretrained(base_model_name)\n",
        "\n",
        "# Instantiate the model\n",
        "num_labels = 2  # Binary classification\n",
        "device = torch.device(\"cuda\" if torch.cuda.is_available() else \"cpu\")\n",
        "model = HateBERTClassifier(base_model, num_labels).to(device)\n"
      ],
      "metadata": {
        "trusted": true,
        "execution": {
          "iopub.status.busy": "2024-11-29T11:15:06.075145Z",
          "iopub.execute_input": "2024-11-29T11:15:06.075869Z",
          "iopub.status.idle": "2024-11-29T11:15:06.528118Z",
          "shell.execute_reply.started": "2024-11-29T11:15:06.075838Z",
          "shell.execute_reply": "2024-11-29T11:15:06.527467Z"
        },
        "id": "f7oDdWWY4UFx"
      },
      "outputs": [],
      "execution_count": null
    },
    {
      "cell_type": "code",
      "source": [
        "# Training loop\n",
        "optimizer = optim.AdamW(model.parameters(), lr=5e-5)\n",
        "criterion = nn.CrossEntropyLoss()\n",
        "\n",
        "for epoch in range(4):\n",
        "    model.train()\n",
        "    for batch in train_loader:\n",
        "        texts, labels = batch\n",
        "        inputs = tokenizer(texts, return_tensors=\"pt\", padding=True, truncation=True, max_length=512)\n",
        "        inputs = {key: val.to(device) for key, val in inputs.items()}\n",
        "        labels = labels.to(device)\n",
        "\n",
        "        optimizer.zero_grad()\n",
        "        outputs = model(**inputs)\n",
        "        loss = criterion(outputs, labels)\n",
        "        loss.backward()\n",
        "        optimizer.step()\n",
        "\n",
        "    # Evaluate on validation set\n",
        "    model.eval()\n",
        "    val_accuracy = 0\n",
        "    with torch.no_grad():\n",
        "        for batch in val_loader:\n",
        "            texts, labels = batch\n",
        "            inputs = tokenizer(texts, return_tensors=\"pt\", padding=True, truncation=True, max_length=512)\n",
        "            inputs = {key: val.to(device) for key, val in inputs.items()}\n",
        "            labels = labels.to(device)\n",
        "\n",
        "            outputs = model(**inputs)\n",
        "            predictions = torch.argmax(outputs, dim=-1)\n",
        "            val_accuracy += (predictions == labels).sum().item()\n",
        "\n",
        "    val_accuracy /= len(val_dataset)\n",
        "    print(f\"Epoch {epoch + 1}, Validation Accuracy: {val_accuracy:.4f}\")\n"
      ],
      "metadata": {
        "trusted": true,
        "execution": {
          "iopub.status.busy": "2024-11-29T11:16:24.003674Z",
          "iopub.execute_input": "2024-11-29T11:16:24.004566Z",
          "iopub.status.idle": "2024-11-29T11:40:16.548586Z",
          "shell.execute_reply.started": "2024-11-29T11:16:24.004528Z",
          "shell.execute_reply": "2024-11-29T11:40:16.547726Z"
        },
        "id": "9lWyG0464UFx",
        "outputId": "e4cafa62-bbd4-4dcc-ee89-3d128e3ffe59"
      },
      "outputs": [
        {
          "name": "stdout",
          "text": "Epoch 1, Validation Accuracy: 0.7810\nEpoch 2, Validation Accuracy: 0.8511\nEpoch 3, Validation Accuracy: 0.7904\nEpoch 4, Validation Accuracy: 0.8330\n",
          "output_type": "stream"
        }
      ],
      "execution_count": null
    },
    {
      "cell_type": "code",
      "source": [
        "# Evaluate on test set\n",
        "print(\"Evaluating on test set...\")\n",
        "model.eval()\n",
        "all_test_predictions = []\n",
        "all_test_labels = []\n",
        "with torch.no_grad():\n",
        "    for batch in test_loader:\n",
        "        texts, labels = batch\n",
        "        inputs = tokenizer(texts, return_tensors=\"pt\", padding=True, truncation=True, max_length=512)\n",
        "        inputs = {key: val.to(device) for key, val in inputs.items()}\n",
        "        labels = labels.to(device)\n",
        "\n",
        "        outputs = model(**inputs)\n",
        "        predictions = torch.argmax(outputs, dim=-1)\n",
        "\n",
        "        # Collect predictions and labels for classification report\n",
        "        all_test_predictions.extend(predictions.cpu().numpy())\n",
        "        all_test_labels.extend(labels.cpu().numpy())\n",
        "\n",
        "# Calculate test metrics\n",
        "test_accuracy = (np.array(all_test_predictions) == np.array(all_test_labels)).mean()\n",
        "print(f\"Test Accuracy: {test_accuracy:.4f}\")\n",
        "\n",
        "# Generate classification report\n",
        "class_names = ['Neutral', 'Hate']\n",
        "report = classification_report(all_test_labels, all_test_predictions, target_names=class_names)\n",
        "print(f\"Classification Report on Test Set:\\n{report}\")\n",
        "\n"
      ],
      "metadata": {
        "trusted": true,
        "execution": {
          "iopub.status.busy": "2024-11-29T11:56:59.963337Z",
          "iopub.execute_input": "2024-11-29T11:56:59.963707Z",
          "iopub.status.idle": "2024-11-29T11:57:30.764587Z",
          "shell.execute_reply.started": "2024-11-29T11:56:59.963675Z",
          "shell.execute_reply": "2024-11-29T11:57:30.763253Z"
        },
        "id": "DLY5MC174UFx",
        "outputId": "4ecf367a-ff88-4697-b1af-5a48bb47079c"
      },
      "outputs": [
        {
          "name": "stdout",
          "text": "Evaluating on test set...\nTest Accuracy: 0.8482\nClassification Report on Test Set:\n              precision    recall  f1-score   support\n\n     Neutral       0.85      0.85      0.85      1483\n        Hate       0.85      0.84      0.84      1422\n\n    accuracy                           0.85      2905\n   macro avg       0.85      0.85      0.85      2905\nweighted avg       0.85      0.85      0.85      2905\n\n",
          "output_type": "stream"
        }
      ],
      "execution_count": null
    },
    {
      "cell_type": "markdown",
      "source": [
        "## Approach 3: Freez base-model parameters\n",
        "- freez the base model parameters\n",
        "- add couple of lstm and Dense layers\n",
        "- optimise the parameters of the newely added layers"
      ],
      "metadata": {
        "id": "x9BXVEBq4UFy"
      }
    },
    {
      "cell_type": "code",
      "source": [
        "from transformers import AutoModel, AutoTokenizer\n",
        "import torch\n",
        "import torch.nn as nn\n",
        "import torch.optim as optim\n",
        "\n",
        "# Initialize the base model\n",
        "base_model_name = \"GroNLP/hateBERT\"  # Replace with your model's name\n",
        "base_model = AutoModel.from_pretrained(base_model_name)\n",
        "\n",
        "\n",
        "# Define the classification model with two LSTM layers and three dense layers\n",
        "class HateBERTClassifier(nn.Module):\n",
        "    def __init__(self, base_model, num_labels, lstm_hidden_size=128, dense_hidden_size=64, dropout_prob=0.3):\n",
        "        super(HateBERTClassifier, self).__init__()\n",
        "        self.base = base_model\n",
        "\n",
        "        # Freeze pretrained parameters\n",
        "        for param in self.base.parameters():\n",
        "            param.requires_grad = False\n",
        "\n",
        "        # First LSTM layer\n",
        "        self.lstm1 = nn.LSTM(\n",
        "            input_size=self.base.config.hidden_size,\n",
        "            hidden_size=lstm_hidden_size,\n",
        "            num_layers=1,\n",
        "            batch_first=True,\n",
        "            bidirectional=True,\n",
        "        )\n",
        "\n",
        "        # Second LSTM layer\n",
        "        self.lstm2 = nn.LSTM(\n",
        "            input_size=lstm_hidden_size * 2,\n",
        "            hidden_size=lstm_hidden_size,\n",
        "            num_layers=1,\n",
        "            batch_first=True,\n",
        "            bidirectional=True,\n",
        "        )\n",
        "\n",
        "        # Fully connected dense layers\n",
        "        self.dense1 = nn.Linear(lstm_hidden_size * 2, dense_hidden_size)\n",
        "        self.dense2 = nn.Linear(dense_hidden_size, dense_hidden_size)\n",
        "        self.dense3 = nn.Linear(dense_hidden_size, dense_hidden_size)\n",
        "\n",
        "        # Dropout\n",
        "        self.dropout = nn.Dropout(dropout_prob)\n",
        "\n",
        "        # Final output layer\n",
        "        self.output_layer = nn.Linear(dense_hidden_size, num_labels)\n",
        "\n",
        "    def forward(self, input_ids, attention_mask, **kwargs):\n",
        "        # Get base model outputs\n",
        "        outputs = self.base(input_ids=input_ids, attention_mask=attention_mask)\n",
        "        sequence_output = outputs.last_hidden_state  # Shape: (batch_size, seq_len, hidden_size)\n",
        "\n",
        "        # Pass through the first LSTM layer\n",
        "        lstm1_output, _ = self.lstm1(sequence_output)  # Shape: (batch_size, seq_len, 2*lstm_hidden_size)\n",
        "\n",
        "        # Pass through the second LSTM layer\n",
        "        lstm2_output, _ = self.lstm2(lstm1_output)  # Shape: (batch_size, seq_len, 2*lstm_hidden_size)\n",
        "\n",
        "        # Pooling: Use the mean of the second LSTM outputs\n",
        "        pooled_output = lstm2_output.mean(dim=1)  # Shape: (batch_size, 2*lstm_hidden_size)\n",
        "\n",
        "        # Pass through dense layers\n",
        "        x = self.dropout(pooled_output)\n",
        "        x = torch.relu(self.dense1(x))\n",
        "        x = self.dropout(torch.relu(self.dense2(x)))\n",
        "        x = self.dropout(torch.relu(self.dense3(x)))\n",
        "\n",
        "        # Final output layer\n",
        "        return self.output_layer(x)\n",
        "\n",
        "# Initialize the tokenizer\n",
        "tokenizer = AutoTokenizer.from_pretrained(base_model_name)\n",
        "\n",
        "# Instantiate the model\n",
        "num_labels = 2  # Binary classification\n",
        "device = torch.device(\"cuda\" if torch.cuda.is_available() else \"cpu\")\n",
        "model = HateBERTClassifier(base_model, num_labels).to(device)\n"
      ],
      "metadata": {
        "trusted": true,
        "execution": {
          "iopub.status.busy": "2024-11-29T11:59:22.927972Z",
          "iopub.execute_input": "2024-11-29T11:59:22.928673Z",
          "iopub.status.idle": "2024-11-29T11:59:23.478934Z",
          "shell.execute_reply.started": "2024-11-29T11:59:22.928639Z",
          "shell.execute_reply": "2024-11-29T11:59:23.478202Z"
        },
        "id": "O3Pjhr0m4UFy"
      },
      "outputs": [],
      "execution_count": null
    },
    {
      "cell_type": "code",
      "source": [
        "print(model)"
      ],
      "metadata": {
        "trusted": true,
        "execution": {
          "iopub.status.busy": "2024-11-29T12:00:19.127079Z",
          "iopub.execute_input": "2024-11-29T12:00:19.127928Z",
          "iopub.status.idle": "2024-11-29T12:00:19.136061Z",
          "shell.execute_reply.started": "2024-11-29T12:00:19.127893Z",
          "shell.execute_reply": "2024-11-29T12:00:19.134965Z"
        },
        "id": "skSfDEuA4UFy",
        "outputId": "a712a181-704d-4861-d43f-76d182c7eee5"
      },
      "outputs": [
        {
          "name": "stdout",
          "text": "HateBERTClassifier(\n  (base): BertModel(\n    (embeddings): BertEmbeddings(\n      (word_embeddings): Embedding(30522, 768, padding_idx=0)\n      (position_embeddings): Embedding(512, 768)\n      (token_type_embeddings): Embedding(2, 768)\n      (LayerNorm): LayerNorm((768,), eps=1e-12, elementwise_affine=True)\n      (dropout): Dropout(p=0.1, inplace=False)\n    )\n    (encoder): BertEncoder(\n      (layer): ModuleList(\n        (0-11): 12 x BertLayer(\n          (attention): BertAttention(\n            (self): BertSdpaSelfAttention(\n              (query): Linear(in_features=768, out_features=768, bias=True)\n              (key): Linear(in_features=768, out_features=768, bias=True)\n              (value): Linear(in_features=768, out_features=768, bias=True)\n              (dropout): Dropout(p=0.1, inplace=False)\n            )\n            (output): BertSelfOutput(\n              (dense): Linear(in_features=768, out_features=768, bias=True)\n              (LayerNorm): LayerNorm((768,), eps=1e-12, elementwise_affine=True)\n              (dropout): Dropout(p=0.1, inplace=False)\n            )\n          )\n          (intermediate): BertIntermediate(\n            (dense): Linear(in_features=768, out_features=3072, bias=True)\n            (intermediate_act_fn): GELUActivation()\n          )\n          (output): BertOutput(\n            (dense): Linear(in_features=3072, out_features=768, bias=True)\n            (LayerNorm): LayerNorm((768,), eps=1e-12, elementwise_affine=True)\n            (dropout): Dropout(p=0.1, inplace=False)\n          )\n        )\n      )\n    )\n    (pooler): BertPooler(\n      (dense): Linear(in_features=768, out_features=768, bias=True)\n      (activation): Tanh()\n    )\n  )\n  (lstm1): LSTM(768, 128, batch_first=True, bidirectional=True)\n  (lstm2): LSTM(256, 128, batch_first=True, bidirectional=True)\n  (dense1): Linear(in_features=256, out_features=64, bias=True)\n  (dense2): Linear(in_features=64, out_features=64, bias=True)\n  (dense3): Linear(in_features=64, out_features=64, bias=True)\n  (dropout): Dropout(p=0.3, inplace=False)\n  (output_layer): Linear(in_features=64, out_features=2, bias=True)\n)\n",
          "output_type": "stream"
        }
      ],
      "execution_count": null
    },
    {
      "cell_type": "code",
      "source": [
        "# Optimizer and loss\n",
        "optimizer = optim.AdamW(filter(lambda p: p.requires_grad, model.parameters()), lr=5e-5)\n",
        "criterion = nn.CrossEntropyLoss()\n",
        "\n",
        "# Training loop\n",
        "for epoch in tqdm(range(4)):\n",
        "    model.train()\n",
        "    for batch in train_loader:\n",
        "        texts, labels = batch\n",
        "        inputs = tokenizer(texts, return_tensors=\"pt\", padding=True, truncation=True, max_length=512)\n",
        "        inputs = {key: val.to(device) for key, val in inputs.items() if key != \"token_type_ids\"}\n",
        "        labels = labels.to(device)\n",
        "\n",
        "        optimizer.zero_grad()\n",
        "        outputs = model(**inputs)\n",
        "        loss = criterion(outputs, labels)\n",
        "        loss.backward()\n",
        "        optimizer.step()\n",
        "\n",
        "    # Evaluate on validation set\n",
        "    model.eval()\n",
        "    val_accuracy = 0\n",
        "    with torch.no_grad():\n",
        "        for batch in val_loader:\n",
        "            texts, labels = batch\n",
        "            inputs = tokenizer(texts, return_tensors=\"pt\", padding=True, truncation=True, max_length=512)\n",
        "            inputs = {key: val.to(device) for key, val in inputs.items() if key != \"token_type_ids\"}\n",
        "            labels = labels.to(device)\n",
        "\n",
        "            outputs = model(**inputs)\n",
        "            predictions = torch.argmax(outputs, dim=-1)\n",
        "            val_accuracy += (predictions == labels).sum().item()\n",
        "\n",
        "    val_accuracy /= len(val_dataset)\n",
        "    print(f\"Epoch {epoch + 1}, Validation Accuracy: {val_accuracy:.4f}\")\n"
      ],
      "metadata": {
        "trusted": true,
        "execution": {
          "iopub.status.busy": "2024-11-29T12:14:13.703785Z",
          "iopub.execute_input": "2024-11-29T12:14:13.704427Z",
          "iopub.status.idle": "2024-11-29T12:24:00.619407Z"
        },
        "id": "Ebhlr5fX4UFy",
        "outputId": "cd6e90d9-b036-4152-a248-8ae522b32bef"
      },
      "outputs": [
        {
          "name": "stderr",
          "text": " 25%|██▌       | 1/4 [02:26<07:20, 146.77s/it]",
          "output_type": "stream"
        },
        {
          "name": "stdout",
          "text": "Epoch 1, Validation Accuracy: 0.7620\n",
          "output_type": "stream"
        },
        {
          "name": "stderr",
          "text": " 50%|█████     | 2/4 [04:53<04:53, 146.64s/it]",
          "output_type": "stream"
        },
        {
          "name": "stdout",
          "text": "Epoch 2, Validation Accuracy: 0.7754\n",
          "output_type": "stream"
        },
        {
          "name": "stderr",
          "text": " 75%|███████▌  | 3/4 [07:20<02:26, 146.93s/it]",
          "output_type": "stream"
        },
        {
          "name": "stdout",
          "text": "Epoch 3, Validation Accuracy: 0.7775\n",
          "output_type": "stream"
        },
        {
          "name": "stderr",
          "text": "100%|██████████| 4/4 [09:46<00:00, 146.72s/it]",
          "output_type": "stream"
        },
        {
          "name": "stdout",
          "text": "Epoch 4, Validation Accuracy: 0.7565\n",
          "output_type": "stream"
        },
        {
          "name": "stderr",
          "text": "\n",
          "output_type": "stream"
        }
      ],
      "execution_count": null
    },
    {
      "cell_type": "code",
      "source": [
        "# Evaluate on test set\n",
        "print(\"Evaluating on test set...\")\n",
        "model.eval()\n",
        "all_test_predictions = []\n",
        "all_test_labels = []\n",
        "with torch.no_grad():\n",
        "    for batch in test_loader:\n",
        "        texts, labels = batch\n",
        "        inputs = tokenizer(texts, return_tensors=\"pt\", padding=True, truncation=True, max_length=512)\n",
        "        inputs = {key: val.to(device) for key, val in inputs.items()}\n",
        "        labels = labels.to(device)\n",
        "\n",
        "        outputs = model(**inputs)\n",
        "        predictions = torch.argmax(outputs, dim=-1)\n",
        "\n",
        "        # Collect predictions and labels for classification report\n",
        "        all_test_predictions.extend(predictions.cpu().numpy())\n",
        "        all_test_labels.extend(labels.cpu().numpy())\n",
        "\n",
        "# Calculate test metrics\n",
        "test_accuracy = (np.array(all_test_predictions) == np.array(all_test_labels)).mean()\n",
        "print(f\"Test Accuracy: {test_accuracy:.4f}\")\n",
        "\n",
        "# Generate classification report\n",
        "class_names = ['Neutral', 'Hate']\n",
        "report = classification_report(all_test_labels, all_test_predictions, target_names=class_names)\n",
        "print(f\"Classification Report on Test Set:\\n{report}\")"
      ],
      "metadata": {
        "trusted": true,
        "execution": {
          "iopub.status.busy": "2024-11-29T12:11:48.967527Z",
          "iopub.execute_input": "2024-11-29T12:11:48.968165Z",
          "iopub.status.idle": "2024-11-29T12:12:24.892601Z",
          "shell.execute_reply.started": "2024-11-29T12:11:48.96813Z",
          "shell.execute_reply": "2024-11-29T12:12:24.89173Z"
        },
        "id": "xPPEVnFu4UFz",
        "outputId": "faf23479-682c-48b1-a9c6-a2aab59cc09f"
      },
      "outputs": [
        {
          "name": "stdout",
          "text": "Evaluating on test set...\nTest Accuracy: 0.7972\nClassification Report on Test Set:\n              precision    recall  f1-score   support\n\n     Neutral       0.80      0.80      0.80      1483\n        Hate       0.79      0.80      0.79      1422\n\n    accuracy                           0.80      2905\n   macro avg       0.80      0.80      0.80      2905\nweighted avg       0.80      0.80      0.80      2905\n\n",
          "output_type": "stream"
        }
      ],
      "execution_count": null
    }
  ]
}