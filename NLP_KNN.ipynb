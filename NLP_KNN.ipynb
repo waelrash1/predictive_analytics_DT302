{
  "cells": [
    {
      "cell_type": "markdown",
      "metadata": {
        "id": "view-in-github",
        "colab_type": "text"
      },
      "source": [
        "<a href=\"https://colab.research.google.com/github/waelrash1/predictive_analytics_DT302/blob/main/NLP_KNN.ipynb\" target=\"_parent\"><img src=\"https://colab.research.google.com/assets/colab-badge.svg\" alt=\"Open In Colab\"/></a>"
      ]
    },
    {
      "cell_type": "markdown",
      "metadata": {
        "id": "mQ_5cOKU6kXs"
      },
      "source": []
    },
    {
      "cell_type": "markdown",
      "metadata": {
        "id": "JZj2oO4Z6kXw"
      },
      "source": [
        "# Natural Language Processing </a>\n",
        "\n",
        "## K Nearest Neighbors Model for a Classification Problem: Classify Product Reviews as Positive or Negative\n",
        "\n",
        "In this notebook, we use the K Nearest Neighbors method to build a classifier to predict the __isPositive__ field of our review dataset (that is very similar to the final project dataset).\n",
        "\n",
        "\n",
        "1. <a href=\"#1\">Reading the dataset</a>\n",
        "2. <a href=\"#2\">Exploratory data analysis</a>\n",
        "3. <a href=\"#3\">Text Processing: Stop words removal and stemming</a>\n",
        "4. <a href=\"#4\">Train - Validation Split</a>\n",
        "5. <a href=\"#5\">Data processing with Pipeline</a>\n",
        "6. <a href=\"#6\">Train the classifier</a>\n",
        "7. <a href=\"#7\">Test the classifier</a> Find more details on the KNN Classifier here: https://scikit-learn.org/stable/modules/generated/sklearn.neighbors.KNeighborsClassifier.html\n",
        "8. <a href=\"#8\">Ideas for improvement</a>\n",
        "\n",
        "Overall dataset schema:\n",
        "* __reviewText:__ Text of the review\n",
        "* __summary:__ Summary of the review\n",
        "* __verified:__ Whether the purchase was verified (True or False)\n",
        "* __time:__ UNIX timestamp for the review\n",
        "* __log_votes:__ Logarithm-adjusted votes log(1+votes). *This field is a processed version of the votes field. People can click on the \"helpful\" button when they find a customer review helpful. This increases the vote by 1. __log_votes__ is calculated like this log(1+votes). This formulation helps us get a smaller range for votes.*\n",
        "* __isPositive:__ Whether the review is positive or negative (1 or 0)\n"
      ]
    },
    {
      "cell_type": "markdown",
      "metadata": {
        "id": "zQegYSTv6kXz"
      },
      "source": [
        "## 1. <a name=\"1\">Reading the dataset</a>\n",
        "(<a href=\"#0\">Go to top</a>)\n",
        "\n",
        "We will use the __pandas__ library to read our dataset."
      ]
    },
    {
      "cell_type": "code",
      "execution_count": 3,
      "metadata": {
        "colab": {
          "base_uri": "https://localhost:8080/"
        },
        "id": "S_8_A8GV6kXz",
        "outputId": "6d819a9c-d91e-4f65-a820-b66a268c2514"
      },
      "outputs": [
        {
          "output_type": "stream",
          "name": "stdout",
          "text": [
            "The shape of the dataset is: (70000, 6)\n"
          ]
        }
      ],
      "source": [
        "import pandas as pd\n",
        "\n",
        "df = pd.read_csv('https://raw.githubusercontent.com/aws-samples/aws-machine-learning-university-accelerated-nlp/master/data/examples/AMAZON-REVIEW-DATA-CLASSIFICATION.csv')\n",
        "\n",
        "print('The shape of the dataset is:', df.shape)"
      ]
    },
    {
      "cell_type": "markdown",
      "metadata": {
        "id": "EPBFmtxM6kX0"
      },
      "source": [
        "Let's look at the first 10 rows of the dataset. "
      ]
    },
    {
      "cell_type": "code",
      "execution_count": 4,
      "metadata": {
        "colab": {
          "base_uri": "https://localhost:8080/",
          "height": 363
        },
        "id": "gDl86DDk6kX0",
        "outputId": "9ae0c915-080b-45ed-c72d-8652d6e4ba6b"
      },
      "outputs": [
        {
          "output_type": "execute_result",
          "data": {
            "text/plain": [
              "                                          reviewText  \\\n",
              "0  PURCHASED FOR YOUNGSTER WHO\\nINHERITED MY \"TOO...   \n",
              "1                              unable to open or use   \n",
              "2   Waste of money!!! It wouldn't load to my system.   \n",
              "3  I attempted to install this OS on two differen...   \n",
              "4  I've spent 14 fruitless hours over the past tw...   \n",
              "5  I purchased the home and business because I wa...   \n",
              "6  The download doesn't take long at all. And it'...   \n",
              "7  This program is positively wonderful for word ...   \n",
              "8   Fantastic protection!!  Great customer support!!   \n",
              "9  Obviously Win 7 now the last great operating s...   \n",
              "\n",
              "                                             summary  verified        time  \\\n",
              "0                                IDEAL FOR BEGINNER!      True  1361836800   \n",
              "1                                          Two Stars      True  1452643200   \n",
              "2                                       Dont buy it!      True  1433289600   \n",
              "3  I attempted to install this OS on two differen...      True  1518912000   \n",
              "4                                   Do NOT Download.      True  1441929600   \n",
              "5        Quicken home and business  not for amatures      True  1335312000   \n",
              "6                                             Great!      True  1377993600   \n",
              "7                             Terrific for practice.     False  1158364800   \n",
              "8                                         Five Stars      True  1478476800   \n",
              "9                                         Five Stars      True  1471478400   \n",
              "\n",
              "   log_votes  isPositive  \n",
              "0   0.000000         1.0  \n",
              "1   0.000000         0.0  \n",
              "2   0.000000         0.0  \n",
              "3   0.000000         0.0  \n",
              "4   1.098612         0.0  \n",
              "5   0.000000         0.0  \n",
              "6   0.000000         1.0  \n",
              "7   2.397895         1.0  \n",
              "8   0.000000         1.0  \n",
              "9   0.000000         1.0  "
            ],
            "text/html": [
              "\n",
              "  <div id=\"df-21f35ae6-2d62-4a47-898a-d7a689c934ca\">\n",
              "    <div class=\"colab-df-container\">\n",
              "      <div>\n",
              "<style scoped>\n",
              "    .dataframe tbody tr th:only-of-type {\n",
              "        vertical-align: middle;\n",
              "    }\n",
              "\n",
              "    .dataframe tbody tr th {\n",
              "        vertical-align: top;\n",
              "    }\n",
              "\n",
              "    .dataframe thead th {\n",
              "        text-align: right;\n",
              "    }\n",
              "</style>\n",
              "<table border=\"1\" class=\"dataframe\">\n",
              "  <thead>\n",
              "    <tr style=\"text-align: right;\">\n",
              "      <th></th>\n",
              "      <th>reviewText</th>\n",
              "      <th>summary</th>\n",
              "      <th>verified</th>\n",
              "      <th>time</th>\n",
              "      <th>log_votes</th>\n",
              "      <th>isPositive</th>\n",
              "    </tr>\n",
              "  </thead>\n",
              "  <tbody>\n",
              "    <tr>\n",
              "      <th>0</th>\n",
              "      <td>PURCHASED FOR YOUNGSTER WHO\\nINHERITED MY \"TOO...</td>\n",
              "      <td>IDEAL FOR BEGINNER!</td>\n",
              "      <td>True</td>\n",
              "      <td>1361836800</td>\n",
              "      <td>0.000000</td>\n",
              "      <td>1.0</td>\n",
              "    </tr>\n",
              "    <tr>\n",
              "      <th>1</th>\n",
              "      <td>unable to open or use</td>\n",
              "      <td>Two Stars</td>\n",
              "      <td>True</td>\n",
              "      <td>1452643200</td>\n",
              "      <td>0.000000</td>\n",
              "      <td>0.0</td>\n",
              "    </tr>\n",
              "    <tr>\n",
              "      <th>2</th>\n",
              "      <td>Waste of money!!! It wouldn't load to my system.</td>\n",
              "      <td>Dont buy it!</td>\n",
              "      <td>True</td>\n",
              "      <td>1433289600</td>\n",
              "      <td>0.000000</td>\n",
              "      <td>0.0</td>\n",
              "    </tr>\n",
              "    <tr>\n",
              "      <th>3</th>\n",
              "      <td>I attempted to install this OS on two differen...</td>\n",
              "      <td>I attempted to install this OS on two differen...</td>\n",
              "      <td>True</td>\n",
              "      <td>1518912000</td>\n",
              "      <td>0.000000</td>\n",
              "      <td>0.0</td>\n",
              "    </tr>\n",
              "    <tr>\n",
              "      <th>4</th>\n",
              "      <td>I've spent 14 fruitless hours over the past tw...</td>\n",
              "      <td>Do NOT Download.</td>\n",
              "      <td>True</td>\n",
              "      <td>1441929600</td>\n",
              "      <td>1.098612</td>\n",
              "      <td>0.0</td>\n",
              "    </tr>\n",
              "    <tr>\n",
              "      <th>5</th>\n",
              "      <td>I purchased the home and business because I wa...</td>\n",
              "      <td>Quicken home and business  not for amatures</td>\n",
              "      <td>True</td>\n",
              "      <td>1335312000</td>\n",
              "      <td>0.000000</td>\n",
              "      <td>0.0</td>\n",
              "    </tr>\n",
              "    <tr>\n",
              "      <th>6</th>\n",
              "      <td>The download doesn't take long at all. And it'...</td>\n",
              "      <td>Great!</td>\n",
              "      <td>True</td>\n",
              "      <td>1377993600</td>\n",
              "      <td>0.000000</td>\n",
              "      <td>1.0</td>\n",
              "    </tr>\n",
              "    <tr>\n",
              "      <th>7</th>\n",
              "      <td>This program is positively wonderful for word ...</td>\n",
              "      <td>Terrific for practice.</td>\n",
              "      <td>False</td>\n",
              "      <td>1158364800</td>\n",
              "      <td>2.397895</td>\n",
              "      <td>1.0</td>\n",
              "    </tr>\n",
              "    <tr>\n",
              "      <th>8</th>\n",
              "      <td>Fantastic protection!!  Great customer support!!</td>\n",
              "      <td>Five Stars</td>\n",
              "      <td>True</td>\n",
              "      <td>1478476800</td>\n",
              "      <td>0.000000</td>\n",
              "      <td>1.0</td>\n",
              "    </tr>\n",
              "    <tr>\n",
              "      <th>9</th>\n",
              "      <td>Obviously Win 7 now the last great operating s...</td>\n",
              "      <td>Five Stars</td>\n",
              "      <td>True</td>\n",
              "      <td>1471478400</td>\n",
              "      <td>0.000000</td>\n",
              "      <td>1.0</td>\n",
              "    </tr>\n",
              "  </tbody>\n",
              "</table>\n",
              "</div>\n",
              "      <button class=\"colab-df-convert\" onclick=\"convertToInteractive('df-21f35ae6-2d62-4a47-898a-d7a689c934ca')\"\n",
              "              title=\"Convert this dataframe to an interactive table.\"\n",
              "              style=\"display:none;\">\n",
              "        \n",
              "  <svg xmlns=\"http://www.w3.org/2000/svg\" height=\"24px\"viewBox=\"0 0 24 24\"\n",
              "       width=\"24px\">\n",
              "    <path d=\"M0 0h24v24H0V0z\" fill=\"none\"/>\n",
              "    <path d=\"M18.56 5.44l.94 2.06.94-2.06 2.06-.94-2.06-.94-.94-2.06-.94 2.06-2.06.94zm-11 1L8.5 8.5l.94-2.06 2.06-.94-2.06-.94L8.5 2.5l-.94 2.06-2.06.94zm10 10l.94 2.06.94-2.06 2.06-.94-2.06-.94-.94-2.06-.94 2.06-2.06.94z\"/><path d=\"M17.41 7.96l-1.37-1.37c-.4-.4-.92-.59-1.43-.59-.52 0-1.04.2-1.43.59L10.3 9.45l-7.72 7.72c-.78.78-.78 2.05 0 2.83L4 21.41c.39.39.9.59 1.41.59.51 0 1.02-.2 1.41-.59l7.78-7.78 2.81-2.81c.8-.78.8-2.07 0-2.86zM5.41 20L4 18.59l7.72-7.72 1.47 1.35L5.41 20z\"/>\n",
              "  </svg>\n",
              "      </button>\n",
              "      \n",
              "  <style>\n",
              "    .colab-df-container {\n",
              "      display:flex;\n",
              "      flex-wrap:wrap;\n",
              "      gap: 12px;\n",
              "    }\n",
              "\n",
              "    .colab-df-convert {\n",
              "      background-color: #E8F0FE;\n",
              "      border: none;\n",
              "      border-radius: 50%;\n",
              "      cursor: pointer;\n",
              "      display: none;\n",
              "      fill: #1967D2;\n",
              "      height: 32px;\n",
              "      padding: 0 0 0 0;\n",
              "      width: 32px;\n",
              "    }\n",
              "\n",
              "    .colab-df-convert:hover {\n",
              "      background-color: #E2EBFA;\n",
              "      box-shadow: 0px 1px 2px rgba(60, 64, 67, 0.3), 0px 1px 3px 1px rgba(60, 64, 67, 0.15);\n",
              "      fill: #174EA6;\n",
              "    }\n",
              "\n",
              "    [theme=dark] .colab-df-convert {\n",
              "      background-color: #3B4455;\n",
              "      fill: #D2E3FC;\n",
              "    }\n",
              "\n",
              "    [theme=dark] .colab-df-convert:hover {\n",
              "      background-color: #434B5C;\n",
              "      box-shadow: 0px 1px 3px 1px rgba(0, 0, 0, 0.15);\n",
              "      filter: drop-shadow(0px 1px 2px rgba(0, 0, 0, 0.3));\n",
              "      fill: #FFFFFF;\n",
              "    }\n",
              "  </style>\n",
              "\n",
              "      <script>\n",
              "        const buttonEl =\n",
              "          document.querySelector('#df-21f35ae6-2d62-4a47-898a-d7a689c934ca button.colab-df-convert');\n",
              "        buttonEl.style.display =\n",
              "          google.colab.kernel.accessAllowed ? 'block' : 'none';\n",
              "\n",
              "        async function convertToInteractive(key) {\n",
              "          const element = document.querySelector('#df-21f35ae6-2d62-4a47-898a-d7a689c934ca');\n",
              "          const dataTable =\n",
              "            await google.colab.kernel.invokeFunction('convertToInteractive',\n",
              "                                                     [key], {});\n",
              "          if (!dataTable) return;\n",
              "\n",
              "          const docLinkHtml = 'Like what you see? Visit the ' +\n",
              "            '<a target=\"_blank\" href=https://colab.research.google.com/notebooks/data_table.ipynb>data table notebook</a>'\n",
              "            + ' to learn more about interactive tables.';\n",
              "          element.innerHTML = '';\n",
              "          dataTable['output_type'] = 'display_data';\n",
              "          await google.colab.output.renderOutput(dataTable, element);\n",
              "          const docLink = document.createElement('div');\n",
              "          docLink.innerHTML = docLinkHtml;\n",
              "          element.appendChild(docLink);\n",
              "        }\n",
              "      </script>\n",
              "    </div>\n",
              "  </div>\n",
              "  "
            ]
          },
          "metadata": {},
          "execution_count": 4
        }
      ],
      "source": [
        "df.head(10)"
      ]
    },
    {
      "cell_type": "markdown",
      "metadata": {
        "id": "U-YR1KDK6kX1"
      },
      "source": [
        "## 2. <a name=\"2\">Exploratory data analysis</a>\n",
        "(<a href=\"#0\">Go to top</a>)"
      ]
    },
    {
      "cell_type": "markdown",
      "metadata": {
        "id": "2PkN79Hq6kX2"
      },
      "source": [
        "Let's look at the distribution of __isPositive__ field."
      ]
    },
    {
      "cell_type": "code",
      "execution_count": 5,
      "metadata": {
        "colab": {
          "base_uri": "https://localhost:8080/"
        },
        "id": "FOn08ElQ6kX2",
        "outputId": "df0dd0c4-9df4-4631-8c31-38af88b3bb3c"
      },
      "outputs": [
        {
          "output_type": "execute_result",
          "data": {
            "text/plain": [
              "1.0    43692\n",
              "0.0    26308\n",
              "Name: isPositive, dtype: int64"
            ]
          },
          "metadata": {},
          "execution_count": 5
        }
      ],
      "source": [
        "df[\"isPositive\"].value_counts()"
      ]
    },
    {
      "cell_type": "markdown",
      "metadata": {
        "id": "_490eTrz6kX3"
      },
      "source": [
        "We can check the number of missing values for each columm below."
      ]
    },
    {
      "cell_type": "code",
      "execution_count": 6,
      "metadata": {
        "colab": {
          "base_uri": "https://localhost:8080/"
        },
        "id": "DfTf3m5Z6kX3",
        "outputId": "374a736b-4dad-4211-bebe-fb07ed55afe7"
      },
      "outputs": [
        {
          "output_type": "stream",
          "name": "stdout",
          "text": [
            "reviewText    11\n",
            "summary       14\n",
            "verified       0\n",
            "time           0\n",
            "log_votes      0\n",
            "isPositive     0\n",
            "dtype: int64\n"
          ]
        }
      ],
      "source": [
        "print(df.isna().sum())"
      ]
    },
    {
      "cell_type": "markdown",
      "metadata": {
        "id": "4OhbbhJv6kX3"
      },
      "source": [
        "We have missing values in our text fields."
      ]
    },
    {
      "cell_type": "markdown",
      "metadata": {
        "id": "q_xhqPbl6kX4"
      },
      "source": [
        "## 3. <a name=\"3\">Text Processing: Stop words removal and stemming</a>\n",
        "(<a href=\"#0\">Go to top</a>)"
      ]
    },
    {
      "cell_type": "code",
      "execution_count": 7,
      "metadata": {
        "colab": {
          "base_uri": "https://localhost:8080/"
        },
        "id": "JhbQl7nE6kX4",
        "outputId": "e602ff3c-4772-4c63-e0e4-c46f0c4bc6b7"
      },
      "outputs": [
        {
          "output_type": "stream",
          "name": "stderr",
          "text": [
            "[nltk_data] Downloading package punkt to /root/nltk_data...\n",
            "[nltk_data]   Unzipping tokenizers/punkt.zip.\n",
            "[nltk_data] Downloading package stopwords to /root/nltk_data...\n",
            "[nltk_data]   Unzipping corpora/stopwords.zip.\n"
          ]
        },
        {
          "output_type": "execute_result",
          "data": {
            "text/plain": [
              "True"
            ]
          },
          "metadata": {},
          "execution_count": 7
        }
      ],
      "source": [
        "# Install the library and functions\n",
        "import nltk\n",
        "\n",
        "nltk.download('punkt')\n",
        "nltk.download('stopwords')"
      ]
    },
    {
      "cell_type": "markdown",
      "metadata": {
        "id": "sWoF6MMK6kX4"
      },
      "source": [
        "We will create the stop word removal and text cleaning processes below. NLTK library provides a list of common stop words. We will use the list, but remove some of the words from that list (because those words are actually useful to understand the sentiment in the sentence)."
      ]
    },
    {
      "cell_type": "code",
      "execution_count": 10,
      "metadata": {
        "id": "eupEq3ZK6kX5"
      },
      "outputs": [],
      "source": [
        "import nltk, re\n",
        "from nltk.corpus import stopwords\n",
        "from nltk.stem import SnowballStemmer\n",
        "from nltk.tokenize import word_tokenize\n",
        "\n",
        "# Let's get a list of stop words from the NLTK library\n",
        "stop = stopwords.words('english')\n",
        "\n",
        "# These words are important for our problem. We don't want to remove them.\n",
        "excluding = ['against', 'not', 'don', \"don't\",'ain', 'aren', \"aren't\", 'couldn', \"couldn't\",\n",
        "             'didn', \"didn't\", 'doesn', \"doesn't\", 'hadn', \"hadn't\", 'hasn', \"hasn't\", \n",
        "             'haven', \"haven't\", 'isn', \"isn't\", 'mightn', \"mightn't\", 'mustn', \"mustn't\",\n",
        "             'needn', \"needn't\",'shouldn', \"shouldn't\", 'wasn', \"wasn't\", 'weren', \n",
        "             \"weren't\", 'won', \"won't\", 'wouldn', \"wouldn't\"]\n",
        "\n",
        "# New stop word list\n",
        "stop_words = [word for word in stop if word not in excluding]\n",
        "\n",
        "snow = SnowballStemmer('english')\n",
        "\n",
        "def process_text(texts): \n",
        "    final_text_list=[]\n",
        "    for sent in texts:\n",
        "        \n",
        "        # Check if the sentence is a missing value\n",
        "        if isinstance(sent, str) == False:\n",
        "            sent = \"\"\n",
        "            \n",
        "        filtered_sentence=[]\n",
        "        \n",
        "        sent = sent.lower() # Lowercase \n",
        "        sent = sent.strip() # Remove leading/trailing whitespace\n",
        "        sent = re.sub('\\s+', ' ', sent) # Remove extra space and tabs\n",
        "        sent = re.compile('<.*?>').sub('', sent) # Remove HTML tags/markups:\n",
        "        \n",
        "        for w in word_tokenize(sent):\n",
        "            # We are applying some custom filtering here, feel free to try different things\n",
        "            # Check if it is not numeric and its length>2 and not in stop words\n",
        "            if(not w.isnumeric()) and (len(w)>2) and (w not in stop_words):  \n",
        "                # Stem and add to filtered list\n",
        "                filtered_sentence.append(snow.stem(w))\n",
        "        final_string = \" \".join(filtered_sentence) #final string of cleaned words\n",
        " \n",
        "        final_text_list.append(final_string)\n",
        "        \n",
        "    return final_text_list"
      ]
    },
    {
      "cell_type": "markdown",
      "metadata": {
        "id": "3krg9A7C6kX6"
      },
      "source": [
        "## 4. <a name=\"4\">Train - Validation Split</a>\n",
        "(<a href=\"#0\">Go to top</a>)\n",
        "\n",
        "Let's split our dataset into training (90%) and validation (10%). "
      ]
    },
    {
      "cell_type": "code",
      "execution_count": 22,
      "metadata": {
        "id": "Vbz_bVgA6kX6"
      },
      "outputs": [],
      "source": [
        "from sklearn.model_selection import train_test_split\n",
        "\n",
        "X=df[[\"reviewText\"]]\n",
        "Y=df[\"isPositive\"]\n",
        "X_train, X_val, y_train, y_val = train_test_split(X,\n",
        "                                                  Y,\n",
        "                                                  test_size=0.10,\n",
        "                                                  shuffle=True,\n",
        "                                                  random_state=324\n",
        "                                                 )"
      ]
    },
    {
      "cell_type": "code",
      "execution_count": 24,
      "metadata": {
        "colab": {
          "base_uri": "https://localhost:8080/"
        },
        "id": "1LMvwnH56kX6",
        "outputId": "1426d5f8-dfaa-48e3-c096-c0b83e396587"
      },
      "outputs": [
        {
          "output_type": "stream",
          "name": "stdout",
          "text": [
            "Processing the reviewText fields\n"
          ]
        }
      ],
      "source": [
        "print(\"Processing the reviewText fields\")\n",
        "train_text_list = process_text(X_train[\"reviewText\"].tolist())\n",
        "val_text_list = process_text(X_val[\"reviewText\"].tolist())"
      ]
    },
    {
      "cell_type": "markdown",
      "metadata": {
        "id": "aJNJMCzY6kX7"
      },
      "source": [
        "Our __process_text()__ method in section 3 uses empty string for missing values."
      ]
    },
    {
      "cell_type": "markdown",
      "metadata": {
        "id": "f-7CVs0K6kX7"
      },
      "source": [
        "## 5. <a name=\"5\">Data processing with Pipeline</a>\n",
        "(<a href=\"#0\">Go to top</a>)\n",
        "\n",
        "Today we will use a simple pipeline to use our text field and fit a simple K Nearest Neighbors classifier. This example only uses a single field (reviewText). In the next lecture, we will see how to combine multiple fields. \n",
        "\n",
        "Our CountVectorizer() will return binary values and use 15 vocabulary words. Feel free to experiment with different numbers here."
      ]
    },
    {
      "cell_type": "code",
      "execution_count": 64,
      "metadata": {
        "colab": {
          "base_uri": "https://localhost:8080/",
          "height": 126
        },
        "id": "791F74GD6kX7",
        "outputId": "0294c720-d918-4b08-f145-9a36d2a17077"
      },
      "outputs": [
        {
          "output_type": "execute_result",
          "data": {
            "text/plain": [
              "Pipeline(steps=[('text_vect', CountVectorizer(binary=True, max_features=10)),\n",
              "                ('knn', KNeighborsClassifier())])"
            ],
            "text/html": [
              "<style>#sk-2d0f62f9-055c-4271-b74b-e5594e5835d5 {color: black;background-color: white;}#sk-2d0f62f9-055c-4271-b74b-e5594e5835d5 pre{padding: 0;}#sk-2d0f62f9-055c-4271-b74b-e5594e5835d5 div.sk-toggleable {background-color: white;}#sk-2d0f62f9-055c-4271-b74b-e5594e5835d5 label.sk-toggleable__label {cursor: pointer;display: block;width: 100%;margin-bottom: 0;padding: 0.3em;box-sizing: border-box;text-align: center;}#sk-2d0f62f9-055c-4271-b74b-e5594e5835d5 label.sk-toggleable__label-arrow:before {content: \"▸\";float: left;margin-right: 0.25em;color: #696969;}#sk-2d0f62f9-055c-4271-b74b-e5594e5835d5 label.sk-toggleable__label-arrow:hover:before {color: black;}#sk-2d0f62f9-055c-4271-b74b-e5594e5835d5 div.sk-estimator:hover label.sk-toggleable__label-arrow:before {color: black;}#sk-2d0f62f9-055c-4271-b74b-e5594e5835d5 div.sk-toggleable__content {max-height: 0;max-width: 0;overflow: hidden;text-align: left;background-color: #f0f8ff;}#sk-2d0f62f9-055c-4271-b74b-e5594e5835d5 div.sk-toggleable__content pre {margin: 0.2em;color: black;border-radius: 0.25em;background-color: #f0f8ff;}#sk-2d0f62f9-055c-4271-b74b-e5594e5835d5 input.sk-toggleable__control:checked~div.sk-toggleable__content {max-height: 200px;max-width: 100%;overflow: auto;}#sk-2d0f62f9-055c-4271-b74b-e5594e5835d5 input.sk-toggleable__control:checked~label.sk-toggleable__label-arrow:before {content: \"▾\";}#sk-2d0f62f9-055c-4271-b74b-e5594e5835d5 div.sk-estimator input.sk-toggleable__control:checked~label.sk-toggleable__label {background-color: #d4ebff;}#sk-2d0f62f9-055c-4271-b74b-e5594e5835d5 div.sk-label input.sk-toggleable__control:checked~label.sk-toggleable__label {background-color: #d4ebff;}#sk-2d0f62f9-055c-4271-b74b-e5594e5835d5 input.sk-hidden--visually {border: 0;clip: rect(1px 1px 1px 1px);clip: rect(1px, 1px, 1px, 1px);height: 1px;margin: -1px;overflow: hidden;padding: 0;position: absolute;width: 1px;}#sk-2d0f62f9-055c-4271-b74b-e5594e5835d5 div.sk-estimator {font-family: monospace;background-color: #f0f8ff;border: 1px dotted black;border-radius: 0.25em;box-sizing: border-box;margin-bottom: 0.5em;}#sk-2d0f62f9-055c-4271-b74b-e5594e5835d5 div.sk-estimator:hover {background-color: #d4ebff;}#sk-2d0f62f9-055c-4271-b74b-e5594e5835d5 div.sk-parallel-item::after {content: \"\";width: 100%;border-bottom: 1px solid gray;flex-grow: 1;}#sk-2d0f62f9-055c-4271-b74b-e5594e5835d5 div.sk-label:hover label.sk-toggleable__label {background-color: #d4ebff;}#sk-2d0f62f9-055c-4271-b74b-e5594e5835d5 div.sk-serial::before {content: \"\";position: absolute;border-left: 1px solid gray;box-sizing: border-box;top: 2em;bottom: 0;left: 50%;}#sk-2d0f62f9-055c-4271-b74b-e5594e5835d5 div.sk-serial {display: flex;flex-direction: column;align-items: center;background-color: white;padding-right: 0.2em;padding-left: 0.2em;}#sk-2d0f62f9-055c-4271-b74b-e5594e5835d5 div.sk-item {z-index: 1;}#sk-2d0f62f9-055c-4271-b74b-e5594e5835d5 div.sk-parallel {display: flex;align-items: stretch;justify-content: center;background-color: white;}#sk-2d0f62f9-055c-4271-b74b-e5594e5835d5 div.sk-parallel::before {content: \"\";position: absolute;border-left: 1px solid gray;box-sizing: border-box;top: 2em;bottom: 0;left: 50%;}#sk-2d0f62f9-055c-4271-b74b-e5594e5835d5 div.sk-parallel-item {display: flex;flex-direction: column;position: relative;background-color: white;}#sk-2d0f62f9-055c-4271-b74b-e5594e5835d5 div.sk-parallel-item:first-child::after {align-self: flex-end;width: 50%;}#sk-2d0f62f9-055c-4271-b74b-e5594e5835d5 div.sk-parallel-item:last-child::after {align-self: flex-start;width: 50%;}#sk-2d0f62f9-055c-4271-b74b-e5594e5835d5 div.sk-parallel-item:only-child::after {width: 0;}#sk-2d0f62f9-055c-4271-b74b-e5594e5835d5 div.sk-dashed-wrapped {border: 1px dashed gray;margin: 0 0.4em 0.5em 0.4em;box-sizing: border-box;padding-bottom: 0.4em;background-color: white;position: relative;}#sk-2d0f62f9-055c-4271-b74b-e5594e5835d5 div.sk-label label {font-family: monospace;font-weight: bold;background-color: white;display: inline-block;line-height: 1.2em;}#sk-2d0f62f9-055c-4271-b74b-e5594e5835d5 div.sk-label-container {position: relative;z-index: 2;text-align: center;}#sk-2d0f62f9-055c-4271-b74b-e5594e5835d5 div.sk-container {/* jupyter's `normalize.less` sets `[hidden] { display: none; }` but bootstrap.min.css set `[hidden] { display: none !important; }` so we also need the `!important` here to be able to override the default hidden behavior on the sphinx rendered scikit-learn.org. See: https://github.com/scikit-learn/scikit-learn/issues/21755 */display: inline-block !important;position: relative;}#sk-2d0f62f9-055c-4271-b74b-e5594e5835d5 div.sk-text-repr-fallback {display: none;}</style><div id=\"sk-2d0f62f9-055c-4271-b74b-e5594e5835d5\" class=\"sk-top-container\"><div class=\"sk-text-repr-fallback\"><pre>Pipeline(steps=[(&#x27;text_vect&#x27;, CountVectorizer(binary=True, max_features=10)),\n",
              "                (&#x27;knn&#x27;, KNeighborsClassifier())])</pre><b>Please rerun this cell to show the HTML repr or trust the notebook.</b></div><div class=\"sk-container\" hidden><div class=\"sk-item sk-dashed-wrapped\"><div class=\"sk-label-container\"><div class=\"sk-label sk-toggleable\"><input class=\"sk-toggleable__control sk-hidden--visually\" id=\"9a757067-e8d3-4950-83db-16024637f5be\" type=\"checkbox\" ><label for=\"9a757067-e8d3-4950-83db-16024637f5be\" class=\"sk-toggleable__label sk-toggleable__label-arrow\">Pipeline</label><div class=\"sk-toggleable__content\"><pre>Pipeline(steps=[(&#x27;text_vect&#x27;, CountVectorizer(binary=True, max_features=10)),\n",
              "                (&#x27;knn&#x27;, KNeighborsClassifier())])</pre></div></div></div><div class=\"sk-serial\"><div class=\"sk-item\"><div class=\"sk-estimator sk-toggleable\"><input class=\"sk-toggleable__control sk-hidden--visually\" id=\"4492cc8f-17e3-4013-9e75-f31c48f85ee0\" type=\"checkbox\" ><label for=\"4492cc8f-17e3-4013-9e75-f31c48f85ee0\" class=\"sk-toggleable__label sk-toggleable__label-arrow\">CountVectorizer</label><div class=\"sk-toggleable__content\"><pre>CountVectorizer(binary=True, max_features=10)</pre></div></div></div><div class=\"sk-item\"><div class=\"sk-estimator sk-toggleable\"><input class=\"sk-toggleable__control sk-hidden--visually\" id=\"117e3c7d-3acc-4d73-94ab-611d06f17ceb\" type=\"checkbox\" ><label for=\"117e3c7d-3acc-4d73-94ab-611d06f17ceb\" class=\"sk-toggleable__label sk-toggleable__label-arrow\">KNeighborsClassifier</label><div class=\"sk-toggleable__content\"><pre>KNeighborsClassifier()</pre></div></div></div></div></div></div></div>"
            ]
          },
          "metadata": {},
          "execution_count": 64
        }
      ],
      "source": [
        "from sklearn.pipeline import Pipeline\n",
        "from sklearn.feature_extraction.text import CountVectorizer\n",
        "from sklearn.feature_extraction.text import TfidfVectorizer\n",
        "from sklearn.neighbors import KNeighborsClassifier\n",
        "\n",
        "\n",
        "import gensim\n",
        "from gensim.models import Word2Vec\n",
        "### PIPELINE ###\n",
        "##########################\n",
        "w2v = gensim.models.Word2Vec()\n",
        "pipeline = Pipeline([\n",
        "    ('text_vect', CountVectorizer(binary=True,\n",
        "    #( 'text_vect', TfidfVectorizer(use_idf=True,\n",
        "                                  max_features=10)),\n",
        "    ('knn', KNeighborsClassifier())  \n",
        "                                ])\n",
        "\n",
        "\n",
        "# Visualize the pipeline\n",
        "# This will come in handy especially when building more complex pipelines, stringing together multiple preprocessing steps\n",
        "from sklearn import set_config\n",
        "set_config(display='diagram')\n",
        "pipeline"
      ]
    },
    {
      "cell_type": "markdown",
      "metadata": {
        "id": "_7pJ3wNt6kX7"
      },
      "source": [
        "## 6. <a name=\"6\">Train the classifier</a>\n",
        "(<a href=\"#0\">Go to top</a>)\n",
        "\n",
        "We train our classifier with __.fit()__ on our training dataset. "
      ]
    },
    {
      "cell_type": "code",
      "execution_count": 65,
      "metadata": {
        "colab": {
          "base_uri": "https://localhost:8080/",
          "height": 126
        },
        "id": "Xo5AcZrO6kX8",
        "outputId": "4c9e24ad-5c45-4158-af67-b4a6b443dd95"
      },
      "outputs": [
        {
          "output_type": "execute_result",
          "data": {
            "text/plain": [
              "Pipeline(steps=[('text_vect', CountVectorizer(binary=True, max_features=10)),\n",
              "                ('knn', KNeighborsClassifier())])"
            ],
            "text/html": [
              "<style>#sk-dfccf896-0dd2-4d99-b2fd-e245a15d5661 {color: black;background-color: white;}#sk-dfccf896-0dd2-4d99-b2fd-e245a15d5661 pre{padding: 0;}#sk-dfccf896-0dd2-4d99-b2fd-e245a15d5661 div.sk-toggleable {background-color: white;}#sk-dfccf896-0dd2-4d99-b2fd-e245a15d5661 label.sk-toggleable__label {cursor: pointer;display: block;width: 100%;margin-bottom: 0;padding: 0.3em;box-sizing: border-box;text-align: center;}#sk-dfccf896-0dd2-4d99-b2fd-e245a15d5661 label.sk-toggleable__label-arrow:before {content: \"▸\";float: left;margin-right: 0.25em;color: #696969;}#sk-dfccf896-0dd2-4d99-b2fd-e245a15d5661 label.sk-toggleable__label-arrow:hover:before {color: black;}#sk-dfccf896-0dd2-4d99-b2fd-e245a15d5661 div.sk-estimator:hover label.sk-toggleable__label-arrow:before {color: black;}#sk-dfccf896-0dd2-4d99-b2fd-e245a15d5661 div.sk-toggleable__content {max-height: 0;max-width: 0;overflow: hidden;text-align: left;background-color: #f0f8ff;}#sk-dfccf896-0dd2-4d99-b2fd-e245a15d5661 div.sk-toggleable__content pre {margin: 0.2em;color: black;border-radius: 0.25em;background-color: #f0f8ff;}#sk-dfccf896-0dd2-4d99-b2fd-e245a15d5661 input.sk-toggleable__control:checked~div.sk-toggleable__content {max-height: 200px;max-width: 100%;overflow: auto;}#sk-dfccf896-0dd2-4d99-b2fd-e245a15d5661 input.sk-toggleable__control:checked~label.sk-toggleable__label-arrow:before {content: \"▾\";}#sk-dfccf896-0dd2-4d99-b2fd-e245a15d5661 div.sk-estimator input.sk-toggleable__control:checked~label.sk-toggleable__label {background-color: #d4ebff;}#sk-dfccf896-0dd2-4d99-b2fd-e245a15d5661 div.sk-label input.sk-toggleable__control:checked~label.sk-toggleable__label {background-color: #d4ebff;}#sk-dfccf896-0dd2-4d99-b2fd-e245a15d5661 input.sk-hidden--visually {border: 0;clip: rect(1px 1px 1px 1px);clip: rect(1px, 1px, 1px, 1px);height: 1px;margin: -1px;overflow: hidden;padding: 0;position: absolute;width: 1px;}#sk-dfccf896-0dd2-4d99-b2fd-e245a15d5661 div.sk-estimator {font-family: monospace;background-color: #f0f8ff;border: 1px dotted black;border-radius: 0.25em;box-sizing: border-box;margin-bottom: 0.5em;}#sk-dfccf896-0dd2-4d99-b2fd-e245a15d5661 div.sk-estimator:hover {background-color: #d4ebff;}#sk-dfccf896-0dd2-4d99-b2fd-e245a15d5661 div.sk-parallel-item::after {content: \"\";width: 100%;border-bottom: 1px solid gray;flex-grow: 1;}#sk-dfccf896-0dd2-4d99-b2fd-e245a15d5661 div.sk-label:hover label.sk-toggleable__label {background-color: #d4ebff;}#sk-dfccf896-0dd2-4d99-b2fd-e245a15d5661 div.sk-serial::before {content: \"\";position: absolute;border-left: 1px solid gray;box-sizing: border-box;top: 2em;bottom: 0;left: 50%;}#sk-dfccf896-0dd2-4d99-b2fd-e245a15d5661 div.sk-serial {display: flex;flex-direction: column;align-items: center;background-color: white;padding-right: 0.2em;padding-left: 0.2em;}#sk-dfccf896-0dd2-4d99-b2fd-e245a15d5661 div.sk-item {z-index: 1;}#sk-dfccf896-0dd2-4d99-b2fd-e245a15d5661 div.sk-parallel {display: flex;align-items: stretch;justify-content: center;background-color: white;}#sk-dfccf896-0dd2-4d99-b2fd-e245a15d5661 div.sk-parallel::before {content: \"\";position: absolute;border-left: 1px solid gray;box-sizing: border-box;top: 2em;bottom: 0;left: 50%;}#sk-dfccf896-0dd2-4d99-b2fd-e245a15d5661 div.sk-parallel-item {display: flex;flex-direction: column;position: relative;background-color: white;}#sk-dfccf896-0dd2-4d99-b2fd-e245a15d5661 div.sk-parallel-item:first-child::after {align-self: flex-end;width: 50%;}#sk-dfccf896-0dd2-4d99-b2fd-e245a15d5661 div.sk-parallel-item:last-child::after {align-self: flex-start;width: 50%;}#sk-dfccf896-0dd2-4d99-b2fd-e245a15d5661 div.sk-parallel-item:only-child::after {width: 0;}#sk-dfccf896-0dd2-4d99-b2fd-e245a15d5661 div.sk-dashed-wrapped {border: 1px dashed gray;margin: 0 0.4em 0.5em 0.4em;box-sizing: border-box;padding-bottom: 0.4em;background-color: white;position: relative;}#sk-dfccf896-0dd2-4d99-b2fd-e245a15d5661 div.sk-label label {font-family: monospace;font-weight: bold;background-color: white;display: inline-block;line-height: 1.2em;}#sk-dfccf896-0dd2-4d99-b2fd-e245a15d5661 div.sk-label-container {position: relative;z-index: 2;text-align: center;}#sk-dfccf896-0dd2-4d99-b2fd-e245a15d5661 div.sk-container {/* jupyter's `normalize.less` sets `[hidden] { display: none; }` but bootstrap.min.css set `[hidden] { display: none !important; }` so we also need the `!important` here to be able to override the default hidden behavior on the sphinx rendered scikit-learn.org. See: https://github.com/scikit-learn/scikit-learn/issues/21755 */display: inline-block !important;position: relative;}#sk-dfccf896-0dd2-4d99-b2fd-e245a15d5661 div.sk-text-repr-fallback {display: none;}</style><div id=\"sk-dfccf896-0dd2-4d99-b2fd-e245a15d5661\" class=\"sk-top-container\"><div class=\"sk-text-repr-fallback\"><pre>Pipeline(steps=[(&#x27;text_vect&#x27;, CountVectorizer(binary=True, max_features=10)),\n",
              "                (&#x27;knn&#x27;, KNeighborsClassifier())])</pre><b>Please rerun this cell to show the HTML repr or trust the notebook.</b></div><div class=\"sk-container\" hidden><div class=\"sk-item sk-dashed-wrapped\"><div class=\"sk-label-container\"><div class=\"sk-label sk-toggleable\"><input class=\"sk-toggleable__control sk-hidden--visually\" id=\"b303a3ed-31aa-499d-b3d1-f9bc7dd2e8f2\" type=\"checkbox\" ><label for=\"b303a3ed-31aa-499d-b3d1-f9bc7dd2e8f2\" class=\"sk-toggleable__label sk-toggleable__label-arrow\">Pipeline</label><div class=\"sk-toggleable__content\"><pre>Pipeline(steps=[(&#x27;text_vect&#x27;, CountVectorizer(binary=True, max_features=10)),\n",
              "                (&#x27;knn&#x27;, KNeighborsClassifier())])</pre></div></div></div><div class=\"sk-serial\"><div class=\"sk-item\"><div class=\"sk-estimator sk-toggleable\"><input class=\"sk-toggleable__control sk-hidden--visually\" id=\"c9ca43cc-235d-4e53-a16f-fe9c9fea79af\" type=\"checkbox\" ><label for=\"c9ca43cc-235d-4e53-a16f-fe9c9fea79af\" class=\"sk-toggleable__label sk-toggleable__label-arrow\">CountVectorizer</label><div class=\"sk-toggleable__content\"><pre>CountVectorizer(binary=True, max_features=10)</pre></div></div></div><div class=\"sk-item\"><div class=\"sk-estimator sk-toggleable\"><input class=\"sk-toggleable__control sk-hidden--visually\" id=\"d33dce9c-581a-4308-ae2d-5f512e2d0466\" type=\"checkbox\" ><label for=\"d33dce9c-581a-4308-ae2d-5f512e2d0466\" class=\"sk-toggleable__label sk-toggleable__label-arrow\">KNeighborsClassifier</label><div class=\"sk-toggleable__content\"><pre>KNeighborsClassifier()</pre></div></div></div></div></div></div></div>"
            ]
          },
          "metadata": {},
          "execution_count": 65
        }
      ],
      "source": [
        "# We using lists of processed text fields \n",
        "X_train = train_text_list\n",
        "X_val = val_text_list\n",
        "\n",
        "# Fit the Pipeline to training data\n",
        "pipeline.fit(X_train, y_train.values)"
      ]
    },
    {
      "cell_type": "markdown",
      "metadata": {
        "id": "eRuuu4ej6kX8"
      },
      "source": [
        "## 7. <a name=\"7\">Test the classifier</a>\n",
        "(<a href=\"#0\">Go to top</a>)\n",
        "\n",
        "Let's evaluate the performance of the trained classifier. We use __.predict()__ this time. "
      ]
    },
    {
      "cell_type": "code",
      "execution_count": 66,
      "metadata": {
        "colab": {
          "base_uri": "https://localhost:8080/"
        },
        "id": "dEm86Mbl6kX8",
        "outputId": "c443951b-33ad-4715-f318-e85254980090"
      },
      "outputs": [
        {
          "output_type": "stream",
          "name": "stdout",
          "text": [
            "[[1468 1137]\n",
            " [1843 2552]]\n",
            "              precision    recall  f1-score   support\n",
            "\n",
            "         0.0       0.44      0.56      0.50      2605\n",
            "         1.0       0.69      0.58      0.63      4395\n",
            "\n",
            "    accuracy                           0.57      7000\n",
            "   macro avg       0.57      0.57      0.56      7000\n",
            "weighted avg       0.60      0.57      0.58      7000\n",
            "\n",
            "Accuracy (validation): 0.5742857142857143\n"
          ]
        }
      ],
      "source": [
        "from sklearn.metrics import confusion_matrix, classification_report, accuracy_score\n",
        "\n",
        "# Use the fitted pipeline to make predictions on the validation dataset\n",
        "val_predictions = pipeline.predict(X_val)\n",
        "print(confusion_matrix(y_val.values, val_predictions))\n",
        "print(classification_report(y_val.values, val_predictions))\n",
        "print(\"Accuracy (validation):\", accuracy_score(y_val.values, val_predictions))"
      ]
    },
    {
      "cell_type": "markdown",
      "metadata": {
        "id": "PQUL6Y8r6kX8"
      },
      "source": [
        "## 8. <a name=\"8\">Ideas for improvement</a>\n",
        "(<a href=\"#0\">Go to top</a>)\n",
        "\n",
        "We can usually improve performance with some additional work. You can try the following:\n",
        "* Using your validation data, try different K values and look at accuracy for them.\n",
        "* Change the feature extractor to TF, TF-IDF. Also experiment with different vocabulary sizes.\n",
        "* Come up with some other features such as having certain punctuations, all-capitalized words or some words that might be useful in this problem."
      ]
    }
  ],
  "metadata": {
    "kernelspec": {
      "display_name": "conda_python3",
      "language": "python",
      "name": "conda_python3"
    },
    "language_info": {
      "codemirror_mode": {
        "name": "ipython",
        "version": 3
      },
      "file_extension": ".py",
      "mimetype": "text/x-python",
      "name": "python",
      "nbconvert_exporter": "python",
      "pygments_lexer": "ipython3",
      "version": "3.6.13"
    },
    "colab": {
      "provenance": [],
      "include_colab_link": true
    }
  },
  "nbformat": 4,
  "nbformat_minor": 0
}