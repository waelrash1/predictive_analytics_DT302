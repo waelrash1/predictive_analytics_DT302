{
  "nbformat": 4,
  "nbformat_minor": 0,
  "metadata": {
    "anaconda-cloud": {},
    "kernelspec": {
      "display_name": "Python [default]",
      "language": "python",
      "name": "python3"
    },
    "language_info": {
      "codemirror_mode": {
        "name": "ipython",
        "version": 3
      },
      "file_extension": ".py",
      "mimetype": "text/x-python",
      "name": "python",
      "nbconvert_exporter": "python",
      "pygments_lexer": "ipython3",
      "version": "3.5.2"
    },
    "colab": {
      "name": " K-Nearest Neighbors.ipynb",
      "provenance": [],
      "include_colab_link": true
    }
  },
  "cells": [
    {
      "cell_type": "markdown",
      "metadata": {
        "id": "view-in-github",
        "colab_type": "text"
      },
      "source": [
        "<a href=\"https://colab.research.google.com/github/waelrash1/predictive_analytics_DT302/blob/main/K_Nearest_Neighbors.ipynb\" target=\"_parent\"><img src=\"https://colab.research.google.com/assets/colab-badge.svg\" alt=\"Open In Colab\"/></a>"
      ]
    },
    {
      "cell_type": "markdown",
      "metadata": {
        "id": "Q7OpjXaPASts"
      },
      "source": [
        "This lab on K-Nearest Neighbors is a python adaptation of p. 163-167 of \"Introduction to Statistical Learning with Applications in R\" by Gareth James, Daniela Witten, Trevor Hastie and Robert Tibshirani. Originally adapted by Jordi Warmenhoven (github.com/JWarmenhoven/ISLR-python), modified by R. Jordan Crouser at Smith College for SDS293: Machine Learning (Spring 2016)."
      ]
    },
    {
      "cell_type": "code",
      "metadata": {
        "id": "iMxfUH5sAStw"
      },
      "source": [
        "import pandas as pd\n",
        "import numpy as np"
      ],
      "execution_count": 1,
      "outputs": []
    },
    {
      "cell_type": "markdown",
      "metadata": {
        "id": "fmxF_RU2AStx"
      },
      "source": [
        "# 4.6.5: K-Nearest Neighbors"
      ]
    },
    {
      "cell_type": "markdown",
      "metadata": {
        "id": "St8isSuaAStx"
      },
      "source": [
        "In this lab, we will perform KNN clustering on the `Smarket` dataset from `ISLR`. This data set consists of percentage returns for the S&P 500 stock index over 1,250 days, from the\n",
        "beginning of 2001 until the end of 2005. \n",
        "\n",
        "For each date, we have recorded the percentage returns for each of the five previous trading days (`Lag1` through `Lag5`). \n",
        "\n",
        "We have also recorded:\n",
        "- `Volume` (the number of shares traded on the previous day, in billions)\n",
        "- `Today` (the percentage return on the date in question) \n",
        "- `Direction` (whether the market was `Up` or `Down` on this date). \n",
        "\n",
        "We can use the `head()` function to look at the first few rows:"
      ]
    },
    {
      "cell_type": "code",
      "metadata": {
        "colab": {
          "base_uri": "https://localhost:8080/",
          "height": 236
        },
        "id": "mYyWoBjcASty",
        "outputId": "964e9c72-d434-4a26-b7ad-92b6a49dc7a5"
      },
      "source": [
        "#uploading dataset\n",
        "url='https://raw.githubusercontent.com/selva86/datasets/master/Smarket.csv'\n",
        "df = pd.read_csv(url, index_col=0, parse_dates = True)\n",
        "df.head()"
      ],
      "execution_count": 6,
      "outputs": [
        {
          "output_type": "execute_result",
          "data": {
            "text/html": [
              "<div>\n",
              "<style scoped>\n",
              "    .dataframe tbody tr th:only-of-type {\n",
              "        vertical-align: middle;\n",
              "    }\n",
              "\n",
              "    .dataframe tbody tr th {\n",
              "        vertical-align: top;\n",
              "    }\n",
              "\n",
              "    .dataframe thead th {\n",
              "        text-align: right;\n",
              "    }\n",
              "</style>\n",
              "<table border=\"1\" class=\"dataframe\">\n",
              "  <thead>\n",
              "    <tr style=\"text-align: right;\">\n",
              "      <th></th>\n",
              "      <th>Lag1</th>\n",
              "      <th>Lag2</th>\n",
              "      <th>Lag3</th>\n",
              "      <th>Lag4</th>\n",
              "      <th>Lag5</th>\n",
              "      <th>Volume</th>\n",
              "      <th>Today</th>\n",
              "      <th>Direction</th>\n",
              "    </tr>\n",
              "    <tr>\n",
              "      <th>Year</th>\n",
              "      <th></th>\n",
              "      <th></th>\n",
              "      <th></th>\n",
              "      <th></th>\n",
              "      <th></th>\n",
              "      <th></th>\n",
              "      <th></th>\n",
              "      <th></th>\n",
              "    </tr>\n",
              "  </thead>\n",
              "  <tbody>\n",
              "    <tr>\n",
              "      <th>2001-01-01</th>\n",
              "      <td>0.381</td>\n",
              "      <td>-0.192</td>\n",
              "      <td>-2.624</td>\n",
              "      <td>-1.055</td>\n",
              "      <td>5.010</td>\n",
              "      <td>1.1913</td>\n",
              "      <td>0.959</td>\n",
              "      <td>Up</td>\n",
              "    </tr>\n",
              "    <tr>\n",
              "      <th>2001-01-01</th>\n",
              "      <td>0.959</td>\n",
              "      <td>0.381</td>\n",
              "      <td>-0.192</td>\n",
              "      <td>-2.624</td>\n",
              "      <td>-1.055</td>\n",
              "      <td>1.2965</td>\n",
              "      <td>1.032</td>\n",
              "      <td>Up</td>\n",
              "    </tr>\n",
              "    <tr>\n",
              "      <th>2001-01-01</th>\n",
              "      <td>1.032</td>\n",
              "      <td>0.959</td>\n",
              "      <td>0.381</td>\n",
              "      <td>-0.192</td>\n",
              "      <td>-2.624</td>\n",
              "      <td>1.4112</td>\n",
              "      <td>-0.623</td>\n",
              "      <td>Down</td>\n",
              "    </tr>\n",
              "    <tr>\n",
              "      <th>2001-01-01</th>\n",
              "      <td>-0.623</td>\n",
              "      <td>1.032</td>\n",
              "      <td>0.959</td>\n",
              "      <td>0.381</td>\n",
              "      <td>-0.192</td>\n",
              "      <td>1.2760</td>\n",
              "      <td>0.614</td>\n",
              "      <td>Up</td>\n",
              "    </tr>\n",
              "    <tr>\n",
              "      <th>2001-01-01</th>\n",
              "      <td>0.614</td>\n",
              "      <td>-0.623</td>\n",
              "      <td>1.032</td>\n",
              "      <td>0.959</td>\n",
              "      <td>0.381</td>\n",
              "      <td>1.2057</td>\n",
              "      <td>0.213</td>\n",
              "      <td>Up</td>\n",
              "    </tr>\n",
              "  </tbody>\n",
              "</table>\n",
              "</div>"
            ],
            "text/plain": [
              "             Lag1   Lag2   Lag3   Lag4   Lag5  Volume  Today Direction\n",
              "Year                                                                  \n",
              "2001-01-01  0.381 -0.192 -2.624 -1.055  5.010  1.1913  0.959        Up\n",
              "2001-01-01  0.959  0.381 -0.192 -2.624 -1.055  1.2965  1.032        Up\n",
              "2001-01-01  1.032  0.959  0.381 -0.192 -2.624  1.4112 -0.623      Down\n",
              "2001-01-01 -0.623  1.032  0.959  0.381 -0.192  1.2760  0.614        Up\n",
              "2001-01-01  0.614 -0.623  1.032  0.959  0.381  1.2057  0.213        Up"
            ]
          },
          "metadata": {},
          "execution_count": 6
        }
      ]
    },
    {
      "cell_type": "markdown",
      "metadata": {
        "id": "9wBtow9WASty"
      },
      "source": [
        "Today we're going to try to predict `Direction` using percentage returns from the previous two days (`Lag1` and `Lag2`). We'll build our model using the `KNeighborsClassifier()` function, which is part of the\n",
        "`neighbors` submodule of SciKitLearn (`sklearn`). We'll also grab a couple of useful tools from the `metrics` submodule:"
      ]
    },
    {
      "cell_type": "code",
      "metadata": {
        "collapsed": true,
        "id": "GTOfYZYkAStz"
      },
      "source": [
        "from sklearn import neighbors\n",
        "from sklearn.metrics import confusion_matrix, classification_report"
      ],
      "execution_count": 7,
      "outputs": []
    },
    {
      "cell_type": "markdown",
      "metadata": {
        "id": "SlYmZsmDAStz"
      },
      "source": [
        "This function works rather differently from the other model-fitting\n",
        "functions that we have encountered thus far. Rather than a two-step\n",
        "approach in which we first fit the model and then we use the model to make\n",
        "predictions, `knn()` forms predictions using a single command. The function\n",
        "requires four inputs.\n",
        "   1. A matrix containing the predictors associated with the training data,\n",
        "labeled `X_train` below.\n",
        "   2. A matrix containing the predictors associated with the test data, labeled `X_test` below.\n",
        "   3. A vector containing the class labels for the training observations,\n",
        "labeled `Y_train` below.\n",
        "   4. A value for `K`, the number of nearest neighbors to be used by the\n",
        "classifier.\n",
        "\n",
        "We'll first create a vector corresponding to the observations from 2001 through 2004, which we'll use to train the model. We will then use this vector to create a held out data set of observations from 2005 on which we will test. We'll also pull out our training and test labels."
      ]
    },
    {
      "cell_type": "code",
      "metadata": {
        "id": "C3GVA12mASt0"
      },
      "source": [
        "X_train = df[:'2004'][['Lag1','Lag2']]\n",
        "y_train = df[:'2004']['Direction']\n",
        "\n",
        "X_test = df['2005':][['Lag1','Lag2']]\n",
        "y_test = df['2005':]['Direction']"
      ],
      "execution_count": 8,
      "outputs": []
    },
    {
      "cell_type": "markdown",
      "metadata": {
        "id": "zqXOa-IbASt1"
      },
      "source": [
        "Now the `neighbors.KNeighborsClassifier()` function can be used to predict the market’s movement for\n",
        "the dates in 2005."
      ]
    },
    {
      "cell_type": "code",
      "metadata": {
        "id": "XQnaDdB3ASt1"
      },
      "source": [
        "knn = neighbors.KNeighborsClassifier(n_neighbors = 1)\n",
        "pred = knn.fit(X_train, y_train).predict(X_test)"
      ],
      "execution_count": 9,
      "outputs": []
    },
    {
      "cell_type": "markdown",
      "metadata": {
        "id": "rkiO05qtASt2"
      },
      "source": [
        "The `confusion_matrix()` function can be used to produce a **confusion matrix** in order to determine how many observations were correctly or incorrectly classified. The `classification_report()` function gives us some summary statistics on the classifier's performance:"
      ]
    },
    {
      "cell_type": "code",
      "metadata": {
        "colab": {
          "base_uri": "https://localhost:8080/"
        },
        "id": "4jLLq-7AASt2",
        "outputId": "5b607e01-20fc-41c7-e013-d8357ce01edf"
      },
      "source": [
        "print(confusion_matrix(y_test, pred).T)\n",
        "print(classification_report(y_test, pred, digits=3))"
      ],
      "execution_count": 10,
      "outputs": [
        {
          "output_type": "stream",
          "name": "stdout",
          "text": [
            "[[43 58]\n",
            " [68 83]]\n",
            "              precision    recall  f1-score   support\n",
            "\n",
            "        Down      0.426     0.387     0.406       111\n",
            "          Up      0.550     0.589     0.568       141\n",
            "\n",
            "    accuracy                          0.500       252\n",
            "   macro avg      0.488     0.488     0.487       252\n",
            "weighted avg      0.495     0.500     0.497       252\n",
            "\n"
          ]
        }
      ]
    },
    {
      "cell_type": "markdown",
      "metadata": {
        "id": "mtDtYZ41ASt2"
      },
      "source": [
        "The results using $K = 1$ are not very good, since only 50% of the observations\n",
        "are correctly predicted. Of course, it may be that $K = 1$ results in an\n",
        "overly flexible fit to the data. Below, we repeat the analysis using $K = 3$."
      ]
    },
    {
      "cell_type": "code",
      "metadata": {
        "colab": {
          "base_uri": "https://localhost:8080/"
        },
        "id": "mNZdzv-VASt3",
        "outputId": "0bccb41c-f559-4def-cf20-39469962df1a"
      },
      "source": [
        "knn = neighbors.KNeighborsClassifier(n_neighbors=3)\n",
        "pred = knn.fit(X_train, y_train).predict(X_test)\n",
        "\n",
        "print(confusion_matrix(y_test, pred).T)\n",
        "print(classification_report(y_test, pred, digits=3))"
      ],
      "execution_count": 12,
      "outputs": [
        {
          "output_type": "stream",
          "name": "stdout",
          "text": [
            "[[48 55]\n",
            " [63 86]]\n",
            "              precision    recall  f1-score   support\n",
            "\n",
            "        Down      0.466     0.432     0.449       111\n",
            "          Up      0.577     0.610     0.593       141\n",
            "\n",
            "    accuracy                          0.532       252\n",
            "   macro avg      0.522     0.521     0.521       252\n",
            "weighted avg      0.528     0.532     0.529       252\n",
            "\n"
          ]
        }
      ]
    },
    {
      "cell_type": "markdown",
      "metadata": {
        "id": "5rWvhyoDASt3"
      },
      "source": [
        "The results have improved slightly. Try looping through a few other $K$ values to see if you can get any further improvement:"
      ]
    },
    {
      "cell_type": "code",
      "metadata": {
        "colab": {
          "base_uri": "https://localhost:8080/"
        },
        "id": "7eYpRDD5ASt3",
        "outputId": "9e02545f-8ff9-4cf2-c59e-37d18246d483"
      },
      "source": [
        "for k in range(10):\n",
        "  knn = neighbors.KNeighborsClassifier(n_neighbors=k+1)\n",
        "  pred = knn.fit(X_train, y_train).predict(X_test)\n",
        "  print(k+1,'-KNN')\n",
        "  print(classification_report(y_test, pred, digits=3))\n"
      ],
      "execution_count": 30,
      "outputs": [
        {
          "output_type": "stream",
          "name": "stdout",
          "text": [
            "1 -KNN\n",
            "              precision    recall  f1-score   support\n",
            "\n",
            "        Down      0.426     0.387     0.406       111\n",
            "          Up      0.550     0.589     0.568       141\n",
            "\n",
            "    accuracy                          0.500       252\n",
            "   macro avg      0.488     0.488     0.487       252\n",
            "weighted avg      0.495     0.500     0.497       252\n",
            "\n",
            "2 -KNN\n",
            "              precision    recall  f1-score   support\n",
            "\n",
            "        Down      0.443     0.667     0.532       111\n",
            "          Up      0.565     0.340     0.425       141\n",
            "\n",
            "    accuracy                          0.484       252\n",
            "   macro avg      0.504     0.504     0.479       252\n",
            "weighted avg      0.511     0.484     0.472       252\n",
            "\n",
            "3 -KNN\n",
            "              precision    recall  f1-score   support\n",
            "\n",
            "        Down      0.466     0.432     0.449       111\n",
            "          Up      0.577     0.610     0.593       141\n",
            "\n",
            "    accuracy                          0.532       252\n",
            "   macro avg      0.522     0.521     0.521       252\n",
            "weighted avg      0.528     0.532     0.529       252\n",
            "\n",
            "4 -KNN\n",
            "              precision    recall  f1-score   support\n",
            "\n",
            "        Down      0.464     0.640     0.538       111\n",
            "          Up      0.596     0.418     0.492       141\n",
            "\n",
            "    accuracy                          0.516       252\n",
            "   macro avg      0.530     0.529     0.515       252\n",
            "weighted avg      0.538     0.516     0.512       252\n",
            "\n",
            "5 -KNN\n",
            "              precision    recall  f1-score   support\n",
            "\n",
            "        Down      0.404     0.360     0.381       111\n",
            "          Up      0.536     0.582     0.558       141\n",
            "\n",
            "    accuracy                          0.484       252\n",
            "   macro avg      0.470     0.471     0.469       252\n",
            "weighted avg      0.478     0.484     0.480       252\n",
            "\n",
            "6 -KNN\n",
            "              precision    recall  f1-score   support\n",
            "\n",
            "        Down      0.444     0.568     0.498       111\n",
            "          Up      0.564     0.440     0.494       141\n",
            "\n",
            "    accuracy                          0.496       252\n",
            "   macro avg      0.504     0.504     0.496       252\n",
            "weighted avg      0.511     0.496     0.496       252\n",
            "\n",
            "7 -KNN\n",
            "              precision    recall  f1-score   support\n",
            "\n",
            "        Down      0.387     0.369     0.378       111\n",
            "          Up      0.521     0.539     0.530       141\n",
            "\n",
            "    accuracy                          0.464       252\n",
            "   macro avg      0.454     0.454     0.454       252\n",
            "weighted avg      0.462     0.464     0.463       252\n",
            "\n",
            "8 -KNN\n",
            "              precision    recall  f1-score   support\n",
            "\n",
            "        Down      0.434     0.568     0.492       111\n",
            "          Up      0.551     0.418     0.476       141\n",
            "\n",
            "    accuracy                          0.484       252\n",
            "   macro avg      0.493     0.493     0.484       252\n",
            "weighted avg      0.500     0.484     0.483       252\n",
            "\n",
            "9 -KNN\n",
            "              precision    recall  f1-score   support\n",
            "\n",
            "        Down      0.425     0.405     0.415       111\n",
            "          Up      0.548     0.567     0.557       141\n",
            "\n",
            "    accuracy                          0.496       252\n",
            "   macro avg      0.486     0.486     0.486       252\n",
            "weighted avg      0.494     0.496     0.495       252\n",
            "\n",
            "10 -KNN\n",
            "              precision    recall  f1-score   support\n",
            "\n",
            "        Down      0.465     0.604     0.525       111\n",
            "          Up      0.593     0.454     0.514       141\n",
            "\n",
            "    accuracy                          0.520       252\n",
            "   macro avg      0.529     0.529     0.520       252\n",
            "weighted avg      0.537     0.520     0.519       252\n",
            "\n"
          ]
        }
      ]
    },
    {
      "cell_type": "markdown",
      "metadata": {
        "id": "Osq8uB8HASt4"
      },
      "source": [
        "It looks like for classifying this dataset, `KNN` might not be the right approach."
      ]
    },
    {
      "cell_type": "markdown",
      "metadata": {
        "id": "5zx2JJEJASt4"
      },
      "source": [
        "# 4.6.6: An Application to Caravan Insurance Data\n",
        "Let's see how the `KNN` approach performs on the `Caravan` data set, which is\n",
        "part of the `ISLR` library. This data set includes 85 predictors that measure demographic characteristics for 5,822 individuals. The response variable is\n",
        "`Purchase`, which indicates whether or not a given individual purchases a\n",
        "caravan insurance policy. In this data set, only 6% of people purchased\n",
        "caravan insurance."
      ]
    },
    {
      "cell_type": "code",
      "metadata": {
        "colab": {
          "base_uri": "https://localhost:8080/"
        },
        "id": "bq0UBbWIASt5",
        "outputId": "7d1bbfd4-4e9d-4113-985c-a938bb9c6bd2"
      },
      "source": [
        "url='https://raw.githubusercontent.com/JWarmenhoven/ISLR-python/master/Notebooks/Data/Caravan.csv'\n",
        "df2 = pd.read_csv(url)\n",
        "df2[\"Purchase\"].value_counts()"
      ],
      "execution_count": 31,
      "outputs": [
        {
          "output_type": "execute_result",
          "data": {
            "text/plain": [
              "No     5474\n",
              "Yes     348\n",
              "Name: Purchase, dtype: int64"
            ]
          },
          "metadata": {},
          "execution_count": 31
        }
      ]
    },
    {
      "cell_type": "markdown",
      "metadata": {
        "id": "_Efb24XqASt5"
      },
      "source": [
        "Because the `KNN` classifier predicts the class of a given test observation by\n",
        "identifying the observations that are nearest to it, the scale of the variables\n",
        "matters. Any variables that are on a large scale will have a much larger\n",
        "effect on the distance between the observations, and hence on the `KNN`\n",
        "classifier, than variables that are on a small scale. \n",
        "\n",
        "For instance, imagine a\n",
        "data set that contains two variables, salary and age (measured in dollars\n",
        "and years, respectively). As far as `KNN` is concerned, a difference of \\$1,000\n",
        "in salary is enormous compared to a difference of 50 years in age. Consequently,\n",
        "salary will drive the `KNN` classification results, and age will have\n",
        "almost no effect. \n",
        "\n",
        "This is contrary to our intuition that a salary difference\n",
        "of \\$1,000 is quite small compared to an age difference of 50 years. Furthermore,\n",
        "the importance of scale to the `KNN` classifier leads to another issue:\n",
        "if we measured salary in Japanese yen, or if we measured age in minutes,\n",
        "then we’d get quite different classification results from what we get if these\n",
        "two variables are measured in dollars and years.\n",
        "\n",
        "A good way to handle this problem is to **standardize** the data so that all\n",
        "variables are given a mean of zero and a standard deviation of one. Then\n",
        "all variables will be on a comparable scale. The `scale()` function from the `preprocessing` submodule of SciKitLearn does just\n",
        "this. In standardizing the data, we exclude column 86, because that is the\n",
        "qualitative `Purchase` variable."
      ]
    },
    {
      "cell_type": "code",
      "metadata": {
        "id": "mMc69aG4ASt5"
      },
      "source": [
        "from sklearn import preprocessing\n",
        "y = df2.Purchase\n",
        "X = df2.drop('Purchase', axis=1).astype('float64')\n",
        "X_scaled = preprocessing.scale(X)"
      ],
      "execution_count": 32,
      "outputs": []
    },
    {
      "cell_type": "markdown",
      "metadata": {
        "id": "cw9z1gJbASt6"
      },
      "source": [
        "Now every column of `X_scaled` has a standard deviation of one and\n",
        "a mean of zero.\n",
        "\n",
        "We'll now split the observations into a test set, containing the first 1,000\n",
        "observations, and a training set, containing the remaining observations."
      ]
    },
    {
      "cell_type": "code",
      "metadata": {
        "id": "QwQ376-yASt6"
      },
      "source": [
        "X_train = X_scaled[1000:,:]\n",
        "y_train = y[1000:]\n",
        "\n",
        "X_test = X_scaled[:1000,:]\n",
        "y_test = y[:1000]"
      ],
      "execution_count": 33,
      "outputs": []
    },
    {
      "cell_type": "markdown",
      "metadata": {
        "id": "M2wwrlAZASt6"
      },
      "source": [
        "Let's fit a `KNN` model on the training data using $K = 1$, and evaluate its\n",
        "performance on the test data."
      ]
    },
    {
      "cell_type": "code",
      "metadata": {
        "colab": {
          "base_uri": "https://localhost:8080/"
        },
        "id": "kg8lZsA7ASt6",
        "outputId": "77ac61a6-2c8d-4274-e15e-223f8497702b"
      },
      "source": [
        "knn = neighbors.KNeighborsClassifier(n_neighbors=2)\n",
        "pred = knn.fit(X_train, y_train).predict(X_test)\n",
        "print(classification_report(y_test, pred, digits=3))"
      ],
      "execution_count": 36,
      "outputs": [
        {
          "output_type": "stream",
          "name": "stdout",
          "text": [
            "              precision    recall  f1-score   support\n",
            "\n",
            "          No      0.942     0.989     0.965       941\n",
            "         Yes      0.167     0.034     0.056        59\n",
            "\n",
            "    accuracy                          0.933      1000\n",
            "   macro avg      0.554     0.512     0.511      1000\n",
            "weighted avg      0.897     0.933     0.912      1000\n",
            "\n"
          ]
        }
      ]
    },
    {
      "cell_type": "markdown",
      "metadata": {
        "id": "Pjer2e7oASt6"
      },
      "source": [
        "The KNN error rate on the 1,000 test observations is just under 12%. At first glance, this may appear to be fairly good. However, since only 6% of customers purchased insurance, we could get the error rate down to 6% by always predicting `No` regardless of the values of the predictors!\n",
        "\n",
        "Suppose that there is some non-trivial cost to trying to sell insurance\n",
        "to a given individual. For instance, perhaps a salesperson must visit each\n",
        "potential customer. If the company tries to sell insurance to a random\n",
        "selection of customers, then the success rate will be only 6%, which may\n",
        "be far too low given the costs involved. \n",
        "\n",
        "Instead, the company would like\n",
        "to try to sell insurance only to customers who are likely to buy it. So the\n",
        "overall error rate is not of interest. Instead, the fraction of individuals that\n",
        "are correctly predicted to buy insurance is of interest.\n",
        "\n",
        "It turns out that `KNN` with $K = 1$ does far better than random guessing\n",
        "among the customers that are predicted to buy insurance:"
      ]
    },
    {
      "cell_type": "code",
      "metadata": {
        "colab": {
          "base_uri": "https://localhost:8080/"
        },
        "id": "OzXZd-FXASt7",
        "outputId": "56d51450-1c7c-4521-f93e-04ff5c10985d"
      },
      "source": [
        "print(confusion_matrix(y_test, pred).T)"
      ],
      "execution_count": 35,
      "outputs": [
        {
          "output_type": "stream",
          "name": "stdout",
          "text": [
            "[[882  48]\n",
            " [ 59  11]]\n"
          ]
        }
      ]
    },
    {
      "cell_type": "markdown",
      "metadata": {
        "id": "9rkGwP_zASt7"
      },
      "source": [
        "Among 77 such\n",
        "customers, 9, or 11.7%, actually do purchase insurance. This is double the\n",
        "rate that one would obtain from random guessing. Let's see if increasing $K$ helps! Try out a few different $K$ values below. Feeling adventurous? Write a function that figures out the best value for $K$."
      ]
    },
    {
      "cell_type": "code",
      "metadata": {
        "id": "KK_ySEemASt8"
      },
      "source": [
        "# Your code here"
      ],
      "execution_count": null,
      "outputs": []
    },
    {
      "cell_type": "markdown",
      "metadata": {
        "id": "tXLUJ1q2ASt9"
      },
      "source": [
        "It appears that `KNN` is finding some real patterns in a difficult data set! \n",
        "\n",
        "To get credit for this lab, post a response to the prompt posted to [#lab3](https://sds293.slack.com/messages/C793X7831/)."
      ]
    }
  ]
}