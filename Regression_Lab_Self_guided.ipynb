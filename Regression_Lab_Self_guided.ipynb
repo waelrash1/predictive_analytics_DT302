{
  "nbformat": 4,
  "nbformat_minor": 0,
  "metadata": {
    "colab": {
      "private_outputs": true,
      "provenance": [],
      "authorship_tag": "ABX9TyOKACLVuUs/HVQUDnO3D5h3",
      "include_colab_link": true
    },
    "kernelspec": {
      "name": "python3",
      "display_name": "Python 3"
    },
    "language_info": {
      "name": "python"
    }
  },
  "cells": [
    {
      "cell_type": "markdown",
      "metadata": {
        "id": "view-in-github",
        "colab_type": "text"
      },
      "source": [
        "<a href=\"https://colab.research.google.com/github/waelrash1/predictive_analytics_DT302/blob/main/Regression_Lab_Self_guided.ipynb\" target=\"_parent\"><img src=\"https://colab.research.google.com/assets/colab-badge.svg\" alt=\"Open In Colab\"/></a>"
      ]
    },
    {
      "cell_type": "markdown",
      "source": [
        "# Self-Guided Lab on Simple and Multiple Regression using California Housing Dataset\n",
        "\n",
        "Author: Wael Rashwan\n",
        "\n",
        "<img src=\"https://th.bing.com/th/id/OIG.w_wVRNXtZ8W0CmBmw1ZR?pid=ImgGn\" width=200, height=150 >\n",
        "\n",
        "## Objectives:\n",
        "- Understand and apply simple linear regression.\n",
        "- Understand and apply multiple linear regression.\n",
        "- Learn how to interpret the results of regression models.\n",
        "- Gain experience with Python’s `statsmodels` and `scikit-learn` libraries.\n",
        "- Learn how to leverage the geospatial features (latitude and longitude) in the California Housing dataset to improve the predictive performance of your models.\n",
        "\n",
        "## Setup\n",
        "\n",
        "```python\n",
        "import numpy as np\n",
        "import pandas as pd\n",
        "from sklearn import datasets\n",
        "from sklearn.model_selection import train_test_split\n",
        "import statsmodels.api as sm\n",
        "from sklearn.linear_model import LinearRegression\n",
        "from sklearn.metrics import mean_squared_error, r2_score\n",
        "import matplotlib.pyplot as plt\n",
        "%matplotlib inline\n",
        "\n"
      ],
      "metadata": {
        "id": "Z9pO3FCLLYBF"
      }
    },
    {
      "cell_type": "markdown",
      "source": [
        "## The California Housing Dataset\n",
        "\n",
        "<img src=\"https://th.bing.com/th/id/OIG.IfEUcPs2z3d2iFfiYQvA?pid=ImgGn\" width=300>\n",
        "\n",
        "**Data Set Characteristics:**\n",
        "\n",
        " **Number of Instances:** 20640\n",
        "\n",
        " **Number of Attributes:** 8 numeric, predictive attributes and the target\n",
        "\n",
        " **Attribute Information:**\n",
        "  * MedInc        median income in block group\n",
        "  * HouseAge      median house age in block group\n",
        "  * AveRooms      average number of rooms per household\n",
        "  * AveBedrms     average number of bedrooms per household\n",
        "  * Population    block group population\n",
        "  * AveOccup      average number of household members\n",
        "  * Latitude      block group latitude\n",
        "  * Longitude     block group longitude\n",
        "\n",
        "\n",
        "**Missing Attribute Values:** None\n",
        "\n",
        "This dataset was obtained from the StatLib repository.\n",
        "[link](https://www.dcc.fc.up.pt/~ltorgo/Regression/cal_housing.html)\n",
        "\n",
        "## Label/Target variable\n",
        "`The target variable is the median house value for California districts,\n",
        "expressed in hundreds of thousands of dollars ($100,000).`\n",
        "\n",
        "This dataset was derived from the 1990 U.S. census, using one row per census\n",
        "block group. A block group is the smallest geographical unit for which the U.S.\n",
        "Census Bureau publishes sample data (a block group typically has a population\n",
        "of 600 to 3,000 people).\n",
        "\n",
        "\n",
        "A household is a group of people residing within a home. Since the average\n",
        "number of rooms and bedrooms in this dataset are provided per household, these\n",
        "columns may take surprisingly large values for block groups with few households\n",
        "and many empty houses, such as vacation resorts.\n",
        "\n",
        "It can be downloaded/loaded using the\n",
        "```python\n",
        "sklearn.datasets.fetch_california_housing\n",
        "```\n",
        "**Reference**:\n",
        "\n",
        " Pace, R. Kelley and Ronald Barry, Sparse Spatial Autoregressions,\n",
        "  Statistics and Probability Letters, 33 (1997) 291-297\n",
        "\n",
        "\n"
      ],
      "metadata": {
        "id": "SHtREJLtUWtK"
      }
    },
    {
      "cell_type": "markdown",
      "source": [
        "## Part 1: Load and Explore the Data\n",
        "```python\n",
        "# Load the California Housing dataset\n",
        "california_housing = datasets.fetch_california_housing()\n",
        "df = pd.DataFrame(california_housing.data, columns=california_housing.feature_names)\n",
        "target = pd.DataFrame(california_housing.target, columns=[\"MedHouseVal\"])\n",
        "\n",
        "# Display the first few rows of the dataset\n",
        "df.head()\n",
        "```\n",
        "\n",
        "\n",
        "### Visualise dataset\n",
        "\n",
        "```python\n",
        "import matplotlib.pyplot as plt\n",
        "df.hist(figsize=(12, 10), bins=30, edgecolor=\"black\")\n",
        "target.hist(figsize=(4, 2.5), bins=30, edgecolor=\"black\")\n",
        "plt.subplots_adjust(hspace=0.7, wspace=0.4)\n",
        "```\n"
      ],
      "metadata": {
        "id": "khYojNiMhtLb"
      }
    },
    {
      "cell_type": "markdown",
      "source": [
        ">  ### Task 1: Familiarize yourself with the dataset.\n",
        "* `df.describe()`\n",
        "* `target.describe()`\n",
        "\n",
        "\n",
        "### Question: Which features might be good predictors for the median house value? Write your comments and observation below.\n",
        "\n",
        "\n",
        "\n"
      ],
      "metadata": {
        "id": "W5hon5WJigWI"
      }
    },
    {
      "cell_type": "markdown",
      "source": [
        "\n",
        "---\n",
        "\n",
        "\n",
        "### **Add You Answer here:**\n",
        "\n",
        "*\n",
        "\n",
        "*\n",
        "\n",
        "\n",
        "\n",
        "---\n"
      ],
      "metadata": {
        "id": "_CyjwCW372fD"
      }
    },
    {
      "cell_type": "markdown",
      "source": [
        "## Part 2: Simple Linear Regression with statsmodels [Explain](https://mlu-explain.github.io/linear-regression/)\n",
        "### 2.1 Simple Linear Regression Without a Constant\n",
        "\n",
        "\n",
        "\n",
        "\n",
        "```python\n",
        "# Use MedInc as single predictor\n",
        "X = df[\"MedInc\"]\n",
        "y = target[\"MedHouseVal\"]\n",
        "model = sm.OLS(y, X).fit()\n",
        "predictions = model.predict(X)\n",
        "model.summary()\n",
        "```\n",
        "> ### Task 2: Interpret the output. What does the coefficient for 'MedInc' tell you?\n",
        "### Question: What is the meaning of the R-squared value in this context?"
      ],
      "metadata": {
        "id": "CVSEJO8KizT6"
      }
    },
    {
      "cell_type": "markdown",
      "source": [
        "\n",
        "---\n",
        "\n",
        "\n",
        "### **Add You Answer here:**\n",
        "\n",
        "*\n",
        "\n",
        "*\n",
        "\n",
        "\n",
        "\n",
        "---"
      ],
      "metadata": {
        "id": "6d9Hr6n97w_x"
      }
    },
    {
      "cell_type": "markdown",
      "source": [
        "### 2.2 Simple Linear Regression With a Constant\n",
        "``` python\n",
        "\n",
        "X = sm.add_constant(df[\"MedInc\"])  # Adding a constant\n",
        "model = sm.OLS(y, X).fit()\n",
        "predictions = model.predict(X)\n",
        "model.summary()\n",
        "```\n",
        "> ### Task 2: Compare this output to the previous model. How has the inclusion of a constant term affected the results?\n",
        "\n",
        "### Question: How does the coefficient for 'MedInc' change, and why?\n"
      ],
      "metadata": {
        "id": "-sF4n19hlAry"
      }
    },
    {
      "cell_type": "markdown",
      "source": [
        "\n",
        "\n",
        "---\n",
        "\n",
        "\n",
        "### **Add You Answer here:**\n",
        "\n",
        "*\n",
        "\n",
        "*\n",
        "\n",
        "\n",
        "\n",
        "---\n",
        "\n"
      ],
      "metadata": {
        "id": "luheAq0k7R8F"
      }
    },
    {
      "cell_type": "markdown",
      "source": [
        "## Part 3: Multiple Linear Regression with statsmodels\n",
        "### 3.1 Building a Multiple Linear Regression Model\n",
        "```python\n",
        "\n",
        "X = df[[\"MedInc\", \"AveRooms\", \"Population\", \"AveOccup\"]]\n",
        "X = sm.add_constant(X)  # Adding a constant\n",
        "model = sm.OLS(y, X).fit()\n",
        "predictions = model.predict(X)\n",
        "model.summary()\n",
        "```\n",
        "\n",
        "> ### Task: Interpret the output. How do each of the features relate to the target variable 'MedHouseVal'?\n",
        "### Question: Which variables appear to be the most significant in predicting house value?\n"
      ],
      "metadata": {
        "id": "HtRmn2m7ArNe"
      }
    },
    {
      "cell_type": "markdown",
      "source": [
        "## Part 4: Linear Regression with scikit-learn\n",
        "### 4.1 Fitting a Linear Regression Model\n",
        "```python\n",
        "\n",
        "X_train, X_test, y_train, y_test = train_test_split(df, target, test_size=0.2, random_state=42)\n",
        "\n",
        "lm = LinearRegression()\n",
        "model = lm.fit(X_train, y_train)\n",
        "predictions = lm.predict(X_test)\n",
        "\n",
        "```\n",
        "### Print out R-squared and Mean Squared Error\n",
        "```python\n",
        "\n",
        "print(\"R-squared:\", r2_score(y_test, predictions))\n",
        "print(\"Mean Squared Error:\", mean_squared_error(y_test, predictions))\n",
        "```\n",
        "> ### Task: Run the model and note down the R-squared and Mean Squared Error.\n",
        "### Question: How does this model's performance compare to the previous models?\n"
      ],
      "metadata": {
        "id": "wQDXwiUmA8j3"
      }
    },
    {
      "cell_type": "markdown",
      "source": [
        "\n",
        "---\n",
        "\n",
        "\n",
        "### **Add You Answer here:**\n",
        "\n",
        "*\n",
        "\n",
        "*\n",
        "\n",
        "\n",
        "\n",
        "---"
      ],
      "metadata": {
        "id": "Tmlf4hjVBl7c"
      }
    },
    {
      "cell_type": "markdown",
      "source": [
        "## 4.2 Analyzing Coefficients and Intercept\n",
        "```python\n",
        "\n",
        "print(\"Coefficients:\", lm.coef_)\n",
        "print(\"Intercept:\", lm.intercept_)\n",
        "```\n",
        "> ### Task: Examine the coefficients. Which features have the largest impact on the target variable?\n",
        "\n",
        " ### Question: How does the intercept in this model compare to the intercept in the statsmodels models?"
      ],
      "metadata": {
        "id": "s7IYGdyaBY9z"
      }
    },
    {
      "cell_type": "markdown",
      "source": [
        "\n",
        "---\n",
        "\n",
        "\n",
        "### **Add You Answer here:**\n",
        "\n",
        "*\n",
        "\n",
        "*\n",
        "\n",
        "\n",
        "\n",
        "---"
      ],
      "metadata": {
        "id": "YBpb5wa1B6a3"
      }
    },
    {
      "cell_type": "markdown",
      "source": [
        "## Part 5: Geospatial Data Analysis with California Housing Dataset\n",
        "### Objective:\n",
        "> Learn how to leverage the geospatial features (latitude and longitude) in the California Housing dataset to improve the predictive performance of your models.\n",
        "\n",
        "### 5.1: Visualizing Geospatial Data\n",
        "Before diving into feature engineering, it's important to understand the distribution of your data.\n",
        "\n",
        "## Task 1: Plot the locations of the housing data on a map. You can use libraries like matplotlib, seaborn, or folium for this.\n",
        "\n",
        "``` python\n",
        "\n",
        "import matplotlib.pyplot as plt\n",
        "plt.figure(figsize=(10, 7))\n",
        "plt.scatter(df['Longitude'], df['Latitude'], alpha=0.1)\n",
        "plt.title('Geospatial Distribution of California Housing Data')\n",
        "plt.xlabel('Longitude')\n",
        "plt.ylabel('Latitude')\n",
        "plt.show()\n",
        "```\n",
        "\n",
        "> ### Question: What patterns do you notice? Are there particular areas with higher densities of data points?\n",
        "\n"
      ],
      "metadata": {
        "id": "i55Hg4IyLvFr"
      }
    },
    {
      "cell_type": "markdown",
      "source": [
        "\n",
        "---\n",
        "\n",
        "\n",
        "### **Add You Answer here:**\n",
        "\n",
        "*\n",
        "\n",
        "*\n",
        "\n",
        "\n",
        "\n",
        "---"
      ],
      "metadata": {
        "id": "oPG8Zi3AUINc"
      }
    },
    {
      "cell_type": "markdown",
      "source": [
        "### 5.2: Creating Distance-Based Features\n",
        "\n",
        "> ### Task 2: Create a new feature representing the distance of each housing block to a specific point of interest. For this example, let's use Downtown Los Angeles as a point of interest (coordinates: 34.0522° N, 118.2437° W).\n",
        "\n",
        "```python\n",
        "\n",
        "from geopy.distance import geodesic\n",
        "\n",
        "# Coordinates for Downtown Los Angeles\n",
        "la_coords = (34.0522, -118.2437)\n",
        "\n",
        "df['distance_to_LA'] = df.apply(lambda row: geodesic((row['Latitude'], row['Longitude']), la_coords).km, axis=1)\n",
        "```\n",
        "\n",
        "> ### Question: How does adding this new feature affect the distribution of your data? Try plotting a histogram of this new feature.\n",
        "\n"
      ],
      "metadata": {
        "id": "R7sSd7fYMNlh"
      }
    },
    {
      "cell_type": "markdown",
      "source": [
        "\n",
        "---\n",
        "\n",
        "\n",
        "### **Add You Answer here:**\n",
        "\n",
        "*\n",
        "\n",
        "*\n",
        "\n",
        "\n",
        "\n",
        "---"
      ],
      "metadata": {
        "id": "0pLhkuRaUL8F"
      }
    },
    {
      "cell_type": "markdown",
      "source": [
        "### 5.3: Clustering Geospatial Data\n",
        "\n",
        "> ### Task 3: Use a clustering algorithm like K-Means to categorize the housing blocks into different regions based on their latitude and longitude.\n",
        "\n",
        "```python\n",
        "from sklearn.cluster import KMeans\n",
        "\n",
        "kmeans = KMeans(n_clusters=10, random_state=0).fit(df[['Latitude', 'Longitude']])\n",
        "df['location_cluster'] = kmeans.labels_\n",
        "```\n",
        "### Task 4: Visualize the clusters on a map.\n",
        "\n",
        "\n",
        "```python\n",
        "# Initialize map centered around California\n",
        "import folium\n",
        "m = folium.Map(location=[36.7783, -119.4179], zoom_start=6)\n",
        "\n",
        "# Define colors for clusters\n",
        "colors = ['red', 'blue', 'green', 'purple', 'orange']\n",
        "\n",
        "# Add points to the map\n",
        "for idx, row in df.iterrows():\n",
        "    cluster_idx = int(row['Cluster'])\n",
        "    folium.CircleMarker([row['Latitude'], row['Longitude']],\n",
        "                        radius=5,\n",
        "                        color=colors[cluster_idx],\n",
        "                        fill=True,\n",
        "                        fill_color=colors[cluster_idx],\n",
        "                        fill_opacity=0.9).add_to(m)\n",
        "\n",
        "# Show the map\n",
        "m\n",
        "```\n",
        "\n",
        "\n",
        "\n",
        "> ### Question: Do the clusters make intuitive sense? How might these clusters be useful in your predictive model?\n",
        "\n"
      ],
      "metadata": {
        "id": "vW_WdiryMrbp"
      }
    },
    {
      "cell_type": "markdown",
      "source": [
        "\n",
        "---\n",
        "\n",
        "\n",
        "### **Add You Answer here:**\n",
        "\n",
        "*\n",
        "\n",
        "*\n",
        "\n",
        "\n",
        "\n",
        "---"
      ],
      "metadata": {
        "id": "5ZxfMMGzUSPX"
      }
    },
    {
      "cell_type": "markdown",
      "source": [
        "## Conclusion and Next Steps\n",
        "> ### Reflection: Take a moment to reflect on what you've learned. What concepts are clear? What concepts might need more review?\n",
        "\n",
        "## Next Steps: Consider extending the lab by:\n",
        "* Adding more variables to the multiple regression model.\n",
        "* Trying different combinations of features.\n",
        "* Applying data transformations.\n",
        "* Incorporating External Geospatial Data (see some idea in part 6).\n",
        "\n"
      ],
      "metadata": {
        "id": "HpqITqzcTyKz"
      }
    },
    {
      "cell_type": "markdown",
      "source": [
        "### Part 6: Incorporating External Geospatial Data-- Homework activity\n",
        "### Objective:\n",
        "> ### Learn how to integrate external geospatial datasets to improve the predictive modeling of housing prices in California.\n",
        "\n",
        "### 6.1: Identifying Relevant External Datasets\n",
        "> Task: Research and list potential external geospatial datasets that could be relevant for predicting housing prices. This could include data on:\n",
        "\n",
        "* Points of interest (schools, parks, shopping centers, etc.)\n",
        "* Crime rates\n",
        "* Demographic information\n",
        "* Public transportation accessibility\n",
        "* Air quality or environmental data\n",
        "\n",
        "### Examples of datasets could include:\n",
        "\n",
        "* California schools location and performance data\n",
        "* Crime reports by region\n",
        "* Census data for demographic information\n",
        "* Public transportation stations and their frequencies\n",
        "\n",
        "### 6.2: Accessing and Preprocessing External Datasets\n",
        "> Task: Choose one of the datasets from previous Task, access it, and perform any necessary preprocessing to make it suitable for integration. This could involve cleaning the data, handling missing values, and converting the geospatial information to the same coordinate system as your California Housing dataset.\n",
        "\n",
        "### 6.3: Merging Datasets\n",
        "> Task: Merge the external dataset with the California Housing dataset based on the geographical information.\n",
        "\n",
        "You might use spatial joins if the datasets are in a geospatial format.\n",
        "Alternatively, you could calculate distances between points of interest and housing data, creating new features based on these distances.\n",
        "\n",
        "### 6.4: Feature Engineering\n",
        "Task: Based on the merged data, create new features that could be relevant for predicting housing prices. This could be the distance to the nearest point of interest, the average crime rate in the area, or the demographic makeup of the neighborhood.\n",
        "\n",
        "### 6.5: Model Training and Evaluation\n",
        "Task : Re-train your predictive models from earlier in the lab, but this time include the new features from the external dataset.\n",
        "\n",
        "Question: How have your model's performance metrics changed after including these features?\n"
      ],
      "metadata": {
        "id": "p-8_sFDPXmmR"
      }
    },
    {
      "cell_type": "markdown",
      "source": [
        "# Part 7: Apply Your Knowledge to Another Dataset\n",
        "## 7.1 Load and Explore the Diabetes Dataset\n",
        "<div>\n",
        "<img src=\"https://th.bing.com/th/id/OIG.hpNJE9n4ZMnF5WBL4AHy?pid=ImgGn\" width=\"300\" />\n",
        "</div>\n",
        "\n",
        "\n",
        "\n",
        "```python\n",
        "\n",
        "from sklearn.datasets import load_diabetes\n",
        "\n",
        "# Load the Diabetes dataset\n",
        "diabetes_data = load_diabetes()\n",
        "df_diabetes = pd.DataFrame(diabetes_data.data, columns=diabetes_data.feature_names)\n",
        "target_diabetes = pd.DataFrame(diabetes_data.target, columns=[\"Diabetes Progression\"])\n",
        "\n",
        "# Display the first few rows of the diabetes dataset\n",
        "df_diabetes.head()\n",
        "```\n",
        "\n",
        "### Task: Familiarize yourself with the new dataset. What features are available? What is the target variable?\n",
        "### Question: Based on your initial observations, which features do you think might be good predictors for diabetes progression?\n",
        "\n",
        "## 7.2 Simple Linear Regression on the Diabetes Dataset\n",
        "Choose one feature that you think might be a good predictor for diabetes progression.\n",
        "\n",
        "```python\n",
        "X_diabetes = sm.add_constant(df_diabetes[\"feature_name\"])  # Replace \"feature_name\" with your chosen feature\n",
        "y_diabetes = target_diabetes[\"Diabetes Progression\"]\n",
        "\n",
        "model_diabetes = sm.OLS(y_diabetes, X_diabetes).fit()\n",
        "predictions_diabetes = model_diabetes.predict(X_diabetes)\n",
        "model_diabetes.summary()\n",
        "```\n",
        "### Task: Interpret the output. What does the coefficient for your chosen feature tell you?\n",
        "### Question: What is the R-squared value, and what does it tell you in this context?\n",
        "\n",
        "## 7.3 Multiple Linear Regression on the Diabetes Dataset\n",
        "Choose a set of features that you think might be good predictors for diabetes progression.\n",
        "\n",
        "``` python\n",
        "\n",
        "X_diabetes_multi = df_diabetes[[\"feature1\", \"feature2\", \"feature3\"]]  # Replace with your chosen features\n",
        "X_diabetes_multi = sm.add_constant(X_diabetes_multi)\n",
        "\n",
        "model_diabetes_multi = sm.OLS(y_diabetes, X_diabetes_multi).fit()\n",
        "predictions_diabetes_multi = model_diabetes_multi.predict(X_diabetes_multi)\n",
        "model_diabetes_multi.summary()\n",
        "```\n",
        "\n",
        "### Task: Interpret the output. How do each of the features relate to the target variable 'Diabetes Progression'?\n",
        "### Question: Which variables appear to be the most significant in predicting diabetes progression?\n",
        "\n",
        "## 7.4 Linear Regression with scikit-learn on the Diabetes Dataset\n",
        "```python\n",
        "X_train_diabetes, X_test_diabetes, y_train_diabetes, y_test_diabetes = train_test_split(\n",
        "    df_diabetes, target_diabetes, test_size=0.2, random_state=42)\n",
        "\n",
        "lm_diabetes = LinearRegression()\n",
        "model_diabetes_sklearn = lm_diabetes.fit(X_train_diabetes, y_train_diabetes)\n",
        "predictions_diabetes_sklearn = lm_diabetes.predict(X_test_diabetes)\n",
        "\n",
        "# Print out R-squared and Mean Squared Error\n",
        "print(\"R-squared:\", r2_score(y_test_diabetes, predictions_diabetes_sklearn))\n",
        "print(\"Mean Squared Error:\", mean_squared_error(y_test_diabetes, predictions_diabetes_sklearn))\n",
        "```\n",
        "### Task: Run the model and note down the R-squared and Mean Squared Error. How does this model's performance compare to the previous models on the California housing dataset?\n",
        "### Question: What steps could you take to improve the model’s performance?"
      ],
      "metadata": {
        "id": "a_8e7iI6gWYW"
      }
    }
  ]
}