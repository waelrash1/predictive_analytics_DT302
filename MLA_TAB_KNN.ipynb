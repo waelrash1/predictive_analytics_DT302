{
  "cells": [
    {
      "cell_type": "markdown",
      "metadata": {
        "id": "view-in-github",
        "colab_type": "text"
      },
      "source": [
        "<a href=\"https://colab.research.google.com/github/waelrash1/predictive_analytics_DT302/blob/main/MLA_TAB_KNN.ipynb\" target=\"_parent\"><img src=\"https://colab.research.google.com/assets/colab-badge.svg\" alt=\"Open In Colab\"/></a>"
      ]
    },
    {
      "cell_type": "code",
      "source": [],
      "metadata": {
        "id": "LEvqt1ZQ6a9s"
      },
      "execution_count": null,
      "outputs": []
    },
    {
      "cell_type": "markdown",
      "metadata": {
        "id": "VZ8wsxQl6VLs"
      },
      "source": []
    },
    {
      "cell_type": "markdown",
      "metadata": {
        "id": "UU5Eq08z6VLw"
      },
      "source": [
        "# <a name=\"0\">Machine Learning  - Tabular Data</a>\n",
        "\n",
        "\n",
        "## K Nearest Neighbors Model \n",
        "\n",
        "In this notebook, we build a [__K Nearest Neighbors Classifier__](https://scikit-learn.org/stable/modules/generated/sklearn.neighbors.KNeighborsClassifier.html) to predict the __Outcome Type__ field of our review dataset.\n",
        "\n",
        "1. <a href=\"#1\">Read the dataset</a>\n",
        "2. <a href=\"#2\">Exploratory Data Analysis</a>\n",
        "3. <a href=\"#3\">Select features to build the model</a>\n",
        "4. <a href=\"#4\">Training and test datasets</a>\n",
        "5. <a href=\"#5\">Data processing with Pipeline</a>\n",
        "6. <a href=\"#6\">Train a classifier</a>\n",
        "7. <a href=\"#7\">Test the classifier</a>\n",
        "8. <a href=\"#8\">Improvement ideas</a>\n",
        "\n",
        "__Austin Animal Center Dataset__:\n",
        "\n",
        "In this exercise, we are working with pet adoption data from __Austin Animal Center__. We have two datasets that cover intake and outcome of animals. Intake data is available from [here](https://data.austintexas.gov/Health-and-Community-Services/Austin-Animal-Center-Intakes/wter-evkm) and outcome is from [here](https://data.austintexas.gov/Health-and-Community-Services/Austin-Animal-Center-Outcomes/9t4d-g238). \n",
        "\n",
        "In order to work with a single table, we joined the intake and outcome tables using the \"Animal ID\" column and created a single __review.csv__ file. We also didn't consider animals with multiple entries to the facility to keep our dataset simple. If you want to see the original datasets and the merged data with multiple entries, they are available under data/review folder: Austin_Animal_Center_Intakes.csv, Austin_Animal_Center_Outcomes.csv and Austin_Animal_Center_Intakes_Outcomes.csv.\n",
        "\n",
        "__Dataset schema:__ \n",
        "- __Pet ID__ - Unique ID of pet\n",
        "- __Outcome Type__ - State of pet at the time of recording the outcome (0 = not placed, 1 = placed). This is the field to predict.\n",
        "- __Sex upon Outcome__ - Sex of pet at outcome\n",
        "- __Name__ - Name of pet \n",
        "- __Found Location__ - Found location of pet before entered the center\n",
        "- __Intake Type__ - Circumstances bringing the pet to the center\n",
        "- __Intake Condition__ - Health condition of pet when entered the center\n",
        "- __Pet Type__ - Type of pet\n",
        "- __Sex upon Intake__ - Sex of pet when entered the center\n",
        "- __Breed__ - Breed of pet \n",
        "- __Color__ - Color of pet \n",
        "- __Age upon Intake Days__ - Age of pet when entered the center (days)\n",
        "- __Age upon Outcome Days__ - Age of pet at outcome (days)\n"
      ]
    },
    {
      "cell_type": "markdown",
      "metadata": {
        "id": "KQ0CwDbO6VLz"
      },
      "source": [
        "## 1. <a name=\"1\">Read the dataset</a>\n",
        "(<a href=\"#0\">Go to top</a>)\n",
        "\n",
        "Let's read the dataset into a dataframe, using Pandas."
      ]
    },
    {
      "cell_type": "code",
      "execution_count": 1,
      "metadata": {
        "colab": {
          "base_uri": "https://localhost:8080/"
        },
        "id": "Y8axBAAE6VL0",
        "outputId": "b92c067e-d2e0-4bef-cc8f-024afe2d0d52"
      },
      "outputs": [
        {
          "output_type": "stream",
          "name": "stdout",
          "text": [
            "The shape of the dataset is: (95485, 13)\n"
          ]
        }
      ],
      "source": [
        "import pandas as pd\n",
        "\n",
        "import warnings\n",
        "warnings.filterwarnings(\"ignore\")\n",
        "  \n",
        "df = pd.read_csv('https://raw.githubusercontent.com/aws-samples/aws-machine-learning-university-accelerated-tab/master/data/review/review_dataset.csv')\n",
        "\n",
        "print('The shape of the dataset is:', df.shape)"
      ]
    },
    {
      "cell_type": "markdown",
      "metadata": {
        "id": "uR58gkAu6VL0"
      },
      "source": [
        "## 2. <a name=\"2\">Exploratory Data Analysis</a>\n",
        "(<a href=\"#0\">Go to top</a>)\n",
        "\n",
        "We will look at number of rows, columns and some simple statistics of the dataset."
      ]
    },
    {
      "cell_type": "code",
      "execution_count": 2,
      "metadata": {
        "colab": {
          "base_uri": "https://localhost:8080/",
          "height": 354
        },
        "id": "gYM1oaHJ6VL1",
        "outputId": "cb4b2e98-0d3f-451a-a0ca-1cb2d92bd7c8"
      },
      "outputs": [
        {
          "output_type": "execute_result",
          "data": {
            "text/plain": [
              "    Pet ID  Outcome Type Sex upon Outcome        Name  \\\n",
              "0  A794011           1.0    Neutered Male       Chunk   \n",
              "1  A776359           1.0    Neutered Male       Gizmo   \n",
              "2  A674754           0.0      Intact Male         NaN   \n",
              "3  A689724           1.0    Neutered Male  *Donatello   \n",
              "4  A680969           1.0    Neutered Male       *Zeus   \n",
              "\n",
              "                        Found Location      Intake Type Intake Condition  \\\n",
              "0                          Austin (TX)  Owner Surrender           Normal   \n",
              "1    7201 Levander Loop in Austin (TX)            Stray           Normal   \n",
              "2        12034 Research in Austin (TX)            Stray          Nursing   \n",
              "3     2300 Waterway Bnd in Austin (TX)            Stray           Normal   \n",
              "4  4701 Staggerbrush Rd in Austin (TX)            Stray          Nursing   \n",
              "\n",
              "  Pet Type Sex upon Intake                    Breed               Color  \\\n",
              "0      Cat   Neutered Male   Domestic Shorthair Mix   Brown Tabby/White   \n",
              "1      Dog     Intact Male  Chihuahua Shorthair Mix         White/Brown   \n",
              "2      Cat     Intact Male   Domestic Shorthair Mix        Orange Tabby   \n",
              "3      Cat     Intact Male   Domestic Shorthair Mix               Black   \n",
              "4      Cat     Intact Male   Domestic Shorthair Mix  White/Orange Tabby   \n",
              "\n",
              "   Age upon Intake Days  Age upon Outcome Days  \n",
              "0                   730                    730  \n",
              "1                   365                    365  \n",
              "2                     6                      6  \n",
              "3                    60                     60  \n",
              "4                     7                     60  "
            ],
            "text/html": [
              "\n",
              "  <div id=\"df-e9faa6c7-90e2-4afd-b55f-489db7db2dcc\">\n",
              "    <div class=\"colab-df-container\">\n",
              "      <div>\n",
              "<style scoped>\n",
              "    .dataframe tbody tr th:only-of-type {\n",
              "        vertical-align: middle;\n",
              "    }\n",
              "\n",
              "    .dataframe tbody tr th {\n",
              "        vertical-align: top;\n",
              "    }\n",
              "\n",
              "    .dataframe thead th {\n",
              "        text-align: right;\n",
              "    }\n",
              "</style>\n",
              "<table border=\"1\" class=\"dataframe\">\n",
              "  <thead>\n",
              "    <tr style=\"text-align: right;\">\n",
              "      <th></th>\n",
              "      <th>Pet ID</th>\n",
              "      <th>Outcome Type</th>\n",
              "      <th>Sex upon Outcome</th>\n",
              "      <th>Name</th>\n",
              "      <th>Found Location</th>\n",
              "      <th>Intake Type</th>\n",
              "      <th>Intake Condition</th>\n",
              "      <th>Pet Type</th>\n",
              "      <th>Sex upon Intake</th>\n",
              "      <th>Breed</th>\n",
              "      <th>Color</th>\n",
              "      <th>Age upon Intake Days</th>\n",
              "      <th>Age upon Outcome Days</th>\n",
              "    </tr>\n",
              "  </thead>\n",
              "  <tbody>\n",
              "    <tr>\n",
              "      <th>0</th>\n",
              "      <td>A794011</td>\n",
              "      <td>1.0</td>\n",
              "      <td>Neutered Male</td>\n",
              "      <td>Chunk</td>\n",
              "      <td>Austin (TX)</td>\n",
              "      <td>Owner Surrender</td>\n",
              "      <td>Normal</td>\n",
              "      <td>Cat</td>\n",
              "      <td>Neutered Male</td>\n",
              "      <td>Domestic Shorthair Mix</td>\n",
              "      <td>Brown Tabby/White</td>\n",
              "      <td>730</td>\n",
              "      <td>730</td>\n",
              "    </tr>\n",
              "    <tr>\n",
              "      <th>1</th>\n",
              "      <td>A776359</td>\n",
              "      <td>1.0</td>\n",
              "      <td>Neutered Male</td>\n",
              "      <td>Gizmo</td>\n",
              "      <td>7201 Levander Loop in Austin (TX)</td>\n",
              "      <td>Stray</td>\n",
              "      <td>Normal</td>\n",
              "      <td>Dog</td>\n",
              "      <td>Intact Male</td>\n",
              "      <td>Chihuahua Shorthair Mix</td>\n",
              "      <td>White/Brown</td>\n",
              "      <td>365</td>\n",
              "      <td>365</td>\n",
              "    </tr>\n",
              "    <tr>\n",
              "      <th>2</th>\n",
              "      <td>A674754</td>\n",
              "      <td>0.0</td>\n",
              "      <td>Intact Male</td>\n",
              "      <td>NaN</td>\n",
              "      <td>12034 Research in Austin (TX)</td>\n",
              "      <td>Stray</td>\n",
              "      <td>Nursing</td>\n",
              "      <td>Cat</td>\n",
              "      <td>Intact Male</td>\n",
              "      <td>Domestic Shorthair Mix</td>\n",
              "      <td>Orange Tabby</td>\n",
              "      <td>6</td>\n",
              "      <td>6</td>\n",
              "    </tr>\n",
              "    <tr>\n",
              "      <th>3</th>\n",
              "      <td>A689724</td>\n",
              "      <td>1.0</td>\n",
              "      <td>Neutered Male</td>\n",
              "      <td>*Donatello</td>\n",
              "      <td>2300 Waterway Bnd in Austin (TX)</td>\n",
              "      <td>Stray</td>\n",
              "      <td>Normal</td>\n",
              "      <td>Cat</td>\n",
              "      <td>Intact Male</td>\n",
              "      <td>Domestic Shorthair Mix</td>\n",
              "      <td>Black</td>\n",
              "      <td>60</td>\n",
              "      <td>60</td>\n",
              "    </tr>\n",
              "    <tr>\n",
              "      <th>4</th>\n",
              "      <td>A680969</td>\n",
              "      <td>1.0</td>\n",
              "      <td>Neutered Male</td>\n",
              "      <td>*Zeus</td>\n",
              "      <td>4701 Staggerbrush Rd in Austin (TX)</td>\n",
              "      <td>Stray</td>\n",
              "      <td>Nursing</td>\n",
              "      <td>Cat</td>\n",
              "      <td>Intact Male</td>\n",
              "      <td>Domestic Shorthair Mix</td>\n",
              "      <td>White/Orange Tabby</td>\n",
              "      <td>7</td>\n",
              "      <td>60</td>\n",
              "    </tr>\n",
              "  </tbody>\n",
              "</table>\n",
              "</div>\n",
              "      <button class=\"colab-df-convert\" onclick=\"convertToInteractive('df-e9faa6c7-90e2-4afd-b55f-489db7db2dcc')\"\n",
              "              title=\"Convert this dataframe to an interactive table.\"\n",
              "              style=\"display:none;\">\n",
              "        \n",
              "  <svg xmlns=\"http://www.w3.org/2000/svg\" height=\"24px\"viewBox=\"0 0 24 24\"\n",
              "       width=\"24px\">\n",
              "    <path d=\"M0 0h24v24H0V0z\" fill=\"none\"/>\n",
              "    <path d=\"M18.56 5.44l.94 2.06.94-2.06 2.06-.94-2.06-.94-.94-2.06-.94 2.06-2.06.94zm-11 1L8.5 8.5l.94-2.06 2.06-.94-2.06-.94L8.5 2.5l-.94 2.06-2.06.94zm10 10l.94 2.06.94-2.06 2.06-.94-2.06-.94-.94-2.06-.94 2.06-2.06.94z\"/><path d=\"M17.41 7.96l-1.37-1.37c-.4-.4-.92-.59-1.43-.59-.52 0-1.04.2-1.43.59L10.3 9.45l-7.72 7.72c-.78.78-.78 2.05 0 2.83L4 21.41c.39.39.9.59 1.41.59.51 0 1.02-.2 1.41-.59l7.78-7.78 2.81-2.81c.8-.78.8-2.07 0-2.86zM5.41 20L4 18.59l7.72-7.72 1.47 1.35L5.41 20z\"/>\n",
              "  </svg>\n",
              "      </button>\n",
              "      \n",
              "  <style>\n",
              "    .colab-df-container {\n",
              "      display:flex;\n",
              "      flex-wrap:wrap;\n",
              "      gap: 12px;\n",
              "    }\n",
              "\n",
              "    .colab-df-convert {\n",
              "      background-color: #E8F0FE;\n",
              "      border: none;\n",
              "      border-radius: 50%;\n",
              "      cursor: pointer;\n",
              "      display: none;\n",
              "      fill: #1967D2;\n",
              "      height: 32px;\n",
              "      padding: 0 0 0 0;\n",
              "      width: 32px;\n",
              "    }\n",
              "\n",
              "    .colab-df-convert:hover {\n",
              "      background-color: #E2EBFA;\n",
              "      box-shadow: 0px 1px 2px rgba(60, 64, 67, 0.3), 0px 1px 3px 1px rgba(60, 64, 67, 0.15);\n",
              "      fill: #174EA6;\n",
              "    }\n",
              "\n",
              "    [theme=dark] .colab-df-convert {\n",
              "      background-color: #3B4455;\n",
              "      fill: #D2E3FC;\n",
              "    }\n",
              "\n",
              "    [theme=dark] .colab-df-convert:hover {\n",
              "      background-color: #434B5C;\n",
              "      box-shadow: 0px 1px 3px 1px rgba(0, 0, 0, 0.15);\n",
              "      filter: drop-shadow(0px 1px 2px rgba(0, 0, 0, 0.3));\n",
              "      fill: #FFFFFF;\n",
              "    }\n",
              "  </style>\n",
              "\n",
              "      <script>\n",
              "        const buttonEl =\n",
              "          document.querySelector('#df-e9faa6c7-90e2-4afd-b55f-489db7db2dcc button.colab-df-convert');\n",
              "        buttonEl.style.display =\n",
              "          google.colab.kernel.accessAllowed ? 'block' : 'none';\n",
              "\n",
              "        async function convertToInteractive(key) {\n",
              "          const element = document.querySelector('#df-e9faa6c7-90e2-4afd-b55f-489db7db2dcc');\n",
              "          const dataTable =\n",
              "            await google.colab.kernel.invokeFunction('convertToInteractive',\n",
              "                                                     [key], {});\n",
              "          if (!dataTable) return;\n",
              "\n",
              "          const docLinkHtml = 'Like what you see? Visit the ' +\n",
              "            '<a target=\"_blank\" href=https://colab.research.google.com/notebooks/data_table.ipynb>data table notebook</a>'\n",
              "            + ' to learn more about interactive tables.';\n",
              "          element.innerHTML = '';\n",
              "          dataTable['output_type'] = 'display_data';\n",
              "          await google.colab.output.renderOutput(dataTable, element);\n",
              "          const docLink = document.createElement('div');\n",
              "          docLink.innerHTML = docLinkHtml;\n",
              "          element.appendChild(docLink);\n",
              "        }\n",
              "      </script>\n",
              "    </div>\n",
              "  </div>\n",
              "  "
            ]
          },
          "metadata": {},
          "execution_count": 2
        }
      ],
      "source": [
        "# Print the first five rows\n",
        "# NaN means missing data\n",
        "df.head()"
      ]
    },
    {
      "cell_type": "code",
      "execution_count": 3,
      "metadata": {
        "colab": {
          "base_uri": "https://localhost:8080/"
        },
        "id": "9vTpTwk06VL2",
        "outputId": "d8d08a4f-cb60-43ba-9000-6e315d6b547c"
      },
      "outputs": [
        {
          "output_type": "stream",
          "name": "stdout",
          "text": [
            "<class 'pandas.core.frame.DataFrame'>\n",
            "RangeIndex: 95485 entries, 0 to 95484\n",
            "Data columns (total 13 columns):\n",
            " #   Column                 Non-Null Count  Dtype  \n",
            "---  ------                 --------------  -----  \n",
            " 0   Pet ID                 95485 non-null  object \n",
            " 1   Outcome Type           95485 non-null  float64\n",
            " 2   Sex upon Outcome       95484 non-null  object \n",
            " 3   Name                   59138 non-null  object \n",
            " 4   Found Location         95485 non-null  object \n",
            " 5   Intake Type            95485 non-null  object \n",
            " 6   Intake Condition       95485 non-null  object \n",
            " 7   Pet Type               95485 non-null  object \n",
            " 8   Sex upon Intake        95484 non-null  object \n",
            " 9   Breed                  95485 non-null  object \n",
            " 10  Color                  95485 non-null  object \n",
            " 11  Age upon Intake Days   95485 non-null  int64  \n",
            " 12  Age upon Outcome Days  95485 non-null  int64  \n",
            "dtypes: float64(1), int64(2), object(10)\n",
            "memory usage: 9.5+ MB\n"
          ]
        }
      ],
      "source": [
        "# Let's see the data types and non-null values for each column\n",
        "df.info()"
      ]
    },
    {
      "cell_type": "code",
      "execution_count": 4,
      "metadata": {
        "colab": {
          "base_uri": "https://localhost:8080/",
          "height": 300
        },
        "id": "8nJh7Li46VL2",
        "outputId": "7e421341-2c4e-4f21-8097-d2aff636e4fb"
      },
      "outputs": [
        {
          "output_type": "execute_result",
          "data": {
            "text/plain": [
              "       Outcome Type  Age upon Intake Days  Age upon Outcome Days\n",
              "count  95485.000000          95485.000000           95485.000000\n",
              "mean       0.564005            703.436959             717.757313\n",
              "std        0.495889           1052.252197            1055.023160\n",
              "min        0.000000              0.000000               0.000000\n",
              "25%        0.000000             30.000000              60.000000\n",
              "50%        1.000000            365.000000             365.000000\n",
              "75%        1.000000            730.000000             730.000000\n",
              "max        1.000000           9125.000000            9125.000000"
            ],
            "text/html": [
              "\n",
              "  <div id=\"df-73184482-8040-43cb-9026-74705466a689\">\n",
              "    <div class=\"colab-df-container\">\n",
              "      <div>\n",
              "<style scoped>\n",
              "    .dataframe tbody tr th:only-of-type {\n",
              "        vertical-align: middle;\n",
              "    }\n",
              "\n",
              "    .dataframe tbody tr th {\n",
              "        vertical-align: top;\n",
              "    }\n",
              "\n",
              "    .dataframe thead th {\n",
              "        text-align: right;\n",
              "    }\n",
              "</style>\n",
              "<table border=\"1\" class=\"dataframe\">\n",
              "  <thead>\n",
              "    <tr style=\"text-align: right;\">\n",
              "      <th></th>\n",
              "      <th>Outcome Type</th>\n",
              "      <th>Age upon Intake Days</th>\n",
              "      <th>Age upon Outcome Days</th>\n",
              "    </tr>\n",
              "  </thead>\n",
              "  <tbody>\n",
              "    <tr>\n",
              "      <th>count</th>\n",
              "      <td>95485.000000</td>\n",
              "      <td>95485.000000</td>\n",
              "      <td>95485.000000</td>\n",
              "    </tr>\n",
              "    <tr>\n",
              "      <th>mean</th>\n",
              "      <td>0.564005</td>\n",
              "      <td>703.436959</td>\n",
              "      <td>717.757313</td>\n",
              "    </tr>\n",
              "    <tr>\n",
              "      <th>std</th>\n",
              "      <td>0.495889</td>\n",
              "      <td>1052.252197</td>\n",
              "      <td>1055.023160</td>\n",
              "    </tr>\n",
              "    <tr>\n",
              "      <th>min</th>\n",
              "      <td>0.000000</td>\n",
              "      <td>0.000000</td>\n",
              "      <td>0.000000</td>\n",
              "    </tr>\n",
              "    <tr>\n",
              "      <th>25%</th>\n",
              "      <td>0.000000</td>\n",
              "      <td>30.000000</td>\n",
              "      <td>60.000000</td>\n",
              "    </tr>\n",
              "    <tr>\n",
              "      <th>50%</th>\n",
              "      <td>1.000000</td>\n",
              "      <td>365.000000</td>\n",
              "      <td>365.000000</td>\n",
              "    </tr>\n",
              "    <tr>\n",
              "      <th>75%</th>\n",
              "      <td>1.000000</td>\n",
              "      <td>730.000000</td>\n",
              "      <td>730.000000</td>\n",
              "    </tr>\n",
              "    <tr>\n",
              "      <th>max</th>\n",
              "      <td>1.000000</td>\n",
              "      <td>9125.000000</td>\n",
              "      <td>9125.000000</td>\n",
              "    </tr>\n",
              "  </tbody>\n",
              "</table>\n",
              "</div>\n",
              "      <button class=\"colab-df-convert\" onclick=\"convertToInteractive('df-73184482-8040-43cb-9026-74705466a689')\"\n",
              "              title=\"Convert this dataframe to an interactive table.\"\n",
              "              style=\"display:none;\">\n",
              "        \n",
              "  <svg xmlns=\"http://www.w3.org/2000/svg\" height=\"24px\"viewBox=\"0 0 24 24\"\n",
              "       width=\"24px\">\n",
              "    <path d=\"M0 0h24v24H0V0z\" fill=\"none\"/>\n",
              "    <path d=\"M18.56 5.44l.94 2.06.94-2.06 2.06-.94-2.06-.94-.94-2.06-.94 2.06-2.06.94zm-11 1L8.5 8.5l.94-2.06 2.06-.94-2.06-.94L8.5 2.5l-.94 2.06-2.06.94zm10 10l.94 2.06.94-2.06 2.06-.94-2.06-.94-.94-2.06-.94 2.06-2.06.94z\"/><path d=\"M17.41 7.96l-1.37-1.37c-.4-.4-.92-.59-1.43-.59-.52 0-1.04.2-1.43.59L10.3 9.45l-7.72 7.72c-.78.78-.78 2.05 0 2.83L4 21.41c.39.39.9.59 1.41.59.51 0 1.02-.2 1.41-.59l7.78-7.78 2.81-2.81c.8-.78.8-2.07 0-2.86zM5.41 20L4 18.59l7.72-7.72 1.47 1.35L5.41 20z\"/>\n",
              "  </svg>\n",
              "      </button>\n",
              "      \n",
              "  <style>\n",
              "    .colab-df-container {\n",
              "      display:flex;\n",
              "      flex-wrap:wrap;\n",
              "      gap: 12px;\n",
              "    }\n",
              "\n",
              "    .colab-df-convert {\n",
              "      background-color: #E8F0FE;\n",
              "      border: none;\n",
              "      border-radius: 50%;\n",
              "      cursor: pointer;\n",
              "      display: none;\n",
              "      fill: #1967D2;\n",
              "      height: 32px;\n",
              "      padding: 0 0 0 0;\n",
              "      width: 32px;\n",
              "    }\n",
              "\n",
              "    .colab-df-convert:hover {\n",
              "      background-color: #E2EBFA;\n",
              "      box-shadow: 0px 1px 2px rgba(60, 64, 67, 0.3), 0px 1px 3px 1px rgba(60, 64, 67, 0.15);\n",
              "      fill: #174EA6;\n",
              "    }\n",
              "\n",
              "    [theme=dark] .colab-df-convert {\n",
              "      background-color: #3B4455;\n",
              "      fill: #D2E3FC;\n",
              "    }\n",
              "\n",
              "    [theme=dark] .colab-df-convert:hover {\n",
              "      background-color: #434B5C;\n",
              "      box-shadow: 0px 1px 3px 1px rgba(0, 0, 0, 0.15);\n",
              "      filter: drop-shadow(0px 1px 2px rgba(0, 0, 0, 0.3));\n",
              "      fill: #FFFFFF;\n",
              "    }\n",
              "  </style>\n",
              "\n",
              "      <script>\n",
              "        const buttonEl =\n",
              "          document.querySelector('#df-73184482-8040-43cb-9026-74705466a689 button.colab-df-convert');\n",
              "        buttonEl.style.display =\n",
              "          google.colab.kernel.accessAllowed ? 'block' : 'none';\n",
              "\n",
              "        async function convertToInteractive(key) {\n",
              "          const element = document.querySelector('#df-73184482-8040-43cb-9026-74705466a689');\n",
              "          const dataTable =\n",
              "            await google.colab.kernel.invokeFunction('convertToInteractive',\n",
              "                                                     [key], {});\n",
              "          if (!dataTable) return;\n",
              "\n",
              "          const docLinkHtml = 'Like what you see? Visit the ' +\n",
              "            '<a target=\"_blank\" href=https://colab.research.google.com/notebooks/data_table.ipynb>data table notebook</a>'\n",
              "            + ' to learn more about interactive tables.';\n",
              "          element.innerHTML = '';\n",
              "          dataTable['output_type'] = 'display_data';\n",
              "          await google.colab.output.renderOutput(dataTable, element);\n",
              "          const docLink = document.createElement('div');\n",
              "          docLink.innerHTML = docLinkHtml;\n",
              "          element.appendChild(docLink);\n",
              "        }\n",
              "      </script>\n",
              "    </div>\n",
              "  </div>\n",
              "  "
            ]
          },
          "metadata": {},
          "execution_count": 4
        }
      ],
      "source": [
        "# This prints basic statistics for numerical columns\n",
        "df.describe()"
      ]
    },
    {
      "cell_type": "markdown",
      "metadata": {
        "id": "3nPt-1226VL3"
      },
      "source": [
        "Let's separate model features and model target. "
      ]
    },
    {
      "cell_type": "code",
      "execution_count": 5,
      "metadata": {
        "colab": {
          "base_uri": "https://localhost:8080/"
        },
        "id": "N1BvjzC96VL3",
        "outputId": "3e4f7825-7906-422b-ccab-48822f34a763"
      },
      "outputs": [
        {
          "output_type": "stream",
          "name": "stdout",
          "text": [
            "Index(['Pet ID', 'Outcome Type', 'Sex upon Outcome', 'Name', 'Found Location',\n",
            "       'Intake Type', 'Intake Condition', 'Pet Type', 'Sex upon Intake',\n",
            "       'Breed', 'Color', 'Age upon Intake Days', 'Age upon Outcome Days'],\n",
            "      dtype='object')\n"
          ]
        }
      ],
      "source": [
        "print(df.columns)"
      ]
    },
    {
      "cell_type": "code",
      "execution_count": 6,
      "metadata": {
        "colab": {
          "base_uri": "https://localhost:8080/"
        },
        "id": "6kIfLQzj6VL4",
        "outputId": "543ec335-87c5-498d-a9c5-1b2b4fc98cb3"
      },
      "outputs": [
        {
          "output_type": "stream",
          "name": "stdout",
          "text": [
            "Model features:  Index(['Pet ID', 'Sex upon Outcome', 'Name', 'Found Location', 'Intake Type',\n",
            "       'Intake Condition', 'Pet Type', 'Sex upon Intake', 'Breed', 'Color',\n",
            "       'Age upon Intake Days', 'Age upon Outcome Days'],\n",
            "      dtype='object')\n",
            "Model target:  Outcome Type\n"
          ]
        }
      ],
      "source": [
        "model_features = df.columns.drop('Outcome Type')\n",
        "model_target = 'Outcome Type'\n",
        "\n",
        "print('Model features: ', model_features)\n",
        "print('Model target: ', model_target)"
      ]
    },
    {
      "cell_type": "markdown",
      "metadata": {
        "id": "AQCSbnqn6VL4"
      },
      "source": [
        "We can explore the features set further, figuring out first what features are numerical or categorical. Beware that some integer-valued features could actually be categorical features, and some categorical features could be text features. "
      ]
    },
    {
      "cell_type": "code",
      "execution_count": 7,
      "metadata": {
        "colab": {
          "base_uri": "https://localhost:8080/"
        },
        "id": "veTWLR5t6VL4",
        "outputId": "9d7cf197-d204-4deb-f65d-f6516f161c19"
      },
      "outputs": [
        {
          "output_type": "stream",
          "name": "stdout",
          "text": [
            "Numerical columns: Index(['Age upon Intake Days', 'Age upon Outcome Days'], dtype='object')\n",
            "\n",
            "Categorical columns: Index(['Pet ID', 'Sex upon Outcome', 'Name', 'Found Location', 'Intake Type',\n",
            "       'Intake Condition', 'Pet Type', 'Sex upon Intake', 'Breed', 'Color'],\n",
            "      dtype='object')\n"
          ]
        }
      ],
      "source": [
        "import numpy as np\n",
        "numerical_features_all = df[model_features].select_dtypes(include=np.number).columns\n",
        "print('Numerical columns:',numerical_features_all)\n",
        "\n",
        "print('')\n",
        "\n",
        "categorical_features_all = df[model_features].select_dtypes(include='object').columns\n",
        "print('Categorical columns:',categorical_features_all)\n"
      ]
    },
    {
      "cell_type": "markdown",
      "metadata": {
        "id": "5uzJFZli6VL5"
      },
      "source": [
        "#### Target distribution\n",
        "\n",
        "Let's check our target distribution."
      ]
    },
    {
      "cell_type": "code",
      "execution_count": 8,
      "metadata": {
        "scrolled": true,
        "colab": {
          "base_uri": "https://localhost:8080/",
          "height": 271
        },
        "id": "fwJH389R6VL5",
        "outputId": "4ed1cebc-df34-4b06-c1d9-2d2e33601b02"
      },
      "outputs": [
        {
          "output_type": "display_data",
          "data": {
            "text/plain": [
              "<Figure size 432x288 with 1 Axes>"
            ],
            "image/png": "[encoded data removed]"
          },
          "metadata": {
            "needs_background": "light"
          }
        }
      ],
      "source": [
        "import matplotlib.pyplot as plt\n",
        "%matplotlib inline\n",
        "\n",
        "df[model_target].value_counts().plot.bar()\n",
        "plt.show()"
      ]
    },
    {
      "cell_type": "markdown",
      "metadata": {
        "id": "ONYJgDsO6VL6"
      },
      "source": [
        "From the target plots we can identify whether or not we are dealing with imbalanced datasets - this means one result type is dominating the other one(s). \n",
        "\n",
        "Handling class imbalance is highly recommended, as the model performance can be greatly impacted. In particular the model may not work well for the infrequent classes, as there are not enough samples to learn patterns from, and so it would be hard for the classifier to identify and match those patterns. \n",
        "\n",
        "We might want to downsample the dominant class or upsample the rare the class, to help with learning its patterns. However, we should only fix the imbalance in training set, without changing the validation and test sets, as these should follow the original distribution. We will perform this task after train/test split. \n"
      ]
    },
    {
      "cell_type": "markdown",
      "metadata": {
        "id": "EwmEkueR6VL6"
      },
      "source": [
        "## 3. <a name=\"3\">Select features to build the model</a>\n",
        "(<a href=\"#0\">Go to top</a>)\n",
        "\n",
        "We only consider the __numerical features__ to build the model for this first sample solution. \n",
        "\n",
        "Let's examine the numerical features."
      ]
    },
    {
      "cell_type": "code",
      "execution_count": 9,
      "metadata": {
        "colab": {
          "base_uri": "https://localhost:8080/",
          "height": 549
        },
        "id": "P366NNRz6VL6",
        "outputId": "589b3477-600e-4241-cc8a-4daf692b539a"
      },
      "outputs": [
        {
          "output_type": "stream",
          "name": "stdout",
          "text": [
            "Age upon Intake Days\n"
          ]
        },
        {
          "output_type": "display_data",
          "data": {
            "text/plain": [
              "<Figure size 432x288 with 1 Axes>"
            ],
            "image/png": "[encoded data removed]"
          },
          "metadata": {
            "needs_background": "light"
          }
        },
        {
          "output_type": "stream",
          "name": "stdout",
          "text": [
            "Age upon Outcome Days\n"
          ]
        },
        {
          "output_type": "display_data",
          "data": {
            "text/plain": [
              "<Figure size 432x288 with 1 Axes>"
            ],
            "image/png": "[encoded data removed]"
          },
          "metadata": {
            "needs_background": "light"
          }
        }
      ],
      "source": [
        "import matplotlib.pyplot as plt\n",
        "%matplotlib inline\n",
        "\n",
        "for c in numerical_features_all:\n",
        "    print(c)\n",
        "    df[c].plot.hist(bins=5)\n",
        "    plt.show()"
      ]
    },
    {
      "cell_type": "markdown",
      "metadata": {
        "id": "tmlsj0vz6VL6"
      },
      "source": [
        "If for some histograms the values are heavily placed in the first bin, it is good to check for outliers, either checking the min-max values of those particular features and/or explore value ranges."
      ]
    },
    {
      "cell_type": "code",
      "execution_count": 10,
      "metadata": {
        "colab": {
          "base_uri": "https://localhost:8080/"
        },
        "id": "p8KolHxo6VL7",
        "outputId": "cbfe0cee-391a-4bd9-ff4c-e7a6fd467681"
      },
      "outputs": [
        {
          "output_type": "stream",
          "name": "stdout",
          "text": [
            "Age upon Intake Days\n",
            "min: 0 max: 9125\n",
            "Age upon Outcome Days\n",
            "min: 0 max: 9125\n"
          ]
        }
      ],
      "source": [
        "for c in numerical_features_all:\n",
        "    print(c)\n",
        "    print('min:', df[c].min(), 'max:', df[c].max())"
      ]
    },
    {
      "cell_type": "markdown",
      "metadata": {
        "id": "IN52aCEQ6VL7"
      },
      "source": [
        "With __value_counts()__ function, we can increase the number of histogram bins to 10 for more bins for a more refined view of the numerical features."
      ]
    },
    {
      "cell_type": "code",
      "execution_count": 11,
      "metadata": {
        "colab": {
          "base_uri": "https://localhost:8080/"
        },
        "id": "Z3jO2aGr6VL7",
        "outputId": "f2f1cab4-c50c-4102-9c3d-befccc359458"
      },
      "outputs": [
        {
          "output_type": "stream",
          "name": "stdout",
          "text": [
            "Age upon Intake Days\n",
            "(-9.126, 912.5]     74835\n",
            "(912.5, 1825.0]     10647\n",
            "(1825.0, 2737.5]     3471\n",
            "(2737.5, 3650.0]     3998\n",
            "(3650.0, 4562.5]     1234\n",
            "(4562.5, 5475.0]     1031\n",
            "(5475.0, 6387.5]      183\n",
            "(6387.5, 7300.0]       79\n",
            "(7300.0, 8212.5]        5\n",
            "(8212.5, 9125.0]        2\n",
            "Name: Age upon Intake Days, dtype: int64\n",
            "Age upon Outcome Days\n",
            "(-9.126, 912.5]     74642\n",
            "(912.5, 1825.0]     10699\n",
            "(1825.0, 2737.5]     3465\n",
            "(2737.5, 3650.0]     4080\n",
            "(3650.0, 4562.5]     1263\n",
            "(4562.5, 5475.0]     1061\n",
            "(5475.0, 6387.5]      187\n",
            "(6387.5, 7300.0]       81\n",
            "(7300.0, 8212.5]        5\n",
            "(8212.5, 9125.0]        2\n",
            "Name: Age upon Outcome Days, dtype: int64\n"
          ]
        }
      ],
      "source": [
        "for c in numerical_features_all: \n",
        "    print(c)\n",
        "    print(df[c].value_counts(bins=10, sort=False))\n",
        "    plt.show()"
      ]
    },
    {
      "cell_type": "markdown",
      "metadata": {
        "id": "7Iafdngn6VL8"
      },
      "source": [
        "If any outliers are identified as very likely wrong values, dropping them could improve the numerical values histograms, and later overall model performance. While a good rule of thumb is that anything not in the range of (Q1 - 1.5 IQR) and (Q3 + 1.5 IQR) is an outlier, other rules for removing 'outliers' should be considered as well. "
      ]
    },
    {
      "cell_type": "markdown",
      "metadata": {
        "id": "At8YMR2C6VL8"
      },
      "source": [
        "Let's check missing values for these numerical features."
      ]
    },
    {
      "cell_type": "code",
      "execution_count": 12,
      "metadata": {
        "colab": {
          "base_uri": "https://localhost:8080/"
        },
        "id": "tBSitRQW6VL8",
        "outputId": "d7177593-0160-4c8f-ffcc-03d4d7bb51a3"
      },
      "outputs": [
        {
          "output_type": "stream",
          "name": "stdout",
          "text": [
            "Age upon Intake Days     0\n",
            "Age upon Outcome Days    0\n",
            "dtype: int64\n"
          ]
        }
      ],
      "source": [
        "print(df[numerical_features_all].isna().sum())"
      ]
    },
    {
      "cell_type": "markdown",
      "metadata": {
        "id": "PAcKC8Z_6VL8"
      },
      "source": [
        "If any missing values, as a quick fix, we can apply mean imputation. This will replace the missing values with the mean value of the corresponding column.\n",
        "\n",
        "__Note__: The statistically correct way to perform mean/mode imputation before training an ML model is to compute the column-wise means on the training data only, and then use these values to impute missing data in both the train and test sets. So, you'll need to split your dataset first.\n",
        "\n",
        "Also, more exploratory data analysis might reveal other important hidden atributes and/or relationships of the model features considered. "
      ]
    },
    {
      "cell_type": "markdown",
      "metadata": {
        "id": "0EKHXg9u6VL8"
      },
      "source": [
        "## 4. <a name=\"4\">Training and test datasets</a>\n",
        "(<a href=\"#0\">Go to top</a>)\n",
        "\n",
        "We split our dataset into training (90%) and test (10%) subsets using sklearn's [__train_test_split()__](https://scikit-learn.org/stable/modules/generated/sklearn.model_selection.train_test_split.html) function."
      ]
    },
    {
      "cell_type": "code",
      "execution_count": 13,
      "metadata": {
        "id": "NfriLp3l6VL8"
      },
      "outputs": [],
      "source": [
        "from sklearn.model_selection import train_test_split\n",
        "\n",
        "train_data, test_data = train_test_split(df, test_size=0.1, shuffle=True, random_state=23)"
      ]
    },
    {
      "cell_type": "markdown",
      "metadata": {
        "id": "eMtpdnam6VL9"
      },
      "source": [
        "#### Target balancing"
      ]
    },
    {
      "cell_type": "code",
      "execution_count": 14,
      "metadata": {
        "colab": {
          "base_uri": "https://localhost:8080/"
        },
        "id": "o8ZhUduN6VL9",
        "outputId": "246e7986-6c52-41c1-ce3b-dede31cd1fce"
      },
      "outputs": [
        {
          "output_type": "stream",
          "name": "stdout",
          "text": [
            "Training set shape: (85936, 13)\n",
            "Class 0 samples in the training set: 37499\n",
            "Class 1 samples in the training set: 48437\n",
            "Class 0 samples in the test set: 4132\n",
            "Class 1 samples in the test set: 5417\n"
          ]
        }
      ],
      "source": [
        "print('Training set shape:', train_data.shape)\n",
        "\n",
        "print('Class 0 samples in the training set:', sum(train_data[model_target] == 0))\n",
        "print('Class 1 samples in the training set:', sum(train_data[model_target] == 1))\n",
        "\n",
        "print('Class 0 samples in the test set:', sum(test_data[model_target] == 0))\n",
        "print('Class 1 samples in the test set:', sum(test_data[model_target] == 1))"
      ]
    },
    {
      "cell_type": "markdown",
      "metadata": {
        "id": "S1Tr0lMV6VL9"
      },
      "source": [
        "__Important note:__ We want to fix the imbalance only in training set. We shouldn't change the validation and test sets, as these should follow the original distribution."
      ]
    },
    {
      "cell_type": "code",
      "execution_count": 16,
      "metadata": {
        "id": "XxW5Mezk6VL9"
      },
      "outputs": [],
      "source": [
        "from sklearn.utils import shuffle\n",
        "\n",
        "class_0_no = train_data[train_data[model_target] == 0]\n",
        "class_1_no = train_data[train_data[model_target] == 1]\n",
        "\n",
        "upsampled_class_0_no = class_0_no.sample(n=len(class_1_no), replace=True, random_state=42)\n",
        "\n",
        "train_data = pd.concat([class_1_no, upsampled_class_0_no])\n",
        "train_data = shuffle(train_data)"
      ]
    },
    {
      "cell_type": "code",
      "execution_count": 17,
      "metadata": {
        "colab": {
          "base_uri": "https://localhost:8080/"
        },
        "id": "JJpwPbBt6VL9",
        "outputId": "79612f58-24fb-413f-8ccb-b6f007eb8e59"
      },
      "outputs": [
        {
          "output_type": "stream",
          "name": "stdout",
          "text": [
            "Training set shape: (96874, 13)\n",
            "Class 1 samples in the training set: 48437\n",
            "Class 0 samples in the training set: 48437\n"
          ]
        }
      ],
      "source": [
        "print('Training set shape:', train_data.shape)\n",
        "\n",
        "print('Class 1 samples in the training set:', sum(train_data[model_target] == 1))\n",
        "print('Class 0 samples in the training set:', sum(train_data[model_target] == 0))"
      ]
    },
    {
      "cell_type": "markdown",
      "metadata": {
        "id": "Ejr50s2-6VL-"
      },
      "source": [
        "## 5. <a name=\"5\">Data processing with Pipeline</a>\n",
        "(<a href=\"#0\">Go to top</a>)\n",
        "\n",
        "In a typical machine learning workflow you will need to apply data transformations, like imputation and scaling shown here, at least twice. First on the training dataset with __.fit()__ and __.transform()__, when preparing the data to training the model. And again, on any new data you want to predict on, with _-.transform()__. Scikit-learn [Pipeline](https://scikit-learn.org/stable/modules/generated/sklearn.pipeline.Pipeline.html) is a tool that simplifies this process by enforcing the implementation and order of data processing steps. \n",
        "\n",
        "We build a pipeline to impute the missing values with the mean using sklearn's SimpleImputer, scale the numerical features to have similar orders of magnitude by bringing them into the 0-1 range with sklearn's MinMaxScaler, and finally train an estimator [Decision Tree Classifier](https://scikit-learn.org/stable/modules/generated/sklearn.tree.DecisionTreeClassifier.html) on the imputed and scaled dataset. \n"
      ]
    },
    {
      "cell_type": "code",
      "execution_count": 18,
      "metadata": {
        "colab": {
          "base_uri": "https://localhost:8080/",
          "height": 270
        },
        "id": "F_Xz_eGt6VL-",
        "outputId": "6fac6625-d73a-40a9-84f0-236ebbd4ecea"
      },
      "outputs": [
        {
          "output_type": "execute_result",
          "data": {
            "text/plain": [
              "Pipeline(steps=[('imputer', SimpleImputer()), ('scaler', MinMaxScaler()),\n",
              "                ('estimator', KNeighborsClassifier(n_neighbors=3))])"
            ],
            "text/html": [
              "<style>#sk-7fa13871-aeab-4af2-9ca8-db7f2455050f {color: black;background-color: white;}#sk-7fa13871-aeab-4af2-9ca8-db7f2455050f pre{padding: 0;}#sk-7fa13871-aeab-4af2-9ca8-db7f2455050f div.sk-toggleable {background-color: white;}#sk-7fa13871-aeab-4af2-9ca8-db7f2455050f label.sk-toggleable__label {cursor: pointer;display: block;width: 100%;margin-bottom: 0;padding: 0.3em;box-sizing: border-box;text-align: center;}#sk-7fa13871-aeab-4af2-9ca8-db7f2455050f label.sk-toggleable__label-arrow:before {content: \"▸\";float: left;margin-right: 0.25em;color: #696969;}#sk-7fa13871-aeab-4af2-9ca8-db7f2455050f label.sk-toggleable__label-arrow:hover:before {color: black;}#sk-7fa13871-aeab-4af2-9ca8-db7f2455050f div.sk-estimator:hover label.sk-toggleable__label-arrow:before {color: black;}#sk-7fa13871-aeab-4af2-9ca8-db7f2455050f div.sk-toggleable__content {max-height: 0;max-width: 0;overflow: hidden;text-align: left;background-color: #f0f8ff;}#sk-7fa13871-aeab-4af2-9ca8-db7f2455050f div.sk-toggleable__content pre {margin: 0.2em;color: black;border-radius: 0.25em;background-color: #f0f8ff;}#sk-7fa13871-aeab-4af2-9ca8-db7f2455050f input.sk-toggleable__control:checked~div.sk-toggleable__content {max-height: 200px;max-width: 100%;overflow: auto;}#sk-7fa13871-aeab-4af2-9ca8-db7f2455050f input.sk-toggleable__control:checked~label.sk-toggleable__label-arrow:before {content: \"▾\";}#sk-7fa13871-aeab-4af2-9ca8-db7f2455050f div.sk-estimator input.sk-toggleable__control:checked~label.sk-toggleable__label {background-color: #d4ebff;}#sk-7fa13871-aeab-4af2-9ca8-db7f2455050f div.sk-label input.sk-toggleable__control:checked~label.sk-toggleable__label {background-color: #d4ebff;}#sk-7fa13871-aeab-4af2-9ca8-db7f2455050f input.sk-hidden--visually {border: 0;clip: rect(1px 1px 1px 1px);clip: rect(1px, 1px, 1px, 1px);height: 1px;margin: -1px;overflow: hidden;padding: 0;position: absolute;width: 1px;}#sk-7fa13871-aeab-4af2-9ca8-db7f2455050f div.sk-estimator {font-family: monospace;background-color: #f0f8ff;border: 1px dotted black;border-radius: 0.25em;box-sizing: border-box;margin-bottom: 0.5em;}#sk-7fa13871-aeab-4af2-9ca8-db7f2455050f div.sk-estimator:hover {background-color: #d4ebff;}#sk-7fa13871-aeab-4af2-9ca8-db7f2455050f div.sk-parallel-item::after {content: \"\";width: 100%;border-bottom: 1px solid gray;flex-grow: 1;}#sk-7fa13871-aeab-4af2-9ca8-db7f2455050f div.sk-label:hover label.sk-toggleable__label {background-color: #d4ebff;}#sk-7fa13871-aeab-4af2-9ca8-db7f2455050f div.sk-serial::before {content: \"\";position: absolute;border-left: 1px solid gray;box-sizing: border-box;top: 2em;bottom: 0;left: 50%;}#sk-7fa13871-aeab-4af2-9ca8-db7f2455050f div.sk-serial {display: flex;flex-direction: column;align-items: center;background-color: white;padding-right: 0.2em;padding-left: 0.2em;}#sk-7fa13871-aeab-4af2-9ca8-db7f2455050f div.sk-item {z-index: 1;}#sk-7fa13871-aeab-4af2-9ca8-db7f2455050f div.sk-parallel {display: flex;align-items: stretch;justify-content: center;background-color: white;}#sk-7fa13871-aeab-4af2-9ca8-db7f2455050f div.sk-parallel::before {content: \"\";position: absolute;border-left: 1px solid gray;box-sizing: border-box;top: 2em;bottom: 0;left: 50%;}#sk-7fa13871-aeab-4af2-9ca8-db7f2455050f div.sk-parallel-item {display: flex;flex-direction: column;position: relative;background-color: white;}#sk-7fa13871-aeab-4af2-9ca8-db7f2455050f div.sk-parallel-item:first-child::after {align-self: flex-end;width: 50%;}#sk-7fa13871-aeab-4af2-9ca8-db7f2455050f div.sk-parallel-item:last-child::after {align-self: flex-start;width: 50%;}#sk-7fa13871-aeab-4af2-9ca8-db7f2455050f div.sk-parallel-item:only-child::after {width: 0;}#sk-7fa13871-aeab-4af2-9ca8-db7f2455050f div.sk-dashed-wrapped {border: 1px dashed gray;margin: 0 0.4em 0.5em 0.4em;box-sizing: border-box;padding-bottom: 0.4em;background-color: white;position: relative;}#sk-7fa13871-aeab-4af2-9ca8-db7f2455050f div.sk-label label {font-family: monospace;font-weight: bold;background-color: white;display: inline-block;line-height: 1.2em;}#sk-7fa13871-aeab-4af2-9ca8-db7f2455050f div.sk-label-container {position: relative;z-index: 2;text-align: center;}#sk-7fa13871-aeab-4af2-9ca8-db7f2455050f div.sk-container {/* jupyter's `normalize.less` sets `[hidden] { display: none; }` but bootstrap.min.css set `[hidden] { display: none !important; }` so we also need the `!important` here to be able to override the default hidden behavior on the sphinx rendered scikit-learn.org. See: https://github.com/scikit-learn/scikit-learn/issues/21755 */display: inline-block !important;position: relative;}#sk-7fa13871-aeab-4af2-9ca8-db7f2455050f div.sk-text-repr-fallback {display: none;}</style><div id=\"sk-7fa13871-aeab-4af2-9ca8-db7f2455050f\" class=\"sk-top-container\"><div class=\"sk-text-repr-fallback\"><pre>Pipeline(steps=[(&#x27;imputer&#x27;, SimpleImputer()), (&#x27;scaler&#x27;, MinMaxScaler()),\n",
              "                (&#x27;estimator&#x27;, KNeighborsClassifier(n_neighbors=3))])</pre><b>Please rerun this cell to show the HTML repr or trust the notebook.</b></div><div class=\"sk-container\" hidden><div class=\"sk-item sk-dashed-wrapped\"><div class=\"sk-label-container\"><div class=\"sk-label sk-toggleable\"><input class=\"sk-toggleable__control sk-hidden--visually\" id=\"0321e45b-914e-4b49-bdad-016d29b6391f\" type=\"checkbox\" ><label for=\"0321e45b-914e-4b49-bdad-016d29b6391f\" class=\"sk-toggleable__label sk-toggleable__label-arrow\">Pipeline</label><div class=\"sk-toggleable__content\"><pre>Pipeline(steps=[(&#x27;imputer&#x27;, SimpleImputer()), (&#x27;scaler&#x27;, MinMaxScaler()),\n",
              "                (&#x27;estimator&#x27;, KNeighborsClassifier(n_neighbors=3))])</pre></div></div></div><div class=\"sk-serial\"><div class=\"sk-item\"><div class=\"sk-estimator sk-toggleable\"><input class=\"sk-toggleable__control sk-hidden--visually\" id=\"cb0c066f-4dda-480a-b15a-0269d569d2d8\" type=\"checkbox\" ><label for=\"cb0c066f-4dda-480a-b15a-0269d569d2d8\" class=\"sk-toggleable__label sk-toggleable__label-arrow\">SimpleImputer</label><div class=\"sk-toggleable__content\"><pre>SimpleImputer()</pre></div></div></div><div class=\"sk-item\"><div class=\"sk-estimator sk-toggleable\"><input class=\"sk-toggleable__control sk-hidden--visually\" id=\"2b475e20-7d50-446a-9e50-f0bf1b973002\" type=\"checkbox\" ><label for=\"2b475e20-7d50-446a-9e50-f0bf1b973002\" class=\"sk-toggleable__label sk-toggleable__label-arrow\">MinMaxScaler</label><div class=\"sk-toggleable__content\"><pre>MinMaxScaler()</pre></div></div></div><div class=\"sk-item\"><div class=\"sk-estimator sk-toggleable\"><input class=\"sk-toggleable__control sk-hidden--visually\" id=\"03e5ca3c-b0e4-40d6-bdbf-3c1a8f30358f\" type=\"checkbox\" ><label for=\"03e5ca3c-b0e4-40d6-bdbf-3c1a8f30358f\" class=\"sk-toggleable__label sk-toggleable__label-arrow\">KNeighborsClassifier</label><div class=\"sk-toggleable__content\"><pre>KNeighborsClassifier(n_neighbors=3)</pre></div></div></div></div></div></div></div>"
            ]
          },
          "metadata": {},
          "execution_count": 18
        }
      ],
      "source": [
        "from sklearn.model_selection import train_test_split\n",
        "from sklearn.impute import SimpleImputer\n",
        "from sklearn.preprocessing import MinMaxScaler\n",
        "from sklearn.neighbors import KNeighborsClassifier\n",
        "from sklearn.pipeline import Pipeline\n",
        "\n",
        "### PIPELINE ###\n",
        "################\n",
        "\n",
        "# Pipeline desired data transformers, along with an estimator at the end\n",
        "# For each step specify: a name, the actual transformer/estimator with its parameters\n",
        "classifier = Pipeline([\n",
        "    ('imputer', SimpleImputer(strategy='mean')),\n",
        "    ('scaler', MinMaxScaler()),\n",
        "    ('estimator', KNeighborsClassifier(n_neighbors = 3))\n",
        "])\n",
        "\n",
        "# Visualize the pipeline\n",
        "# This will come in handy especially when building more complex pipelines, stringing together multiple preprocessing steps\n",
        "from sklearn import set_config\n",
        "set_config(display='diagram')\n",
        "classifier"
      ]
    },
    {
      "cell_type": "markdown",
      "metadata": {
        "id": "YSrww6ik6VL-"
      },
      "source": [
        "## 6. <a name=\"6\">Train a classifier</a>\n",
        "(<a href=\"#0\">Go to top</a>)\n",
        "\n",
        "We train our classifier with __.fit()__ on our training dataset. "
      ]
    },
    {
      "cell_type": "code",
      "execution_count": 19,
      "metadata": {
        "colab": {
          "base_uri": "https://localhost:8080/",
          "height": 184
        },
        "id": "B9ptHxp26VL-",
        "outputId": "27b338ad-3103-43e4-ccb8-0592b89c6a43"
      },
      "outputs": [
        {
          "output_type": "execute_result",
          "data": {
            "text/plain": [
              "Pipeline(steps=[('imputer', SimpleImputer()), ('scaler', MinMaxScaler()),\n",
              "                ('estimator', KNeighborsClassifier(n_neighbors=3))])"
            ],
            "text/html": [
              "<style>#sk-8a8ff78a-e626-49f6-b021-9c50986344bc {color: black;background-color: white;}#sk-8a8ff78a-e626-49f6-b021-9c50986344bc pre{padding: 0;}#sk-8a8ff78a-e626-49f6-b021-9c50986344bc div.sk-toggleable {background-color: white;}#sk-8a8ff78a-e626-49f6-b021-9c50986344bc label.sk-toggleable__label {cursor: pointer;display: block;width: 100%;margin-bottom: 0;padding: 0.3em;box-sizing: border-box;text-align: center;}#sk-8a8ff78a-e626-49f6-b021-9c50986344bc label.sk-toggleable__label-arrow:before {content: \"▸\";float: left;margin-right: 0.25em;color: #696969;}#sk-8a8ff78a-e626-49f6-b021-9c50986344bc label.sk-toggleable__label-arrow:hover:before {color: black;}#sk-8a8ff78a-e626-49f6-b021-9c50986344bc div.sk-estimator:hover label.sk-toggleable__label-arrow:before {color: black;}#sk-8a8ff78a-e626-49f6-b021-9c50986344bc div.sk-toggleable__content {max-height: 0;max-width: 0;overflow: hidden;text-align: left;background-color: #f0f8ff;}#sk-8a8ff78a-e626-49f6-b021-9c50986344bc div.sk-toggleable__content pre {margin: 0.2em;color: black;border-radius: 0.25em;background-color: #f0f8ff;}#sk-8a8ff78a-e626-49f6-b021-9c50986344bc input.sk-toggleable__control:checked~div.sk-toggleable__content {max-height: 200px;max-width: 100%;overflow: auto;}#sk-8a8ff78a-e626-49f6-b021-9c50986344bc input.sk-toggleable__control:checked~label.sk-toggleable__label-arrow:before {content: \"▾\";}#sk-8a8ff78a-e626-49f6-b021-9c50986344bc div.sk-estimator input.sk-toggleable__control:checked~label.sk-toggleable__label {background-color: #d4ebff;}#sk-8a8ff78a-e626-49f6-b021-9c50986344bc div.sk-label input.sk-toggleable__control:checked~label.sk-toggleable__label {background-color: #d4ebff;}#sk-8a8ff78a-e626-49f6-b021-9c50986344bc input.sk-hidden--visually {border: 0;clip: rect(1px 1px 1px 1px);clip: rect(1px, 1px, 1px, 1px);height: 1px;margin: -1px;overflow: hidden;padding: 0;position: absolute;width: 1px;}#sk-8a8ff78a-e626-49f6-b021-9c50986344bc div.sk-estimator {font-family: monospace;background-color: #f0f8ff;border: 1px dotted black;border-radius: 0.25em;box-sizing: border-box;margin-bottom: 0.5em;}#sk-8a8ff78a-e626-49f6-b021-9c50986344bc div.sk-estimator:hover {background-color: #d4ebff;}#sk-8a8ff78a-e626-49f6-b021-9c50986344bc div.sk-parallel-item::after {content: \"\";width: 100%;border-bottom: 1px solid gray;flex-grow: 1;}#sk-8a8ff78a-e626-49f6-b021-9c50986344bc div.sk-label:hover label.sk-toggleable__label {background-color: #d4ebff;}#sk-8a8ff78a-e626-49f6-b021-9c50986344bc div.sk-serial::before {content: \"\";position: absolute;border-left: 1px solid gray;box-sizing: border-box;top: 2em;bottom: 0;left: 50%;}#sk-8a8ff78a-e626-49f6-b021-9c50986344bc div.sk-serial {display: flex;flex-direction: column;align-items: center;background-color: white;padding-right: 0.2em;padding-left: 0.2em;}#sk-8a8ff78a-e626-49f6-b021-9c50986344bc div.sk-item {z-index: 1;}#sk-8a8ff78a-e626-49f6-b021-9c50986344bc div.sk-parallel {display: flex;align-items: stretch;justify-content: center;background-color: white;}#sk-8a8ff78a-e626-49f6-b021-9c50986344bc div.sk-parallel::before {content: \"\";position: absolute;border-left: 1px solid gray;box-sizing: border-box;top: 2em;bottom: 0;left: 50%;}#sk-8a8ff78a-e626-49f6-b021-9c50986344bc div.sk-parallel-item {display: flex;flex-direction: column;position: relative;background-color: white;}#sk-8a8ff78a-e626-49f6-b021-9c50986344bc div.sk-parallel-item:first-child::after {align-self: flex-end;width: 50%;}#sk-8a8ff78a-e626-49f6-b021-9c50986344bc div.sk-parallel-item:last-child::after {align-self: flex-start;width: 50%;}#sk-8a8ff78a-e626-49f6-b021-9c50986344bc div.sk-parallel-item:only-child::after {width: 0;}#sk-8a8ff78a-e626-49f6-b021-9c50986344bc div.sk-dashed-wrapped {border: 1px dashed gray;margin: 0 0.4em 0.5em 0.4em;box-sizing: border-box;padding-bottom: 0.4em;background-color: white;position: relative;}#sk-8a8ff78a-e626-49f6-b021-9c50986344bc div.sk-label label {font-family: monospace;font-weight: bold;background-color: white;display: inline-block;line-height: 1.2em;}#sk-8a8ff78a-e626-49f6-b021-9c50986344bc div.sk-label-container {position: relative;z-index: 2;text-align: center;}#sk-8a8ff78a-e626-49f6-b021-9c50986344bc div.sk-container {/* jupyter's `normalize.less` sets `[hidden] { display: none; }` but bootstrap.min.css set `[hidden] { display: none !important; }` so we also need the `!important` here to be able to override the default hidden behavior on the sphinx rendered scikit-learn.org. See: https://github.com/scikit-learn/scikit-learn/issues/21755 */display: inline-block !important;position: relative;}#sk-8a8ff78a-e626-49f6-b021-9c50986344bc div.sk-text-repr-fallback {display: none;}</style><div id=\"sk-8a8ff78a-e626-49f6-b021-9c50986344bc\" class=\"sk-top-container\"><div class=\"sk-text-repr-fallback\"><pre>Pipeline(steps=[(&#x27;imputer&#x27;, SimpleImputer()), (&#x27;scaler&#x27;, MinMaxScaler()),\n",
              "                (&#x27;estimator&#x27;, KNeighborsClassifier(n_neighbors=3))])</pre><b>Please rerun this cell to show the HTML repr or trust the notebook.</b></div><div class=\"sk-container\" hidden><div class=\"sk-item sk-dashed-wrapped\"><div class=\"sk-label-container\"><div class=\"sk-label sk-toggleable\"><input class=\"sk-toggleable__control sk-hidden--visually\" id=\"59cba02f-615d-44f0-be03-822e5c0cef0f\" type=\"checkbox\" ><label for=\"59cba02f-615d-44f0-be03-822e5c0cef0f\" class=\"sk-toggleable__label sk-toggleable__label-arrow\">Pipeline</label><div class=\"sk-toggleable__content\"><pre>Pipeline(steps=[(&#x27;imputer&#x27;, SimpleImputer()), (&#x27;scaler&#x27;, MinMaxScaler()),\n",
              "                (&#x27;estimator&#x27;, KNeighborsClassifier(n_neighbors=3))])</pre></div></div></div><div class=\"sk-serial\"><div class=\"sk-item\"><div class=\"sk-estimator sk-toggleable\"><input class=\"sk-toggleable__control sk-hidden--visually\" id=\"b5e08a8e-0438-43e6-aa72-919930a6e4c0\" type=\"checkbox\" ><label for=\"b5e08a8e-0438-43e6-aa72-919930a6e4c0\" class=\"sk-toggleable__label sk-toggleable__label-arrow\">SimpleImputer</label><div class=\"sk-toggleable__content\"><pre>SimpleImputer()</pre></div></div></div><div class=\"sk-item\"><div class=\"sk-estimator sk-toggleable\"><input class=\"sk-toggleable__control sk-hidden--visually\" id=\"23061626-f296-433e-b732-a632eb1ec1f9\" type=\"checkbox\" ><label for=\"23061626-f296-433e-b732-a632eb1ec1f9\" class=\"sk-toggleable__label sk-toggleable__label-arrow\">MinMaxScaler</label><div class=\"sk-toggleable__content\"><pre>MinMaxScaler()</pre></div></div></div><div class=\"sk-item\"><div class=\"sk-estimator sk-toggleable\"><input class=\"sk-toggleable__control sk-hidden--visually\" id=\"d7b16b5e-b831-4d11-ad1a-9ab15186ab30\" type=\"checkbox\" ><label for=\"d7b16b5e-b831-4d11-ad1a-9ab15186ab30\" class=\"sk-toggleable__label sk-toggleable__label-arrow\">KNeighborsClassifier</label><div class=\"sk-toggleable__content\"><pre>KNeighborsClassifier(n_neighbors=3)</pre></div></div></div></div></div></div></div>"
            ]
          },
          "metadata": {},
          "execution_count": 19
        }
      ],
      "source": [
        "# Get train data to train the classifier\n",
        "X_train = train_data[numerical_features_all]\n",
        "y_train = train_data[model_target]\n",
        "\n",
        "# Fit the classifier to training data\n",
        "# Train data going through the Pipeline it's first imputed, then scaled, and finally used to fit the estimator\n",
        "classifier.fit(X_train, y_train)\n"
      ]
    },
    {
      "cell_type": "markdown",
      "metadata": {
        "id": "vLgSY4Ea6VL-"
      },
      "source": [
        "## 7. <a name=\"7\">Test the classifier</a>\n",
        "(<a href=\"#0\">Go to top</a>)\n",
        "\n",
        "Let's evaluate the performance of the trained classifier. We use __.predict()__ this time. \n",
        "\n",
        "Let's first see how the model works on the training dataset."
      ]
    },
    {
      "cell_type": "code",
      "execution_count": 20,
      "metadata": {
        "colab": {
          "base_uri": "https://localhost:8080/"
        },
        "id": "pA1uUDc16VL_",
        "outputId": "675f7d02-932e-451e-e8cc-b420a831d473"
      },
      "outputs": [
        {
          "output_type": "stream",
          "name": "stdout",
          "text": [
            "Model performance on the train set:\n",
            "[[37389 11048]\n",
            " [25629 22808]]\n",
            "              precision    recall  f1-score   support\n",
            "\n",
            "         0.0       0.59      0.77      0.67     48437\n",
            "         1.0       0.67      0.47      0.55     48437\n",
            "\n",
            "    accuracy                           0.62     96874\n",
            "   macro avg       0.63      0.62      0.61     96874\n",
            "weighted avg       0.63      0.62      0.61     96874\n",
            "\n",
            "Train accuracy: 0.6213948014947251\n"
          ]
        }
      ],
      "source": [
        "from sklearn.metrics import confusion_matrix, classification_report, accuracy_score, f1_score\n",
        "\n",
        "# Use the fitted model to make predictions on the train dataset\n",
        "# Train data going through the Pipeline it's first imputed (with means from the train), scaled (with the min/max from the train data), and finally used to make predictions\n",
        "train_predictions = classifier.predict(X_train)\n",
        "\n",
        "print('Model performance on the train set:')\n",
        "print(confusion_matrix(y_train, train_predictions))\n",
        "print(classification_report(y_train, train_predictions))\n",
        "print(\"Train accuracy:\", accuracy_score(y_train, train_predictions))"
      ]
    },
    {
      "cell_type": "markdown",
      "metadata": {
        "id": "eakiNvrU6VL_"
      },
      "source": [
        "And now, let's evaluate the performance of the classifier on the test set."
      ]
    },
    {
      "cell_type": "code",
      "execution_count": 21,
      "metadata": {
        "colab": {
          "base_uri": "https://localhost:8080/"
        },
        "id": "ZlkGCng06VL_",
        "outputId": "8069aab0-57a8-4e2e-8e75-ab07f4b5ec00"
      },
      "outputs": [
        {
          "output_type": "stream",
          "name": "stdout",
          "text": [
            "Model performance on the test set:\n",
            "[[3187  945]\n",
            " [2855 2562]]\n",
            "              precision    recall  f1-score   support\n",
            "\n",
            "         0.0       0.53      0.77      0.63      4132\n",
            "         1.0       0.73      0.47      0.57      5417\n",
            "\n",
            "    accuracy                           0.60      9549\n",
            "   macro avg       0.63      0.62      0.60      9549\n",
            "weighted avg       0.64      0.60      0.60      9549\n",
            "\n",
            "Test accuracy: 0.6020525709498377\n"
          ]
        }
      ],
      "source": [
        "from sklearn.metrics import confusion_matrix, classification_report, accuracy_score, f1_score\n",
        "\n",
        "# Get test data to test the classifier\n",
        "X_test = test_data[numerical_features_all]\n",
        "y_test = test_data[model_target]\n",
        "\n",
        "# Use the fitted model to make predictions on the test dataset\n",
        "# Test data going through the Pipeline it's first imputed (with means from the train), scaled (with the min/max from the train data), and finally used to make predictions\n",
        "test_predictions = classifier.predict(X_test)\n",
        "\n",
        "print('Model performance on the test set:')\n",
        "print(confusion_matrix(y_test, test_predictions))\n",
        "print(classification_report(y_test, test_predictions))\n",
        "print(\"Test accuracy:\", accuracy_score(y_test, test_predictions))"
      ]
    },
    {
      "cell_type": "markdown",
      "metadata": {
        "id": "Fl7oNkIc6VL_"
      },
      "source": [
        "## 8. <a name=\"8\">Improvement ideas</a>\n",
        "(<a href=\"#0\">Go to top</a>)\n",
        "\n",
        "* Tune K parameter: You can use the [__train_test_split()__](https://scikit-learn.org/stable/modules/generated/sklearn.model_selection.train_test_split.html) function on the training set, create a validation set,  and search for optimum K value using the validation performance.\n"
      ]
    }
  ],
  "metadata": {
    "kernelspec": {
      "display_name": "conda_mxnet_p36",
      "language": "python",
      "name": "conda_mxnet_p36"
    },
    "language_info": {
      "codemirror_mode": {
        "name": "ipython",
        "version": 3
      },
      "file_extension": ".py",
      "mimetype": "text/x-python",
      "name": "python",
      "nbconvert_exporter": "python",
      "pygments_lexer": "ipython3",
      "version": "3.6.13"
    },
    "colab": {
      "provenance": [],
      "include_colab_link": true
    }
  },
  "nbformat": 4,
  "nbformat_minor": 0
}