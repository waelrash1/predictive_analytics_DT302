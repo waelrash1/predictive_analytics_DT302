{
  "cells": [
    {
      "cell_type": "markdown",
      "metadata": {
        "id": "view-in-github",
        "colab_type": "text"
      },
      "source": [
        "<a href=\"https://colab.research.google.com/github/waelrash1/predictive_analytics_DT302/blob/main/MLA_TAB_BASE_MODELBUILDING_KNN.ipynb\" target=\"_parent\"><img src=\"https://colab.research.google.com/assets/colab-badge.svg\" alt=\"Open In Colab\"/></a>"
      ]
    },
    {
      "cell_type": "markdown",
      "metadata": {
        "id": "KrshN22O-dO7"
      },
      "source": [
        "# <a name=\"0\">Machine Learning simple KNN</a>\n",
        "\n",
        "\n",
        "## ML Model Development\n",
        "\n",
        "In this notebook we start from a simple machine learning problem, John's food delivery problem, and shape a machine learning solution with __sklearn__ library. Given John's dataset of food delivery recordings, the task is to predict whether an order will be on time or delayed. \n",
        "\n",
        "1. <a href=\"#1\">The dataset</a>\n",
        "2. <a href=\"#2\">Select features to build the model</a>\n",
        "3. <a href=\"#3\">Train a  classifier</a> ([__K Nearest Neighbors Classifier__](https://scikit-learn.org/stable/modules/generated/sklearn.neighbors.KNeighborsClassifier.html))\n",
        "4. <a href=\"#4\">Use the trained classifier to make predictions</a>\n",
        "5. <a href=\"#5\">Model evaluation</a>\n",
        "6. <a href=\"#6\">Training and test datasets</a>\n",
        "7. <a href=\"#7\">Overfitting</a>\n"
      ]
    },
    {
      "cell_type": "markdown",
      "metadata": {
        "id": "J16evZTA-dO9"
      },
      "source": [
        "__Jupiter notebooks environment__: \n",
        "* Jupiter notebooks allow creating and sharing documents that contain both code and rich text element, such as equations. If you are not familiar with Jupiter notebooks, read more [here](https://jupyter-notebook-beginner-guide.readthedocs.io/en/latest/what_is_jupyter.html). \n",
        "* This is a quick-start demo to bring you up to speed on coding and experimenting with machine learning. Move through the notebook from top to bottom. Run each code cell to see its output. To run a cell, click within the cell and press __Shift__+__Enter__, or click __Run__ at the top of the page. "
      ]
    },
    {
      "cell_type": "markdown",
      "metadata": {
        "id": "lVR75K5Q-dO9"
      },
      "source": [
        "## 1. <a name=\"1\">The dataset</a>\n",
        "<a href=\"#0\">Go to top</a>\n",
        "\n",
        "Let's enter John's food deliveries dataset here, using the __numpy__ high-performance array-processing package. "
      ]
    },
    {
      "cell_type": "code",
      "execution_count": 1,
      "metadata": {
        "colab": {
          "base_uri": "https://localhost:8080/"
        },
        "id": "X4iMfqpE-dO-",
        "outputId": "70ad5ce2-ee31-4f9e-ba78-e938efa67304"
      },
      "outputs": [
        {
          "output_type": "stream",
          "name": "stdout",
          "text": [
            "[[0.   1.   5.   1.   0.  ]\n",
            " [1.   0.   7.   0.   1.  ]\n",
            " [0.   1.   2.   1.   0.  ]\n",
            " [1.   1.   4.2  1.   0.  ]\n",
            " [0.   0.   7.8  0.   1.  ]\n",
            " [1.   0.   3.9  1.   0.  ]\n",
            " [0.   1.   4.   1.   0.  ]\n",
            " [1.   1.   2.   0.   0.  ]\n",
            " [0.   0.   3.5  0.   1.  ]\n",
            " [1.   0.   2.6  1.   0.  ]\n",
            " [0.   0.   4.1  0.   1.  ]\n",
            " [0.   1.   1.5  0.   1.  ]\n",
            " [1.   1.   1.75 1.   0.  ]\n",
            " [1.   0.   1.3  0.   0.  ]\n",
            " [1.   1.   2.1  0.   0.  ]\n",
            " [1.   1.   0.2  1.   0.  ]\n",
            " [1.   1.   5.2  0.   1.  ]\n",
            " [0.   1.   2.   1.   0.  ]\n",
            " [1.   0.   5.5  0.   1.  ]\n",
            " [0.   0.   2.   1.   0.  ]\n",
            " [1.   1.   1.7  0.   0.  ]\n",
            " [0.   1.   3.   1.   1.  ]\n",
            " [1.   1.   1.9  1.   0.  ]\n",
            " [0.   1.   3.1  0.   1.  ]\n",
            " [0.   1.   2.3  0.   0.  ]\n",
            " [0.   0.   1.1  1.   0.  ]\n",
            " [1.   1.   2.5  1.   1.  ]\n",
            " [1.   1.   5.   0.   1.  ]\n",
            " [1.   0.   7.5  1.   1.  ]\n",
            " [0.   0.   0.5  1.   0.  ]\n",
            " [0.   0.   1.5  1.   0.  ]\n",
            " [1.   0.   3.2  1.   0.  ]\n",
            " [0.   0.   2.15 1.   0.  ]\n",
            " [1.   1.   4.2  0.   1.  ]\n",
            " [1.   0.   6.5  0.   1.  ]\n",
            " [1.   0.   0.5  0.   0.  ]\n",
            " [0.   0.   3.5  0.   1.  ]\n",
            " [0.   0.   1.75 0.   0.  ]\n",
            " [1.   1.   5.   0.   1.  ]\n",
            " [0.   0.   2.   1.   0.  ]\n",
            " [0.   1.   1.3  1.   1.  ]\n",
            " [0.   1.   0.2  0.   0.  ]\n",
            " [1.   1.   2.2  0.   0.  ]\n",
            " [0.   1.   1.2  1.   0.  ]\n",
            " [1.   1.   4.2  0.   1.  ]]\n"
          ]
        }
      ],
      "source": [
        "import numpy as np\n",
        "\n",
        "# This is John's data\n",
        "data = np.array([[0, 1, 5, 1, 0],  # record of John's 1st food delivery\n",
        "                [1, 0, 7, 0, 1],   # record of John's 2nd food delivery\n",
        "                [0, 1, 2, 1, 0],   # record of John's 3rd food delivery\n",
        "                [1, 1, 4.2, 1, 0], # record of John's 4th food delivery\n",
        "                [0, 0, 7.8, 0, 1], # ...\n",
        "                [1, 0, 3.9, 1, 0],\n",
        "                [0, 1, 4, 1, 0],\n",
        "                [1, 1, 2, 0, 0],\n",
        "                [0, 0, 3.5, 0, 1],\n",
        "                [1, 0, 2.6, 1, 0],\n",
        "                [0, 0, 4.1, 0, 1],\n",
        "                [0, 1, 1.5, 0, 1],\n",
        "                [1, 1, 1.75, 1, 0],\n",
        "                [1, 0, 1.3, 0, 0],\n",
        "                [1, 1, 2.1, 0, 0],\n",
        "                [1, 1, 0.2, 1, 0],\n",
        "                [1, 1, 5.2, 0, 1],\n",
        "                [0, 1, 2, 1, 0],\n",
        "                [1, 0, 5.5, 0, 1],\n",
        "                [0, 0, 2, 1, 0],\n",
        "                [1, 1, 1.7, 0, 0],\n",
        "                [0, 1, 3, 1, 1],\n",
        "                [1, 1, 1.9, 1, 0],\n",
        "                [0, 1, 3.1, 0, 1],\n",
        "                [0, 1, 2.3, 0, 0],\n",
        "                [0, 0, 1.1, 1, 0],\n",
        "                [1, 1, 2.5, 1, 1],\n",
        "                [1, 1, 5, 0, 1],\n",
        "                [1, 0, 7.5, 1, 1],\n",
        "                [0, 0, 0.5, 1, 0],\n",
        "                [0, 0, 1.5, 1, 0],\n",
        "                [1, 0, 3.2, 1, 0],\n",
        "                [0, 0, 2.15, 1, 0],\n",
        "                [1, 1, 4.2, 0, 1],\n",
        "                [1, 0, 6.5, 0, 1],\n",
        "                [1, 0, 0.5, 0, 0],\n",
        "                [0, 0, 3.5, 0, 1],\n",
        "                [0, 0, 1.75, 0, 0],\n",
        "                [1, 1, 5, 0, 1],\n",
        "                [0, 0, 2, 1, 0],\n",
        "                [0, 1, 1.3, 1, 1],\n",
        "                [0, 1, 0.2, 0, 0],\n",
        "                [1, 1, 2.2, 0, 0],\n",
        "                [0, 1, 1.2, 1, 0],\n",
        "                [1, 1, 4.2, 0, 1]])\n",
        "\n",
        "print(data)"
      ]
    },
    {
      "cell_type": "markdown",
      "metadata": {
        "id": "jAmTAyZ_-dO_"
      },
      "source": [
        "Let's now write our toy dataset into a __pandas__ dataframe, labeling the columns for easier access. "
      ]
    },
    {
      "cell_type": "code",
      "execution_count": 2,
      "metadata": {
        "id": "MlvMq5rF-dO_"
      },
      "outputs": [],
      "source": [
        "import pandas as pd\n",
        "\n",
        "# Create the dataframe with this data, labeling the columns\n",
        "delivery_data = pd.DataFrame(data, columns=[\"bad_weather\", \"is_rush_hour\", \"mile_distance\", \"urban_address\", \"late\"])\n"
      ]
    },
    {
      "cell_type": "markdown",
      "metadata": {
        "id": "kcpknLWc-dPA"
      },
      "source": [
        "Looking at our dataset as a dataframe:"
      ]
    },
    {
      "cell_type": "code",
      "execution_count": null,
      "metadata": {
        "id": "7d8U0b-l-dPA",
        "outputId": "2597e56e-f3f2-46b7-bad3-22327d0d4eb3"
      },
      "outputs": [
        {
          "data": {
            "text/html": [
              "<div>\n",
              "<style scoped>\n",
              "    .dataframe tbody tr th:only-of-type {\n",
              "        vertical-align: middle;\n",
              "    }\n",
              "\n",
              "    .dataframe tbody tr th {\n",
              "        vertical-align: top;\n",
              "    }\n",
              "\n",
              "    .dataframe thead th {\n",
              "        text-align: right;\n",
              "    }\n",
              "</style>\n",
              "<table border=\"1\" class=\"dataframe\">\n",
              "  <thead>\n",
              "    <tr style=\"text-align: right;\">\n",
              "      <th></th>\n",
              "      <th>bad_weather</th>\n",
              "      <th>is_rush_hour</th>\n",
              "      <th>mile_distance</th>\n",
              "      <th>urban_address</th>\n",
              "      <th>late</th>\n",
              "    </tr>\n",
              "  </thead>\n",
              "  <tbody>\n",
              "    <tr>\n",
              "      <th>0</th>\n",
              "      <td>0.0</td>\n",
              "      <td>1.0</td>\n",
              "      <td>5.00</td>\n",
              "      <td>1.0</td>\n",
              "      <td>0.0</td>\n",
              "    </tr>\n",
              "    <tr>\n",
              "      <th>1</th>\n",
              "      <td>1.0</td>\n",
              "      <td>0.0</td>\n",
              "      <td>7.00</td>\n",
              "      <td>0.0</td>\n",
              "      <td>1.0</td>\n",
              "    </tr>\n",
              "    <tr>\n",
              "      <th>2</th>\n",
              "      <td>0.0</td>\n",
              "      <td>1.0</td>\n",
              "      <td>2.00</td>\n",
              "      <td>1.0</td>\n",
              "      <td>0.0</td>\n",
              "    </tr>\n",
              "    <tr>\n",
              "      <th>3</th>\n",
              "      <td>1.0</td>\n",
              "      <td>1.0</td>\n",
              "      <td>4.20</td>\n",
              "      <td>1.0</td>\n",
              "      <td>0.0</td>\n",
              "    </tr>\n",
              "    <tr>\n",
              "      <th>4</th>\n",
              "      <td>0.0</td>\n",
              "      <td>0.0</td>\n",
              "      <td>7.80</td>\n",
              "      <td>0.0</td>\n",
              "      <td>1.0</td>\n",
              "    </tr>\n",
              "    <tr>\n",
              "      <th>5</th>\n",
              "      <td>1.0</td>\n",
              "      <td>0.0</td>\n",
              "      <td>3.90</td>\n",
              "      <td>1.0</td>\n",
              "      <td>0.0</td>\n",
              "    </tr>\n",
              "    <tr>\n",
              "      <th>6</th>\n",
              "      <td>0.0</td>\n",
              "      <td>1.0</td>\n",
              "      <td>4.00</td>\n",
              "      <td>1.0</td>\n",
              "      <td>0.0</td>\n",
              "    </tr>\n",
              "    <tr>\n",
              "      <th>7</th>\n",
              "      <td>1.0</td>\n",
              "      <td>1.0</td>\n",
              "      <td>2.00</td>\n",
              "      <td>0.0</td>\n",
              "      <td>0.0</td>\n",
              "    </tr>\n",
              "    <tr>\n",
              "      <th>8</th>\n",
              "      <td>0.0</td>\n",
              "      <td>0.0</td>\n",
              "      <td>3.50</td>\n",
              "      <td>0.0</td>\n",
              "      <td>1.0</td>\n",
              "    </tr>\n",
              "    <tr>\n",
              "      <th>9</th>\n",
              "      <td>1.0</td>\n",
              "      <td>0.0</td>\n",
              "      <td>2.60</td>\n",
              "      <td>1.0</td>\n",
              "      <td>0.0</td>\n",
              "    </tr>\n",
              "    <tr>\n",
              "      <th>10</th>\n",
              "      <td>0.0</td>\n",
              "      <td>0.0</td>\n",
              "      <td>4.10</td>\n",
              "      <td>0.0</td>\n",
              "      <td>1.0</td>\n",
              "    </tr>\n",
              "    <tr>\n",
              "      <th>11</th>\n",
              "      <td>0.0</td>\n",
              "      <td>1.0</td>\n",
              "      <td>1.50</td>\n",
              "      <td>0.0</td>\n",
              "      <td>1.0</td>\n",
              "    </tr>\n",
              "    <tr>\n",
              "      <th>12</th>\n",
              "      <td>1.0</td>\n",
              "      <td>1.0</td>\n",
              "      <td>1.75</td>\n",
              "      <td>1.0</td>\n",
              "      <td>0.0</td>\n",
              "    </tr>\n",
              "    <tr>\n",
              "      <th>13</th>\n",
              "      <td>1.0</td>\n",
              "      <td>0.0</td>\n",
              "      <td>1.30</td>\n",
              "      <td>0.0</td>\n",
              "      <td>0.0</td>\n",
              "    </tr>\n",
              "    <tr>\n",
              "      <th>14</th>\n",
              "      <td>1.0</td>\n",
              "      <td>1.0</td>\n",
              "      <td>2.10</td>\n",
              "      <td>0.0</td>\n",
              "      <td>0.0</td>\n",
              "    </tr>\n",
              "  </tbody>\n",
              "</table>\n",
              "</div>"
            ],
            "text/plain": [
              "    bad_weather  is_rush_hour  mile_distance  urban_address  late\n",
              "0           0.0           1.0           5.00            1.0   0.0\n",
              "1           1.0           0.0           7.00            0.0   1.0\n",
              "2           0.0           1.0           2.00            1.0   0.0\n",
              "3           1.0           1.0           4.20            1.0   0.0\n",
              "4           0.0           0.0           7.80            0.0   1.0\n",
              "5           1.0           0.0           3.90            1.0   0.0\n",
              "6           0.0           1.0           4.00            1.0   0.0\n",
              "7           1.0           1.0           2.00            0.0   0.0\n",
              "8           0.0           0.0           3.50            0.0   1.0\n",
              "9           1.0           0.0           2.60            1.0   0.0\n",
              "10          0.0           0.0           4.10            0.0   1.0\n",
              "11          0.0           1.0           1.50            0.0   1.0\n",
              "12          1.0           1.0           1.75            1.0   0.0\n",
              "13          1.0           0.0           1.30            0.0   0.0\n",
              "14          1.0           1.0           2.10            0.0   0.0"
            ]
          },
          "execution_count": 4,
          "metadata": {},
          "output_type": "execute_result"
        }
      ],
      "source": [
        "# Print the first 5 rows\n",
        "delivery_data.head(15)"
      ]
    },
    {
      "cell_type": "markdown",
      "metadata": {
        "id": "XASfd8xc-dPB"
      },
      "source": [
        "Dataframes are not just more meaningful to look at, are also powerful, expressive and flexible data structures that make data manipulation and analysis much easier. "
      ]
    },
    {
      "cell_type": "markdown",
      "metadata": {
        "id": "WnTk75f0-dPB"
      },
      "source": [
        "## 2. <a name=\"2\">Select features to build the model</a>\n",
        "<a href=\"#0\">Go to top</a>\n",
        "\n",
        "Let's start using the dataframe, by first grabing the input and output of our machine learning problem."
      ]
    },
    {
      "cell_type": "code",
      "execution_count": 3,
      "metadata": {
        "id": "r9b4BCzh-dPB"
      },
      "outputs": [],
      "source": [
        "input_data = delivery_data[[\"bad_weather\", \"is_rush_hour\", \"mile_distance\", \"urban_address\"]]\n",
        "target = delivery_data[\"late\"]"
      ]
    },
    {
      "cell_type": "markdown",
      "metadata": {
        "id": "oIoTWsVq-dPB"
      },
      "source": [
        "On this dataset containing samples of each of the two possible classes, we fit an estimator from the __sklearn__ library to best capture the relationship between the input and the output, and further explore that learned relationship to predict the classes to which unseen samples belong.\n",
        "\n",
        "In __sklearn__, an estimator is a Python object that implements the methods __.fit()__ and __.predict()__. The estimator’s constructor takes as arguments the model’s parameters.\n"
      ]
    },
    {
      "cell_type": "markdown",
      "metadata": {
        "id": "b3ldrE5S-dPC"
      },
      "source": [
        "## 3. <a name=\"3\">Train a classifier</a>\n",
        "<a href=\"#0\">Go to top</a>\n",
        "\n",
        "\n",
        "Let's fit a K Nearest Neighbors (KNN) model to our data. We use the sklearn library's [KNeighborsClassifier](https://scikit-learn.org/stable/modules/generated/sklearn.neighbors.KNeighborsClassifier.html) here."
      ]
    },
    {
      "cell_type": "code",
      "execution_count": 4,
      "metadata": {
        "colab": {
          "base_uri": "https://localhost:8080/"
        },
        "id": "G-7zh2FW-dPC",
        "outputId": "0e196d2f-7fc3-4d8d-dec9-a111f342feab"
      },
      "outputs": [
        {
          "output_type": "execute_result",
          "data": {
            "text/plain": [
              "KNeighborsClassifier(n_neighbors=1)"
            ]
          },
          "metadata": {},
          "execution_count": 4
        }
      ],
      "source": [
        "from sklearn.neighbors import KNeighborsClassifier\n",
        "\n",
        "# Use n_neighbors = 1\n",
        "# This means the KNN will consider the \"closest\" record to make a decision.\n",
        "classifier = KNeighborsClassifier(n_neighbors = 1)\n",
        "\n",
        "# Fit the model to our data\n",
        "classifier.fit(input_data, target)"
      ]
    },
    {
      "cell_type": "markdown",
      "metadata": {
        "id": "yF-7vK-x-dPD"
      },
      "source": [
        "## 4. <a name=\"4\">Use the trained classifier to make predictions</a>\n",
        "<a href=\"#0\">Go to top</a>\n",
        "\n",
        "Let's make some prediction with our fitted model. Assume we have the following data:"
      ]
    },
    {
      "cell_type": "code",
      "execution_count": 5,
      "metadata": {
        "colab": {
          "base_uri": "https://localhost:8080/"
        },
        "id": "mnCaVprg-dPD",
        "outputId": "981790c8-bb95-44d3-b3a0-6a1ed783db22"
      },
      "outputs": [
        {
          "output_type": "stream",
          "name": "stdout",
          "text": [
            "[0.]\n"
          ]
        },
        {
          "output_type": "stream",
          "name": "stderr",
          "text": [
            "/usr/local/lib/python3.7/dist-packages/sklearn/base.py:451: UserWarning: X does not have valid feature names, but KNeighborsClassifier was fitted with feature names\n",
            "  \"X does not have valid feature names, but\"\n"
          ]
        }
      ],
      "source": [
        "import numpy as np\n",
        "\n",
        "some_data = np.array([[0, 0, 2.1, 1]]) # bad_weather->0, is_rush_hour->0, mile_distance->2.1 and urban_address->1\n",
        "\n",
        "# Use the fitted model to make predictions on new data\n",
        "print(classifier.predict(some_data))"
      ]
    },
    {
      "cell_type": "markdown",
      "metadata": {
        "id": "fac0EjyU-dPD"
      },
      "source": [
        "We predicted this delivery to be on time."
      ]
    },
    {
      "cell_type": "markdown",
      "metadata": {
        "id": "pSfSeTYx-dPD"
      },
      "source": [
        "We can also predict multiple records, as shown below."
      ]
    },
    {
      "cell_type": "code",
      "execution_count": 6,
      "metadata": {
        "colab": {
          "base_uri": "https://localhost:8080/"
        },
        "id": "J4138W8y-dPD",
        "outputId": "73ebc703-26e6-4472-d675-8f6bea61f400"
      },
      "outputs": [
        {
          "output_type": "stream",
          "name": "stdout",
          "text": [
            "[0. 0. 1.]\n"
          ]
        },
        {
          "output_type": "stream",
          "name": "stderr",
          "text": [
            "/usr/local/lib/python3.7/dist-packages/sklearn/base.py:451: UserWarning: X does not have valid feature names, but KNeighborsClassifier was fitted with feature names\n",
            "  \"X does not have valid feature names, but\"\n"
          ]
        }
      ],
      "source": [
        "import numpy as np\n",
        "\n",
        "some_data = np.array([[0, 0, 2.1, 1], # bad_weather->0, is_rush_hour->0, mile_distance->2.1 and urban_address->1\n",
        "                 [0, 1, 5, 0],   # bad_weather->0, is_rush_hour->1, mile_distance->5.0 and urban_address->0\n",
        "                 [1, 1, 3.1, 1]  # bad_weather->1, is_rush_hour->1, mile_distance->3.1 and urban_address->1\n",
        "                ])\n",
        "\n",
        "# Use the fitted model to make predictions on more new data\n",
        "print(classifier.predict(some_data))"
      ]
    },
    {
      "cell_type": "markdown",
      "metadata": {
        "id": "kcsnc4d8-dPE"
      },
      "source": [
        "The last delivery is predicted to be late. The first two will be on time (Hopefully!)"
      ]
    },
    {
      "cell_type": "markdown",
      "metadata": {
        "id": "n5ObUyVM-dPE"
      },
      "source": [
        "## 5. <a name=\"5\">Model evaluation</a>\n",
        "<a href=\"#0\">Go to top</a>\n",
        "\n",
        "__How do we know whether our predictions were good or bad predictions?__ <br/>\n",
        "If we don't have the correct label for this input, we won't know. Similarly, we won't have any idea about how good this model is. \n",
        "\n",
        "One thing we can do is to test the model with the data we used to train it, and use sklearn's metrics functions to examine the performance of the classifier."
      ]
    },
    {
      "cell_type": "code",
      "execution_count": 7,
      "metadata": {
        "id": "khVGqVH--dPE"
      },
      "outputs": [],
      "source": [
        "# Use the fitted model to make predictions on our training dataset\n",
        "predictions = classifier.predict(input_data)\n"
      ]
    },
    {
      "cell_type": "markdown",
      "metadata": {
        "id": "pnaRqqe1-dPE"
      },
      "source": [
        "__Confusion matrix__: The diagonals show us correct classifications. Each row and column belongs to a class (late and on time). The first column and row correspond to \"on time\" case, the second column-rows are \"late\" cases.\n"
      ]
    },
    {
      "cell_type": "code",
      "execution_count": 8,
      "metadata": {
        "colab": {
          "base_uri": "https://localhost:8080/"
        },
        "id": "boxMCysb-dPE",
        "outputId": "7d822aa6-21fb-4b35-8970-95bda0bb819e"
      },
      "outputs": [
        {
          "output_type": "stream",
          "name": "stdout",
          "text": [
            "[[27  0]\n",
            " [ 0 18]]\n"
          ]
        }
      ],
      "source": [
        "from sklearn.metrics import confusion_matrix\n",
        "\n",
        "print(confusion_matrix(target, predictions))"
      ]
    },
    {
      "cell_type": "markdown",
      "metadata": {
        "id": "xU5STqY3-dPF"
      },
      "source": [
        "When we look at the confusion matrix, we can quickly see that all predictions were correct, so our classifier should have a high score.\n",
        "\n",
        "__Classification metrics__: We use here the __accuracy__ metric, that measures how correctly the trained model predicts the late or not late outcomes. Let's look at the classification report and the accuracy score below."
      ]
    },
    {
      "cell_type": "code",
      "execution_count": 9,
      "metadata": {
        "colab": {
          "base_uri": "https://localhost:8080/"
        },
        "id": "cILwMQRk-dPF",
        "outputId": "4a05f5e8-1639-4dbd-db19-7ae597a76b65"
      },
      "outputs": [
        {
          "output_type": "stream",
          "name": "stdout",
          "text": [
            "              precision    recall  f1-score   support\n",
            "\n",
            "         0.0       1.00      1.00      1.00        27\n",
            "         1.0       1.00      1.00      1.00        18\n",
            "\n",
            "    accuracy                           1.00        45\n",
            "   macro avg       1.00      1.00      1.00        45\n",
            "weighted avg       1.00      1.00      1.00        45\n",
            "\n",
            "Accuracy: 1.0\n"
          ]
        }
      ],
      "source": [
        "from sklearn.metrics import classification_report\n",
        "from sklearn.metrics import accuracy_score\n",
        "\n",
        "print(classification_report(target, predictions))\n",
        "\n",
        "print(\"Accuracy:\", accuracy_score(target, predictions))\n"
      ]
    },
    {
      "cell_type": "markdown",
      "metadata": {
        "id": "GXGmD7u4-dPF"
      },
      "source": [
        "Indeed, we predicted all outcomes with 100% accuracy!"
      ]
    },
    {
      "cell_type": "markdown",
      "metadata": {
        "id": "yZeTdo2G-dPF"
      },
      "source": [
        "## 6. <a name=\"6\">Training and test datasets</a>\n",
        "<a href=\"#0\">Go to top</a>\n",
        "\n",
        "John's model worked with 100% accuracy on the whole dataset. This might seem promising, but this doesn't tell us anything about performance on future orders. One way to test whether this model works on new \"unseen\" orders, is to reserve some data from out original dataset for test purposes. \n",
        "\n",
        "__Let's split our data into two sets: Training (85%) and Test (15%)__. This will give us 38 training records and 7 test records (of the total 45 records)."
      ]
    },
    {
      "cell_type": "code",
      "execution_count": 10,
      "metadata": {
        "scrolled": true,
        "colab": {
          "base_uri": "https://localhost:8080/"
        },
        "id": "PbpPIgYl-dPF",
        "outputId": "82194c67-8efb-4b95-d53e-2884d65bed58"
      },
      "outputs": [
        {
          "output_type": "execute_result",
          "data": {
            "text/plain": [
              "(45, 5)"
            ]
          },
          "metadata": {},
          "execution_count": 10
        }
      ],
      "source": [
        "delivery_data.shape"
      ]
    },
    {
      "cell_type": "code",
      "execution_count": 11,
      "metadata": {
        "colab": {
          "base_uri": "https://localhost:8080/",
          "height": 206
        },
        "id": "ir-sTJw5-dPF",
        "outputId": "2e2eef1b-f868-4ac3-9e34-eed08b54d3f3"
      },
      "outputs": [
        {
          "output_type": "execute_result",
          "data": {
            "text/plain": [
              "   bad_weather  is_rush_hour  mile_distance  urban_address  late\n",
              "0          0.0           1.0            5.0            1.0   0.0\n",
              "1          1.0           0.0            7.0            0.0   1.0\n",
              "2          0.0           1.0            2.0            1.0   0.0\n",
              "3          1.0           1.0            4.2            1.0   0.0\n",
              "4          0.0           0.0            7.8            0.0   1.0"
            ],
            "text/html": [
              "\n",
              "  <div id=\"df-d2faaa7b-1a07-4649-ba94-06df6bbef04c\">\n",
              "    <div class=\"colab-df-container\">\n",
              "      <div>\n",
              "<style scoped>\n",
              "    .dataframe tbody tr th:only-of-type {\n",
              "        vertical-align: middle;\n",
              "    }\n",
              "\n",
              "    .dataframe tbody tr th {\n",
              "        vertical-align: top;\n",
              "    }\n",
              "\n",
              "    .dataframe thead th {\n",
              "        text-align: right;\n",
              "    }\n",
              "</style>\n",
              "<table border=\"1\" class=\"dataframe\">\n",
              "  <thead>\n",
              "    <tr style=\"text-align: right;\">\n",
              "      <th></th>\n",
              "      <th>bad_weather</th>\n",
              "      <th>is_rush_hour</th>\n",
              "      <th>mile_distance</th>\n",
              "      <th>urban_address</th>\n",
              "      <th>late</th>\n",
              "    </tr>\n",
              "  </thead>\n",
              "  <tbody>\n",
              "    <tr>\n",
              "      <th>0</th>\n",
              "      <td>0.0</td>\n",
              "      <td>1.0</td>\n",
              "      <td>5.0</td>\n",
              "      <td>1.0</td>\n",
              "      <td>0.0</td>\n",
              "    </tr>\n",
              "    <tr>\n",
              "      <th>1</th>\n",
              "      <td>1.0</td>\n",
              "      <td>0.0</td>\n",
              "      <td>7.0</td>\n",
              "      <td>0.0</td>\n",
              "      <td>1.0</td>\n",
              "    </tr>\n",
              "    <tr>\n",
              "      <th>2</th>\n",
              "      <td>0.0</td>\n",
              "      <td>1.0</td>\n",
              "      <td>2.0</td>\n",
              "      <td>1.0</td>\n",
              "      <td>0.0</td>\n",
              "    </tr>\n",
              "    <tr>\n",
              "      <th>3</th>\n",
              "      <td>1.0</td>\n",
              "      <td>1.0</td>\n",
              "      <td>4.2</td>\n",
              "      <td>1.0</td>\n",
              "      <td>0.0</td>\n",
              "    </tr>\n",
              "    <tr>\n",
              "      <th>4</th>\n",
              "      <td>0.0</td>\n",
              "      <td>0.0</td>\n",
              "      <td>7.8</td>\n",
              "      <td>0.0</td>\n",
              "      <td>1.0</td>\n",
              "    </tr>\n",
              "  </tbody>\n",
              "</table>\n",
              "</div>\n",
              "      <button class=\"colab-df-convert\" onclick=\"convertToInteractive('df-d2faaa7b-1a07-4649-ba94-06df6bbef04c')\"\n",
              "              title=\"Convert this dataframe to an interactive table.\"\n",
              "              style=\"display:none;\">\n",
              "        \n",
              "  <svg xmlns=\"http://www.w3.org/2000/svg\" height=\"24px\"viewBox=\"0 0 24 24\"\n",
              "       width=\"24px\">\n",
              "    <path d=\"M0 0h24v24H0V0z\" fill=\"none\"/>\n",
              "    <path d=\"M18.56 5.44l.94 2.06.94-2.06 2.06-.94-2.06-.94-.94-2.06-.94 2.06-2.06.94zm-11 1L8.5 8.5l.94-2.06 2.06-.94-2.06-.94L8.5 2.5l-.94 2.06-2.06.94zm10 10l.94 2.06.94-2.06 2.06-.94-2.06-.94-.94-2.06-.94 2.06-2.06.94z\"/><path d=\"M17.41 7.96l-1.37-1.37c-.4-.4-.92-.59-1.43-.59-.52 0-1.04.2-1.43.59L10.3 9.45l-7.72 7.72c-.78.78-.78 2.05 0 2.83L4 21.41c.39.39.9.59 1.41.59.51 0 1.02-.2 1.41-.59l7.78-7.78 2.81-2.81c.8-.78.8-2.07 0-2.86zM5.41 20L4 18.59l7.72-7.72 1.47 1.35L5.41 20z\"/>\n",
              "  </svg>\n",
              "      </button>\n",
              "      \n",
              "  <style>\n",
              "    .colab-df-container {\n",
              "      display:flex;\n",
              "      flex-wrap:wrap;\n",
              "      gap: 12px;\n",
              "    }\n",
              "\n",
              "    .colab-df-convert {\n",
              "      background-color: #E8F0FE;\n",
              "      border: none;\n",
              "      border-radius: 50%;\n",
              "      cursor: pointer;\n",
              "      display: none;\n",
              "      fill: #1967D2;\n",
              "      height: 32px;\n",
              "      padding: 0 0 0 0;\n",
              "      width: 32px;\n",
              "    }\n",
              "\n",
              "    .colab-df-convert:hover {\n",
              "      background-color: #E2EBFA;\n",
              "      box-shadow: 0px 1px 2px rgba(60, 64, 67, 0.3), 0px 1px 3px 1px rgba(60, 64, 67, 0.15);\n",
              "      fill: #174EA6;\n",
              "    }\n",
              "\n",
              "    [theme=dark] .colab-df-convert {\n",
              "      background-color: #3B4455;\n",
              "      fill: #D2E3FC;\n",
              "    }\n",
              "\n",
              "    [theme=dark] .colab-df-convert:hover {\n",
              "      background-color: #434B5C;\n",
              "      box-shadow: 0px 1px 3px 1px rgba(0, 0, 0, 0.15);\n",
              "      filter: drop-shadow(0px 1px 2px rgba(0, 0, 0, 0.3));\n",
              "      fill: #FFFFFF;\n",
              "    }\n",
              "  </style>\n",
              "\n",
              "      <script>\n",
              "        const buttonEl =\n",
              "          document.querySelector('#df-d2faaa7b-1a07-4649-ba94-06df6bbef04c button.colab-df-convert');\n",
              "        buttonEl.style.display =\n",
              "          google.colab.kernel.accessAllowed ? 'block' : 'none';\n",
              "\n",
              "        async function convertToInteractive(key) {\n",
              "          const element = document.querySelector('#df-d2faaa7b-1a07-4649-ba94-06df6bbef04c');\n",
              "          const dataTable =\n",
              "            await google.colab.kernel.invokeFunction('convertToInteractive',\n",
              "                                                     [key], {});\n",
              "          if (!dataTable) return;\n",
              "\n",
              "          const docLinkHtml = 'Like what you see? Visit the ' +\n",
              "            '<a target=\"_blank\" href=https://colab.research.google.com/notebooks/data_table.ipynb>data table notebook</a>'\n",
              "            + ' to learn more about interactive tables.';\n",
              "          element.innerHTML = '';\n",
              "          dataTable['output_type'] = 'display_data';\n",
              "          await google.colab.output.renderOutput(dataTable, element);\n",
              "          const docLink = document.createElement('div');\n",
              "          docLink.innerHTML = docLinkHtml;\n",
              "          element.appendChild(docLink);\n",
              "        }\n",
              "      </script>\n",
              "    </div>\n",
              "  </div>\n",
              "  "
            ]
          },
          "metadata": {},
          "execution_count": 11
        }
      ],
      "source": [
        "# Let's split our data into two sets: Training (85%) and Test (15%)\n",
        "# This gives us 38 training records and 7 test records (total 45 records)\n",
        "\n",
        "training_data = delivery_data.iloc[:38, :] # First 38\n",
        "test_data = delivery_data.iloc[38:, :] # Remaining\n",
        "\n",
        "# Print the first 5 rows\n",
        "training_data.head()"
      ]
    },
    {
      "cell_type": "markdown",
      "metadata": {
        "id": "AD2FiDf_-dPG"
      },
      "source": [
        "Fitting the KNN on training dataset this time."
      ]
    },
    {
      "cell_type": "code",
      "execution_count": 12,
      "metadata": {
        "colab": {
          "base_uri": "https://localhost:8080/"
        },
        "id": "oCV38Rxp-dPG",
        "outputId": "32f0bfdd-1036-41e7-dc4a-48de5cb2e4b7"
      },
      "outputs": [
        {
          "output_type": "execute_result",
          "data": {
            "text/plain": [
              "KNeighborsClassifier(n_neighbors=1)"
            ]
          },
          "metadata": {},
          "execution_count": 12
        }
      ],
      "source": [
        "from sklearn.neighbors import KNeighborsClassifier\n",
        "\n",
        "X_train = training_data[[\"bad_weather\", \"is_rush_hour\", \"mile_distance\", \"urban_address\"]].values\n",
        "y_train = training_data[\"late\"].tolist()\n",
        "\n",
        "# Use n_neighbors = 1\n",
        "# This means the KNN will consider two other \"closest\" records to make a decision.\n",
        "classifier = KNeighborsClassifier(n_neighbors = 1)\n",
        "\n",
        "# Fit the model to our training data\n",
        "classifier.fit(X_train, y_train)"
      ]
    },
    {
      "cell_type": "markdown",
      "metadata": {
        "id": "F8bwzlTD-dPG"
      },
      "source": [
        "Let's check the accuracy on the training data."
      ]
    },
    {
      "cell_type": "code",
      "execution_count": 13,
      "metadata": {
        "colab": {
          "base_uri": "https://localhost:8080/"
        },
        "id": "mSu3cHJh-dPG",
        "outputId": "76d0ee3e-34c4-463b-edad-836a967f5378"
      },
      "outputs": [
        {
          "output_type": "stream",
          "name": "stdout",
          "text": [
            "Model evaluation on the training set: \n",
            "\n",
            "[[23  0]\n",
            " [ 0 15]]\n",
            "              precision    recall  f1-score   support\n",
            "\n",
            "         0.0       1.00      1.00      1.00        23\n",
            "         1.0       1.00      1.00      1.00        15\n",
            "\n",
            "    accuracy                           1.00        38\n",
            "   macro avg       1.00      1.00      1.00        38\n",
            "weighted avg       1.00      1.00      1.00        38\n",
            "\n",
            "Training accuracy: 1.0\n"
          ]
        }
      ],
      "source": [
        "from sklearn.metrics import confusion_matrix, classification_report, accuracy_score\n",
        "\n",
        "# Use the fitted model to make predictions on the same dataset we trained the model on\n",
        "train_predictions = classifier.predict(X_train)\n",
        "\n",
        "print('Model evaluation on the training set: \\n')\n",
        "print(confusion_matrix(y_train, train_predictions))\n",
        "print(classification_report(y_train, train_predictions))\n",
        "print(\"Training accuracy:\", accuracy_score(y_train, train_predictions))\n"
      ]
    },
    {
      "cell_type": "markdown",
      "metadata": {
        "id": "NbVMV5Bi-dPG"
      },
      "source": [
        "And now, let's check the accuracy on the test data."
      ]
    },
    {
      "cell_type": "code",
      "execution_count": 14,
      "metadata": {
        "colab": {
          "base_uri": "https://localhost:8080/"
        },
        "id": "xRkHznyd-dPH",
        "outputId": "d4a3528f-f941-41c5-9bdf-56212e40dbba"
      },
      "outputs": [
        {
          "output_type": "stream",
          "name": "stdout",
          "text": [
            "Model evaluation on the training set: \n",
            "\n",
            "[[3 1]\n",
            " [1 2]]\n",
            "              precision    recall  f1-score   support\n",
            "\n",
            "         0.0       0.75      0.75      0.75         4\n",
            "         1.0       0.67      0.67      0.67         3\n",
            "\n",
            "    accuracy                           0.71         7\n",
            "   macro avg       0.71      0.71      0.71         7\n",
            "weighted avg       0.71      0.71      0.71         7\n",
            "\n",
            "Training accuracy: 0.7142857142857143\n"
          ]
        }
      ],
      "source": [
        "from sklearn.metrics import confusion_matrix, classification_report, accuracy_score\n",
        "\n",
        "X_test = test_data[[\"bad_weather\", \"is_rush_hour\", \"mile_distance\", \"urban_address\"]].values\n",
        "y_test = test_data[\"late\"].tolist()\n",
        "\n",
        "# Use the fitted model to make predictions on the test dataset\n",
        "test_predictions = classifier.predict(X_test)\n",
        "\n",
        "print('Model evaluation on the training set: \\n')\n",
        "print(confusion_matrix(y_test, test_predictions))\n",
        "print(classification_report(y_test, test_predictions))\n",
        "print(\"Training accuracy:\", accuracy_score(y_test, test_predictions))\n"
      ]
    },
    {
      "cell_type": "markdown",
      "metadata": {
        "id": "dn-vKVnA-dPH"
      },
      "source": [
        "## 7. <a name=\"7\">Overfitting</a>\n",
        "<a href=\"#0\">Go to top</a>\n",
        "\n",
        "### This doesn't look good! \n",
        "We only achieved 71% accuracy on data that the model hasn't seen before. <br/>\n",
        "Can we trust this model? Probably not.\n",
        "\n",
        "### Let's explain what happened here. \n",
        "We experienced a common problem called __\"Overfitting\"__. This means our model \"over-learned\" or memorized our training data, and failed on the new data it hasn't seen before.\n",
        "\n",
        "Experienced people would have spotted the problem even before fitting the classifier, the K parameter we chose as 1 here looks at the closest one record and assign the class of that record. This doesn't generalize well to our overall dataset and \"overfits\" the dataset.\n",
        "\n",
        "### Where is the validation subset?\n",
        "\n",
        "If we want to optimize the performance of our algorithm, and therefore reduce the so-called *generalization gap*, we need to look for the best performing K value, using a validation set. We pick the K value that results in the best validation performance metric of our choice, and then we finally check model performance on the test dataset."
      ]
    },
    {
      "cell_type": "code",
      "execution_count": 15,
      "metadata": {
        "id": "-L7V8Ytx-dPH"
      },
      "outputs": [],
      "source": [
        "# Let's further split our training data into two sets: Training (80%) and Validation (20%)\n",
        "# This gives us 30 training records and 8 test records \n",
        "\n",
        "train_data = training_data.iloc[:30, :] # First 30\n",
        "val_data = training_data.iloc[30:, :] # Remaining\n",
        "\n",
        "X_train = train_data[[\"bad_weather\", \"is_rush_hour\", \"mile_distance\", \"urban_address\"]].values\n",
        "y_train = train_data[\"late\"].tolist()\n",
        "\n",
        "X_val = val_data[[\"bad_weather\", \"is_rush_hour\", \"mile_distance\", \"urban_address\"]].values\n",
        "y_val =val_data[\"late\"].tolist()\n"
      ]
    },
    {
      "cell_type": "markdown",
      "metadata": {
        "id": "0CjPe1M1-dPH"
      },
      "source": [
        "### Trying different K values.\n",
        "\n",
        "Let's try different K values and see how the model performs with each one, on the validation set.\n"
      ]
    },
    {
      "cell_type": "code",
      "execution_count": 16,
      "metadata": {
        "colab": {
          "base_uri": "https://localhost:8080/"
        },
        "id": "Tj369k1T-dPH",
        "outputId": "f000fdca-e7fd-4def-f774-70d65d4a0931"
      },
      "outputs": [
        {
          "output_type": "stream",
          "name": "stdout",
          "text": [
            "K=1, Validation accuracy score: 0.875000\n",
            "K=2, Validation accuracy score: 0.875000\n",
            "K=3, Validation accuracy score: 1.000000\n",
            "K=4, Validation accuracy score: 1.000000\n",
            "K=5, Validation accuracy score: 1.000000\n",
            "K=6, Validation accuracy score: 0.875000\n"
          ]
        }
      ],
      "source": [
        "K_values = [1, 2, 3, 4, 5, 6]\n",
        "\n",
        "for K in K_values:\n",
        "    classifier = KNeighborsClassifier(n_neighbors = K)\n",
        "    classifier.fit(X_train, y_train)\n",
        "    val_predictions = classifier.predict(X_val)\n",
        "    print(\"K=%d, Validation accuracy score: %f\" % (K, accuracy_score(y_val, val_predictions)))"
      ]
    },
    {
      "cell_type": "markdown",
      "metadata": {
        "id": "_r6eP_S--dPI"
      },
      "source": [
        "Looks like K = 3 or K = 4 or K = 5 are optimal choices for K. Let's choose K = 4 to build the classifier, train on the train set, and finally test on the test set."
      ]
    },
    {
      "cell_type": "code",
      "execution_count": 17,
      "metadata": {
        "colab": {
          "base_uri": "https://localhost:8080/"
        },
        "id": "g025zrVp-dPI",
        "outputId": "a349017b-93f6-4410-991d-9d0e2e4c3143"
      },
      "outputs": [
        {
          "output_type": "stream",
          "name": "stdout",
          "text": [
            "Test accuracy score: 0.857143\n"
          ]
        }
      ],
      "source": [
        "classifier = KNeighborsClassifier(n_neighbors = 4)\n",
        "classifier.fit(X_train, y_train)\n",
        "test_predictions = classifier.predict(X_test)\n",
        "print(\"Test accuracy score: %f\" % (accuracy_score(y_test, test_predictions)))"
      ]
    },
    {
      "cell_type": "markdown",
      "metadata": {
        "id": "0quWPij--dPI"
      },
      "source": [
        "Indeed, accuracy on the test set improved from 71% to 86%, reducing the generalization gap."
      ]
    }
  ],
  "metadata": {
    "kernelspec": {
      "display_name": "conda_mxnet_p36",
      "language": "python",
      "name": "conda_mxnet_p36"
    },
    "language_info": {
      "codemirror_mode": {
        "name": "ipython",
        "version": 3
      },
      "file_extension": ".py",
      "mimetype": "text/x-python",
      "name": "python",
      "nbconvert_exporter": "python",
      "pygments_lexer": "ipython3",
      "version": "3.6.13"
    },
    "colab": {
      "provenance": [],
      "include_colab_link": true
    }
  },
  "nbformat": 4,
  "nbformat_minor": 0
}