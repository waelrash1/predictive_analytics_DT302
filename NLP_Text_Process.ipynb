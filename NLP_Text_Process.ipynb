{
  "cells": [
    {
      "cell_type": "markdown",
      "metadata": {
        "id": "view-in-github",
        "colab_type": "text"
      },
      "source": [
        "<a href=\"https://colab.research.google.com/github/waelrash1/predictive_analytics_DT302/blob/main/NLP_Text_Process.ipynb\" target=\"_parent\"><img src=\"https://colab.research.google.com/assets/colab-badge.svg\" alt=\"Open In Colab\"/></a>"
      ]
    },
    {
      "cell_type": "markdown",
      "metadata": {
        "id": "MjOXLsIUvx2r"
      },
      "source": []
    },
    {
      "cell_type": "markdown",
      "metadata": {
        "id": "FRBh3Qlzvx2s"
      },
      "source": [
        "#  Natural Language Processing </a>\n",
        "\n",
        "## Text Processing\n",
        "\n",
        "In this notebook, we go over some simple techniques to clean and prepare text data for modeling with machine learning.\n",
        "\n",
        "1. <a href=\"#1\">Simple text cleaning processes</a>\n",
        "2. <a href=\"#2\">Lexicon-based text processing</a>\n",
        "    * Stop words removal \n",
        "    * Stemming   \n",
        "    * Lemmatization"
      ]
    },
    {
      "cell_type": "markdown",
      "metadata": {
        "id": "XG9fl753vx2u"
      },
      "source": [
        "## 1. <a name=\"1\">Simple text cleaning processes</a>\n",
        "(<a href=\"#0\">Go to top</a>)\n",
        "\n",
        "In this section, we will do some general purpose text cleaning. The following methods for cleaning can be extended depending on the application."
      ]
    },
    {
      "cell_type": "code",
      "execution_count": 12,
      "metadata": {
        "colab": {
          "base_uri": "https://localhost:8080/"
        },
        "id": "BUFtYrDevx2u",
        "outputId": "b516f8ca-90b9-4dd1-e161-106800d9ed18"
      },
      "outputs": [
        {
          "output_type": "stream",
          "name": "stdout",
          "text": [
            "   This is a message to be cleaned. It may involve some things like: <br>,<html> </title> ?, :, ''  adjacent spaces and tabs     .  \n"
          ]
        }
      ],
      "source": [
        "text = \"   This is a message to be cleaned. It may involve some things like: <br>,<html> </title> ?, :, ''  adjacent spaces and tabs     .  \"\n",
        "print(text)"
      ]
    },
    {
      "cell_type": "markdown",
      "metadata": {
        "id": "VCKvffwavx2v"
      },
      "source": [
        "Let's first lowercase our text. "
      ]
    },
    {
      "cell_type": "code",
      "execution_count": 13,
      "metadata": {
        "colab": {
          "base_uri": "https://localhost:8080/"
        },
        "id": "IZrzBmdhvx2v",
        "outputId": "1dd1b6ab-65b9-4634-ad7b-e14241bcb3ec"
      },
      "outputs": [
        {
          "output_type": "stream",
          "name": "stdout",
          "text": [
            "   this is a message to be cleaned. it may involve some things like: <br>,<html> </title> ?, :, ''  adjacent spaces and tabs     .  \n"
          ]
        }
      ],
      "source": [
        "text = text.lower()\n",
        "print(text)"
      ]
    },
    {
      "cell_type": "markdown",
      "metadata": {
        "id": "zqiwNf7Kvx2v"
      },
      "source": [
        "We can get rid of leading/trailing whitespace with the following:"
      ]
    },
    {
      "cell_type": "code",
      "execution_count": 14,
      "metadata": {
        "colab": {
          "base_uri": "https://localhost:8080/"
        },
        "id": "onoKdgaHvx2w",
        "outputId": "69607b26-333c-4680-e03d-d31321fee714"
      },
      "outputs": [
        {
          "output_type": "stream",
          "name": "stdout",
          "text": [
            "this is a message to be cleaned. it may involve some things like: <br>,<html> </title> ?, :, ''  adjacent spaces and tabs     .\n"
          ]
        }
      ],
      "source": [
        "text = text.strip()\n",
        "print(text)"
      ]
    },
    {
      "cell_type": "markdown",
      "metadata": {
        "id": "6heUXxHivx2w"
      },
      "source": [
        "Remove HTML tags/markups:"
      ]
    },
    {
      "cell_type": "code",
      "execution_count": 15,
      "metadata": {
        "colab": {
          "base_uri": "https://localhost:8080/"
        },
        "id": "faSr5Wiwvx2w",
        "outputId": "5615bea3-4ad2-4b26-b1b5-b6c7ed31df1a"
      },
      "outputs": [
        {
          "output_type": "stream",
          "name": "stdout",
          "text": [
            "this is a message to be cleaned. it may involve some things like: ,  ?, :, ''  adjacent spaces and tabs     .\n"
          ]
        }
      ],
      "source": [
        "import re\n",
        "\n",
        "text = re.compile('<.*?>').sub('', text)\n",
        "print(text)"
      ]
    },
    {
      "cell_type": "markdown",
      "metadata": {
        "id": "AWqUX4eSvx2x"
      },
      "source": [
        "Replace punctuation with space. Be careful with this one, depending on the application, punctuations can actually be useful. For example positive vs negative meanining of a sentence."
      ]
    },
    {
      "cell_type": "code",
      "execution_count": 16,
      "metadata": {
        "colab": {
          "base_uri": "https://localhost:8080/"
        },
        "id": "yHHDVlvIvx2x",
        "outputId": "205ac33c-104a-4c31-c618-ac794626eb5c"
      },
      "outputs": [
        {
          "output_type": "stream",
          "name": "stdout",
          "text": [
            "this is a message to be cleaned  it may involve some things like               adjacent spaces and tabs      \n"
          ]
        }
      ],
      "source": [
        "import re, string\n",
        "\n",
        "text = re.compile('[%s]' % re.escape(string.punctuation)).sub(' ', text)\n",
        "print(text)"
      ]
    },
    {
      "cell_type": "markdown",
      "metadata": {
        "id": "yrB-VkFXvx2x"
      },
      "source": [
        "Remove extra space and tabs"
      ]
    },
    {
      "cell_type": "code",
      "execution_count": 17,
      "metadata": {
        "colab": {
          "base_uri": "https://localhost:8080/"
        },
        "id": "bcu8dy2zvx2x",
        "outputId": "f98a261c-78e6-4f75-aeed-3a5bd3187c2a"
      },
      "outputs": [
        {
          "output_type": "stream",
          "name": "stdout",
          "text": [
            "this is a message to be cleaned it may involve some things like adjacent spaces and tabs \n"
          ]
        }
      ],
      "source": [
        "import re\n",
        "\n",
        "text = re.sub('\\s+', ' ', text)\n",
        "print(text)"
      ]
    },
    {
      "cell_type": "markdown",
      "metadata": {
        "id": "aXsONccjvx2y"
      },
      "source": [
        "## 2. <a name=\"2\">Lexicon-based text processing</a>\n",
        "(<a href=\"#0\">Go to top</a>)\n",
        "\n",
        "We saw some general purpose text pre-processing methods in the previous section. Lexicon based methods are usually applied after the common text processing methods. They are used to normalize sentences in our dataset. By normalization, here, we mean putting words into a similar format that will also enhace similarities (if any) between sentences."
      ]
    },
    {
      "cell_type": "markdown",
      "metadata": {
        "id": "qKvbEh2wvx2y"
      },
      "source": [
        "We need to install some packages for this example. Run the following cell."
      ]
    },
    {
      "cell_type": "code",
      "execution_count": 30,
      "metadata": {
        "colab": {
          "base_uri": "https://localhost:8080/"
        },
        "id": "pXAv2M8Svx2y",
        "outputId": "3774d6f4-5275-46ad-fef7-400622743497"
      },
      "outputs": [
        {
          "output_type": "stream",
          "name": "stderr",
          "text": [
            "[nltk_data] Downloading package punkt to /root/nltk_data...\n",
            "[nltk_data]   Package punkt is already up-to-date!\n",
            "[nltk_data] Downloading package averaged_perceptron_tagger to\n",
            "[nltk_data]     /root/nltk_data...\n",
            "[nltk_data]   Package averaged_perceptron_tagger is already up-to-\n",
            "[nltk_data]       date!\n",
            "[nltk_data] Downloading package wordnet to /root/nltk_data...\n",
            "[nltk_data]   Package wordnet is already up-to-date!\n",
            "[nltk_data] Downloading package omw-1.4 to /root/nltk_data...\n"
          ]
        },
        {
          "output_type": "execute_result",
          "data": {
            "text/plain": [
              "True"
            ]
          },
          "metadata": {},
          "execution_count": 30
        }
      ],
      "source": [
        "import nltk\n",
        "\n",
        "nltk.download('punkt')\n",
        "nltk.download('averaged_perceptron_tagger')\n",
        "nltk.download('wordnet')\n",
        "nltk.download('omw-1.4')"
      ]
    },
    {
      "cell_type": "markdown",
      "metadata": {
        "id": "MMDMNW0Ivx2y"
      },
      "source": [
        "#### Stop word removal\n",
        "There can be some words in our sentences that occur very frequently and don't contribute too much to the overall meaning of the sentences. We usually have a list of these words and remove them from each our sentences. For example: \"a\", \"an\", \"the\", \"this\", \"that\", \"is\", \"it\", \"to\", \"and\" in this example."
      ]
    },
    {
      "cell_type": "code",
      "execution_count": 24,
      "metadata": {
        "id": "QTfu6Hzjvx2z"
      },
      "outputs": [],
      "source": [
        "# We will use a tokenizer from the NLTK library\n",
        "import nltk\n",
        "from nltk.tokenize import word_tokenize\n",
        "\n",
        "filtered_sentence = []\n",
        "\n",
        "# Stop word lists can be adjusted for your problem\n",
        "stop_words = [\"a\", \"an\", \"the\", \"this\", \"that\", \"is\", \"it\", \"to\", \"and\"]\n",
        "\n",
        "# Tokenize the sentence\n",
        "words = word_tokenize(text)\n",
        "for w in words:\n",
        "    if w not in stop_words:\n",
        "        filtered_sentence.append(w)\n",
        "text = \" \".join(filtered_sentence)"
      ]
    },
    {
      "cell_type": "code",
      "execution_count": 25,
      "metadata": {
        "colab": {
          "base_uri": "https://localhost:8080/"
        },
        "id": "hEdCohjMvx2z",
        "outputId": "627a13b3-ddfd-4b4d-b893-356917af42bf"
      },
      "outputs": [
        {
          "output_type": "stream",
          "name": "stdout",
          "text": [
            "message cleaned may involve some things like adjacent spaces tabs\n"
          ]
        }
      ],
      "source": [
        "print(text)"
      ]
    },
    {
      "cell_type": "markdown",
      "metadata": {
        "id": "d9Xgqfdhvx2z"
      },
      "source": [
        "#### Stemming\n",
        "Stemming is a rule-based system to convert words into their root form. It removes suffixes from words. This helps us enhace similarities (if any) between sentences. \n",
        "\n",
        "Example:\n",
        "\n",
        "\"jumping\", \"jumped\" -> \"jump\"\n",
        "\n",
        "\"cars\" -> \"car\""
      ]
    },
    {
      "cell_type": "code",
      "execution_count": 26,
      "metadata": {
        "id": "zbPshssEvx2z"
      },
      "outputs": [],
      "source": [
        "# We will use a tokenizer and stemmer from the NLTK library\n",
        "import nltk\n",
        "from nltk.tokenize import word_tokenize\n",
        "from nltk.stem import SnowballStemmer\n",
        "\n",
        "# Initialize the stemmer\n",
        "snow = SnowballStemmer('english')\n",
        "\n",
        "stemmed_sentence = []\n",
        "# Tokenize the sentence\n",
        "words = word_tokenize(text)\n",
        "for w in words:\n",
        "    # Stem the word/token\n",
        "    stemmed_sentence.append(snow.stem(w))\n",
        "stemmed_text = \" \".join(stemmed_sentence)"
      ]
    },
    {
      "cell_type": "code",
      "execution_count": 27,
      "metadata": {
        "colab": {
          "base_uri": "https://localhost:8080/"
        },
        "id": "jUKO1dxtvx20",
        "outputId": "0fd1b06b-ba9a-49e7-bce9-f8bde2ec71bb"
      },
      "outputs": [
        {
          "output_type": "stream",
          "name": "stdout",
          "text": [
            "messag clean may involv some thing like adjac space tab\n"
          ]
        }
      ],
      "source": [
        "print(stemmed_text)"
      ]
    },
    {
      "cell_type": "markdown",
      "metadata": {
        "id": "KTWnNJZqvx20"
      },
      "source": [
        "You can see above that stemming operation is NOT perfect. We have mistakes such as \"messag\", \"involv\", \"adjac\". It is a rule based method that sometimes mistakely remove suffixes from words. Nevertheless, it runs fast."
      ]
    },
    {
      "cell_type": "markdown",
      "metadata": {
        "id": "ZysLmHKqvx20"
      },
      "source": [
        "#### Lemmatization\n",
        "If we are not satisfied with the result of stemming, we can use the Lemmatization instead. It usually requires more work, but gives better results. As mentioned in the class, lemmatization needs to know the correct word position tags such as \"noun\", \"verb\", \"adjective\", etc. and we will use another NLTK function to feed this information to the lemmatizer."
      ]
    },
    {
      "cell_type": "code",
      "execution_count": 31,
      "metadata": {
        "id": "uXHDjvRyvx21"
      },
      "outputs": [],
      "source": [
        "# Importing the necessary functions\n",
        "import nltk\n",
        "from nltk.tokenize import word_tokenize\n",
        "from nltk.corpus import wordnet\n",
        "from nltk.stem import WordNetLemmatizer\n",
        "\n",
        "# Initialize the lemmatizer\n",
        "wl = WordNetLemmatizer()\n",
        "\n",
        "# This is a helper function to map NTLK position tags\n",
        "# Full list is available here: https://www.ling.upenn.edu/courses/Fall_2003/ling001/penn_treebank_pos.html\n",
        "def get_wordnet_pos(tag):\n",
        "    if tag.startswith('J'):\n",
        "        return wordnet.ADJ\n",
        "    elif tag.startswith('V'):\n",
        "        return wordnet.VERB\n",
        "    elif tag.startswith('N'):\n",
        "        return wordnet.NOUN\n",
        "    elif tag.startswith('R'):\n",
        "        return wordnet.ADV\n",
        "    else:\n",
        "        return wordnet.NOUN\n",
        "\n",
        "lemmatized_sentence = []\n",
        "# Tokenize the sentence\n",
        "words = word_tokenize(text)\n",
        "# Get position tags-- part of speech tagging POS\n",
        "word_pos_tags = nltk.pos_tag(words)\n",
        "# Map the position tag and lemmatize the word/token\n",
        "for idx, tag in enumerate(word_pos_tags):\n",
        "    lemmatized_sentence.append(wl.lemmatize(tag[0], get_wordnet_pos(tag[1])))\n",
        "\n",
        "lemmatized_text = \" \".join(lemmatized_sentence)"
      ]
    },
    {
      "cell_type": "code",
      "source": [
        "word_pos_tags"
      ],
      "metadata": {
        "colab": {
          "base_uri": "https://localhost:8080/"
        },
        "id": "TZQ3nZv5240w",
        "outputId": "a6de3661-7145-46dc-c079-04a3074ae8d9"
      },
      "execution_count": 32,
      "outputs": [
        {
          "output_type": "execute_result",
          "data": {
            "text/plain": [
              "[('message', 'NN'),\n",
              " ('cleaned', 'VBD'),\n",
              " ('may', 'MD'),\n",
              " ('involve', 'VB'),\n",
              " ('some', 'DT'),\n",
              " ('things', 'NNS'),\n",
              " ('like', 'IN'),\n",
              " ('adjacent', 'JJ'),\n",
              " ('spaces', 'NNS'),\n",
              " ('tabs', 'VBP')]"
            ]
          },
          "metadata": {},
          "execution_count": 32
        }
      ]
    },
    {
      "cell_type": "code",
      "execution_count": 34,
      "metadata": {
        "colab": {
          "base_uri": "https://localhost:8080/"
        },
        "id": "eE9bYql3vx21",
        "outputId": "f2354059-a307-45e6-9818-0a52f2a416f7"
      },
      "outputs": [
        {
          "output_type": "stream",
          "name": "stdout",
          "text": [
            "message clean may involve some thing like adjacent space tabs\n"
          ]
        }
      ],
      "source": [
        "print(lemmatized_text)"
      ]
    },
    {
      "cell_type": "markdown",
      "metadata": {
        "id": "g2wev4uCvx21"
      },
      "source": [
        "This looks better than the stemming result."
      ]
    }
  ],
  "metadata": {
    "kernelspec": {
      "display_name": "conda_python3",
      "language": "python",
      "name": "conda_python3"
    },
    "language_info": {
      "codemirror_mode": {
        "name": "ipython",
        "version": 3
      },
      "file_extension": ".py",
      "mimetype": "text/x-python",
      "name": "python",
      "nbconvert_exporter": "python",
      "pygments_lexer": "ipython3",
      "version": "3.6.13"
    },
    "colab": {
      "provenance": [],
      "include_colab_link": true
    }
  },
  "nbformat": 4,
  "nbformat_minor": 0
}