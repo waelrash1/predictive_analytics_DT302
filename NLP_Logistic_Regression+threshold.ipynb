{
  "cells": [
    {
      "cell_type": "markdown",
      "metadata": {
        "id": "view-in-github",
        "colab_type": "text"
      },
      "source": [
        "<a href=\"https://colab.research.google.com/github/waelrash1/predictive_analytics_DT302/blob/main/NLP_Logistic_Regression%2Bthreshold.ipynb\" target=\"_parent\"><img src=\"https://colab.research.google.com/assets/colab-badge.svg\" alt=\"Open In Colab\"/></a>"
      ]
    },
    {
      "cell_type": "markdown",
      "metadata": {
        "id": "VYLu2fQiZ2D5"
      },
      "source": [
        "# <a name=\"0\">Logistic Regression - Natural Language Processing</a>\n",
        "\n",
        "## Logistic Regression Model and Threshold Calibration\n",
        "\n",
        "In this notebook, we go over the Logistic Regression method to predict the __isPositive__ field of our final dataset, while also having a look at how probability threshold calibration can help improve classifier's performance.\n",
        "\n",
        "1. <a href=\"#1\">Reading the dataset</a>\n",
        "2. <a href=\"#2\">Exploratory data analysis</a>\n",
        "3. <a href=\"#3\">Stop word removal and stemming</a>\n",
        "4. <a href=\"#4\">Train - Validation Split</a>\n",
        "5. <a href=\"#5\">Data processing with Pipeline and ColumnTransform</a>\n",
        "6. <a href=\"#6\">Fit the classifier</a>\n",
        "Find more details on the __LogisticRegression__ here: https://scikit-learn.org/stable/modules/generated/sklearn.linear_model.LogisticRegression.html\n",
        "7. <a href=\"#7\">Test the classifier</a>\n",
        "8. <a href=\"#8\">Ideas for improvement: Probability threshold calibration (optional)</a>\n",
        "\n",
        "Overall dataset schema:\n",
        "* __reviewText:__ Text of the review\n",
        "* __summary:__ Summary of the review\n",
        "* __verified:__ Whether the purchase was verified (True or False)\n",
        "* __time:__ UNIX timestamp for the review\n",
        "* __log_votes:__ Logarithm-adjusted votes log(1+votes)\n",
        "* __isPositive:__ Whether the review is positive or negative (1 or 0)\n"
      ]
    },
    {
      "cell_type": "markdown",
      "metadata": {
        "id": "LQa5oQlnZ2D8"
      },
      "source": [
        "## 1. <a name=\"1\">Reading the dataset</a>\n",
        "(<a href=\"#0\">Go to top</a>)\n",
        "\n",
        "We will use the __pandas__ library to read our datasets."
      ]
    },
    {
      "cell_type": "code",
      "execution_count": 1,
      "metadata": {
        "id": "WZU4PyekZ2D8"
      },
      "outputs": [],
      "source": [
        "import pandas as pd\n",
        "url='https://raw.githubusercontent.com/aws-samples/aws-machine-learning-university-accelerated-nlp/master/data/examples/AMAZON-REVIEW-DATA-CLASSIFICATION.csv'\n",
        "\n",
        "df = pd.read_csv(url)"
      ]
    },
    {
      "cell_type": "markdown",
      "metadata": {
        "id": "JteE8eEFZ2D8"
      },
      "source": [
        "Let's look at the first five rows in the datasets."
      ]
    },
    {
      "cell_type": "code",
      "execution_count": 2,
      "metadata": {
        "colab": {
          "base_uri": "https://localhost:8080/",
          "height": 345
        },
        "id": "oWr5wqyBZ2D8",
        "outputId": "3949babf-669b-4596-cdbf-8e763feda997"
      },
      "outputs": [
        {
          "output_type": "execute_result",
          "data": {
            "text/plain": [
              "                                          reviewText  \\\n",
              "0  PURCHASED FOR YOUNGSTER WHO\\nINHERITED MY \"TOO...   \n",
              "1                              unable to open or use   \n",
              "2   Waste of money!!! It wouldn't load to my system.   \n",
              "3  I attempted to install this OS on two differen...   \n",
              "4  I've spent 14 fruitless hours over the past tw...   \n",
              "\n",
              "                                             summary  verified        time  \\\n",
              "0                                IDEAL FOR BEGINNER!      True  1361836800   \n",
              "1                                          Two Stars      True  1452643200   \n",
              "2                                       Dont buy it!      True  1433289600   \n",
              "3  I attempted to install this OS on two differen...      True  1518912000   \n",
              "4                                   Do NOT Download.      True  1441929600   \n",
              "\n",
              "   log_votes  isPositive  \n",
              "0   0.000000         1.0  \n",
              "1   0.000000         0.0  \n",
              "2   0.000000         0.0  \n",
              "3   0.000000         0.0  \n",
              "4   1.098612         0.0  "
            ],
            "text/html": [
              "\n",
              "  <div id=\"df-5354b614-6ae9-4bdd-8347-eafbb9d832d9\" class=\"colab-df-container\">\n",
              "    <div>\n",
              "<style scoped>\n",
              "    .dataframe tbody tr th:only-of-type {\n",
              "        vertical-align: middle;\n",
              "    }\n",
              "\n",
              "    .dataframe tbody tr th {\n",
              "        vertical-align: top;\n",
              "    }\n",
              "\n",
              "    .dataframe thead th {\n",
              "        text-align: right;\n",
              "    }\n",
              "</style>\n",
              "<table border=\"1\" class=\"dataframe\">\n",
              "  <thead>\n",
              "    <tr style=\"text-align: right;\">\n",
              "      <th></th>\n",
              "      <th>reviewText</th>\n",
              "      <th>summary</th>\n",
              "      <th>verified</th>\n",
              "      <th>time</th>\n",
              "      <th>log_votes</th>\n",
              "      <th>isPositive</th>\n",
              "    </tr>\n",
              "  </thead>\n",
              "  <tbody>\n",
              "    <tr>\n",
              "      <th>0</th>\n",
              "      <td>PURCHASED FOR YOUNGSTER WHO\\nINHERITED MY \"TOO...</td>\n",
              "      <td>IDEAL FOR BEGINNER!</td>\n",
              "      <td>True</td>\n",
              "      <td>1361836800</td>\n",
              "      <td>0.000000</td>\n",
              "      <td>1.0</td>\n",
              "    </tr>\n",
              "    <tr>\n",
              "      <th>1</th>\n",
              "      <td>unable to open or use</td>\n",
              "      <td>Two Stars</td>\n",
              "      <td>True</td>\n",
              "      <td>1452643200</td>\n",
              "      <td>0.000000</td>\n",
              "      <td>0.0</td>\n",
              "    </tr>\n",
              "    <tr>\n",
              "      <th>2</th>\n",
              "      <td>Waste of money!!! It wouldn't load to my system.</td>\n",
              "      <td>Dont buy it!</td>\n",
              "      <td>True</td>\n",
              "      <td>1433289600</td>\n",
              "      <td>0.000000</td>\n",
              "      <td>0.0</td>\n",
              "    </tr>\n",
              "    <tr>\n",
              "      <th>3</th>\n",
              "      <td>I attempted to install this OS on two differen...</td>\n",
              "      <td>I attempted to install this OS on two differen...</td>\n",
              "      <td>True</td>\n",
              "      <td>1518912000</td>\n",
              "      <td>0.000000</td>\n",
              "      <td>0.0</td>\n",
              "    </tr>\n",
              "    <tr>\n",
              "      <th>4</th>\n",
              "      <td>I've spent 14 fruitless hours over the past tw...</td>\n",
              "      <td>Do NOT Download.</td>\n",
              "      <td>True</td>\n",
              "      <td>1441929600</td>\n",
              "      <td>1.098612</td>\n",
              "      <td>0.0</td>\n",
              "    </tr>\n",
              "  </tbody>\n",
              "</table>\n",
              "</div>\n",
              "    <div class=\"colab-df-buttons\">\n",
              "\n",
              "  <div class=\"colab-df-container\">\n",
              "    <button class=\"colab-df-convert\" onclick=\"convertToInteractive('df-5354b614-6ae9-4bdd-8347-eafbb9d832d9')\"\n",
              "            title=\"Convert this dataframe to an interactive table.\"\n",
              "            style=\"display:none;\">\n",
              "\n",
              "  <svg xmlns=\"http://www.w3.org/2000/svg\" height=\"24px\" viewBox=\"0 -960 960 960\">\n",
              "    <path d=\"M120-120v-720h720v720H120Zm60-500h600v-160H180v160Zm220 220h160v-160H400v160Zm0 220h160v-160H400v160ZM180-400h160v-160H180v160Zm440 0h160v-160H620v160ZM180-180h160v-160H180v160Zm440 0h160v-160H620v160Z\"/>\n",
              "  </svg>\n",
              "    </button>\n",
              "\n",
              "  <style>\n",
              "    .colab-df-container {\n",
              "      display:flex;\n",
              "      gap: 12px;\n",
              "    }\n",
              "\n",
              "    .colab-df-convert {\n",
              "      background-color: #E8F0FE;\n",
              "      border: none;\n",
              "      border-radius: 50%;\n",
              "      cursor: pointer;\n",
              "      display: none;\n",
              "      fill: #1967D2;\n",
              "      height: 32px;\n",
              "      padding: 0 0 0 0;\n",
              "      width: 32px;\n",
              "    }\n",
              "\n",
              "    .colab-df-convert:hover {\n",
              "      background-color: #E2EBFA;\n",
              "      box-shadow: 0px 1px 2px rgba(60, 64, 67, 0.3), 0px 1px 3px 1px rgba(60, 64, 67, 0.15);\n",
              "      fill: #174EA6;\n",
              "    }\n",
              "\n",
              "    .colab-df-buttons div {\n",
              "      margin-bottom: 4px;\n",
              "    }\n",
              "\n",
              "    [theme=dark] .colab-df-convert {\n",
              "      background-color: #3B4455;\n",
              "      fill: #D2E3FC;\n",
              "    }\n",
              "\n",
              "    [theme=dark] .colab-df-convert:hover {\n",
              "      background-color: #434B5C;\n",
              "      box-shadow: 0px 1px 3px 1px rgba(0, 0, 0, 0.15);\n",
              "      filter: drop-shadow(0px 1px 2px rgba(0, 0, 0, 0.3));\n",
              "      fill: #FFFFFF;\n",
              "    }\n",
              "  </style>\n",
              "\n",
              "    <script>\n",
              "      const buttonEl =\n",
              "        document.querySelector('#df-5354b614-6ae9-4bdd-8347-eafbb9d832d9 button.colab-df-convert');\n",
              "      buttonEl.style.display =\n",
              "        google.colab.kernel.accessAllowed ? 'block' : 'none';\n",
              "\n",
              "      async function convertToInteractive(key) {\n",
              "        const element = document.querySelector('#df-5354b614-6ae9-4bdd-8347-eafbb9d832d9');\n",
              "        const dataTable =\n",
              "          await google.colab.kernel.invokeFunction('convertToInteractive',\n",
              "                                                    [key], {});\n",
              "        if (!dataTable) return;\n",
              "\n",
              "        const docLinkHtml = 'Like what you see? Visit the ' +\n",
              "          '<a target=\"_blank\" href=https://colab.research.google.com/notebooks/data_table.ipynb>data table notebook</a>'\n",
              "          + ' to learn more about interactive tables.';\n",
              "        element.innerHTML = '';\n",
              "        dataTable['output_type'] = 'display_data';\n",
              "        await google.colab.output.renderOutput(dataTable, element);\n",
              "        const docLink = document.createElement('div');\n",
              "        docLink.innerHTML = docLinkHtml;\n",
              "        element.appendChild(docLink);\n",
              "      }\n",
              "    </script>\n",
              "  </div>\n",
              "\n",
              "\n",
              "<div id=\"df-289c3735-c5d8-49ca-8bad-df08b1b549f4\">\n",
              "  <button class=\"colab-df-quickchart\" onclick=\"quickchart('df-289c3735-c5d8-49ca-8bad-df08b1b549f4')\"\n",
              "            title=\"Suggest charts\"\n",
              "            style=\"display:none;\">\n",
              "\n",
              "<svg xmlns=\"http://www.w3.org/2000/svg\" height=\"24px\"viewBox=\"0 0 24 24\"\n",
              "     width=\"24px\">\n",
              "    <g>\n",
              "        <path d=\"M19 3H5c-1.1 0-2 .9-2 2v14c0 1.1.9 2 2 2h14c1.1 0 2-.9 2-2V5c0-1.1-.9-2-2-2zM9 17H7v-7h2v7zm4 0h-2V7h2v10zm4 0h-2v-4h2v4z\"/>\n",
              "    </g>\n",
              "</svg>\n",
              "  </button>\n",
              "\n",
              "<style>\n",
              "  .colab-df-quickchart {\n",
              "      --bg-color: #E8F0FE;\n",
              "      --fill-color: #1967D2;\n",
              "      --hover-bg-color: #E2EBFA;\n",
              "      --hover-fill-color: #174EA6;\n",
              "      --disabled-fill-color: #AAA;\n",
              "      --disabled-bg-color: #DDD;\n",
              "  }\n",
              "\n",
              "  [theme=dark] .colab-df-quickchart {\n",
              "      --bg-color: #3B4455;\n",
              "      --fill-color: #D2E3FC;\n",
              "      --hover-bg-color: #434B5C;\n",
              "      --hover-fill-color: #FFFFFF;\n",
              "      --disabled-bg-color: #3B4455;\n",
              "      --disabled-fill-color: #666;\n",
              "  }\n",
              "\n",
              "  .colab-df-quickchart {\n",
              "    background-color: var(--bg-color);\n",
              "    border: none;\n",
              "    border-radius: 50%;\n",
              "    cursor: pointer;\n",
              "    display: none;\n",
              "    fill: var(--fill-color);\n",
              "    height: 32px;\n",
              "    padding: 0;\n",
              "    width: 32px;\n",
              "  }\n",
              "\n",
              "  .colab-df-quickchart:hover {\n",
              "    background-color: var(--hover-bg-color);\n",
              "    box-shadow: 0 1px 2px rgba(60, 64, 67, 0.3), 0 1px 3px 1px rgba(60, 64, 67, 0.15);\n",
              "    fill: var(--button-hover-fill-color);\n",
              "  }\n",
              "\n",
              "  .colab-df-quickchart-complete:disabled,\n",
              "  .colab-df-quickchart-complete:disabled:hover {\n",
              "    background-color: var(--disabled-bg-color);\n",
              "    fill: var(--disabled-fill-color);\n",
              "    box-shadow: none;\n",
              "  }\n",
              "\n",
              "  .colab-df-spinner {\n",
              "    border: 2px solid var(--fill-color);\n",
              "    border-color: transparent;\n",
              "    border-bottom-color: var(--fill-color);\n",
              "    animation:\n",
              "      spin 1s steps(1) infinite;\n",
              "  }\n",
              "\n",
              "  @keyframes spin {\n",
              "    0% {\n",
              "      border-color: transparent;\n",
              "      border-bottom-color: var(--fill-color);\n",
              "      border-left-color: var(--fill-color);\n",
              "    }\n",
              "    20% {\n",
              "      border-color: transparent;\n",
              "      border-left-color: var(--fill-color);\n",
              "      border-top-color: var(--fill-color);\n",
              "    }\n",
              "    30% {\n",
              "      border-color: transparent;\n",
              "      border-left-color: var(--fill-color);\n",
              "      border-top-color: var(--fill-color);\n",
              "      border-right-color: var(--fill-color);\n",
              "    }\n",
              "    40% {\n",
              "      border-color: transparent;\n",
              "      border-right-color: var(--fill-color);\n",
              "      border-top-color: var(--fill-color);\n",
              "    }\n",
              "    60% {\n",
              "      border-color: transparent;\n",
              "      border-right-color: var(--fill-color);\n",
              "    }\n",
              "    80% {\n",
              "      border-color: transparent;\n",
              "      border-right-color: var(--fill-color);\n",
              "      border-bottom-color: var(--fill-color);\n",
              "    }\n",
              "    90% {\n",
              "      border-color: transparent;\n",
              "      border-bottom-color: var(--fill-color);\n",
              "    }\n",
              "  }\n",
              "</style>\n",
              "\n",
              "  <script>\n",
              "    async function quickchart(key) {\n",
              "      const quickchartButtonEl =\n",
              "        document.querySelector('#' + key + ' button');\n",
              "      quickchartButtonEl.disabled = true;  // To prevent multiple clicks.\n",
              "      quickchartButtonEl.classList.add('colab-df-spinner');\n",
              "      try {\n",
              "        const charts = await google.colab.kernel.invokeFunction(\n",
              "            'suggestCharts', [key], {});\n",
              "      } catch (error) {\n",
              "        console.error('Error during call to suggestCharts:', error);\n",
              "      }\n",
              "      quickchartButtonEl.classList.remove('colab-df-spinner');\n",
              "      quickchartButtonEl.classList.add('colab-df-quickchart-complete');\n",
              "    }\n",
              "    (() => {\n",
              "      let quickchartButtonEl =\n",
              "        document.querySelector('#df-289c3735-c5d8-49ca-8bad-df08b1b549f4 button');\n",
              "      quickchartButtonEl.style.display =\n",
              "        google.colab.kernel.accessAllowed ? 'block' : 'none';\n",
              "    })();\n",
              "  </script>\n",
              "</div>\n",
              "    </div>\n",
              "  </div>\n"
            ]
          },
          "metadata": {},
          "execution_count": 2
        }
      ],
      "source": [
        "df.head()"
      ]
    },
    {
      "cell_type": "markdown",
      "metadata": {
        "id": "8Celle6AZ2D9"
      },
      "source": [
        "## 2. <a name=\"2\">Exploratory data analysis</a>\n",
        "(<a href=\"#0\">Go to top</a>)"
      ]
    },
    {
      "cell_type": "markdown",
      "metadata": {
        "id": "okFVdlQXZ2D9"
      },
      "source": [
        "Let's look at the target distribution for our datasets."
      ]
    },
    {
      "cell_type": "code",
      "execution_count": 3,
      "metadata": {
        "colab": {
          "base_uri": "https://localhost:8080/"
        },
        "id": "h88ABDDKZ2D-",
        "outputId": "65c83f00-8ac0-4c4a-c2cd-2dc4c938b8e5"
      },
      "outputs": [
        {
          "output_type": "execute_result",
          "data": {
            "text/plain": [
              "1.0    43692\n",
              "0.0    26308\n",
              "Name: isPositive, dtype: int64"
            ]
          },
          "metadata": {},
          "execution_count": 3
        }
      ],
      "source": [
        "df[\"isPositive\"].value_counts()"
      ]
    },
    {
      "cell_type": "markdown",
      "metadata": {
        "id": "fmA6Q1zYZ2D-"
      },
      "source": [
        "Checking the number of missing values:    "
      ]
    },
    {
      "cell_type": "code",
      "execution_count": 4,
      "metadata": {
        "colab": {
          "base_uri": "https://localhost:8080/"
        },
        "id": "Lf0qUS4lZ2D-",
        "outputId": "6b556c39-2501-46a3-ea50-9b4be74ddb0d"
      },
      "outputs": [
        {
          "output_type": "stream",
          "name": "stdout",
          "text": [
            "reviewText    11\n",
            "summary       14\n",
            "verified       0\n",
            "time           0\n",
            "log_votes      0\n",
            "isPositive     0\n",
            "dtype: int64\n"
          ]
        }
      ],
      "source": [
        "print(df.isna().sum())"
      ]
    },
    {
      "cell_type": "markdown",
      "metadata": {
        "id": "PSKR6yt4Z2D-"
      },
      "source": [
        "We have missing values in our text fields."
      ]
    },
    {
      "cell_type": "markdown",
      "metadata": {
        "id": "S2VXrkXUZ2D_"
      },
      "source": [
        "## 3. <a name=\"3\">Text Processing: Stop words removal and stemming</a>\n",
        "(<a href=\"#0\">Go to top</a>)\n",
        "\n",
        "We will apply the text processing methods discussed in the class."
      ]
    },
    {
      "cell_type": "code",
      "execution_count": 5,
      "metadata": {
        "colab": {
          "base_uri": "https://localhost:8080/"
        },
        "id": "CeFMwdRmZ2D_",
        "outputId": "f2a14f9d-31dd-4cae-a57c-e863c2c68923"
      },
      "outputs": [
        {
          "output_type": "stream",
          "name": "stderr",
          "text": [
            "[nltk_data] Downloading package punkt to /root/nltk_data...\n",
            "[nltk_data]   Unzipping tokenizers/punkt.zip.\n",
            "[nltk_data] Downloading package stopwords to /root/nltk_data...\n",
            "[nltk_data]   Unzipping corpora/stopwords.zip.\n"
          ]
        },
        {
          "output_type": "execute_result",
          "data": {
            "text/plain": [
              "True"
            ]
          },
          "metadata": {},
          "execution_count": 5
        }
      ],
      "source": [
        "# Install the library and functions\n",
        "# Importing the Natural Language Toolkit (NLTK) library\n",
        "# NLTK is a leading platform for building Python programs to work with human language data.\n",
        "import nltk\n",
        "\n",
        "# Downloading the Punkt Tokenizer Models\n",
        "# Punkt is used for dividing text into a list of sentence tokens.\n",
        "# This is particularly useful for splitting a text into sentences.\n",
        "nltk.download('punkt')\n",
        "\n",
        "# Downloading the list of stopwords\n",
        "# Stopwords are common words that generally don't carry much meaning and are often omitted in text processing.\n",
        "# Examples include 'and', 'the', 'is', etc. This is useful for text analysis and preprocessing.\n",
        "nltk.download('stopwords')\n"
      ]
    },
    {
      "cell_type": "markdown",
      "metadata": {
        "id": "ZKqnb44jZ2D_"
      },
      "source": [
        "We will create the stop word removal and text cleaning processes below. NLTK library provides a list of common stop words. We will use the list, but remove some of the words from that list (because those words are actually useful to understand the sentiment in the sentence)."
      ]
    },
    {
      "cell_type": "code",
      "execution_count": 6,
      "metadata": {
        "id": "NEzMqn2mZ2D_"
      },
      "outputs": [],
      "source": [
        "import nltk, re\n",
        "from nltk.corpus import stopwords\n",
        "from nltk.stem import SnowballStemmer\n",
        "from nltk.tokenize import word_tokenize\n",
        "\n",
        "# Let's get a list of stop words from the NLTK library\n",
        "stop = stopwords.words('english')\n",
        "\n",
        "# These words are important for our problem. We don't want to remove them.\n",
        "excluding = ['against', 'not', 'don', \"don't\",'ain', 'aren', \"aren't\", 'couldn', \"couldn't\",\n",
        "             'didn', \"didn't\", 'doesn', \"doesn't\", 'hadn', \"hadn't\", 'hasn', \"hasn't\",\n",
        "             'haven', \"haven't\", 'isn', \"isn't\", 'mightn', \"mightn't\", 'mustn', \"mustn't\",\n",
        "             'needn', \"needn't\",'shouldn', \"shouldn't\", 'wasn', \"wasn't\", 'weren',\n",
        "             \"weren't\", 'won', \"won't\", 'wouldn', \"wouldn't\"]\n",
        "\n",
        "# New stop word list\n",
        "stop_words = [word for word in stop if word not in excluding]\n",
        "\n",
        "snow = SnowballStemmer('english')\n",
        "\n",
        "def process_text(texts):\n",
        "    final_text_list=[]\n",
        "    for sent in texts:\n",
        "\n",
        "        # Check if the sentence is a missing value\n",
        "        if isinstance(sent, str) == False:\n",
        "            sent = \"\"\n",
        "\n",
        "        filtered_sentence=[]\n",
        "\n",
        "        sent = sent.lower() # Lowercase\n",
        "        sent = sent.strip() # Remove leading/trailing whitespace\n",
        "        sent = re.sub('\\s+', ' ', sent) # Remove extra space and tabs\n",
        "        sent = re.compile('<.*?>').sub('', sent) # Remove HTML tags/markups:\n",
        "\n",
        "        for w in word_tokenize(sent):\n",
        "            # We are applying some custom filtering here, feel free to try different things\n",
        "            # Check if it is not numeric and its length>2 and not in stop words\n",
        "            if(not w.isnumeric()) and (len(w)>2) and (w not in stop_words):\n",
        "                # Stem and add to filtered list\n",
        "                filtered_sentence.append(snow.stem(w))\n",
        "        final_string = \" \".join(filtered_sentence) #final string of cleaned words\n",
        "\n",
        "        final_text_list.append(final_string)\n",
        "\n",
        "    return final_text_list"
      ]
    },
    {
      "cell_type": "markdown",
      "metadata": {
        "id": "9d5Qvmu-Z2EA"
      },
      "source": [
        "## 4. <a name=\"4\">Train - Validation Split</a>\n",
        "(<a href=\"#0\">Go to top</a>)\n",
        "\n",
        "Let's split our dataset into training (90%) and validation (10%)."
      ]
    },
    {
      "cell_type": "code",
      "execution_count": 7,
      "metadata": {
        "id": "H0pWxqt_Z2EA"
      },
      "outputs": [],
      "source": [
        "from sklearn.model_selection import train_test_split\n",
        "\n",
        "X_train, X_val, y_train, y_val = train_test_split(df[[\"reviewText\", \"summary\", \"time\", \"log_votes\"]],\n",
        "                                                  df[\"isPositive\"],\n",
        "                                                  test_size=0.10,\n",
        "                                                  shuffle=True,\n",
        "                                                  random_state=324\n",
        "                                                 )"
      ]
    },
    {
      "cell_type": "code",
      "execution_count": 8,
      "metadata": {
        "colab": {
          "base_uri": "https://localhost:8080/"
        },
        "id": "H-DK7HdFZ2EA",
        "outputId": "9a3386f7-c989-478a-c995-1632075d9c3e"
      },
      "outputs": [
        {
          "output_type": "stream",
          "name": "stdout",
          "text": [
            "Processing the reviewText fields\n",
            "Processing the summary fields\n"
          ]
        }
      ],
      "source": [
        "print(\"Processing the reviewText fields\")\n",
        "X_train[\"reviewText\"] = process_text(X_train[\"reviewText\"].tolist())\n",
        "X_val[\"reviewText\"] = process_text(X_val[\"reviewText\"].tolist())\n",
        "\n",
        "print(\"Processing the summary fields\")\n",
        "X_train[\"summary\"] = process_text(X_train[\"summary\"].tolist())\n",
        "X_val[\"summary\"] = process_text(X_val[\"summary\"].tolist())"
      ]
    },
    {
      "cell_type": "markdown",
      "metadata": {
        "id": "_50OjYmWZ2EB"
      },
      "source": [
        "Our process_text() method in section 3 uses empty string for missing values."
      ]
    },
    {
      "cell_type": "markdown",
      "metadata": {
        "id": "ma4LyzbvZ2EB"
      },
      "source": [
        "## 5. <a name=\"5\">Data processing with Pipeline and ColumnTransform</a>\n",
        "(<a href=\"#0\">Go to top</a>)\n",
        "\n",
        "In the previous examples, we have seen how to use pipeline to prepare a data field for our machine learning model. This time, we will focus on multiple fields: numeric and text fields. Find more details on __LogisticRegression__ here:\n",
        "https://scikit-learn.org/stable/modules/generated/sklearn.linear_model.LogisticRegression.html\n",
        "\n",
        "   * For the numerical features pipeline, the __numerical_processor__ below, we use a MinMaxScaler (don't have to scale features when using Decision Trees, but it's a good idea to see how to use more data transforms). If different processing is desired for different numerical features, different pipelines should be built - just like shown below for the two text features.\n",
        "   * For the text features pipeline, the __text_processor__ below, we use CountVectorizer() for the text fields.\n",
        "   \n",
        "The selective preparations of the dataset features are then put together into a collective ColumnTransformer, to be finally used in a Pipeline along with an estimator. This ensures that the transforms are performed automatically on the raw data when fitting the model and when making predictions, such as when evaluating the model on a validation dataset via cross-validation or making predictions on a test dataset in the future."
      ]
    },
    {
      "cell_type": "code",
      "execution_count": 9,
      "metadata": {
        "id": "Znt7aWb3Z2EB"
      },
      "outputs": [],
      "source": [
        "# Selecting numerical features for the model\n",
        "# 'time' and 'log_votes' are numerical variables chosen as features for the model.\n",
        "# These features are likely quantitative data that can be directly used in the model without needing preprocessing like text data.\n",
        "\n",
        "numerical_features = ['time', 'log_votes']\n",
        "\n",
        "# Selecting text features for the model\n",
        "# 'summary' and 'reviewText' are text variables chosen as features.\n",
        "# These are likely to be processed differently than numerical data, typically requiring tokenization, vectorization, or other forms of text preprocessing.\n",
        "\n",
        "text_features = ['summary', 'reviewText']\n",
        "\n",
        "# Combining numerical and text features into a single list\n",
        "# This unified list 'model_features' will be used as the input features for the model.\n",
        "# It is important to process these features according to their types (numerical or text) during feature engineering.\n",
        "\n",
        "model_features = numerical_features + text_features\n",
        "\n",
        "# Defining the target variable for the model\n",
        "# 'isPositive' is set as the target variable, which the model will predict.\n",
        "# This is likely a binary variable (e.g., positive vs. negative) used in a classification task.\n",
        "model_target = 'isPositive'"
      ]
    },
    {
      "cell_type": "code",
      "execution_count": 13,
      "metadata": {
        "colab": {
          "base_uri": "https://localhost:8080/",
          "height": 191
        },
        "id": "j09sFk51Z2EB",
        "outputId": "654d4558-a643-4851-c327-2786f24a5fb5"
      },
      "outputs": [
        {
          "output_type": "execute_result",
          "data": {
            "text/plain": [
              "Pipeline(steps=[('data_preprocessing',\n",
              "                 ColumnTransformer(transformers=[('numerical_pre',\n",
              "                                                  Pipeline(steps=[('num_scaler',\n",
              "                                                                   MinMaxScaler())]),\n",
              "                                                  ['time', 'log_votes']),\n",
              "                                                 ('text_pre_0',\n",
              "                                                  Pipeline(steps=[('text_vect_0',\n",
              "                                                                   CountVectorizer(binary=True,\n",
              "                                                                                   max_features=50))]),\n",
              "                                                  'summary'),\n",
              "                                                 ('text_pre_1',\n",
              "                                                  Pipeline(steps=[('text_vect_1',\n",
              "                                                                   CountVectorizer(binary=True,\n",
              "                                                                                   max_features=150))]),\n",
              "                                                  'reviewText')])),\n",
              "                ('logistic_regression',\n",
              "                 LogisticRegression(C=0.1,\n",
              "                                    class_weight=[0.8575805978420314,\n",
              "                                                  0.1424194021579685]))])"
            ],
            "text/html": [
              "<style>#sk-container-id-3 {color: black;background-color: white;}#sk-container-id-3 pre{padding: 0;}#sk-container-id-3 div.sk-toggleable {background-color: white;}#sk-container-id-3 label.sk-toggleable__label {cursor: pointer;display: block;width: 100%;margin-bottom: 0;padding: 0.3em;box-sizing: border-box;text-align: center;}#sk-container-id-3 label.sk-toggleable__label-arrow:before {content: \"▸\";float: left;margin-right: 0.25em;color: #696969;}#sk-container-id-3 label.sk-toggleable__label-arrow:hover:before {color: black;}#sk-container-id-3 div.sk-estimator:hover label.sk-toggleable__label-arrow:before {color: black;}#sk-container-id-3 div.sk-toggleable__content {max-height: 0;max-width: 0;overflow: hidden;text-align: left;background-color: #f0f8ff;}#sk-container-id-3 div.sk-toggleable__content pre {margin: 0.2em;color: black;border-radius: 0.25em;background-color: #f0f8ff;}#sk-container-id-3 input.sk-toggleable__control:checked~div.sk-toggleable__content {max-height: 200px;max-width: 100%;overflow: auto;}#sk-container-id-3 input.sk-toggleable__control:checked~label.sk-toggleable__label-arrow:before {content: \"▾\";}#sk-container-id-3 div.sk-estimator input.sk-toggleable__control:checked~label.sk-toggleable__label {background-color: #d4ebff;}#sk-container-id-3 div.sk-label input.sk-toggleable__control:checked~label.sk-toggleable__label {background-color: #d4ebff;}#sk-container-id-3 input.sk-hidden--visually {border: 0;clip: rect(1px 1px 1px 1px);clip: rect(1px, 1px, 1px, 1px);height: 1px;margin: -1px;overflow: hidden;padding: 0;position: absolute;width: 1px;}#sk-container-id-3 div.sk-estimator {font-family: monospace;background-color: #f0f8ff;border: 1px dotted black;border-radius: 0.25em;box-sizing: border-box;margin-bottom: 0.5em;}#sk-container-id-3 div.sk-estimator:hover {background-color: #d4ebff;}#sk-container-id-3 div.sk-parallel-item::after {content: \"\";width: 100%;border-bottom: 1px solid gray;flex-grow: 1;}#sk-container-id-3 div.sk-label:hover label.sk-toggleable__label {background-color: #d4ebff;}#sk-container-id-3 div.sk-serial::before {content: \"\";position: absolute;border-left: 1px solid gray;box-sizing: border-box;top: 0;bottom: 0;left: 50%;z-index: 0;}#sk-container-id-3 div.sk-serial {display: flex;flex-direction: column;align-items: center;background-color: white;padding-right: 0.2em;padding-left: 0.2em;position: relative;}#sk-container-id-3 div.sk-item {position: relative;z-index: 1;}#sk-container-id-3 div.sk-parallel {display: flex;align-items: stretch;justify-content: center;background-color: white;position: relative;}#sk-container-id-3 div.sk-item::before, #sk-container-id-3 div.sk-parallel-item::before {content: \"\";position: absolute;border-left: 1px solid gray;box-sizing: border-box;top: 0;bottom: 0;left: 50%;z-index: -1;}#sk-container-id-3 div.sk-parallel-item {display: flex;flex-direction: column;z-index: 1;position: relative;background-color: white;}#sk-container-id-3 div.sk-parallel-item:first-child::after {align-self: flex-end;width: 50%;}#sk-container-id-3 div.sk-parallel-item:last-child::after {align-self: flex-start;width: 50%;}#sk-container-id-3 div.sk-parallel-item:only-child::after {width: 0;}#sk-container-id-3 div.sk-dashed-wrapped {border: 1px dashed gray;margin: 0 0.4em 0.5em 0.4em;box-sizing: border-box;padding-bottom: 0.4em;background-color: white;}#sk-container-id-3 div.sk-label label {font-family: monospace;font-weight: bold;display: inline-block;line-height: 1.2em;}#sk-container-id-3 div.sk-label-container {text-align: center;}#sk-container-id-3 div.sk-container {/* jupyter's `normalize.less` sets `[hidden] { display: none; }` but bootstrap.min.css set `[hidden] { display: none !important; }` so we also need the `!important` here to be able to override the default hidden behavior on the sphinx rendered scikit-learn.org. See: https://github.com/scikit-learn/scikit-learn/issues/21755 */display: inline-block !important;position: relative;}#sk-container-id-3 div.sk-text-repr-fallback {display: none;}</style><div id=\"sk-container-id-3\" class=\"sk-top-container\"><div class=\"sk-text-repr-fallback\"><pre>Pipeline(steps=[(&#x27;data_preprocessing&#x27;,\n",
              "                 ColumnTransformer(transformers=[(&#x27;numerical_pre&#x27;,\n",
              "                                                  Pipeline(steps=[(&#x27;num_scaler&#x27;,\n",
              "                                                                   MinMaxScaler())]),\n",
              "                                                  [&#x27;time&#x27;, &#x27;log_votes&#x27;]),\n",
              "                                                 (&#x27;text_pre_0&#x27;,\n",
              "                                                  Pipeline(steps=[(&#x27;text_vect_0&#x27;,\n",
              "                                                                   CountVectorizer(binary=True,\n",
              "                                                                                   max_features=50))]),\n",
              "                                                  &#x27;summary&#x27;),\n",
              "                                                 (&#x27;text_pre_1&#x27;,\n",
              "                                                  Pipeline(steps=[(&#x27;text_vect_1&#x27;,\n",
              "                                                                   CountVectorizer(binary=True,\n",
              "                                                                                   max_features=150))]),\n",
              "                                                  &#x27;reviewText&#x27;)])),\n",
              "                (&#x27;logistic_regression&#x27;,\n",
              "                 LogisticRegression(C=0.1,\n",
              "                                    class_weight=[0.8575805978420314,\n",
              "                                                  0.1424194021579685]))])</pre><b>In a Jupyter environment, please rerun this cell to show the HTML representation or trust the notebook. <br />On GitHub, the HTML representation is unable to render, please try loading this page with nbviewer.org.</b></div><div class=\"sk-container\" hidden><div class=\"sk-item sk-dashed-wrapped\"><div class=\"sk-label-container\"><div class=\"sk-label sk-toggleable\"><input class=\"sk-toggleable__control sk-hidden--visually\" id=\"sk-estimator-id-19\" type=\"checkbox\" ><label for=\"sk-estimator-id-19\" class=\"sk-toggleable__label sk-toggleable__label-arrow\">Pipeline</label><div class=\"sk-toggleable__content\"><pre>Pipeline(steps=[(&#x27;data_preprocessing&#x27;,\n",
              "                 ColumnTransformer(transformers=[(&#x27;numerical_pre&#x27;,\n",
              "                                                  Pipeline(steps=[(&#x27;num_scaler&#x27;,\n",
              "                                                                   MinMaxScaler())]),\n",
              "                                                  [&#x27;time&#x27;, &#x27;log_votes&#x27;]),\n",
              "                                                 (&#x27;text_pre_0&#x27;,\n",
              "                                                  Pipeline(steps=[(&#x27;text_vect_0&#x27;,\n",
              "                                                                   CountVectorizer(binary=True,\n",
              "                                                                                   max_features=50))]),\n",
              "                                                  &#x27;summary&#x27;),\n",
              "                                                 (&#x27;text_pre_1&#x27;,\n",
              "                                                  Pipeline(steps=[(&#x27;text_vect_1&#x27;,\n",
              "                                                                   CountVectorizer(binary=True,\n",
              "                                                                                   max_features=150))]),\n",
              "                                                  &#x27;reviewText&#x27;)])),\n",
              "                (&#x27;logistic_regression&#x27;,\n",
              "                 LogisticRegression(C=0.1,\n",
              "                                    class_weight=[0.8575805978420314,\n",
              "                                                  0.1424194021579685]))])</pre></div></div></div><div class=\"sk-serial\"><div class=\"sk-item sk-dashed-wrapped\"><div class=\"sk-label-container\"><div class=\"sk-label sk-toggleable\"><input class=\"sk-toggleable__control sk-hidden--visually\" id=\"sk-estimator-id-20\" type=\"checkbox\" ><label for=\"sk-estimator-id-20\" class=\"sk-toggleable__label sk-toggleable__label-arrow\">data_preprocessing: ColumnTransformer</label><div class=\"sk-toggleable__content\"><pre>ColumnTransformer(transformers=[(&#x27;numerical_pre&#x27;,\n",
              "                                 Pipeline(steps=[(&#x27;num_scaler&#x27;,\n",
              "                                                  MinMaxScaler())]),\n",
              "                                 [&#x27;time&#x27;, &#x27;log_votes&#x27;]),\n",
              "                                (&#x27;text_pre_0&#x27;,\n",
              "                                 Pipeline(steps=[(&#x27;text_vect_0&#x27;,\n",
              "                                                  CountVectorizer(binary=True,\n",
              "                                                                  max_features=50))]),\n",
              "                                 &#x27;summary&#x27;),\n",
              "                                (&#x27;text_pre_1&#x27;,\n",
              "                                 Pipeline(steps=[(&#x27;text_vect_1&#x27;,\n",
              "                                                  CountVectorizer(binary=True,\n",
              "                                                                  max_features=150))]),\n",
              "                                 &#x27;reviewText&#x27;)])</pre></div></div></div><div class=\"sk-parallel\"><div class=\"sk-parallel-item\"><div class=\"sk-item\"><div class=\"sk-label-container\"><div class=\"sk-label sk-toggleable\"><input class=\"sk-toggleable__control sk-hidden--visually\" id=\"sk-estimator-id-21\" type=\"checkbox\" ><label for=\"sk-estimator-id-21\" class=\"sk-toggleable__label sk-toggleable__label-arrow\">numerical_pre</label><div class=\"sk-toggleable__content\"><pre>[&#x27;time&#x27;, &#x27;log_votes&#x27;]</pre></div></div></div><div class=\"sk-serial\"><div class=\"sk-item\"><div class=\"sk-serial\"><div class=\"sk-item\"><div class=\"sk-estimator sk-toggleable\"><input class=\"sk-toggleable__control sk-hidden--visually\" id=\"sk-estimator-id-22\" type=\"checkbox\" ><label for=\"sk-estimator-id-22\" class=\"sk-toggleable__label sk-toggleable__label-arrow\">MinMaxScaler</label><div class=\"sk-toggleable__content\"><pre>MinMaxScaler()</pre></div></div></div></div></div></div></div></div><div class=\"sk-parallel-item\"><div class=\"sk-item\"><div class=\"sk-label-container\"><div class=\"sk-label sk-toggleable\"><input class=\"sk-toggleable__control sk-hidden--visually\" id=\"sk-estimator-id-23\" type=\"checkbox\" ><label for=\"sk-estimator-id-23\" class=\"sk-toggleable__label sk-toggleable__label-arrow\">text_pre_0</label><div class=\"sk-toggleable__content\"><pre>summary</pre></div></div></div><div class=\"sk-serial\"><div class=\"sk-item\"><div class=\"sk-serial\"><div class=\"sk-item\"><div class=\"sk-estimator sk-toggleable\"><input class=\"sk-toggleable__control sk-hidden--visually\" id=\"sk-estimator-id-24\" type=\"checkbox\" ><label for=\"sk-estimator-id-24\" class=\"sk-toggleable__label sk-toggleable__label-arrow\">CountVectorizer</label><div class=\"sk-toggleable__content\"><pre>CountVectorizer(binary=True, max_features=50)</pre></div></div></div></div></div></div></div></div><div class=\"sk-parallel-item\"><div class=\"sk-item\"><div class=\"sk-label-container\"><div class=\"sk-label sk-toggleable\"><input class=\"sk-toggleable__control sk-hidden--visually\" id=\"sk-estimator-id-25\" type=\"checkbox\" ><label for=\"sk-estimator-id-25\" class=\"sk-toggleable__label sk-toggleable__label-arrow\">text_pre_1</label><div class=\"sk-toggleable__content\"><pre>reviewText</pre></div></div></div><div class=\"sk-serial\"><div class=\"sk-item\"><div class=\"sk-serial\"><div class=\"sk-item\"><div class=\"sk-estimator sk-toggleable\"><input class=\"sk-toggleable__control sk-hidden--visually\" id=\"sk-estimator-id-26\" type=\"checkbox\" ><label for=\"sk-estimator-id-26\" class=\"sk-toggleable__label sk-toggleable__label-arrow\">CountVectorizer</label><div class=\"sk-toggleable__content\"><pre>CountVectorizer(binary=True, max_features=150)</pre></div></div></div></div></div></div></div></div></div></div><div class=\"sk-item\"><div class=\"sk-estimator sk-toggleable\"><input class=\"sk-toggleable__control sk-hidden--visually\" id=\"sk-estimator-id-27\" type=\"checkbox\" ><label for=\"sk-estimator-id-27\" class=\"sk-toggleable__label sk-toggleable__label-arrow\">LogisticRegression</label><div class=\"sk-toggleable__content\"><pre>LogisticRegression(C=0.1, class_weight=[0.8575805978420314, 0.1424194021579685])</pre></div></div></div></div></div></div></div>"
            ]
          },
          "metadata": {},
          "execution_count": 13
        }
      ],
      "source": [
        "from sklearn.impute import SimpleImputer\n",
        "from sklearn.preprocessing import MinMaxScaler\n",
        "from sklearn.feature_extraction.text import CountVectorizer\n",
        "from sklearn.pipeline import Pipeline\n",
        "from sklearn.compose import ColumnTransformer\n",
        "from sklearn.linear_model import LogisticRegression\n",
        "\n",
        "### COLUMN_TRANSFORMER ###\n",
        "##########################\n",
        "\n",
        "# Preprocess the numerical features\n",
        "# Preprocessing Numerical Features\n",
        "# This pipeline is for preprocessing numerical features.\n",
        "# It uses MinMaxScaler to scale numerical features to a range between 0 and 1.\n",
        "# Scaling is important for models that are sensitive to the magnitude of features.\n",
        "numerical_processor = Pipeline([\n",
        "    ('num_scaler', MinMaxScaler())\n",
        "])\n",
        "\n",
        "# Preprocessing the First Text Feature\n",
        "# This pipeline is for the first text feature, using CountVectorizer.\n",
        "# CountVectorizer converts text data into a matrix of token counts, here with a binary outcome (word presence or absence).\n",
        "# 'max_features=50' limits the maximum number of features to the top 50 most frequent words.\n",
        "text_processor_0 = Pipeline([\n",
        "    ('text_vect_0', CountVectorizer(binary=True, max_features=50))\n",
        "])\n",
        "\n",
        "# Preprocessing the Second Text Feature with a Larger Vocabulary\n",
        "# Similar to the first text processor, but with a larger vocabulary (150 max features).\n",
        "# This may be because the second text feature requires a broader range of words for adequate representation.\n",
        "text_precessor_1 = Pipeline([\n",
        "    ('text_vect_1', CountVectorizer(binary=True, max_features=150))\n",
        "])\n",
        "\n",
        "# Combining All Data Preprocessors\n",
        "# ColumnTransformer allows different preprocessing steps for different columns of data.\n",
        "# It specifies which processor to apply to which columns.\n",
        "# Here, numerical data is scaled, and two text features are vectorized with different settings.\n",
        "data_preprocessor = ColumnTransformer([\n",
        "    ('numerical_pre', numerical_processor, numerical_features),\n",
        "    ('text_pre_0', text_processor_0, text_features[0]),\n",
        "    ('text_pre_1', text_precessor_1, text_features[1])\n",
        "])\n",
        "\n",
        "### PIPELINE ###\n",
        "################\n",
        "\n",
        "\n",
        "# Assembling the Full Pipeline\n",
        "# This pipeline integrates data preprocessing steps and a machine learning model (Logistic Regression).\n",
        "# Logistic Regression is used for binary classification (here likely predicting 'isPositive').\n",
        "# Hyperparameters like 'penalty' and 'C' are set for the logistic regression model.\n",
        "# The pipeline allows for streamlined processing and prediction.\n",
        "pipeline = Pipeline([\n",
        "    ('data_preprocessing', data_preprocessor),\n",
        "    ('logistic_regression', LogisticRegression(penalty = 'l2', class_weight=class_w,\n",
        "                              C = 0.1))\n",
        "])\n",
        "\n",
        "# Visualizing the Pipeline\n",
        "# Visual representation of the pipeline is enabled for clarity, especially useful for more complex pipelines.\n",
        "from sklearn import set_config\n",
        "set_config(display='diagram')\n",
        "pipeline\n"
      ]
    },
    {
      "cell_type": "code",
      "source": [
        "from sklearn.utils.class_weight import compute_class_weight\n",
        "import numpy as np\n",
        "\n",
        "# Assuming your classes are labeled as 0 and 1\n",
        "class_labels = np.unique(y_train)  # y_train should be your target variable array from the training data\n",
        "\n",
        "# Computing class weights\n",
        "# 'balanced' mode uses the values of y to automatically adjust weights inversely proportional to class frequencies\n",
        "class_weights = compute_class_weight('balanced', classes=class_labels, y=y_train)\n",
        "\n",
        "# Creating a dictionary to pass to the model\n",
        "class_weights_dict = {class_labels[i]: class_weights[i] for i in range(len(class_labels))}\n",
        "\n",
        "\n",
        "# Assembling the Full Pipeline\n",
        "# This pipeline integrates data preprocessing steps and a machine learning model (Logistic Regression).\n",
        "# Logistic Regression is used for binary classification (here likely predicting 'isPositive').\n",
        "# Hyperparameters like 'penalty' and 'C' are set for the logistic regression model.\n",
        "# The pipeline allows for streamlined processing and prediction.\n",
        "pipeline = Pipeline([\n",
        "    ('data_preprocessing', data_preprocessor),\n",
        "    ('logistic_regression', LogisticRegression(penalty = 'l2', class_weight=class_weights_dict,\n",
        "                              C = 0.1, max_iter=1000, solver='saga'))\n",
        "])\n",
        "\n",
        "# Visualizing the Pipeline\n",
        "# Visual representation of the pipeline is enabled for clarity, especially useful for more complex pipelines.\n",
        "from sklearn import set_config\n",
        "set_config(display='diagram')\n",
        "pipeline\n"
      ],
      "metadata": {
        "colab": {
          "base_uri": "https://localhost:8080/",
          "height": 191
        },
        "id": "2pjytEmDDQob",
        "outputId": "2846d71c-0331-4cc7-fa6f-5f8e73c15ab2"
      },
      "execution_count": 36,
      "outputs": [
        {
          "output_type": "execute_result",
          "data": {
            "text/plain": [
              "Pipeline(steps=[('data_preprocessing',\n",
              "                 ColumnTransformer(transformers=[('numerical_pre',\n",
              "                                                  Pipeline(steps=[('num_scaler',\n",
              "                                                                   MinMaxScaler())]),\n",
              "                                                  ['time', 'log_votes']),\n",
              "                                                 ('text_pre_0',\n",
              "                                                  Pipeline(steps=[('text_vect_0',\n",
              "                                                                   CountVectorizer(binary=True,\n",
              "                                                                                   max_features=50))]),\n",
              "                                                  'summary'),\n",
              "                                                 ('text_pre_1',\n",
              "                                                  Pipeline(steps=[('text_vect_1',\n",
              "                                                                   CountVectorizer(binary=True,\n",
              "                                                                                   max_features=150))]),\n",
              "                                                  'reviewText')])),\n",
              "                ('logistic_regression',\n",
              "                 LogisticRegression(C=0.1,\n",
              "                                    class_weight={0.0: 1.32894570307556,\n",
              "                                                  1.0: 0.801587907473853},\n",
              "                                    max_iter=1000, solver='saga'))])"
            ],
            "text/html": [
              "<style>#sk-container-id-8 {color: black;background-color: white;}#sk-container-id-8 pre{padding: 0;}#sk-container-id-8 div.sk-toggleable {background-color: white;}#sk-container-id-8 label.sk-toggleable__label {cursor: pointer;display: block;width: 100%;margin-bottom: 0;padding: 0.3em;box-sizing: border-box;text-align: center;}#sk-container-id-8 label.sk-toggleable__label-arrow:before {content: \"▸\";float: left;margin-right: 0.25em;color: #696969;}#sk-container-id-8 label.sk-toggleable__label-arrow:hover:before {color: black;}#sk-container-id-8 div.sk-estimator:hover label.sk-toggleable__label-arrow:before {color: black;}#sk-container-id-8 div.sk-toggleable__content {max-height: 0;max-width: 0;overflow: hidden;text-align: left;background-color: #f0f8ff;}#sk-container-id-8 div.sk-toggleable__content pre {margin: 0.2em;color: black;border-radius: 0.25em;background-color: #f0f8ff;}#sk-container-id-8 input.sk-toggleable__control:checked~div.sk-toggleable__content {max-height: 200px;max-width: 100%;overflow: auto;}#sk-container-id-8 input.sk-toggleable__control:checked~label.sk-toggleable__label-arrow:before {content: \"▾\";}#sk-container-id-8 div.sk-estimator input.sk-toggleable__control:checked~label.sk-toggleable__label {background-color: #d4ebff;}#sk-container-id-8 div.sk-label input.sk-toggleable__control:checked~label.sk-toggleable__label {background-color: #d4ebff;}#sk-container-id-8 input.sk-hidden--visually {border: 0;clip: rect(1px 1px 1px 1px);clip: rect(1px, 1px, 1px, 1px);height: 1px;margin: -1px;overflow: hidden;padding: 0;position: absolute;width: 1px;}#sk-container-id-8 div.sk-estimator {font-family: monospace;background-color: #f0f8ff;border: 1px dotted black;border-radius: 0.25em;box-sizing: border-box;margin-bottom: 0.5em;}#sk-container-id-8 div.sk-estimator:hover {background-color: #d4ebff;}#sk-container-id-8 div.sk-parallel-item::after {content: \"\";width: 100%;border-bottom: 1px solid gray;flex-grow: 1;}#sk-container-id-8 div.sk-label:hover label.sk-toggleable__label {background-color: #d4ebff;}#sk-container-id-8 div.sk-serial::before {content: \"\";position: absolute;border-left: 1px solid gray;box-sizing: border-box;top: 0;bottom: 0;left: 50%;z-index: 0;}#sk-container-id-8 div.sk-serial {display: flex;flex-direction: column;align-items: center;background-color: white;padding-right: 0.2em;padding-left: 0.2em;position: relative;}#sk-container-id-8 div.sk-item {position: relative;z-index: 1;}#sk-container-id-8 div.sk-parallel {display: flex;align-items: stretch;justify-content: center;background-color: white;position: relative;}#sk-container-id-8 div.sk-item::before, #sk-container-id-8 div.sk-parallel-item::before {content: \"\";position: absolute;border-left: 1px solid gray;box-sizing: border-box;top: 0;bottom: 0;left: 50%;z-index: -1;}#sk-container-id-8 div.sk-parallel-item {display: flex;flex-direction: column;z-index: 1;position: relative;background-color: white;}#sk-container-id-8 div.sk-parallel-item:first-child::after {align-self: flex-end;width: 50%;}#sk-container-id-8 div.sk-parallel-item:last-child::after {align-self: flex-start;width: 50%;}#sk-container-id-8 div.sk-parallel-item:only-child::after {width: 0;}#sk-container-id-8 div.sk-dashed-wrapped {border: 1px dashed gray;margin: 0 0.4em 0.5em 0.4em;box-sizing: border-box;padding-bottom: 0.4em;background-color: white;}#sk-container-id-8 div.sk-label label {font-family: monospace;font-weight: bold;display: inline-block;line-height: 1.2em;}#sk-container-id-8 div.sk-label-container {text-align: center;}#sk-container-id-8 div.sk-container {/* jupyter's `normalize.less` sets `[hidden] { display: none; }` but bootstrap.min.css set `[hidden] { display: none !important; }` so we also need the `!important` here to be able to override the default hidden behavior on the sphinx rendered scikit-learn.org. See: https://github.com/scikit-learn/scikit-learn/issues/21755 */display: inline-block !important;position: relative;}#sk-container-id-8 div.sk-text-repr-fallback {display: none;}</style><div id=\"sk-container-id-8\" class=\"sk-top-container\"><div class=\"sk-text-repr-fallback\"><pre>Pipeline(steps=[(&#x27;data_preprocessing&#x27;,\n",
              "                 ColumnTransformer(transformers=[(&#x27;numerical_pre&#x27;,\n",
              "                                                  Pipeline(steps=[(&#x27;num_scaler&#x27;,\n",
              "                                                                   MinMaxScaler())]),\n",
              "                                                  [&#x27;time&#x27;, &#x27;log_votes&#x27;]),\n",
              "                                                 (&#x27;text_pre_0&#x27;,\n",
              "                                                  Pipeline(steps=[(&#x27;text_vect_0&#x27;,\n",
              "                                                                   CountVectorizer(binary=True,\n",
              "                                                                                   max_features=50))]),\n",
              "                                                  &#x27;summary&#x27;),\n",
              "                                                 (&#x27;text_pre_1&#x27;,\n",
              "                                                  Pipeline(steps=[(&#x27;text_vect_1&#x27;,\n",
              "                                                                   CountVectorizer(binary=True,\n",
              "                                                                                   max_features=150))]),\n",
              "                                                  &#x27;reviewText&#x27;)])),\n",
              "                (&#x27;logistic_regression&#x27;,\n",
              "                 LogisticRegression(C=0.1,\n",
              "                                    class_weight={0.0: 1.32894570307556,\n",
              "                                                  1.0: 0.801587907473853},\n",
              "                                    max_iter=1000, solver=&#x27;saga&#x27;))])</pre><b>In a Jupyter environment, please rerun this cell to show the HTML representation or trust the notebook. <br />On GitHub, the HTML representation is unable to render, please try loading this page with nbviewer.org.</b></div><div class=\"sk-container\" hidden><div class=\"sk-item sk-dashed-wrapped\"><div class=\"sk-label-container\"><div class=\"sk-label sk-toggleable\"><input class=\"sk-toggleable__control sk-hidden--visually\" id=\"sk-estimator-id-64\" type=\"checkbox\" ><label for=\"sk-estimator-id-64\" class=\"sk-toggleable__label sk-toggleable__label-arrow\">Pipeline</label><div class=\"sk-toggleable__content\"><pre>Pipeline(steps=[(&#x27;data_preprocessing&#x27;,\n",
              "                 ColumnTransformer(transformers=[(&#x27;numerical_pre&#x27;,\n",
              "                                                  Pipeline(steps=[(&#x27;num_scaler&#x27;,\n",
              "                                                                   MinMaxScaler())]),\n",
              "                                                  [&#x27;time&#x27;, &#x27;log_votes&#x27;]),\n",
              "                                                 (&#x27;text_pre_0&#x27;,\n",
              "                                                  Pipeline(steps=[(&#x27;text_vect_0&#x27;,\n",
              "                                                                   CountVectorizer(binary=True,\n",
              "                                                                                   max_features=50))]),\n",
              "                                                  &#x27;summary&#x27;),\n",
              "                                                 (&#x27;text_pre_1&#x27;,\n",
              "                                                  Pipeline(steps=[(&#x27;text_vect_1&#x27;,\n",
              "                                                                   CountVectorizer(binary=True,\n",
              "                                                                                   max_features=150))]),\n",
              "                                                  &#x27;reviewText&#x27;)])),\n",
              "                (&#x27;logistic_regression&#x27;,\n",
              "                 LogisticRegression(C=0.1,\n",
              "                                    class_weight={0.0: 1.32894570307556,\n",
              "                                                  1.0: 0.801587907473853},\n",
              "                                    max_iter=1000, solver=&#x27;saga&#x27;))])</pre></div></div></div><div class=\"sk-serial\"><div class=\"sk-item sk-dashed-wrapped\"><div class=\"sk-label-container\"><div class=\"sk-label sk-toggleable\"><input class=\"sk-toggleable__control sk-hidden--visually\" id=\"sk-estimator-id-65\" type=\"checkbox\" ><label for=\"sk-estimator-id-65\" class=\"sk-toggleable__label sk-toggleable__label-arrow\">data_preprocessing: ColumnTransformer</label><div class=\"sk-toggleable__content\"><pre>ColumnTransformer(transformers=[(&#x27;numerical_pre&#x27;,\n",
              "                                 Pipeline(steps=[(&#x27;num_scaler&#x27;,\n",
              "                                                  MinMaxScaler())]),\n",
              "                                 [&#x27;time&#x27;, &#x27;log_votes&#x27;]),\n",
              "                                (&#x27;text_pre_0&#x27;,\n",
              "                                 Pipeline(steps=[(&#x27;text_vect_0&#x27;,\n",
              "                                                  CountVectorizer(binary=True,\n",
              "                                                                  max_features=50))]),\n",
              "                                 &#x27;summary&#x27;),\n",
              "                                (&#x27;text_pre_1&#x27;,\n",
              "                                 Pipeline(steps=[(&#x27;text_vect_1&#x27;,\n",
              "                                                  CountVectorizer(binary=True,\n",
              "                                                                  max_features=150))]),\n",
              "                                 &#x27;reviewText&#x27;)])</pre></div></div></div><div class=\"sk-parallel\"><div class=\"sk-parallel-item\"><div class=\"sk-item\"><div class=\"sk-label-container\"><div class=\"sk-label sk-toggleable\"><input class=\"sk-toggleable__control sk-hidden--visually\" id=\"sk-estimator-id-66\" type=\"checkbox\" ><label for=\"sk-estimator-id-66\" class=\"sk-toggleable__label sk-toggleable__label-arrow\">numerical_pre</label><div class=\"sk-toggleable__content\"><pre>[&#x27;time&#x27;, &#x27;log_votes&#x27;]</pre></div></div></div><div class=\"sk-serial\"><div class=\"sk-item\"><div class=\"sk-serial\"><div class=\"sk-item\"><div class=\"sk-estimator sk-toggleable\"><input class=\"sk-toggleable__control sk-hidden--visually\" id=\"sk-estimator-id-67\" type=\"checkbox\" ><label for=\"sk-estimator-id-67\" class=\"sk-toggleable__label sk-toggleable__label-arrow\">MinMaxScaler</label><div class=\"sk-toggleable__content\"><pre>MinMaxScaler()</pre></div></div></div></div></div></div></div></div><div class=\"sk-parallel-item\"><div class=\"sk-item\"><div class=\"sk-label-container\"><div class=\"sk-label sk-toggleable\"><input class=\"sk-toggleable__control sk-hidden--visually\" id=\"sk-estimator-id-68\" type=\"checkbox\" ><label for=\"sk-estimator-id-68\" class=\"sk-toggleable__label sk-toggleable__label-arrow\">text_pre_0</label><div class=\"sk-toggleable__content\"><pre>summary</pre></div></div></div><div class=\"sk-serial\"><div class=\"sk-item\"><div class=\"sk-serial\"><div class=\"sk-item\"><div class=\"sk-estimator sk-toggleable\"><input class=\"sk-toggleable__control sk-hidden--visually\" id=\"sk-estimator-id-69\" type=\"checkbox\" ><label for=\"sk-estimator-id-69\" class=\"sk-toggleable__label sk-toggleable__label-arrow\">CountVectorizer</label><div class=\"sk-toggleable__content\"><pre>CountVectorizer(binary=True, max_features=50)</pre></div></div></div></div></div></div></div></div><div class=\"sk-parallel-item\"><div class=\"sk-item\"><div class=\"sk-label-container\"><div class=\"sk-label sk-toggleable\"><input class=\"sk-toggleable__control sk-hidden--visually\" id=\"sk-estimator-id-70\" type=\"checkbox\" ><label for=\"sk-estimator-id-70\" class=\"sk-toggleable__label sk-toggleable__label-arrow\">text_pre_1</label><div class=\"sk-toggleable__content\"><pre>reviewText</pre></div></div></div><div class=\"sk-serial\"><div class=\"sk-item\"><div class=\"sk-serial\"><div class=\"sk-item\"><div class=\"sk-estimator sk-toggleable\"><input class=\"sk-toggleable__control sk-hidden--visually\" id=\"sk-estimator-id-71\" type=\"checkbox\" ><label for=\"sk-estimator-id-71\" class=\"sk-toggleable__label sk-toggleable__label-arrow\">CountVectorizer</label><div class=\"sk-toggleable__content\"><pre>CountVectorizer(binary=True, max_features=150)</pre></div></div></div></div></div></div></div></div></div></div><div class=\"sk-item\"><div class=\"sk-estimator sk-toggleable\"><input class=\"sk-toggleable__control sk-hidden--visually\" id=\"sk-estimator-id-72\" type=\"checkbox\" ><label for=\"sk-estimator-id-72\" class=\"sk-toggleable__label sk-toggleable__label-arrow\">LogisticRegression</label><div class=\"sk-toggleable__content\"><pre>LogisticRegression(C=0.1,\n",
              "                   class_weight={0.0: 1.32894570307556, 1.0: 0.801587907473853},\n",
              "                   max_iter=1000, solver=&#x27;saga&#x27;)</pre></div></div></div></div></div></div></div>"
            ]
          },
          "metadata": {},
          "execution_count": 36
        }
      ]
    },
    {
      "cell_type": "markdown",
      "metadata": {
        "id": "0hCey4tWZ2EC"
      },
      "source": [
        "## 6. <a name=\"6\">Fit the classifier</a>\n",
        "(<a href=\"#0\">Go to top</a>)\n",
        "\n",
        "We train our model by using __.fit()__ on our training dataset.\n"
      ]
    },
    {
      "cell_type": "code",
      "execution_count": 37,
      "metadata": {
        "colab": {
          "base_uri": "https://localhost:8080/",
          "height": 191
        },
        "id": "xaqbxY10Z2EC",
        "outputId": "d8d73ba9-c39b-4f60-9494-0e22f13f5e3d"
      },
      "outputs": [
        {
          "output_type": "execute_result",
          "data": {
            "text/plain": [
              "Pipeline(steps=[('data_preprocessing',\n",
              "                 ColumnTransformer(transformers=[('numerical_pre',\n",
              "                                                  Pipeline(steps=[('num_scaler',\n",
              "                                                                   MinMaxScaler())]),\n",
              "                                                  ['time', 'log_votes']),\n",
              "                                                 ('text_pre_0',\n",
              "                                                  Pipeline(steps=[('text_vect_0',\n",
              "                                                                   CountVectorizer(binary=True,\n",
              "                                                                                   max_features=50))]),\n",
              "                                                  'summary'),\n",
              "                                                 ('text_pre_1',\n",
              "                                                  Pipeline(steps=[('text_vect_1',\n",
              "                                                                   CountVectorizer(binary=True,\n",
              "                                                                                   max_features=150))]),\n",
              "                                                  'reviewText')])),\n",
              "                ('logistic_regression',\n",
              "                 LogisticRegression(C=0.1,\n",
              "                                    class_weight={0.0: 1.32894570307556,\n",
              "                                                  1.0: 0.801587907473853},\n",
              "                                    max_iter=1000, solver='saga'))])"
            ],
            "text/html": [
              "<style>#sk-container-id-9 {color: black;background-color: white;}#sk-container-id-9 pre{padding: 0;}#sk-container-id-9 div.sk-toggleable {background-color: white;}#sk-container-id-9 label.sk-toggleable__label {cursor: pointer;display: block;width: 100%;margin-bottom: 0;padding: 0.3em;box-sizing: border-box;text-align: center;}#sk-container-id-9 label.sk-toggleable__label-arrow:before {content: \"▸\";float: left;margin-right: 0.25em;color: #696969;}#sk-container-id-9 label.sk-toggleable__label-arrow:hover:before {color: black;}#sk-container-id-9 div.sk-estimator:hover label.sk-toggleable__label-arrow:before {color: black;}#sk-container-id-9 div.sk-toggleable__content {max-height: 0;max-width: 0;overflow: hidden;text-align: left;background-color: #f0f8ff;}#sk-container-id-9 div.sk-toggleable__content pre {margin: 0.2em;color: black;border-radius: 0.25em;background-color: #f0f8ff;}#sk-container-id-9 input.sk-toggleable__control:checked~div.sk-toggleable__content {max-height: 200px;max-width: 100%;overflow: auto;}#sk-container-id-9 input.sk-toggleable__control:checked~label.sk-toggleable__label-arrow:before {content: \"▾\";}#sk-container-id-9 div.sk-estimator input.sk-toggleable__control:checked~label.sk-toggleable__label {background-color: #d4ebff;}#sk-container-id-9 div.sk-label input.sk-toggleable__control:checked~label.sk-toggleable__label {background-color: #d4ebff;}#sk-container-id-9 input.sk-hidden--visually {border: 0;clip: rect(1px 1px 1px 1px);clip: rect(1px, 1px, 1px, 1px);height: 1px;margin: -1px;overflow: hidden;padding: 0;position: absolute;width: 1px;}#sk-container-id-9 div.sk-estimator {font-family: monospace;background-color: #f0f8ff;border: 1px dotted black;border-radius: 0.25em;box-sizing: border-box;margin-bottom: 0.5em;}#sk-container-id-9 div.sk-estimator:hover {background-color: #d4ebff;}#sk-container-id-9 div.sk-parallel-item::after {content: \"\";width: 100%;border-bottom: 1px solid gray;flex-grow: 1;}#sk-container-id-9 div.sk-label:hover label.sk-toggleable__label {background-color: #d4ebff;}#sk-container-id-9 div.sk-serial::before {content: \"\";position: absolute;border-left: 1px solid gray;box-sizing: border-box;top: 0;bottom: 0;left: 50%;z-index: 0;}#sk-container-id-9 div.sk-serial {display: flex;flex-direction: column;align-items: center;background-color: white;padding-right: 0.2em;padding-left: 0.2em;position: relative;}#sk-container-id-9 div.sk-item {position: relative;z-index: 1;}#sk-container-id-9 div.sk-parallel {display: flex;align-items: stretch;justify-content: center;background-color: white;position: relative;}#sk-container-id-9 div.sk-item::before, #sk-container-id-9 div.sk-parallel-item::before {content: \"\";position: absolute;border-left: 1px solid gray;box-sizing: border-box;top: 0;bottom: 0;left: 50%;z-index: -1;}#sk-container-id-9 div.sk-parallel-item {display: flex;flex-direction: column;z-index: 1;position: relative;background-color: white;}#sk-container-id-9 div.sk-parallel-item:first-child::after {align-self: flex-end;width: 50%;}#sk-container-id-9 div.sk-parallel-item:last-child::after {align-self: flex-start;width: 50%;}#sk-container-id-9 div.sk-parallel-item:only-child::after {width: 0;}#sk-container-id-9 div.sk-dashed-wrapped {border: 1px dashed gray;margin: 0 0.4em 0.5em 0.4em;box-sizing: border-box;padding-bottom: 0.4em;background-color: white;}#sk-container-id-9 div.sk-label label {font-family: monospace;font-weight: bold;display: inline-block;line-height: 1.2em;}#sk-container-id-9 div.sk-label-container {text-align: center;}#sk-container-id-9 div.sk-container {/* jupyter's `normalize.less` sets `[hidden] { display: none; }` but bootstrap.min.css set `[hidden] { display: none !important; }` so we also need the `!important` here to be able to override the default hidden behavior on the sphinx rendered scikit-learn.org. See: https://github.com/scikit-learn/scikit-learn/issues/21755 */display: inline-block !important;position: relative;}#sk-container-id-9 div.sk-text-repr-fallback {display: none;}</style><div id=\"sk-container-id-9\" class=\"sk-top-container\"><div class=\"sk-text-repr-fallback\"><pre>Pipeline(steps=[(&#x27;data_preprocessing&#x27;,\n",
              "                 ColumnTransformer(transformers=[(&#x27;numerical_pre&#x27;,\n",
              "                                                  Pipeline(steps=[(&#x27;num_scaler&#x27;,\n",
              "                                                                   MinMaxScaler())]),\n",
              "                                                  [&#x27;time&#x27;, &#x27;log_votes&#x27;]),\n",
              "                                                 (&#x27;text_pre_0&#x27;,\n",
              "                                                  Pipeline(steps=[(&#x27;text_vect_0&#x27;,\n",
              "                                                                   CountVectorizer(binary=True,\n",
              "                                                                                   max_features=50))]),\n",
              "                                                  &#x27;summary&#x27;),\n",
              "                                                 (&#x27;text_pre_1&#x27;,\n",
              "                                                  Pipeline(steps=[(&#x27;text_vect_1&#x27;,\n",
              "                                                                   CountVectorizer(binary=True,\n",
              "                                                                                   max_features=150))]),\n",
              "                                                  &#x27;reviewText&#x27;)])),\n",
              "                (&#x27;logistic_regression&#x27;,\n",
              "                 LogisticRegression(C=0.1,\n",
              "                                    class_weight={0.0: 1.32894570307556,\n",
              "                                                  1.0: 0.801587907473853},\n",
              "                                    max_iter=1000, solver=&#x27;saga&#x27;))])</pre><b>In a Jupyter environment, please rerun this cell to show the HTML representation or trust the notebook. <br />On GitHub, the HTML representation is unable to render, please try loading this page with nbviewer.org.</b></div><div class=\"sk-container\" hidden><div class=\"sk-item sk-dashed-wrapped\"><div class=\"sk-label-container\"><div class=\"sk-label sk-toggleable\"><input class=\"sk-toggleable__control sk-hidden--visually\" id=\"sk-estimator-id-73\" type=\"checkbox\" ><label for=\"sk-estimator-id-73\" class=\"sk-toggleable__label sk-toggleable__label-arrow\">Pipeline</label><div class=\"sk-toggleable__content\"><pre>Pipeline(steps=[(&#x27;data_preprocessing&#x27;,\n",
              "                 ColumnTransformer(transformers=[(&#x27;numerical_pre&#x27;,\n",
              "                                                  Pipeline(steps=[(&#x27;num_scaler&#x27;,\n",
              "                                                                   MinMaxScaler())]),\n",
              "                                                  [&#x27;time&#x27;, &#x27;log_votes&#x27;]),\n",
              "                                                 (&#x27;text_pre_0&#x27;,\n",
              "                                                  Pipeline(steps=[(&#x27;text_vect_0&#x27;,\n",
              "                                                                   CountVectorizer(binary=True,\n",
              "                                                                                   max_features=50))]),\n",
              "                                                  &#x27;summary&#x27;),\n",
              "                                                 (&#x27;text_pre_1&#x27;,\n",
              "                                                  Pipeline(steps=[(&#x27;text_vect_1&#x27;,\n",
              "                                                                   CountVectorizer(binary=True,\n",
              "                                                                                   max_features=150))]),\n",
              "                                                  &#x27;reviewText&#x27;)])),\n",
              "                (&#x27;logistic_regression&#x27;,\n",
              "                 LogisticRegression(C=0.1,\n",
              "                                    class_weight={0.0: 1.32894570307556,\n",
              "                                                  1.0: 0.801587907473853},\n",
              "                                    max_iter=1000, solver=&#x27;saga&#x27;))])</pre></div></div></div><div class=\"sk-serial\"><div class=\"sk-item sk-dashed-wrapped\"><div class=\"sk-label-container\"><div class=\"sk-label sk-toggleable\"><input class=\"sk-toggleable__control sk-hidden--visually\" id=\"sk-estimator-id-74\" type=\"checkbox\" ><label for=\"sk-estimator-id-74\" class=\"sk-toggleable__label sk-toggleable__label-arrow\">data_preprocessing: ColumnTransformer</label><div class=\"sk-toggleable__content\"><pre>ColumnTransformer(transformers=[(&#x27;numerical_pre&#x27;,\n",
              "                                 Pipeline(steps=[(&#x27;num_scaler&#x27;,\n",
              "                                                  MinMaxScaler())]),\n",
              "                                 [&#x27;time&#x27;, &#x27;log_votes&#x27;]),\n",
              "                                (&#x27;text_pre_0&#x27;,\n",
              "                                 Pipeline(steps=[(&#x27;text_vect_0&#x27;,\n",
              "                                                  CountVectorizer(binary=True,\n",
              "                                                                  max_features=50))]),\n",
              "                                 &#x27;summary&#x27;),\n",
              "                                (&#x27;text_pre_1&#x27;,\n",
              "                                 Pipeline(steps=[(&#x27;text_vect_1&#x27;,\n",
              "                                                  CountVectorizer(binary=True,\n",
              "                                                                  max_features=150))]),\n",
              "                                 &#x27;reviewText&#x27;)])</pre></div></div></div><div class=\"sk-parallel\"><div class=\"sk-parallel-item\"><div class=\"sk-item\"><div class=\"sk-label-container\"><div class=\"sk-label sk-toggleable\"><input class=\"sk-toggleable__control sk-hidden--visually\" id=\"sk-estimator-id-75\" type=\"checkbox\" ><label for=\"sk-estimator-id-75\" class=\"sk-toggleable__label sk-toggleable__label-arrow\">numerical_pre</label><div class=\"sk-toggleable__content\"><pre>[&#x27;time&#x27;, &#x27;log_votes&#x27;]</pre></div></div></div><div class=\"sk-serial\"><div class=\"sk-item\"><div class=\"sk-serial\"><div class=\"sk-item\"><div class=\"sk-estimator sk-toggleable\"><input class=\"sk-toggleable__control sk-hidden--visually\" id=\"sk-estimator-id-76\" type=\"checkbox\" ><label for=\"sk-estimator-id-76\" class=\"sk-toggleable__label sk-toggleable__label-arrow\">MinMaxScaler</label><div class=\"sk-toggleable__content\"><pre>MinMaxScaler()</pre></div></div></div></div></div></div></div></div><div class=\"sk-parallel-item\"><div class=\"sk-item\"><div class=\"sk-label-container\"><div class=\"sk-label sk-toggleable\"><input class=\"sk-toggleable__control sk-hidden--visually\" id=\"sk-estimator-id-77\" type=\"checkbox\" ><label for=\"sk-estimator-id-77\" class=\"sk-toggleable__label sk-toggleable__label-arrow\">text_pre_0</label><div class=\"sk-toggleable__content\"><pre>summary</pre></div></div></div><div class=\"sk-serial\"><div class=\"sk-item\"><div class=\"sk-serial\"><div class=\"sk-item\"><div class=\"sk-estimator sk-toggleable\"><input class=\"sk-toggleable__control sk-hidden--visually\" id=\"sk-estimator-id-78\" type=\"checkbox\" ><label for=\"sk-estimator-id-78\" class=\"sk-toggleable__label sk-toggleable__label-arrow\">CountVectorizer</label><div class=\"sk-toggleable__content\"><pre>CountVectorizer(binary=True, max_features=50)</pre></div></div></div></div></div></div></div></div><div class=\"sk-parallel-item\"><div class=\"sk-item\"><div class=\"sk-label-container\"><div class=\"sk-label sk-toggleable\"><input class=\"sk-toggleable__control sk-hidden--visually\" id=\"sk-estimator-id-79\" type=\"checkbox\" ><label for=\"sk-estimator-id-79\" class=\"sk-toggleable__label sk-toggleable__label-arrow\">text_pre_1</label><div class=\"sk-toggleable__content\"><pre>reviewText</pre></div></div></div><div class=\"sk-serial\"><div class=\"sk-item\"><div class=\"sk-serial\"><div class=\"sk-item\"><div class=\"sk-estimator sk-toggleable\"><input class=\"sk-toggleable__control sk-hidden--visually\" id=\"sk-estimator-id-80\" type=\"checkbox\" ><label for=\"sk-estimator-id-80\" class=\"sk-toggleable__label sk-toggleable__label-arrow\">CountVectorizer</label><div class=\"sk-toggleable__content\"><pre>CountVectorizer(binary=True, max_features=150)</pre></div></div></div></div></div></div></div></div></div></div><div class=\"sk-item\"><div class=\"sk-estimator sk-toggleable\"><input class=\"sk-toggleable__control sk-hidden--visually\" id=\"sk-estimator-id-81\" type=\"checkbox\" ><label for=\"sk-estimator-id-81\" class=\"sk-toggleable__label sk-toggleable__label-arrow\">LogisticRegression</label><div class=\"sk-toggleable__content\"><pre>LogisticRegression(C=0.1,\n",
              "                   class_weight={0.0: 1.32894570307556, 1.0: 0.801587907473853},\n",
              "                   max_iter=1000, solver=&#x27;saga&#x27;)</pre></div></div></div></div></div></div></div>"
            ]
          },
          "metadata": {},
          "execution_count": 37
        }
      ],
      "source": [
        "# Fit the Pipeline to training data\n",
        "pipeline.fit(X_train, y_train.values)"
      ]
    },
    {
      "cell_type": "markdown",
      "metadata": {
        "id": "s4TI030OZ2EC"
      },
      "source": [
        "## 7. <a name=\"7\">Test the classifier</a>\n",
        "(<a href=\"#0\">Go to top</a>)\n",
        "\n",
        "Let's evaluate the performance of the trained classifier. We use __.predict()__ this time."
      ]
    },
    {
      "cell_type": "code",
      "execution_count": 38,
      "metadata": {
        "colab": {
          "base_uri": "https://localhost:8080/"
        },
        "id": "lWQnVtRoZ2EC",
        "outputId": "92746461-cac4-480f-b63f-489c83f28c99"
      },
      "outputs": [
        {
          "output_type": "stream",
          "name": "stdout",
          "text": [
            "[[2225  380]\n",
            " [ 710 3685]]\n",
            "              precision    recall  f1-score   support\n",
            "\n",
            "         0.0       0.76      0.85      0.80      2605\n",
            "         1.0       0.91      0.84      0.87      4395\n",
            "\n",
            "    accuracy                           0.84      7000\n",
            "   macro avg       0.83      0.85      0.84      7000\n",
            "weighted avg       0.85      0.84      0.85      7000\n",
            "\n",
            "Accuracy (validation): 0.8442857142857143\n"
          ]
        }
      ],
      "source": [
        "from sklearn.metrics import confusion_matrix, classification_report, accuracy_score\n",
        "\n",
        "# Making Predictions on the Validation Dataset\n",
        "# This line uses the previously defined and fitted pipeline to make predictions on the validation dataset.\n",
        "# The 'predict' method applies all preprocessing steps to the validation data and then uses the trained model for prediction.\n",
        "val_predictions = pipeline.predict(X_val)\n",
        "\n",
        "# Printing the Confusion Matrix\n",
        "# The confusion matrix is a table used to evaluate the performance of the classification model.\n",
        "# It shows the actual vs. predicted values, helping to understand the cases of true positives, true negatives, false positives, and false negatives.\n",
        "print(confusion_matrix(y_val.values, val_predictions))\n",
        "\n",
        "# Printing the Classification Report\n",
        "# The classification report provides key metrics about the performance of the classifier.\n",
        "# This includes precision, recall, f1-score for each class, and a support count showing the number of true instances in each class.\n",
        "print(classification_report(y_val.values, val_predictions))\n",
        "\n",
        "# Calculating and Printing the Accuracy\n",
        "# Accuracy is the ratio of correctly predicted observations to the total observations.\n",
        "# High accuracy means the model performs well on the validation data.\n",
        "# It's a quick way to see how well the model is performing, especially for balanced datasets.\n",
        "print(\"Accuracy (validation):\", accuracy_score(y_val.values, val_predictions))\n"
      ]
    },
    {
      "cell_type": "markdown",
      "metadata": {
        "id": "sFxjtIspZ2ED"
      },
      "source": [
        "## 8. <a name=\"8\">Ideas for improvement: Probability threshold calibration (optional)</a>\n",
        "(<a href=\"#0\">Go to top</a>)\n",
        "\n",
        "Besides tuning __LogisticRegression__ hyperparameter values, one other path to improve a classifier's performance is to dig deeper into how the classifier actually assigns class membership.\n",
        "\n",
        "**Binary predictions versus probability predictions.** We often use __classifier.predict()__ to examine classifier binary predictions, while in fact the outputs of most classifiers are real-valued, not binary. For most classifiers in sklearn, the method __classifier.predict_proba()__ returns class probabilities as a two-dimensional numpy array of shape (n_samples, n_classes) where the classes are lexicographically ordered.\n",
        "\n",
        "For our example, let's look at the first 5 predictions we made, in binary format and in real-valued probability format:"
      ]
    },
    {
      "cell_type": "code",
      "execution_count": 21,
      "metadata": {
        "colab": {
          "base_uri": "https://localhost:8080/"
        },
        "id": "VtKP2xwHZ2ED",
        "outputId": "3afbbb40-7a40-4461-e41d-b99dde8e3084"
      },
      "outputs": [
        {
          "output_type": "execute_result",
          "data": {
            "text/plain": [
              "array([1., 1., 1., 1., 0.])"
            ]
          },
          "metadata": {},
          "execution_count": 21
        }
      ],
      "source": [
        "pipeline.predict(X_val)[0:5]"
      ]
    },
    {
      "cell_type": "code",
      "execution_count": 22,
      "metadata": {
        "colab": {
          "base_uri": "https://localhost:8080/"
        },
        "id": "WsHauKS6Z2ED",
        "outputId": "e92d3eb3-7066-4838-8ef0-a7166a28c0a2"
      },
      "outputs": [
        {
          "output_type": "execute_result",
          "data": {
            "text/plain": [
              "array([[0.0567855 , 0.9432145 ],\n",
              "       [0.04919826, 0.95080174],\n",
              "       [0.11983214, 0.88016786],\n",
              "       [0.01514955, 0.98485045],\n",
              "       [0.8965617 , 0.1034383 ]])"
            ]
          },
          "metadata": {},
          "execution_count": 22
        }
      ],
      "source": [
        "pipeline.predict_proba(X_val)[0:5]"
      ]
    },
    {
      "cell_type": "markdown",
      "metadata": {
        "id": "8dSBRUqTZ2ED"
      },
      "source": [
        "**How are the predicted probabilities used to decide class membership?** On each row of predict_proba output, the probabilities values sum to 1. There are two columns, one for each response class: column 0 - predicted probability that each observation is a member of class 0; column 1 - predicted probability that each observation is a member of class 1. From the predicted probabilities, choose the class with the highest probability.\n",
        "\n",
        "The key here is that a **threshold of 0.5** is used by default (for binary problems) to convert predicted probabilities into class predictions: class 0, if predicted probability is less than 0.5; class 1, if predicted probability is greater than 0.5.\n",
        "\n",
        "**Can we improve classifier performance by changing the classification threshold?** Let's **adjust** the classification threshold to influence the performance of the classifier.\n"
      ]
    },
    {
      "cell_type": "markdown",
      "metadata": {
        "id": "-VlHN7k2Z2ED"
      },
      "source": [
        "### 8.1 Threshold calibration to improve model accuracy\n",
        "\n",
        "We calculate the accuracy using different values for the classification threshold, and pick the threshold that resulted in the highest accuracy."
      ]
    },
    {
      "cell_type": "code",
      "execution_count": 33,
      "metadata": {
        "colab": {
          "base_uri": "https://localhost:8080/",
          "height": 509
        },
        "id": "QfMLRimEZ2EE",
        "outputId": "ef9f2ce8-59de-49b1-fb8c-88e0c971a098"
      },
      "outputs": [
        {
          "output_type": "stream",
          "name": "stdout",
          "text": [
            "Highest Accuracy on Validation: 0.8477142857142858 , Threshold for the highest Accuracy: 0.42\n"
          ]
        },
        {
          "output_type": "display_data",
          "data": {
            "text/plain": [
              "<Figure size 640x480 with 1 Axes>"
            ],
            "image/png": "[encoded data removed]"
          },
          "metadata": {}
        }
      ],
      "source": [
        "%matplotlib inline\n",
        "import numpy as np\n",
        "import matplotlib.pyplot as plt\n",
        "\n",
        "# Calculate the accuracy using different values for the classification threshold,\n",
        "# and pick the threshold that resulted in the highest accuracy.\n",
        "highest_accuracy = 0\n",
        "threshold_highest_accuracy = 0\n",
        "\n",
        "thresholds = np.arange(0,1,0.01)\n",
        "scores = []\n",
        "for t in thresholds:\n",
        "    # set threshold to 't' instead of 0.5\n",
        "    y_val_other = (pipeline.predict_proba(X_val)[:,1] >= t).astype(float)\n",
        "    score = accuracy_score(y_val, y_val_other)\n",
        "    scores.append(score)\n",
        "    if(score > highest_accuracy):\n",
        "        highest_accuracy = score\n",
        "        threshold_highest_accuracy = t\n",
        "print(\"Highest Accuracy on Validation:\", highest_accuracy, \\\n",
        "      \", Threshold for the highest Accuracy:\", threshold_highest_accuracy)\n",
        "\n",
        "# Let's plot the accuracy versus different choices of thresholds\n",
        "plt.plot([0.5, 0.5], [np.min(scores), np.max(scores)], linestyle='--')\n",
        "plt.plot([threshold_highest_accuracy , threshold_highest_accuracy ], [np.min(scores), np.max(scores)], linestyle='-')\n",
        "\n",
        "plt.plot(thresholds, scores, marker='.')\n",
        "plt.title('Accuracy versus different choices of thresholds')\n",
        "plt.xlabel('Threshold')\n",
        "plt.ylabel('Accuracy')\n",
        "plt.show()"
      ]
    },
    {
      "cell_type": "markdown",
      "metadata": {
        "id": "Ful1mq2iZ2EE"
      },
      "source": [
        "### 8.2 Threshold calibration to improve model F1 score\n",
        "\n",
        "Similarly, various choices of classification thresholds would affect the Precision and Recall metrics. Precision and Recall are usually trade offs of each other, so when you can improve both at the same time, your model's overall performance is undeniably improved. To choose a threshold that balances Precision and Recall, we can plot the Precision-Recall curve and pick the point with the highest F1 score."
      ]
    },
    {
      "cell_type": "code",
      "execution_count": 25,
      "metadata": {
        "id": "1K3ip_aeZ2EE"
      },
      "outputs": [],
      "source": [
        "%matplotlib inline\n",
        "import matplotlib.pyplot as plt\n",
        "from sklearn.metrics import precision_recall_curve\n",
        "\n",
        "# Calculate the precision and recall using different values for the classification threshold\n",
        "val_predictions_probs = pipeline.predict_proba(X_val)\n",
        "precisions, recalls, thresholds = precision_recall_curve(y_val, val_predictions_probs[:, 1])"
      ]
    },
    {
      "cell_type": "markdown",
      "metadata": {
        "id": "mzQO_hHqZ2EE"
      },
      "source": [
        "Using the Precision and Recall values from the curve above, we calculate the F1 scores using:\n",
        "\n",
        "$$\\text{F1_score} = \\frac{2*(\\text{Precision} * \\text{Recall})}{(\\text{Precision} + \\text{Recall})}$$\n",
        "\n",
        "and pick the threshold that gives the highest F1 score."
      ]
    },
    {
      "cell_type": "code",
      "execution_count": 30,
      "metadata": {
        "id": "ckAAZa3yZ2EF",
        "outputId": "ff5d8e14-8cd0-4b86-90aa-047e9abdb941",
        "colab": {
          "base_uri": "https://localhost:8080/",
          "height": 509
        }
      },
      "outputs": [
        {
          "output_type": "stream",
          "name": "stdout",
          "text": [
            "Highest F1 score on Validation: 0.8834688346883468 , Threshold for the highest F1 score: 0.3051458933128468\n"
          ]
        },
        {
          "output_type": "display_data",
          "data": {
            "text/plain": [
              "<Figure size 640x480 with 1 Axes>"
            ],
            "image/png": "[encoded data removed]"
          },
          "metadata": {}
        }
      ],
      "source": [
        "%matplotlib inline\n",
        "import numpy as np\n",
        "import matplotlib.pyplot as plt\n",
        "\n",
        "# Calculate the F1 score using different values for the classification threshold,\n",
        "# and pick the threshold that resulted in the highest F1 score.\n",
        "highest_f1 = 0\n",
        "threshold_highest_f1 = 0\n",
        "\n",
        "f1_scores = []\n",
        "for id, threhold in enumerate(thresholds):\n",
        "    f1_score = 2*precisions[id]*recalls[id]/(precisions[id]+recalls[id])\n",
        "    f1_scores.append(f1_score)\n",
        "    if(f1_score > highest_f1):\n",
        "        highest_f1 = f1_score\n",
        "        threshold_highest_f1 = threhold\n",
        "print(\"Highest F1 score on Validation:\", highest_f1, \\\n",
        "      \", Threshold for the highest F1 score:\", threshold_highest_f1)\n",
        "\n",
        "# Let's plot the F1 score versus different choices of thresholds\n",
        "plt.plot([0.5, 0.5], [np.min(f1_scores), np.max(f1_scores)], linestyle='--')\n",
        "\n",
        "plt.plot([threshold_highest_f1 , threshold_highest_f1 ], [np.min(f1_scores), np.max(f1_scores)], linestyle='-')\n",
        "\n",
        "plt.plot(thresholds, f1_scores, marker='.')\n",
        "plt.title('F1 Score versus different choices of thresholds')\n",
        "plt.xlabel('Threshold')\n",
        "plt.ylabel('F1 Score')\n",
        "plt.show()"
      ]
    },
    {
      "cell_type": "markdown",
      "source": [
        "# Parameter Tuning"
      ],
      "metadata": {
        "id": "loKwGMfJIiaD"
      }
    },
    {
      "cell_type": "markdown",
      "source": [
        "## Grid Search"
      ],
      "metadata": {
        "id": "7PKr8llgImia"
      }
    },
    {
      "cell_type": "code",
      "source": [
        "from sklearn.model_selection import GridSearchCV\n",
        "\n",
        "# Define a parameter grid to search for best parameters for everything in the pipeline\n",
        "# This grid will specify which parameters to tune and their respective ranges of values to test.\n",
        "# For example, here we are tuning 'logistic_regression__C' (regularization strength) and\n",
        "# 'text_vect_0__max_features' (number of maximum features for the first text vectorizer).\n",
        "param_grid = {\n",
        "    'data_preprocessing__text_pre_0__text_vect_0__max_features': [50, 100, 150],  # Adjusting for first text vectorizer\n",
        "    'data_preprocessing__text_pre_1__text_vect_1__max_features': [100, 150, 200], # Adjusting for second text vectorizer\n",
        "    'logistic_regression__C': [0.1, 1, 10]  # Adjusting regularization strength\n",
        "}\n",
        "\n",
        "# Rest of your GridSearchCV setup and fitting remains the same\n",
        "\n",
        "\n",
        "# Create a GridSearchCV object to perform a grid search with the pipeline\n",
        "# The GridSearchCV will train the model for each combination of parameters in the param_grid,\n",
        "# and evaluate using cross-validation to find the best parameters.\n",
        "grid_search = GridSearchCV(pipeline, param_grid, cv=5)\n",
        "\n",
        "# Fitting the GridSearchCV to the training data\n",
        "# This step will train and evaluate the model for each combination of parameters\n",
        "# and identify the combination that produces the best results.\n",
        "grid_search.fit(X_train, y_train.values)\n",
        "\n",
        "# After fitting, the best parameters can be extracted and used.\n",
        "print(\"Best Parameters:\", grid_search.best_params_)\n",
        "\n",
        "# The pipeline can now be used with these optimal parameters for prediction or further analysis.\n"
      ],
      "metadata": {
        "id": "BljzXWllIg96",
        "outputId": "2961c227-5524-4ef4-868e-a244c8d17912",
        "colab": {
          "base_uri": "https://localhost:8080/"
        }
      },
      "execution_count": 39,
      "outputs": [
        {
          "output_type": "stream",
          "name": "stdout",
          "text": [
            "Best Parameters: {'data_preprocessing__text_pre_0__text_vect_0__max_features': 150, 'data_preprocessing__text_pre_1__text_vect_1__max_features': 200, 'logistic_regression__C': 1}\n"
          ]
        }
      ]
    },
    {
      "cell_type": "markdown",
      "source": [
        "Best Parameters: {'data_preprocessing__text_pre_0__text_vect_0__max_features': 150, 'data_preprocessing__text_pre_1__text_vect_1__max_features': 200, 'logistic_regression__C': 1}\n"
      ],
      "metadata": {
        "id": "wzPh7wcRQNCa"
      }
    },
    {
      "cell_type": "code",
      "source": [
        "from sklearn.impute import SimpleImputer\n",
        "from sklearn.preprocessing import MinMaxScaler\n",
        "from sklearn.feature_extraction.text import CountVectorizer,TfidfVectorizer\n",
        "from sklearn.pipeline import Pipeline\n",
        "from sklearn.compose import ColumnTransformer\n",
        "from sklearn.linear_model import LogisticRegression\n",
        "\n",
        "### COLUMN_TRANSFORMER ###\n",
        "##########################\n",
        "\n",
        "# Preprocess the numerical features\n",
        "# Preprocessing Numerical Features\n",
        "# This pipeline is for preprocessing numerical features.\n",
        "# It uses MinMaxScaler to scale numerical features to a range between 0 and 1.\n",
        "# Scaling is important for models that are sensitive to the magnitude of features.\n",
        "numerical_processor = Pipeline([\n",
        "    ('num_scaler', MinMaxScaler())\n",
        "])\n",
        "\n",
        "# Preprocessing the First Text Feature\n",
        "# This pipeline is for the first text feature, using CountVectorizer.\n",
        "# CountVectorizer converts text data into a matrix of token counts, here with a binary outcome (word presence or absence).\n",
        "# 'max_features=50' limits the maximum number of features to the top 50 most frequent words.\n",
        "text_processor_0 = Pipeline([\n",
        "    ('text_vect_0', TfidfVectorizer(max_features=150))\n",
        "])\n",
        "TfidfVectorizer\n",
        "# Preprocessing the Second Text Feature with a Larger Vocabulary\n",
        "# Similar to the first text processor, but with a larger vocabulary (150 max features).\n",
        "# This may be because the second text feature requires a broader range of words for adequate representation.\n",
        "text_precessor_1 = Pipeline([\n",
        "    ('text_vect_1', TfidfVectorizer( max_features=200))\n",
        "])\n",
        "\n",
        "# Combining All Data Preprocessors\n",
        "# ColumnTransformer allows different preprocessing steps for different columns of data.\n",
        "# It specifies which processor to apply to which columns.\n",
        "# Here, numerical data is scaled, and two text features are vectorized with different settings.\n",
        "data_preprocessor = ColumnTransformer([\n",
        "    ('numerical_pre', numerical_processor, numerical_features),\n",
        "    ('text_pre_0', text_processor_0, text_features[0]),\n",
        "    ('text_pre_1', text_precessor_1, text_features[1])\n",
        "])\n",
        "\n",
        "### PIPELINE ###\n",
        "################\n",
        "\n",
        "\n",
        "# Assembling the Full Pipeline\n",
        "# This pipeline integrates data preprocessing steps and a machine learning model (Logistic Regression).\n",
        "# Logistic Regression is used for binary classification (here likely predicting 'isPositive').\n",
        "# Hyperparameters like 'penalty' and 'C' are set for the logistic regression model.\n",
        "# The pipeline allows for streamlined processing and prediction.\n",
        "pipeline = Pipeline([\n",
        "    ('data_preprocessing', data_preprocessor),\n",
        "    ('logistic_regression', LogisticRegression(penalty = 'l2',solver='saga',max_iter=1000,\n",
        "                              C = 1))\n",
        "])\n",
        "\n",
        "# Visualizing the Pipeline\n",
        "# Visual representation of the pipeline is enabled for clarity, especially useful for more complex pipelines.\n",
        "from sklearn import set_config\n",
        "set_config(display='diagram')\n",
        "pipeline\n",
        "\n"
      ],
      "metadata": {
        "id": "F8FHiR3sNfl4",
        "outputId": "2477c1c6-17ea-4cfe-ea31-95a003e08023",
        "colab": {
          "base_uri": "https://localhost:8080/",
          "height": 191
        }
      },
      "execution_count": 53,
      "outputs": [
        {
          "output_type": "execute_result",
          "data": {
            "text/plain": [
              "Pipeline(steps=[('data_preprocessing',\n",
              "                 ColumnTransformer(transformers=[('numerical_pre',\n",
              "                                                  Pipeline(steps=[('num_scaler',\n",
              "                                                                   MinMaxScaler())]),\n",
              "                                                  ['time', 'log_votes']),\n",
              "                                                 ('text_pre_0',\n",
              "                                                  Pipeline(steps=[('text_vect_0',\n",
              "                                                                   TfidfVectorizer(max_features=150))]),\n",
              "                                                  'summary'),\n",
              "                                                 ('text_pre_1',\n",
              "                                                  Pipeline(steps=[('text_vect_1',\n",
              "                                                                   TfidfVectorizer(max_features=200))]),\n",
              "                                                  'reviewText')])),\n",
              "                ('logistic_regression',\n",
              "                 LogisticRegression(C=1, max_iter=1000, solver='saga'))])"
            ],
            "text/html": [
              "<style>#sk-container-id-19 {color: black;background-color: white;}#sk-container-id-19 pre{padding: 0;}#sk-container-id-19 div.sk-toggleable {background-color: white;}#sk-container-id-19 label.sk-toggleable__label {cursor: pointer;display: block;width: 100%;margin-bottom: 0;padding: 0.3em;box-sizing: border-box;text-align: center;}#sk-container-id-19 label.sk-toggleable__label-arrow:before {content: \"▸\";float: left;margin-right: 0.25em;color: #696969;}#sk-container-id-19 label.sk-toggleable__label-arrow:hover:before {color: black;}#sk-container-id-19 div.sk-estimator:hover label.sk-toggleable__label-arrow:before {color: black;}#sk-container-id-19 div.sk-toggleable__content {max-height: 0;max-width: 0;overflow: hidden;text-align: left;background-color: #f0f8ff;}#sk-container-id-19 div.sk-toggleable__content pre {margin: 0.2em;color: black;border-radius: 0.25em;background-color: #f0f8ff;}#sk-container-id-19 input.sk-toggleable__control:checked~div.sk-toggleable__content {max-height: 200px;max-width: 100%;overflow: auto;}#sk-container-id-19 input.sk-toggleable__control:checked~label.sk-toggleable__label-arrow:before {content: \"▾\";}#sk-container-id-19 div.sk-estimator input.sk-toggleable__control:checked~label.sk-toggleable__label {background-color: #d4ebff;}#sk-container-id-19 div.sk-label input.sk-toggleable__control:checked~label.sk-toggleable__label {background-color: #d4ebff;}#sk-container-id-19 input.sk-hidden--visually {border: 0;clip: rect(1px 1px 1px 1px);clip: rect(1px, 1px, 1px, 1px);height: 1px;margin: -1px;overflow: hidden;padding: 0;position: absolute;width: 1px;}#sk-container-id-19 div.sk-estimator {font-family: monospace;background-color: #f0f8ff;border: 1px dotted black;border-radius: 0.25em;box-sizing: border-box;margin-bottom: 0.5em;}#sk-container-id-19 div.sk-estimator:hover {background-color: #d4ebff;}#sk-container-id-19 div.sk-parallel-item::after {content: \"\";width: 100%;border-bottom: 1px solid gray;flex-grow: 1;}#sk-container-id-19 div.sk-label:hover label.sk-toggleable__label {background-color: #d4ebff;}#sk-container-id-19 div.sk-serial::before {content: \"\";position: absolute;border-left: 1px solid gray;box-sizing: border-box;top: 0;bottom: 0;left: 50%;z-index: 0;}#sk-container-id-19 div.sk-serial {display: flex;flex-direction: column;align-items: center;background-color: white;padding-right: 0.2em;padding-left: 0.2em;position: relative;}#sk-container-id-19 div.sk-item {position: relative;z-index: 1;}#sk-container-id-19 div.sk-parallel {display: flex;align-items: stretch;justify-content: center;background-color: white;position: relative;}#sk-container-id-19 div.sk-item::before, #sk-container-id-19 div.sk-parallel-item::before {content: \"\";position: absolute;border-left: 1px solid gray;box-sizing: border-box;top: 0;bottom: 0;left: 50%;z-index: -1;}#sk-container-id-19 div.sk-parallel-item {display: flex;flex-direction: column;z-index: 1;position: relative;background-color: white;}#sk-container-id-19 div.sk-parallel-item:first-child::after {align-self: flex-end;width: 50%;}#sk-container-id-19 div.sk-parallel-item:last-child::after {align-self: flex-start;width: 50%;}#sk-container-id-19 div.sk-parallel-item:only-child::after {width: 0;}#sk-container-id-19 div.sk-dashed-wrapped {border: 1px dashed gray;margin: 0 0.4em 0.5em 0.4em;box-sizing: border-box;padding-bottom: 0.4em;background-color: white;}#sk-container-id-19 div.sk-label label {font-family: monospace;font-weight: bold;display: inline-block;line-height: 1.2em;}#sk-container-id-19 div.sk-label-container {text-align: center;}#sk-container-id-19 div.sk-container {/* jupyter's `normalize.less` sets `[hidden] { display: none; }` but bootstrap.min.css set `[hidden] { display: none !important; }` so we also need the `!important` here to be able to override the default hidden behavior on the sphinx rendered scikit-learn.org. See: https://github.com/scikit-learn/scikit-learn/issues/21755 */display: inline-block !important;position: relative;}#sk-container-id-19 div.sk-text-repr-fallback {display: none;}</style><div id=\"sk-container-id-19\" class=\"sk-top-container\"><div class=\"sk-text-repr-fallback\"><pre>Pipeline(steps=[(&#x27;data_preprocessing&#x27;,\n",
              "                 ColumnTransformer(transformers=[(&#x27;numerical_pre&#x27;,\n",
              "                                                  Pipeline(steps=[(&#x27;num_scaler&#x27;,\n",
              "                                                                   MinMaxScaler())]),\n",
              "                                                  [&#x27;time&#x27;, &#x27;log_votes&#x27;]),\n",
              "                                                 (&#x27;text_pre_0&#x27;,\n",
              "                                                  Pipeline(steps=[(&#x27;text_vect_0&#x27;,\n",
              "                                                                   TfidfVectorizer(max_features=150))]),\n",
              "                                                  &#x27;summary&#x27;),\n",
              "                                                 (&#x27;text_pre_1&#x27;,\n",
              "                                                  Pipeline(steps=[(&#x27;text_vect_1&#x27;,\n",
              "                                                                   TfidfVectorizer(max_features=200))]),\n",
              "                                                  &#x27;reviewText&#x27;)])),\n",
              "                (&#x27;logistic_regression&#x27;,\n",
              "                 LogisticRegression(C=1, max_iter=1000, solver=&#x27;saga&#x27;))])</pre><b>In a Jupyter environment, please rerun this cell to show the HTML representation or trust the notebook. <br />On GitHub, the HTML representation is unable to render, please try loading this page with nbviewer.org.</b></div><div class=\"sk-container\" hidden><div class=\"sk-item sk-dashed-wrapped\"><div class=\"sk-label-container\"><div class=\"sk-label sk-toggleable\"><input class=\"sk-toggleable__control sk-hidden--visually\" id=\"sk-estimator-id-163\" type=\"checkbox\" ><label for=\"sk-estimator-id-163\" class=\"sk-toggleable__label sk-toggleable__label-arrow\">Pipeline</label><div class=\"sk-toggleable__content\"><pre>Pipeline(steps=[(&#x27;data_preprocessing&#x27;,\n",
              "                 ColumnTransformer(transformers=[(&#x27;numerical_pre&#x27;,\n",
              "                                                  Pipeline(steps=[(&#x27;num_scaler&#x27;,\n",
              "                                                                   MinMaxScaler())]),\n",
              "                                                  [&#x27;time&#x27;, &#x27;log_votes&#x27;]),\n",
              "                                                 (&#x27;text_pre_0&#x27;,\n",
              "                                                  Pipeline(steps=[(&#x27;text_vect_0&#x27;,\n",
              "                                                                   TfidfVectorizer(max_features=150))]),\n",
              "                                                  &#x27;summary&#x27;),\n",
              "                                                 (&#x27;text_pre_1&#x27;,\n",
              "                                                  Pipeline(steps=[(&#x27;text_vect_1&#x27;,\n",
              "                                                                   TfidfVectorizer(max_features=200))]),\n",
              "                                                  &#x27;reviewText&#x27;)])),\n",
              "                (&#x27;logistic_regression&#x27;,\n",
              "                 LogisticRegression(C=1, max_iter=1000, solver=&#x27;saga&#x27;))])</pre></div></div></div><div class=\"sk-serial\"><div class=\"sk-item sk-dashed-wrapped\"><div class=\"sk-label-container\"><div class=\"sk-label sk-toggleable\"><input class=\"sk-toggleable__control sk-hidden--visually\" id=\"sk-estimator-id-164\" type=\"checkbox\" ><label for=\"sk-estimator-id-164\" class=\"sk-toggleable__label sk-toggleable__label-arrow\">data_preprocessing: ColumnTransformer</label><div class=\"sk-toggleable__content\"><pre>ColumnTransformer(transformers=[(&#x27;numerical_pre&#x27;,\n",
              "                                 Pipeline(steps=[(&#x27;num_scaler&#x27;,\n",
              "                                                  MinMaxScaler())]),\n",
              "                                 [&#x27;time&#x27;, &#x27;log_votes&#x27;]),\n",
              "                                (&#x27;text_pre_0&#x27;,\n",
              "                                 Pipeline(steps=[(&#x27;text_vect_0&#x27;,\n",
              "                                                  TfidfVectorizer(max_features=150))]),\n",
              "                                 &#x27;summary&#x27;),\n",
              "                                (&#x27;text_pre_1&#x27;,\n",
              "                                 Pipeline(steps=[(&#x27;text_vect_1&#x27;,\n",
              "                                                  TfidfVectorizer(max_features=200))]),\n",
              "                                 &#x27;reviewText&#x27;)])</pre></div></div></div><div class=\"sk-parallel\"><div class=\"sk-parallel-item\"><div class=\"sk-item\"><div class=\"sk-label-container\"><div class=\"sk-label sk-toggleable\"><input class=\"sk-toggleable__control sk-hidden--visually\" id=\"sk-estimator-id-165\" type=\"checkbox\" ><label for=\"sk-estimator-id-165\" class=\"sk-toggleable__label sk-toggleable__label-arrow\">numerical_pre</label><div class=\"sk-toggleable__content\"><pre>[&#x27;time&#x27;, &#x27;log_votes&#x27;]</pre></div></div></div><div class=\"sk-serial\"><div class=\"sk-item\"><div class=\"sk-serial\"><div class=\"sk-item\"><div class=\"sk-estimator sk-toggleable\"><input class=\"sk-toggleable__control sk-hidden--visually\" id=\"sk-estimator-id-166\" type=\"checkbox\" ><label for=\"sk-estimator-id-166\" class=\"sk-toggleable__label sk-toggleable__label-arrow\">MinMaxScaler</label><div class=\"sk-toggleable__content\"><pre>MinMaxScaler()</pre></div></div></div></div></div></div></div></div><div class=\"sk-parallel-item\"><div class=\"sk-item\"><div class=\"sk-label-container\"><div class=\"sk-label sk-toggleable\"><input class=\"sk-toggleable__control sk-hidden--visually\" id=\"sk-estimator-id-167\" type=\"checkbox\" ><label for=\"sk-estimator-id-167\" class=\"sk-toggleable__label sk-toggleable__label-arrow\">text_pre_0</label><div class=\"sk-toggleable__content\"><pre>summary</pre></div></div></div><div class=\"sk-serial\"><div class=\"sk-item\"><div class=\"sk-serial\"><div class=\"sk-item\"><div class=\"sk-estimator sk-toggleable\"><input class=\"sk-toggleable__control sk-hidden--visually\" id=\"sk-estimator-id-168\" type=\"checkbox\" ><label for=\"sk-estimator-id-168\" class=\"sk-toggleable__label sk-toggleable__label-arrow\">TfidfVectorizer</label><div class=\"sk-toggleable__content\"><pre>TfidfVectorizer(max_features=150)</pre></div></div></div></div></div></div></div></div><div class=\"sk-parallel-item\"><div class=\"sk-item\"><div class=\"sk-label-container\"><div class=\"sk-label sk-toggleable\"><input class=\"sk-toggleable__control sk-hidden--visually\" id=\"sk-estimator-id-169\" type=\"checkbox\" ><label for=\"sk-estimator-id-169\" class=\"sk-toggleable__label sk-toggleable__label-arrow\">text_pre_1</label><div class=\"sk-toggleable__content\"><pre>reviewText</pre></div></div></div><div class=\"sk-serial\"><div class=\"sk-item\"><div class=\"sk-serial\"><div class=\"sk-item\"><div class=\"sk-estimator sk-toggleable\"><input class=\"sk-toggleable__control sk-hidden--visually\" id=\"sk-estimator-id-170\" type=\"checkbox\" ><label for=\"sk-estimator-id-170\" class=\"sk-toggleable__label sk-toggleable__label-arrow\">TfidfVectorizer</label><div class=\"sk-toggleable__content\"><pre>TfidfVectorizer(max_features=200)</pre></div></div></div></div></div></div></div></div></div></div><div class=\"sk-item\"><div class=\"sk-estimator sk-toggleable\"><input class=\"sk-toggleable__control sk-hidden--visually\" id=\"sk-estimator-id-171\" type=\"checkbox\" ><label for=\"sk-estimator-id-171\" class=\"sk-toggleable__label sk-toggleable__label-arrow\">LogisticRegression</label><div class=\"sk-toggleable__content\"><pre>LogisticRegression(C=1, max_iter=1000, solver=&#x27;saga&#x27;)</pre></div></div></div></div></div></div></div>"
            ]
          },
          "metadata": {},
          "execution_count": 53
        }
      ]
    },
    {
      "cell_type": "code",
      "source": [
        "# Fit the Pipeline to training data\n",
        "pipeline.fit(X_train, y_train.values)"
      ],
      "metadata": {
        "id": "597knaT8ODmE",
        "outputId": "8b2ce314-c851-43f1-b8b1-9de9ace261e0",
        "colab": {
          "base_uri": "https://localhost:8080/",
          "height": 191
        }
      },
      "execution_count": 54,
      "outputs": [
        {
          "output_type": "execute_result",
          "data": {
            "text/plain": [
              "Pipeline(steps=[('data_preprocessing',\n",
              "                 ColumnTransformer(transformers=[('numerical_pre',\n",
              "                                                  Pipeline(steps=[('num_scaler',\n",
              "                                                                   MinMaxScaler())]),\n",
              "                                                  ['time', 'log_votes']),\n",
              "                                                 ('text_pre_0',\n",
              "                                                  Pipeline(steps=[('text_vect_0',\n",
              "                                                                   TfidfVectorizer(max_features=150))]),\n",
              "                                                  'summary'),\n",
              "                                                 ('text_pre_1',\n",
              "                                                  Pipeline(steps=[('text_vect_1',\n",
              "                                                                   TfidfVectorizer(max_features=200))]),\n",
              "                                                  'reviewText')])),\n",
              "                ('logistic_regression',\n",
              "                 LogisticRegression(C=1, max_iter=1000, solver='saga'))])"
            ],
            "text/html": [
              "<style>#sk-container-id-20 {color: black;background-color: white;}#sk-container-id-20 pre{padding: 0;}#sk-container-id-20 div.sk-toggleable {background-color: white;}#sk-container-id-20 label.sk-toggleable__label {cursor: pointer;display: block;width: 100%;margin-bottom: 0;padding: 0.3em;box-sizing: border-box;text-align: center;}#sk-container-id-20 label.sk-toggleable__label-arrow:before {content: \"▸\";float: left;margin-right: 0.25em;color: #696969;}#sk-container-id-20 label.sk-toggleable__label-arrow:hover:before {color: black;}#sk-container-id-20 div.sk-estimator:hover label.sk-toggleable__label-arrow:before {color: black;}#sk-container-id-20 div.sk-toggleable__content {max-height: 0;max-width: 0;overflow: hidden;text-align: left;background-color: #f0f8ff;}#sk-container-id-20 div.sk-toggleable__content pre {margin: 0.2em;color: black;border-radius: 0.25em;background-color: #f0f8ff;}#sk-container-id-20 input.sk-toggleable__control:checked~div.sk-toggleable__content {max-height: 200px;max-width: 100%;overflow: auto;}#sk-container-id-20 input.sk-toggleable__control:checked~label.sk-toggleable__label-arrow:before {content: \"▾\";}#sk-container-id-20 div.sk-estimator input.sk-toggleable__control:checked~label.sk-toggleable__label {background-color: #d4ebff;}#sk-container-id-20 div.sk-label input.sk-toggleable__control:checked~label.sk-toggleable__label {background-color: #d4ebff;}#sk-container-id-20 input.sk-hidden--visually {border: 0;clip: rect(1px 1px 1px 1px);clip: rect(1px, 1px, 1px, 1px);height: 1px;margin: -1px;overflow: hidden;padding: 0;position: absolute;width: 1px;}#sk-container-id-20 div.sk-estimator {font-family: monospace;background-color: #f0f8ff;border: 1px dotted black;border-radius: 0.25em;box-sizing: border-box;margin-bottom: 0.5em;}#sk-container-id-20 div.sk-estimator:hover {background-color: #d4ebff;}#sk-container-id-20 div.sk-parallel-item::after {content: \"\";width: 100%;border-bottom: 1px solid gray;flex-grow: 1;}#sk-container-id-20 div.sk-label:hover label.sk-toggleable__label {background-color: #d4ebff;}#sk-container-id-20 div.sk-serial::before {content: \"\";position: absolute;border-left: 1px solid gray;box-sizing: border-box;top: 0;bottom: 0;left: 50%;z-index: 0;}#sk-container-id-20 div.sk-serial {display: flex;flex-direction: column;align-items: center;background-color: white;padding-right: 0.2em;padding-left: 0.2em;position: relative;}#sk-container-id-20 div.sk-item {position: relative;z-index: 1;}#sk-container-id-20 div.sk-parallel {display: flex;align-items: stretch;justify-content: center;background-color: white;position: relative;}#sk-container-id-20 div.sk-item::before, #sk-container-id-20 div.sk-parallel-item::before {content: \"\";position: absolute;border-left: 1px solid gray;box-sizing: border-box;top: 0;bottom: 0;left: 50%;z-index: -1;}#sk-container-id-20 div.sk-parallel-item {display: flex;flex-direction: column;z-index: 1;position: relative;background-color: white;}#sk-container-id-20 div.sk-parallel-item:first-child::after {align-self: flex-end;width: 50%;}#sk-container-id-20 div.sk-parallel-item:last-child::after {align-self: flex-start;width: 50%;}#sk-container-id-20 div.sk-parallel-item:only-child::after {width: 0;}#sk-container-id-20 div.sk-dashed-wrapped {border: 1px dashed gray;margin: 0 0.4em 0.5em 0.4em;box-sizing: border-box;padding-bottom: 0.4em;background-color: white;}#sk-container-id-20 div.sk-label label {font-family: monospace;font-weight: bold;display: inline-block;line-height: 1.2em;}#sk-container-id-20 div.sk-label-container {text-align: center;}#sk-container-id-20 div.sk-container {/* jupyter's `normalize.less` sets `[hidden] { display: none; }` but bootstrap.min.css set `[hidden] { display: none !important; }` so we also need the `!important` here to be able to override the default hidden behavior on the sphinx rendered scikit-learn.org. See: https://github.com/scikit-learn/scikit-learn/issues/21755 */display: inline-block !important;position: relative;}#sk-container-id-20 div.sk-text-repr-fallback {display: none;}</style><div id=\"sk-container-id-20\" class=\"sk-top-container\"><div class=\"sk-text-repr-fallback\"><pre>Pipeline(steps=[(&#x27;data_preprocessing&#x27;,\n",
              "                 ColumnTransformer(transformers=[(&#x27;numerical_pre&#x27;,\n",
              "                                                  Pipeline(steps=[(&#x27;num_scaler&#x27;,\n",
              "                                                                   MinMaxScaler())]),\n",
              "                                                  [&#x27;time&#x27;, &#x27;log_votes&#x27;]),\n",
              "                                                 (&#x27;text_pre_0&#x27;,\n",
              "                                                  Pipeline(steps=[(&#x27;text_vect_0&#x27;,\n",
              "                                                                   TfidfVectorizer(max_features=150))]),\n",
              "                                                  &#x27;summary&#x27;),\n",
              "                                                 (&#x27;text_pre_1&#x27;,\n",
              "                                                  Pipeline(steps=[(&#x27;text_vect_1&#x27;,\n",
              "                                                                   TfidfVectorizer(max_features=200))]),\n",
              "                                                  &#x27;reviewText&#x27;)])),\n",
              "                (&#x27;logistic_regression&#x27;,\n",
              "                 LogisticRegression(C=1, max_iter=1000, solver=&#x27;saga&#x27;))])</pre><b>In a Jupyter environment, please rerun this cell to show the HTML representation or trust the notebook. <br />On GitHub, the HTML representation is unable to render, please try loading this page with nbviewer.org.</b></div><div class=\"sk-container\" hidden><div class=\"sk-item sk-dashed-wrapped\"><div class=\"sk-label-container\"><div class=\"sk-label sk-toggleable\"><input class=\"sk-toggleable__control sk-hidden--visually\" id=\"sk-estimator-id-172\" type=\"checkbox\" ><label for=\"sk-estimator-id-172\" class=\"sk-toggleable__label sk-toggleable__label-arrow\">Pipeline</label><div class=\"sk-toggleable__content\"><pre>Pipeline(steps=[(&#x27;data_preprocessing&#x27;,\n",
              "                 ColumnTransformer(transformers=[(&#x27;numerical_pre&#x27;,\n",
              "                                                  Pipeline(steps=[(&#x27;num_scaler&#x27;,\n",
              "                                                                   MinMaxScaler())]),\n",
              "                                                  [&#x27;time&#x27;, &#x27;log_votes&#x27;]),\n",
              "                                                 (&#x27;text_pre_0&#x27;,\n",
              "                                                  Pipeline(steps=[(&#x27;text_vect_0&#x27;,\n",
              "                                                                   TfidfVectorizer(max_features=150))]),\n",
              "                                                  &#x27;summary&#x27;),\n",
              "                                                 (&#x27;text_pre_1&#x27;,\n",
              "                                                  Pipeline(steps=[(&#x27;text_vect_1&#x27;,\n",
              "                                                                   TfidfVectorizer(max_features=200))]),\n",
              "                                                  &#x27;reviewText&#x27;)])),\n",
              "                (&#x27;logistic_regression&#x27;,\n",
              "                 LogisticRegression(C=1, max_iter=1000, solver=&#x27;saga&#x27;))])</pre></div></div></div><div class=\"sk-serial\"><div class=\"sk-item sk-dashed-wrapped\"><div class=\"sk-label-container\"><div class=\"sk-label sk-toggleable\"><input class=\"sk-toggleable__control sk-hidden--visually\" id=\"sk-estimator-id-173\" type=\"checkbox\" ><label for=\"sk-estimator-id-173\" class=\"sk-toggleable__label sk-toggleable__label-arrow\">data_preprocessing: ColumnTransformer</label><div class=\"sk-toggleable__content\"><pre>ColumnTransformer(transformers=[(&#x27;numerical_pre&#x27;,\n",
              "                                 Pipeline(steps=[(&#x27;num_scaler&#x27;,\n",
              "                                                  MinMaxScaler())]),\n",
              "                                 [&#x27;time&#x27;, &#x27;log_votes&#x27;]),\n",
              "                                (&#x27;text_pre_0&#x27;,\n",
              "                                 Pipeline(steps=[(&#x27;text_vect_0&#x27;,\n",
              "                                                  TfidfVectorizer(max_features=150))]),\n",
              "                                 &#x27;summary&#x27;),\n",
              "                                (&#x27;text_pre_1&#x27;,\n",
              "                                 Pipeline(steps=[(&#x27;text_vect_1&#x27;,\n",
              "                                                  TfidfVectorizer(max_features=200))]),\n",
              "                                 &#x27;reviewText&#x27;)])</pre></div></div></div><div class=\"sk-parallel\"><div class=\"sk-parallel-item\"><div class=\"sk-item\"><div class=\"sk-label-container\"><div class=\"sk-label sk-toggleable\"><input class=\"sk-toggleable__control sk-hidden--visually\" id=\"sk-estimator-id-174\" type=\"checkbox\" ><label for=\"sk-estimator-id-174\" class=\"sk-toggleable__label sk-toggleable__label-arrow\">numerical_pre</label><div class=\"sk-toggleable__content\"><pre>[&#x27;time&#x27;, &#x27;log_votes&#x27;]</pre></div></div></div><div class=\"sk-serial\"><div class=\"sk-item\"><div class=\"sk-serial\"><div class=\"sk-item\"><div class=\"sk-estimator sk-toggleable\"><input class=\"sk-toggleable__control sk-hidden--visually\" id=\"sk-estimator-id-175\" type=\"checkbox\" ><label for=\"sk-estimator-id-175\" class=\"sk-toggleable__label sk-toggleable__label-arrow\">MinMaxScaler</label><div class=\"sk-toggleable__content\"><pre>MinMaxScaler()</pre></div></div></div></div></div></div></div></div><div class=\"sk-parallel-item\"><div class=\"sk-item\"><div class=\"sk-label-container\"><div class=\"sk-label sk-toggleable\"><input class=\"sk-toggleable__control sk-hidden--visually\" id=\"sk-estimator-id-176\" type=\"checkbox\" ><label for=\"sk-estimator-id-176\" class=\"sk-toggleable__label sk-toggleable__label-arrow\">text_pre_0</label><div class=\"sk-toggleable__content\"><pre>summary</pre></div></div></div><div class=\"sk-serial\"><div class=\"sk-item\"><div class=\"sk-serial\"><div class=\"sk-item\"><div class=\"sk-estimator sk-toggleable\"><input class=\"sk-toggleable__control sk-hidden--visually\" id=\"sk-estimator-id-177\" type=\"checkbox\" ><label for=\"sk-estimator-id-177\" class=\"sk-toggleable__label sk-toggleable__label-arrow\">TfidfVectorizer</label><div class=\"sk-toggleable__content\"><pre>TfidfVectorizer(max_features=150)</pre></div></div></div></div></div></div></div></div><div class=\"sk-parallel-item\"><div class=\"sk-item\"><div class=\"sk-label-container\"><div class=\"sk-label sk-toggleable\"><input class=\"sk-toggleable__control sk-hidden--visually\" id=\"sk-estimator-id-178\" type=\"checkbox\" ><label for=\"sk-estimator-id-178\" class=\"sk-toggleable__label sk-toggleable__label-arrow\">text_pre_1</label><div class=\"sk-toggleable__content\"><pre>reviewText</pre></div></div></div><div class=\"sk-serial\"><div class=\"sk-item\"><div class=\"sk-serial\"><div class=\"sk-item\"><div class=\"sk-estimator sk-toggleable\"><input class=\"sk-toggleable__control sk-hidden--visually\" id=\"sk-estimator-id-179\" type=\"checkbox\" ><label for=\"sk-estimator-id-179\" class=\"sk-toggleable__label sk-toggleable__label-arrow\">TfidfVectorizer</label><div class=\"sk-toggleable__content\"><pre>TfidfVectorizer(max_features=200)</pre></div></div></div></div></div></div></div></div></div></div><div class=\"sk-item\"><div class=\"sk-estimator sk-toggleable\"><input class=\"sk-toggleable__control sk-hidden--visually\" id=\"sk-estimator-id-180\" type=\"checkbox\" ><label for=\"sk-estimator-id-180\" class=\"sk-toggleable__label sk-toggleable__label-arrow\">LogisticRegression</label><div class=\"sk-toggleable__content\"><pre>LogisticRegression(C=1, max_iter=1000, solver=&#x27;saga&#x27;)</pre></div></div></div></div></div></div></div>"
            ]
          },
          "metadata": {},
          "execution_count": 54
        }
      ]
    },
    {
      "cell_type": "code",
      "source": [
        "from sklearn.metrics import confusion_matrix, classification_report, accuracy_score\n",
        "\n",
        "# Making Predictions on the Validation Dataset\n",
        "# This line uses the previously defined and fitted pipeline to make predictions on the validation dataset.\n",
        "# The 'predict' method applies all preprocessing steps to the validation data and then uses the trained model for prediction.\n",
        "val_predictions = pipeline.predict(X_val)\n",
        "\n",
        "# Printing the Confusion Matrix\n",
        "# The confusion matrix is a table used to evaluate the performance of the classification model.\n",
        "# It shows the actual vs. predicted values, helping to understand the cases of true positives, true negatives, false positives, and false negatives.\n",
        "print(confusion_matrix(y_val.values, val_predictions))\n",
        "\n",
        "# Printing the Classification Report\n",
        "# The classification report provides key metrics about the performance of the classifier.\n",
        "# This includes precision, recall, f1-score for each class, and a support count showing the number of true instances in each class.\n",
        "print(classification_report(y_val.values, val_predictions))\n",
        "\n",
        "# Calculating and Printing the Accuracy\n",
        "# Accuracy is the ratio of correctly predicted observations to the total observations.\n",
        "# High accuracy means the model performs well on the validation data.\n",
        "# It's a quick way to see how well the model is performing, especially for balanced datasets.\n",
        "print(\"Accuracy (validation):\", accuracy_score(y_val.values, val_predictions))\n"
      ],
      "metadata": {
        "id": "C5e0B6nhOeYs",
        "outputId": "7b993787-a7eb-412e-de2f-05c756d07cac",
        "colab": {
          "base_uri": "https://localhost:8080/"
        }
      },
      "execution_count": 55,
      "outputs": [
        {
          "output_type": "stream",
          "name": "stdout",
          "text": [
            "[[2097  508]\n",
            " [ 425 3970]]\n",
            "              precision    recall  f1-score   support\n",
            "\n",
            "         0.0       0.83      0.80      0.82      2605\n",
            "         1.0       0.89      0.90      0.89      4395\n",
            "\n",
            "    accuracy                           0.87      7000\n",
            "   macro avg       0.86      0.85      0.86      7000\n",
            "weighted avg       0.87      0.87      0.87      7000\n",
            "\n",
            "Accuracy (validation): 0.8667142857142857\n"
          ]
        }
      ]
    },
    {
      "cell_type": "code",
      "source": [
        "%matplotlib inline\n",
        "import matplotlib.pyplot as plt\n",
        "from sklearn.metrics import precision_recall_curve\n",
        "\n",
        "# Calculate the precision and recall using different values for the classification threshold\n",
        "val_predictions_probs = pipeline.predict_proba(X_val)\n",
        "precisions, recalls, thresholds = precision_recall_curve(y_val, val_predictions_probs[:, 1])"
      ],
      "metadata": {
        "id": "EhxLX-dEP7hU"
      },
      "execution_count": 57,
      "outputs": []
    },
    {
      "cell_type": "code",
      "source": [
        "%matplotlib inline\n",
        "import numpy as np\n",
        "import matplotlib.pyplot as plt\n",
        "\n",
        "# Calculate the F1 score using different values for the classification threshold,\n",
        "# and pick the threshold that resulted in the highest F1 score.\n",
        "highest_f1 = 0\n",
        "threshold_highest_f1 = 0\n",
        "\n",
        "f1_scores = []\n",
        "for id, threhold in enumerate(thresholds):\n",
        "    f1_score = 2*precisions[id]*recalls[id]/(precisions[id]+recalls[id])\n",
        "    f1_scores.append(f1_score)\n",
        "    if(f1_score > highest_f1):\n",
        "        highest_f1 = f1_score\n",
        "        threshold_highest_f1 = threhold\n",
        "print(\"Highest F1 score on Validation:\", highest_f1, \\\n",
        "      \", Threshold for the highest F1 score:\", threshold_highest_f1)\n",
        "\n",
        "# Let's plot the F1 score versus different choices of thresholds\n",
        "plt.plot([0.5, 0.5], [np.min(f1_scores), np.max(f1_scores)], linestyle='--')\n",
        "\n",
        "plt.plot([threshold_highest_f1 , threshold_highest_f1 ], [np.min(f1_scores), np.max(f1_scores)], linestyle='-')\n",
        "\n",
        "plt.plot(thresholds, f1_scores, marker='.')\n",
        "plt.title('F1 Score versus different choices of thresholds')\n",
        "plt.xlabel('Threshold')\n",
        "plt.ylabel('F1 Score')\n",
        "plt.show()"
      ],
      "metadata": {
        "id": "N_ae5s63Pnkv",
        "outputId": "7e420d86-eb4d-43a4-f275-80ebcb760680",
        "colab": {
          "base_uri": "https://localhost:8080/",
          "height": 509
        }
      },
      "execution_count": 58,
      "outputs": [
        {
          "output_type": "stream",
          "name": "stdout",
          "text": [
            "Highest F1 score on Validation: 0.8976010661928032 , Threshold for the highest F1 score: 0.46245610185468083\n"
          ]
        },
        {
          "output_type": "display_data",
          "data": {
            "text/plain": [
              "<Figure size 640x480 with 1 Axes>"
            ],
            "image/png": "[encoded data removed]"
          },
          "metadata": {}
        }
      ]
    }
  ],
  "metadata": {
    "kernelspec": {
      "display_name": "conda_pytorch_p39",
      "language": "python",
      "name": "conda_pytorch_p39"
    },
    "language_info": {
      "codemirror_mode": {
        "name": "ipython",
        "version": 3
      },
      "file_extension": ".py",
      "mimetype": "text/x-python",
      "name": "python",
      "nbconvert_exporter": "python",
      "pygments_lexer": "ipython3",
      "version": "3.9.13"
    },
    "colab": {
      "provenance": [],
      "gpuType": "V100",
      "machine_shape": "hm",
      "include_colab_link": true
    },
    "accelerator": "GPU"
  },
  "nbformat": 4,
  "nbformat_minor": 0
}