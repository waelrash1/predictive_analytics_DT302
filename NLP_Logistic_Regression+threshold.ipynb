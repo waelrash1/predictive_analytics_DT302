{
  "cells": [
    {
      "cell_type": "markdown",
      "metadata": {
        "id": "view-in-github",
        "colab_type": "text"
      },
      "source": [
        "<a href=\"https://colab.research.google.com/github/waelrash1/predictive_analytics_DT302/blob/main/NLP_Logistic_Regression%2Bthreshold.ipynb\" target=\"_parent\"><img src=\"https://colab.research.google.com/assets/colab-badge.svg\" alt=\"Open In Colab\"/></a>"
      ]
    },
    {
      "cell_type": "markdown",
      "metadata": {
        "id": "VYLu2fQiZ2D5"
      },
      "source": [
        "# <a name=\"0\">Logistic Regression - Natural Language Processing</a>\n",
        "\n",
        "## Logistic Regression Model and Threshold Calibration\n",
        "\n",
        "In this notebook, we go over the Logistic Regression method to predict the __isPositive__ field of our final dataset, while also having a look at how probability threshold calibration can help improve classifier's performance.\n",
        "\n",
        "1. <a href=\"#1\">Reading the dataset</a>\n",
        "2. <a href=\"#2\">Exploratory data analysis</a>\n",
        "3. <a href=\"#3\">Stop word removal and stemming</a>\n",
        "4. <a href=\"#4\">Train - Validation Split</a>\n",
        "5. <a href=\"#5\">Data processing with Pipeline and ColumnTransform</a>\n",
        "6. <a href=\"#6\">Fit the classifier</a>\n",
        "Find more details on the __LogisticRegression__ here: https://scikit-learn.org/stable/modules/generated/sklearn.linear_model.LogisticRegression.html\n",
        "7. <a href=\"#7\">Test the classifier</a>\n",
        "8. <a href=\"#8\">Ideas for improvement: Probability threshold calibration (optional)</a>\n",
        "\n",
        "Overall dataset schema:\n",
        "* __reviewText:__ Text of the review\n",
        "* __summary:__ Summary of the review\n",
        "* __verified:__ Whether the purchase was verified (True or False)\n",
        "* __time:__ UNIX timestamp for the review\n",
        "* __log_votes:__ Logarithm-adjusted votes log(1+votes)\n",
        "* __isPositive:__ Whether the review is positive or negative (1 or 0)\n"
      ]
    },
    {
      "cell_type": "markdown",
      "metadata": {
        "id": "LQa5oQlnZ2D8"
      },
      "source": [
        "## 1. <a name=\"1\">Reading the dataset</a>\n",
        "(<a href=\"#0\">Go to top</a>)\n",
        "\n",
        "We will use the __pandas__ library to read our datasets."
      ]
    },
    {
      "cell_type": "code",
      "execution_count": 4,
      "metadata": {
        "id": "WZU4PyekZ2D8"
      },
      "outputs": [],
      "source": [
        "import pandas as pd\n",
        "url='https://raw.githubusercontent.com/aws-samples/aws-machine-learning-university-accelerated-nlp/master/data/examples/AMAZON-REVIEW-DATA-CLASSIFICATION.csv'\n",
        "\n",
        "df = pd.read_csv(url)"
      ]
    },
    {
      "cell_type": "markdown",
      "metadata": {
        "id": "JteE8eEFZ2D8"
      },
      "source": [
        "Let's look at the first five rows in the datasets."
      ]
    },
    {
      "cell_type": "code",
      "execution_count": 5,
      "metadata": {
        "colab": {
          "base_uri": "https://localhost:8080/",
          "height": 206
        },
        "id": "oWr5wqyBZ2D8",
        "outputId": "57cbb3cc-c3d9-4031-91b5-402963bd9f03"
      },
      "outputs": [
        {
          "output_type": "execute_result",
          "data": {
            "text/plain": [
              "                                          reviewText  \\\n",
              "0  PURCHASED FOR YOUNGSTER WHO\\nINHERITED MY \"TOO...   \n",
              "1                              unable to open or use   \n",
              "2   Waste of money!!! It wouldn't load to my system.   \n",
              "3  I attempted to install this OS on two differen...   \n",
              "4  I've spent 14 fruitless hours over the past tw...   \n",
              "\n",
              "                                             summary  verified        time  \\\n",
              "0                                IDEAL FOR BEGINNER!      True  1361836800   \n",
              "1                                          Two Stars      True  1452643200   \n",
              "2                                       Dont buy it!      True  1433289600   \n",
              "3  I attempted to install this OS on two differen...      True  1518912000   \n",
              "4                                   Do NOT Download.      True  1441929600   \n",
              "\n",
              "   log_votes  isPositive  \n",
              "0   0.000000         1.0  \n",
              "1   0.000000         0.0  \n",
              "2   0.000000         0.0  \n",
              "3   0.000000         0.0  \n",
              "4   1.098612         0.0  "
            ],
            "text/html": [
              "\n",
              "  <div id=\"df-a05c9368-d01b-488f-ab14-527dae33f9a8\" class=\"colab-df-container\">\n",
              "    <div>\n",
              "<style scoped>\n",
              "    .dataframe tbody tr th:only-of-type {\n",
              "        vertical-align: middle;\n",
              "    }\n",
              "\n",
              "    .dataframe tbody tr th {\n",
              "        vertical-align: top;\n",
              "    }\n",
              "\n",
              "    .dataframe thead th {\n",
              "        text-align: right;\n",
              "    }\n",
              "</style>\n",
              "<table border=\"1\" class=\"dataframe\">\n",
              "  <thead>\n",
              "    <tr style=\"text-align: right;\">\n",
              "      <th></th>\n",
              "      <th>reviewText</th>\n",
              "      <th>summary</th>\n",
              "      <th>verified</th>\n",
              "      <th>time</th>\n",
              "      <th>log_votes</th>\n",
              "      <th>isPositive</th>\n",
              "    </tr>\n",
              "  </thead>\n",
              "  <tbody>\n",
              "    <tr>\n",
              "      <th>0</th>\n",
              "      <td>PURCHASED FOR YOUNGSTER WHO\\nINHERITED MY \"TOO...</td>\n",
              "      <td>IDEAL FOR BEGINNER!</td>\n",
              "      <td>True</td>\n",
              "      <td>1361836800</td>\n",
              "      <td>0.000000</td>\n",
              "      <td>1.0</td>\n",
              "    </tr>\n",
              "    <tr>\n",
              "      <th>1</th>\n",
              "      <td>unable to open or use</td>\n",
              "      <td>Two Stars</td>\n",
              "      <td>True</td>\n",
              "      <td>1452643200</td>\n",
              "      <td>0.000000</td>\n",
              "      <td>0.0</td>\n",
              "    </tr>\n",
              "    <tr>\n",
              "      <th>2</th>\n",
              "      <td>Waste of money!!! It wouldn't load to my system.</td>\n",
              "      <td>Dont buy it!</td>\n",
              "      <td>True</td>\n",
              "      <td>1433289600</td>\n",
              "      <td>0.000000</td>\n",
              "      <td>0.0</td>\n",
              "    </tr>\n",
              "    <tr>\n",
              "      <th>3</th>\n",
              "      <td>I attempted to install this OS on two differen...</td>\n",
              "      <td>I attempted to install this OS on two differen...</td>\n",
              "      <td>True</td>\n",
              "      <td>1518912000</td>\n",
              "      <td>0.000000</td>\n",
              "      <td>0.0</td>\n",
              "    </tr>\n",
              "    <tr>\n",
              "      <th>4</th>\n",
              "      <td>I've spent 14 fruitless hours over the past tw...</td>\n",
              "      <td>Do NOT Download.</td>\n",
              "      <td>True</td>\n",
              "      <td>1441929600</td>\n",
              "      <td>1.098612</td>\n",
              "      <td>0.0</td>\n",
              "    </tr>\n",
              "  </tbody>\n",
              "</table>\n",
              "</div>\n",
              "    <div class=\"colab-df-buttons\">\n",
              "\n",
              "  <div class=\"colab-df-container\">\n",
              "    <button class=\"colab-df-convert\" onclick=\"convertToInteractive('df-a05c9368-d01b-488f-ab14-527dae33f9a8')\"\n",
              "            title=\"Convert this dataframe to an interactive table.\"\n",
              "            style=\"display:none;\">\n",
              "\n",
              "  <svg xmlns=\"http://www.w3.org/2000/svg\" height=\"24px\" viewBox=\"0 -960 960 960\">\n",
              "    <path d=\"M120-120v-720h720v720H120Zm60-500h600v-160H180v160Zm220 220h160v-160H400v160Zm0 220h160v-160H400v160ZM180-400h160v-160H180v160Zm440 0h160v-160H620v160ZM180-180h160v-160H180v160Zm440 0h160v-160H620v160Z\"/>\n",
              "  </svg>\n",
              "    </button>\n",
              "\n",
              "  <style>\n",
              "    .colab-df-container {\n",
              "      display:flex;\n",
              "      gap: 12px;\n",
              "    }\n",
              "\n",
              "    .colab-df-convert {\n",
              "      background-color: #E8F0FE;\n",
              "      border: none;\n",
              "      border-radius: 50%;\n",
              "      cursor: pointer;\n",
              "      display: none;\n",
              "      fill: #1967D2;\n",
              "      height: 32px;\n",
              "      padding: 0 0 0 0;\n",
              "      width: 32px;\n",
              "    }\n",
              "\n",
              "    .colab-df-convert:hover {\n",
              "      background-color: #E2EBFA;\n",
              "      box-shadow: 0px 1px 2px rgba(60, 64, 67, 0.3), 0px 1px 3px 1px rgba(60, 64, 67, 0.15);\n",
              "      fill: #174EA6;\n",
              "    }\n",
              "\n",
              "    .colab-df-buttons div {\n",
              "      margin-bottom: 4px;\n",
              "    }\n",
              "\n",
              "    [theme=dark] .colab-df-convert {\n",
              "      background-color: #3B4455;\n",
              "      fill: #D2E3FC;\n",
              "    }\n",
              "\n",
              "    [theme=dark] .colab-df-convert:hover {\n",
              "      background-color: #434B5C;\n",
              "      box-shadow: 0px 1px 3px 1px rgba(0, 0, 0, 0.15);\n",
              "      filter: drop-shadow(0px 1px 2px rgba(0, 0, 0, 0.3));\n",
              "      fill: #FFFFFF;\n",
              "    }\n",
              "  </style>\n",
              "\n",
              "    <script>\n",
              "      const buttonEl =\n",
              "        document.querySelector('#df-a05c9368-d01b-488f-ab14-527dae33f9a8 button.colab-df-convert');\n",
              "      buttonEl.style.display =\n",
              "        google.colab.kernel.accessAllowed ? 'block' : 'none';\n",
              "\n",
              "      async function convertToInteractive(key) {\n",
              "        const element = document.querySelector('#df-a05c9368-d01b-488f-ab14-527dae33f9a8');\n",
              "        const dataTable =\n",
              "          await google.colab.kernel.invokeFunction('convertToInteractive',\n",
              "                                                    [key], {});\n",
              "        if (!dataTable) return;\n",
              "\n",
              "        const docLinkHtml = 'Like what you see? Visit the ' +\n",
              "          '<a target=\"_blank\" href=https://colab.research.google.com/notebooks/data_table.ipynb>data table notebook</a>'\n",
              "          + ' to learn more about interactive tables.';\n",
              "        element.innerHTML = '';\n",
              "        dataTable['output_type'] = 'display_data';\n",
              "        await google.colab.output.renderOutput(dataTable, element);\n",
              "        const docLink = document.createElement('div');\n",
              "        docLink.innerHTML = docLinkHtml;\n",
              "        element.appendChild(docLink);\n",
              "      }\n",
              "    </script>\n",
              "  </div>\n",
              "\n",
              "\n",
              "<div id=\"df-03f3b02c-1ee6-498a-825f-c44b2aa27cce\">\n",
              "  <button class=\"colab-df-quickchart\" onclick=\"quickchart('df-03f3b02c-1ee6-498a-825f-c44b2aa27cce')\"\n",
              "            title=\"Suggest charts.\"\n",
              "            style=\"display:none;\">\n",
              "\n",
              "<svg xmlns=\"http://www.w3.org/2000/svg\" height=\"24px\"viewBox=\"0 0 24 24\"\n",
              "     width=\"24px\">\n",
              "    <g>\n",
              "        <path d=\"M19 3H5c-1.1 0-2 .9-2 2v14c0 1.1.9 2 2 2h14c1.1 0 2-.9 2-2V5c0-1.1-.9-2-2-2zM9 17H7v-7h2v7zm4 0h-2V7h2v10zm4 0h-2v-4h2v4z\"/>\n",
              "    </g>\n",
              "</svg>\n",
              "  </button>\n",
              "\n",
              "<style>\n",
              "  .colab-df-quickchart {\n",
              "      --bg-color: #E8F0FE;\n",
              "      --fill-color: #1967D2;\n",
              "      --hover-bg-color: #E2EBFA;\n",
              "      --hover-fill-color: #174EA6;\n",
              "      --disabled-fill-color: #AAA;\n",
              "      --disabled-bg-color: #DDD;\n",
              "  }\n",
              "\n",
              "  [theme=dark] .colab-df-quickchart {\n",
              "      --bg-color: #3B4455;\n",
              "      --fill-color: #D2E3FC;\n",
              "      --hover-bg-color: #434B5C;\n",
              "      --hover-fill-color: #FFFFFF;\n",
              "      --disabled-bg-color: #3B4455;\n",
              "      --disabled-fill-color: #666;\n",
              "  }\n",
              "\n",
              "  .colab-df-quickchart {\n",
              "    background-color: var(--bg-color);\n",
              "    border: none;\n",
              "    border-radius: 50%;\n",
              "    cursor: pointer;\n",
              "    display: none;\n",
              "    fill: var(--fill-color);\n",
              "    height: 32px;\n",
              "    padding: 0;\n",
              "    width: 32px;\n",
              "  }\n",
              "\n",
              "  .colab-df-quickchart:hover {\n",
              "    background-color: var(--hover-bg-color);\n",
              "    box-shadow: 0 1px 2px rgba(60, 64, 67, 0.3), 0 1px 3px 1px rgba(60, 64, 67, 0.15);\n",
              "    fill: var(--button-hover-fill-color);\n",
              "  }\n",
              "\n",
              "  .colab-df-quickchart-complete:disabled,\n",
              "  .colab-df-quickchart-complete:disabled:hover {\n",
              "    background-color: var(--disabled-bg-color);\n",
              "    fill: var(--disabled-fill-color);\n",
              "    box-shadow: none;\n",
              "  }\n",
              "\n",
              "  .colab-df-spinner {\n",
              "    border: 2px solid var(--fill-color);\n",
              "    border-color: transparent;\n",
              "    border-bottom-color: var(--fill-color);\n",
              "    animation:\n",
              "      spin 1s steps(1) infinite;\n",
              "  }\n",
              "\n",
              "  @keyframes spin {\n",
              "    0% {\n",
              "      border-color: transparent;\n",
              "      border-bottom-color: var(--fill-color);\n",
              "      border-left-color: var(--fill-color);\n",
              "    }\n",
              "    20% {\n",
              "      border-color: transparent;\n",
              "      border-left-color: var(--fill-color);\n",
              "      border-top-color: var(--fill-color);\n",
              "    }\n",
              "    30% {\n",
              "      border-color: transparent;\n",
              "      border-left-color: var(--fill-color);\n",
              "      border-top-color: var(--fill-color);\n",
              "      border-right-color: var(--fill-color);\n",
              "    }\n",
              "    40% {\n",
              "      border-color: transparent;\n",
              "      border-right-color: var(--fill-color);\n",
              "      border-top-color: var(--fill-color);\n",
              "    }\n",
              "    60% {\n",
              "      border-color: transparent;\n",
              "      border-right-color: var(--fill-color);\n",
              "    }\n",
              "    80% {\n",
              "      border-color: transparent;\n",
              "      border-right-color: var(--fill-color);\n",
              "      border-bottom-color: var(--fill-color);\n",
              "    }\n",
              "    90% {\n",
              "      border-color: transparent;\n",
              "      border-bottom-color: var(--fill-color);\n",
              "    }\n",
              "  }\n",
              "</style>\n",
              "\n",
              "  <script>\n",
              "    async function quickchart(key) {\n",
              "      const quickchartButtonEl =\n",
              "        document.querySelector('#' + key + ' button');\n",
              "      quickchartButtonEl.disabled = true;  // To prevent multiple clicks.\n",
              "      quickchartButtonEl.classList.add('colab-df-spinner');\n",
              "      try {\n",
              "        const charts = await google.colab.kernel.invokeFunction(\n",
              "            'suggestCharts', [key], {});\n",
              "      } catch (error) {\n",
              "        console.error('Error during call to suggestCharts:', error);\n",
              "      }\n",
              "      quickchartButtonEl.classList.remove('colab-df-spinner');\n",
              "      quickchartButtonEl.classList.add('colab-df-quickchart-complete');\n",
              "    }\n",
              "    (() => {\n",
              "      let quickchartButtonEl =\n",
              "        document.querySelector('#df-03f3b02c-1ee6-498a-825f-c44b2aa27cce button');\n",
              "      quickchartButtonEl.style.display =\n",
              "        google.colab.kernel.accessAllowed ? 'block' : 'none';\n",
              "    })();\n",
              "  </script>\n",
              "</div>\n",
              "    </div>\n",
              "  </div>\n"
            ]
          },
          "metadata": {},
          "execution_count": 5
        }
      ],
      "source": [
        "df.head()"
      ]
    },
    {
      "cell_type": "markdown",
      "metadata": {
        "id": "8Celle6AZ2D9"
      },
      "source": [
        "## 2. <a name=\"2\">Exploratory data analysis</a>\n",
        "(<a href=\"#0\">Go to top</a>)"
      ]
    },
    {
      "cell_type": "markdown",
      "metadata": {
        "id": "okFVdlQXZ2D9"
      },
      "source": [
        "Let's look at the target distribution for our datasets."
      ]
    },
    {
      "cell_type": "code",
      "execution_count": 6,
      "metadata": {
        "colab": {
          "base_uri": "https://localhost:8080/"
        },
        "id": "h88ABDDKZ2D-",
        "outputId": "1cdb44be-dd20-4f64-e8cc-389baaf0d99d"
      },
      "outputs": [
        {
          "output_type": "execute_result",
          "data": {
            "text/plain": [
              "1.0    43692\n",
              "0.0    26308\n",
              "Name: isPositive, dtype: int64"
            ]
          },
          "metadata": {},
          "execution_count": 6
        }
      ],
      "source": [
        "df[\"isPositive\"].value_counts()"
      ]
    },
    {
      "cell_type": "markdown",
      "metadata": {
        "id": "fmA6Q1zYZ2D-"
      },
      "source": [
        "Checking the number of missing values:    "
      ]
    },
    {
      "cell_type": "code",
      "execution_count": 7,
      "metadata": {
        "colab": {
          "base_uri": "https://localhost:8080/"
        },
        "id": "Lf0qUS4lZ2D-",
        "outputId": "ffcfc940-894a-4ff0-9c81-bab3dcff4a3b"
      },
      "outputs": [
        {
          "output_type": "stream",
          "name": "stdout",
          "text": [
            "reviewText    11\n",
            "summary       14\n",
            "verified       0\n",
            "time           0\n",
            "log_votes      0\n",
            "isPositive     0\n",
            "dtype: int64\n"
          ]
        }
      ],
      "source": [
        "print(df.isna().sum())"
      ]
    },
    {
      "cell_type": "markdown",
      "metadata": {
        "id": "PSKR6yt4Z2D-"
      },
      "source": [
        "We have missing values in our text fields."
      ]
    },
    {
      "cell_type": "markdown",
      "metadata": {
        "id": "S2VXrkXUZ2D_"
      },
      "source": [
        "## 3. <a name=\"3\">Text Processing: Stop words removal and stemming</a>\n",
        "(<a href=\"#0\">Go to top</a>)\n",
        "\n",
        "We will apply the text processing methods discussed in the class."
      ]
    },
    {
      "cell_type": "code",
      "execution_count": 8,
      "metadata": {
        "colab": {
          "base_uri": "https://localhost:8080/"
        },
        "id": "CeFMwdRmZ2D_",
        "outputId": "cb0cc062-4f68-4d8f-e3e2-be32753a28c9"
      },
      "outputs": [
        {
          "output_type": "stream",
          "name": "stderr",
          "text": [
            "[nltk_data] Downloading package punkt to /root/nltk_data...\n",
            "[nltk_data]   Unzipping tokenizers/punkt.zip.\n",
            "[nltk_data] Downloading package stopwords to /root/nltk_data...\n",
            "[nltk_data]   Unzipping corpora/stopwords.zip.\n"
          ]
        },
        {
          "output_type": "execute_result",
          "data": {
            "text/plain": [
              "True"
            ]
          },
          "metadata": {},
          "execution_count": 8
        }
      ],
      "source": [
        "# Install the library and functions\n",
        "import nltk\n",
        "\n",
        "nltk.download('punkt')\n",
        "nltk.download('stopwords')"
      ]
    },
    {
      "cell_type": "markdown",
      "metadata": {
        "id": "ZKqnb44jZ2D_"
      },
      "source": [
        "We will create the stop word removal and text cleaning processes below. NLTK library provides a list of common stop words. We will use the list, but remove some of the words from that list (because those words are actually useful to understand the sentiment in the sentence)."
      ]
    },
    {
      "cell_type": "code",
      "execution_count": 9,
      "metadata": {
        "id": "NEzMqn2mZ2D_"
      },
      "outputs": [],
      "source": [
        "import nltk, re\n",
        "from nltk.corpus import stopwords\n",
        "from nltk.stem import SnowballStemmer\n",
        "from nltk.tokenize import word_tokenize\n",
        "\n",
        "# Let's get a list of stop words from the NLTK library\n",
        "stop = stopwords.words('english')\n",
        "\n",
        "# These words are important for our problem. We don't want to remove them.\n",
        "excluding = ['against', 'not', 'don', \"don't\",'ain', 'aren', \"aren't\", 'couldn', \"couldn't\",\n",
        "             'didn', \"didn't\", 'doesn', \"doesn't\", 'hadn', \"hadn't\", 'hasn', \"hasn't\",\n",
        "             'haven', \"haven't\", 'isn', \"isn't\", 'mightn', \"mightn't\", 'mustn', \"mustn't\",\n",
        "             'needn', \"needn't\",'shouldn', \"shouldn't\", 'wasn', \"wasn't\", 'weren',\n",
        "             \"weren't\", 'won', \"won't\", 'wouldn', \"wouldn't\"]\n",
        "\n",
        "# New stop word list\n",
        "stop_words = [word for word in stop if word not in excluding]\n",
        "\n",
        "snow = SnowballStemmer('english')\n",
        "\n",
        "def process_text(texts):\n",
        "    final_text_list=[]\n",
        "    for sent in texts:\n",
        "\n",
        "        # Check if the sentence is a missing value\n",
        "        if isinstance(sent, str) == False:\n",
        "            sent = \"\"\n",
        "\n",
        "        filtered_sentence=[]\n",
        "\n",
        "        sent = sent.lower() # Lowercase\n",
        "        sent = sent.strip() # Remove leading/trailing whitespace\n",
        "        sent = re.sub('\\s+', ' ', sent) # Remove extra space and tabs\n",
        "        sent = re.compile('<.*?>').sub('', sent) # Remove HTML tags/markups:\n",
        "\n",
        "        for w in word_tokenize(sent):\n",
        "            # We are applying some custom filtering here, feel free to try different things\n",
        "            # Check if it is not numeric and its length>2 and not in stop words\n",
        "            if(not w.isnumeric()) and (len(w)>2) and (w not in stop_words):\n",
        "                # Stem and add to filtered list\n",
        "                filtered_sentence.append(snow.stem(w))\n",
        "        final_string = \" \".join(filtered_sentence) #final string of cleaned words\n",
        "\n",
        "        final_text_list.append(final_string)\n",
        "\n",
        "    return final_text_list"
      ]
    },
    {
      "cell_type": "markdown",
      "metadata": {
        "id": "9d5Qvmu-Z2EA"
      },
      "source": [
        "## 4. <a name=\"4\">Train - Validation Split</a>\n",
        "(<a href=\"#0\">Go to top</a>)\n",
        "\n",
        "Let's split our dataset into training (90%) and validation (10%)."
      ]
    },
    {
      "cell_type": "code",
      "execution_count": 10,
      "metadata": {
        "id": "H0pWxqt_Z2EA"
      },
      "outputs": [],
      "source": [
        "from sklearn.model_selection import train_test_split\n",
        "\n",
        "X_train, X_val, y_train, y_val = train_test_split(df[[\"reviewText\", \"summary\", \"time\", \"log_votes\"]],\n",
        "                                                  df[\"isPositive\"],\n",
        "                                                  test_size=0.10,\n",
        "                                                  shuffle=True,\n",
        "                                                  random_state=324\n",
        "                                                 )"
      ]
    },
    {
      "cell_type": "code",
      "execution_count": 11,
      "metadata": {
        "colab": {
          "base_uri": "https://localhost:8080/"
        },
        "id": "H-DK7HdFZ2EA",
        "outputId": "bb3346f2-41ed-43cd-8fe7-7b043c5da77b"
      },
      "outputs": [
        {
          "output_type": "stream",
          "name": "stdout",
          "text": [
            "Processing the reviewText fields\n",
            "Processing the summary fields\n"
          ]
        }
      ],
      "source": [
        "print(\"Processing the reviewText fields\")\n",
        "X_train[\"reviewText\"] = process_text(X_train[\"reviewText\"].tolist())\n",
        "X_val[\"reviewText\"] = process_text(X_val[\"reviewText\"].tolist())\n",
        "\n",
        "print(\"Processing the summary fields\")\n",
        "X_train[\"summary\"] = process_text(X_train[\"summary\"].tolist())\n",
        "X_val[\"summary\"] = process_text(X_val[\"summary\"].tolist())"
      ]
    },
    {
      "cell_type": "markdown",
      "metadata": {
        "id": "_50OjYmWZ2EB"
      },
      "source": [
        "Our process_text() method in section 3 uses empty string for missing values."
      ]
    },
    {
      "cell_type": "markdown",
      "metadata": {
        "id": "ma4LyzbvZ2EB"
      },
      "source": [
        "## 5. <a name=\"5\">Data processing with Pipeline and ColumnTransform</a>\n",
        "(<a href=\"#0\">Go to top</a>)\n",
        "\n",
        "In the previous examples, we have seen how to use pipeline to prepare a data field for our machine learning model. This time, we will focus on multiple fields: numeric and text fields. Find more details on __LogisticRegression__ here:\n",
        "https://scikit-learn.org/stable/modules/generated/sklearn.linear_model.LogisticRegression.html\n",
        "\n",
        "   * For the numerical features pipeline, the __numerical_processor__ below, we use a MinMaxScaler (don't have to scale features when using Decision Trees, but it's a good idea to see how to use more data transforms). If different processing is desired for different numerical features, different pipelines should be built - just like shown below for the two text features.\n",
        "   * For the text features pipeline, the __text_processor__ below, we use CountVectorizer() for the text fields.\n",
        "   \n",
        "The selective preparations of the dataset features are then put together into a collective ColumnTransformer, to be finally used in a Pipeline along with an estimator. This ensures that the transforms are performed automatically on the raw data when fitting the model and when making predictions, such as when evaluating the model on a validation dataset via cross-validation or making predictions on a test dataset in the future."
      ]
    },
    {
      "cell_type": "code",
      "execution_count": 12,
      "metadata": {
        "id": "Znt7aWb3Z2EB"
      },
      "outputs": [],
      "source": [
        "# Grab model features/inputs and target/output\n",
        "numerical_features = ['time',\n",
        "                      'log_votes']\n",
        "\n",
        "text_features = ['summary',\n",
        "                 'reviewText']\n",
        "\n",
        "model_features = numerical_features + text_features\n",
        "model_target = 'isPositive'"
      ]
    },
    {
      "cell_type": "code",
      "execution_count": 13,
      "metadata": {
        "colab": {
          "base_uri": "https://localhost:8080/",
          "height": 191
        },
        "id": "j09sFk51Z2EB",
        "outputId": "8de02983-89e3-444c-d2fb-bc614ff8a819"
      },
      "outputs": [
        {
          "output_type": "execute_result",
          "data": {
            "text/plain": [
              "Pipeline(steps=[('data_preprocessing',\n",
              "                 ColumnTransformer(transformers=[('numerical_pre',\n",
              "                                                  Pipeline(steps=[('num_scaler',\n",
              "                                                                   MinMaxScaler())]),\n",
              "                                                  ['time', 'log_votes']),\n",
              "                                                 ('text_pre_0',\n",
              "                                                  Pipeline(steps=[('text_vect_0',\n",
              "                                                                   CountVectorizer(binary=True,\n",
              "                                                                                   max_features=50))]),\n",
              "                                                  'summary'),\n",
              "                                                 ('text_pre_1',\n",
              "                                                  Pipeline(steps=[('text_vect_1',\n",
              "                                                                   CountVectorizer(binary=True,\n",
              "                                                                                   max_features=150))]),\n",
              "                                                  'reviewText')])),\n",
              "                ('logistic_regression', LogisticRegression(C=0.1))])"
            ],
            "text/html": [
              "<style>#sk-container-id-1 {color: black;background-color: white;}#sk-container-id-1 pre{padding: 0;}#sk-container-id-1 div.sk-toggleable {background-color: white;}#sk-container-id-1 label.sk-toggleable__label {cursor: pointer;display: block;width: 100%;margin-bottom: 0;padding: 0.3em;box-sizing: border-box;text-align: center;}#sk-container-id-1 label.sk-toggleable__label-arrow:before {content: \"▸\";float: left;margin-right: 0.25em;color: #696969;}#sk-container-id-1 label.sk-toggleable__label-arrow:hover:before {color: black;}#sk-container-id-1 div.sk-estimator:hover label.sk-toggleable__label-arrow:before {color: black;}#sk-container-id-1 div.sk-toggleable__content {max-height: 0;max-width: 0;overflow: hidden;text-align: left;background-color: #f0f8ff;}#sk-container-id-1 div.sk-toggleable__content pre {margin: 0.2em;color: black;border-radius: 0.25em;background-color: #f0f8ff;}#sk-container-id-1 input.sk-toggleable__control:checked~div.sk-toggleable__content {max-height: 200px;max-width: 100%;overflow: auto;}#sk-container-id-1 input.sk-toggleable__control:checked~label.sk-toggleable__label-arrow:before {content: \"▾\";}#sk-container-id-1 div.sk-estimator input.sk-toggleable__control:checked~label.sk-toggleable__label {background-color: #d4ebff;}#sk-container-id-1 div.sk-label input.sk-toggleable__control:checked~label.sk-toggleable__label {background-color: #d4ebff;}#sk-container-id-1 input.sk-hidden--visually {border: 0;clip: rect(1px 1px 1px 1px);clip: rect(1px, 1px, 1px, 1px);height: 1px;margin: -1px;overflow: hidden;padding: 0;position: absolute;width: 1px;}#sk-container-id-1 div.sk-estimator {font-family: monospace;background-color: #f0f8ff;border: 1px dotted black;border-radius: 0.25em;box-sizing: border-box;margin-bottom: 0.5em;}#sk-container-id-1 div.sk-estimator:hover {background-color: #d4ebff;}#sk-container-id-1 div.sk-parallel-item::after {content: \"\";width: 100%;border-bottom: 1px solid gray;flex-grow: 1;}#sk-container-id-1 div.sk-label:hover label.sk-toggleable__label {background-color: #d4ebff;}#sk-container-id-1 div.sk-serial::before {content: \"\";position: absolute;border-left: 1px solid gray;box-sizing: border-box;top: 0;bottom: 0;left: 50%;z-index: 0;}#sk-container-id-1 div.sk-serial {display: flex;flex-direction: column;align-items: center;background-color: white;padding-right: 0.2em;padding-left: 0.2em;position: relative;}#sk-container-id-1 div.sk-item {position: relative;z-index: 1;}#sk-container-id-1 div.sk-parallel {display: flex;align-items: stretch;justify-content: center;background-color: white;position: relative;}#sk-container-id-1 div.sk-item::before, #sk-container-id-1 div.sk-parallel-item::before {content: \"\";position: absolute;border-left: 1px solid gray;box-sizing: border-box;top: 0;bottom: 0;left: 50%;z-index: -1;}#sk-container-id-1 div.sk-parallel-item {display: flex;flex-direction: column;z-index: 1;position: relative;background-color: white;}#sk-container-id-1 div.sk-parallel-item:first-child::after {align-self: flex-end;width: 50%;}#sk-container-id-1 div.sk-parallel-item:last-child::after {align-self: flex-start;width: 50%;}#sk-container-id-1 div.sk-parallel-item:only-child::after {width: 0;}#sk-container-id-1 div.sk-dashed-wrapped {border: 1px dashed gray;margin: 0 0.4em 0.5em 0.4em;box-sizing: border-box;padding-bottom: 0.4em;background-color: white;}#sk-container-id-1 div.sk-label label {font-family: monospace;font-weight: bold;display: inline-block;line-height: 1.2em;}#sk-container-id-1 div.sk-label-container {text-align: center;}#sk-container-id-1 div.sk-container {/* jupyter's `normalize.less` sets `[hidden] { display: none; }` but bootstrap.min.css set `[hidden] { display: none !important; }` so we also need the `!important` here to be able to override the default hidden behavior on the sphinx rendered scikit-learn.org. See: https://github.com/scikit-learn/scikit-learn/issues/21755 */display: inline-block !important;position: relative;}#sk-container-id-1 div.sk-text-repr-fallback {display: none;}</style><div id=\"sk-container-id-1\" class=\"sk-top-container\"><div class=\"sk-text-repr-fallback\"><pre>Pipeline(steps=[(&#x27;data_preprocessing&#x27;,\n",
              "                 ColumnTransformer(transformers=[(&#x27;numerical_pre&#x27;,\n",
              "                                                  Pipeline(steps=[(&#x27;num_scaler&#x27;,\n",
              "                                                                   MinMaxScaler())]),\n",
              "                                                  [&#x27;time&#x27;, &#x27;log_votes&#x27;]),\n",
              "                                                 (&#x27;text_pre_0&#x27;,\n",
              "                                                  Pipeline(steps=[(&#x27;text_vect_0&#x27;,\n",
              "                                                                   CountVectorizer(binary=True,\n",
              "                                                                                   max_features=50))]),\n",
              "                                                  &#x27;summary&#x27;),\n",
              "                                                 (&#x27;text_pre_1&#x27;,\n",
              "                                                  Pipeline(steps=[(&#x27;text_vect_1&#x27;,\n",
              "                                                                   CountVectorizer(binary=True,\n",
              "                                                                                   max_features=150))]),\n",
              "                                                  &#x27;reviewText&#x27;)])),\n",
              "                (&#x27;logistic_regression&#x27;, LogisticRegression(C=0.1))])</pre><b>In a Jupyter environment, please rerun this cell to show the HTML representation or trust the notebook. <br />On GitHub, the HTML representation is unable to render, please try loading this page with nbviewer.org.</b></div><div class=\"sk-container\" hidden><div class=\"sk-item sk-dashed-wrapped\"><div class=\"sk-label-container\"><div class=\"sk-label sk-toggleable\"><input class=\"sk-toggleable__control sk-hidden--visually\" id=\"sk-estimator-id-1\" type=\"checkbox\" ><label for=\"sk-estimator-id-1\" class=\"sk-toggleable__label sk-toggleable__label-arrow\">Pipeline</label><div class=\"sk-toggleable__content\"><pre>Pipeline(steps=[(&#x27;data_preprocessing&#x27;,\n",
              "                 ColumnTransformer(transformers=[(&#x27;numerical_pre&#x27;,\n",
              "                                                  Pipeline(steps=[(&#x27;num_scaler&#x27;,\n",
              "                                                                   MinMaxScaler())]),\n",
              "                                                  [&#x27;time&#x27;, &#x27;log_votes&#x27;]),\n",
              "                                                 (&#x27;text_pre_0&#x27;,\n",
              "                                                  Pipeline(steps=[(&#x27;text_vect_0&#x27;,\n",
              "                                                                   CountVectorizer(binary=True,\n",
              "                                                                                   max_features=50))]),\n",
              "                                                  &#x27;summary&#x27;),\n",
              "                                                 (&#x27;text_pre_1&#x27;,\n",
              "                                                  Pipeline(steps=[(&#x27;text_vect_1&#x27;,\n",
              "                                                                   CountVectorizer(binary=True,\n",
              "                                                                                   max_features=150))]),\n",
              "                                                  &#x27;reviewText&#x27;)])),\n",
              "                (&#x27;logistic_regression&#x27;, LogisticRegression(C=0.1))])</pre></div></div></div><div class=\"sk-serial\"><div class=\"sk-item sk-dashed-wrapped\"><div class=\"sk-label-container\"><div class=\"sk-label sk-toggleable\"><input class=\"sk-toggleable__control sk-hidden--visually\" id=\"sk-estimator-id-2\" type=\"checkbox\" ><label for=\"sk-estimator-id-2\" class=\"sk-toggleable__label sk-toggleable__label-arrow\">data_preprocessing: ColumnTransformer</label><div class=\"sk-toggleable__content\"><pre>ColumnTransformer(transformers=[(&#x27;numerical_pre&#x27;,\n",
              "                                 Pipeline(steps=[(&#x27;num_scaler&#x27;,\n",
              "                                                  MinMaxScaler())]),\n",
              "                                 [&#x27;time&#x27;, &#x27;log_votes&#x27;]),\n",
              "                                (&#x27;text_pre_0&#x27;,\n",
              "                                 Pipeline(steps=[(&#x27;text_vect_0&#x27;,\n",
              "                                                  CountVectorizer(binary=True,\n",
              "                                                                  max_features=50))]),\n",
              "                                 &#x27;summary&#x27;),\n",
              "                                (&#x27;text_pre_1&#x27;,\n",
              "                                 Pipeline(steps=[(&#x27;text_vect_1&#x27;,\n",
              "                                                  CountVectorizer(binary=True,\n",
              "                                                                  max_features=150))]),\n",
              "                                 &#x27;reviewText&#x27;)])</pre></div></div></div><div class=\"sk-parallel\"><div class=\"sk-parallel-item\"><div class=\"sk-item\"><div class=\"sk-label-container\"><div class=\"sk-label sk-toggleable\"><input class=\"sk-toggleable__control sk-hidden--visually\" id=\"sk-estimator-id-3\" type=\"checkbox\" ><label for=\"sk-estimator-id-3\" class=\"sk-toggleable__label sk-toggleable__label-arrow\">numerical_pre</label><div class=\"sk-toggleable__content\"><pre>[&#x27;time&#x27;, &#x27;log_votes&#x27;]</pre></div></div></div><div class=\"sk-serial\"><div class=\"sk-item\"><div class=\"sk-serial\"><div class=\"sk-item\"><div class=\"sk-estimator sk-toggleable\"><input class=\"sk-toggleable__control sk-hidden--visually\" id=\"sk-estimator-id-4\" type=\"checkbox\" ><label for=\"sk-estimator-id-4\" class=\"sk-toggleable__label sk-toggleable__label-arrow\">MinMaxScaler</label><div class=\"sk-toggleable__content\"><pre>MinMaxScaler()</pre></div></div></div></div></div></div></div></div><div class=\"sk-parallel-item\"><div class=\"sk-item\"><div class=\"sk-label-container\"><div class=\"sk-label sk-toggleable\"><input class=\"sk-toggleable__control sk-hidden--visually\" id=\"sk-estimator-id-5\" type=\"checkbox\" ><label for=\"sk-estimator-id-5\" class=\"sk-toggleable__label sk-toggleable__label-arrow\">text_pre_0</label><div class=\"sk-toggleable__content\"><pre>summary</pre></div></div></div><div class=\"sk-serial\"><div class=\"sk-item\"><div class=\"sk-serial\"><div class=\"sk-item\"><div class=\"sk-estimator sk-toggleable\"><input class=\"sk-toggleable__control sk-hidden--visually\" id=\"sk-estimator-id-6\" type=\"checkbox\" ><label for=\"sk-estimator-id-6\" class=\"sk-toggleable__label sk-toggleable__label-arrow\">CountVectorizer</label><div class=\"sk-toggleable__content\"><pre>CountVectorizer(binary=True, max_features=50)</pre></div></div></div></div></div></div></div></div><div class=\"sk-parallel-item\"><div class=\"sk-item\"><div class=\"sk-label-container\"><div class=\"sk-label sk-toggleable\"><input class=\"sk-toggleable__control sk-hidden--visually\" id=\"sk-estimator-id-7\" type=\"checkbox\" ><label for=\"sk-estimator-id-7\" class=\"sk-toggleable__label sk-toggleable__label-arrow\">text_pre_1</label><div class=\"sk-toggleable__content\"><pre>reviewText</pre></div></div></div><div class=\"sk-serial\"><div class=\"sk-item\"><div class=\"sk-serial\"><div class=\"sk-item\"><div class=\"sk-estimator sk-toggleable\"><input class=\"sk-toggleable__control sk-hidden--visually\" id=\"sk-estimator-id-8\" type=\"checkbox\" ><label for=\"sk-estimator-id-8\" class=\"sk-toggleable__label sk-toggleable__label-arrow\">CountVectorizer</label><div class=\"sk-toggleable__content\"><pre>CountVectorizer(binary=True, max_features=150)</pre></div></div></div></div></div></div></div></div></div></div><div class=\"sk-item\"><div class=\"sk-estimator sk-toggleable\"><input class=\"sk-toggleable__control sk-hidden--visually\" id=\"sk-estimator-id-9\" type=\"checkbox\" ><label for=\"sk-estimator-id-9\" class=\"sk-toggleable__label sk-toggleable__label-arrow\">LogisticRegression</label><div class=\"sk-toggleable__content\"><pre>LogisticRegression(C=0.1)</pre></div></div></div></div></div></div></div>"
            ]
          },
          "metadata": {},
          "execution_count": 13
        }
      ],
      "source": [
        "from sklearn.impute import SimpleImputer\n",
        "from sklearn.preprocessing import MinMaxScaler\n",
        "from sklearn.feature_extraction.text import CountVectorizer\n",
        "from sklearn.pipeline import Pipeline\n",
        "from sklearn.compose import ColumnTransformer\n",
        "from sklearn.linear_model import LogisticRegression\n",
        "\n",
        "### COLUMN_TRANSFORMER ###\n",
        "##########################\n",
        "\n",
        "# Preprocess the numerical features\n",
        "numerical_processor = Pipeline([\n",
        "    ('num_scaler', MinMaxScaler())\n",
        "])\n",
        "\n",
        "# Preprocess 1st text feature\n",
        "text_processor_0 = Pipeline([\n",
        "    ('text_vect_0', CountVectorizer(binary=True, max_features=50))\n",
        "])\n",
        "\n",
        "# Preprocess 2nd text feature (larger vocabulary)\n",
        "text_precessor_1 = Pipeline([\n",
        "    ('text_vect_1', CountVectorizer(binary=True, max_features=150))\n",
        "])\n",
        "\n",
        "# Combine all data preprocessors from above (add more, if you choose to define more!)\n",
        "# For each processor/step specify: a name, the actual process, and finally the features to be processed\n",
        "data_preprocessor = ColumnTransformer([\n",
        "    ('numerical_pre', numerical_processor, numerical_features),\n",
        "    ('text_pre_0', text_processor_0, text_features[0]),\n",
        "    ('text_pre_1', text_precessor_1, text_features[1])\n",
        "])\n",
        "\n",
        "### PIPELINE ###\n",
        "################\n",
        "\n",
        "# Pipeline desired all data transformers, along with an estimator at the end\n",
        "# Later you can set/reach the parameters using the names issued - for hyperparameter tuning, for example\n",
        "pipeline = Pipeline([\n",
        "    ('data_preprocessing', data_preprocessor),\n",
        "    ('logistic_regression', LogisticRegression(penalty = 'l2',\n",
        "                              C = 0.1))\n",
        "                    ])\n",
        "\n",
        "# Visualize the pipeline\n",
        "# This will come in handy especially when building more complex pipelines, stringing together multiple preprocessing steps\n",
        "from sklearn import set_config\n",
        "set_config(display='diagram')\n",
        "pipeline"
      ]
    },
    {
      "cell_type": "markdown",
      "metadata": {
        "id": "0hCey4tWZ2EC"
      },
      "source": [
        "## 6. <a name=\"6\">Fit the classifier</a>\n",
        "(<a href=\"#0\">Go to top</a>)\n",
        "\n",
        "We train our model by using __.fit()__ on our training dataset.\n"
      ]
    },
    {
      "cell_type": "code",
      "execution_count": 14,
      "metadata": {
        "colab": {
          "base_uri": "https://localhost:8080/",
          "height": 191
        },
        "id": "xaqbxY10Z2EC",
        "outputId": "3e13e2de-b70f-4414-91b9-ec60f2a01954"
      },
      "outputs": [
        {
          "output_type": "execute_result",
          "data": {
            "text/plain": [
              "Pipeline(steps=[('data_preprocessing',\n",
              "                 ColumnTransformer(transformers=[('numerical_pre',\n",
              "                                                  Pipeline(steps=[('num_scaler',\n",
              "                                                                   MinMaxScaler())]),\n",
              "                                                  ['time', 'log_votes']),\n",
              "                                                 ('text_pre_0',\n",
              "                                                  Pipeline(steps=[('text_vect_0',\n",
              "                                                                   CountVectorizer(binary=True,\n",
              "                                                                                   max_features=50))]),\n",
              "                                                  'summary'),\n",
              "                                                 ('text_pre_1',\n",
              "                                                  Pipeline(steps=[('text_vect_1',\n",
              "                                                                   CountVectorizer(binary=True,\n",
              "                                                                                   max_features=150))]),\n",
              "                                                  'reviewText')])),\n",
              "                ('logistic_regression', LogisticRegression(C=0.1))])"
            ],
            "text/html": [
              "<style>#sk-container-id-2 {color: black;background-color: white;}#sk-container-id-2 pre{padding: 0;}#sk-container-id-2 div.sk-toggleable {background-color: white;}#sk-container-id-2 label.sk-toggleable__label {cursor: pointer;display: block;width: 100%;margin-bottom: 0;padding: 0.3em;box-sizing: border-box;text-align: center;}#sk-container-id-2 label.sk-toggleable__label-arrow:before {content: \"▸\";float: left;margin-right: 0.25em;color: #696969;}#sk-container-id-2 label.sk-toggleable__label-arrow:hover:before {color: black;}#sk-container-id-2 div.sk-estimator:hover label.sk-toggleable__label-arrow:before {color: black;}#sk-container-id-2 div.sk-toggleable__content {max-height: 0;max-width: 0;overflow: hidden;text-align: left;background-color: #f0f8ff;}#sk-container-id-2 div.sk-toggleable__content pre {margin: 0.2em;color: black;border-radius: 0.25em;background-color: #f0f8ff;}#sk-container-id-2 input.sk-toggleable__control:checked~div.sk-toggleable__content {max-height: 200px;max-width: 100%;overflow: auto;}#sk-container-id-2 input.sk-toggleable__control:checked~label.sk-toggleable__label-arrow:before {content: \"▾\";}#sk-container-id-2 div.sk-estimator input.sk-toggleable__control:checked~label.sk-toggleable__label {background-color: #d4ebff;}#sk-container-id-2 div.sk-label input.sk-toggleable__control:checked~label.sk-toggleable__label {background-color: #d4ebff;}#sk-container-id-2 input.sk-hidden--visually {border: 0;clip: rect(1px 1px 1px 1px);clip: rect(1px, 1px, 1px, 1px);height: 1px;margin: -1px;overflow: hidden;padding: 0;position: absolute;width: 1px;}#sk-container-id-2 div.sk-estimator {font-family: monospace;background-color: #f0f8ff;border: 1px dotted black;border-radius: 0.25em;box-sizing: border-box;margin-bottom: 0.5em;}#sk-container-id-2 div.sk-estimator:hover {background-color: #d4ebff;}#sk-container-id-2 div.sk-parallel-item::after {content: \"\";width: 100%;border-bottom: 1px solid gray;flex-grow: 1;}#sk-container-id-2 div.sk-label:hover label.sk-toggleable__label {background-color: #d4ebff;}#sk-container-id-2 div.sk-serial::before {content: \"\";position: absolute;border-left: 1px solid gray;box-sizing: border-box;top: 0;bottom: 0;left: 50%;z-index: 0;}#sk-container-id-2 div.sk-serial {display: flex;flex-direction: column;align-items: center;background-color: white;padding-right: 0.2em;padding-left: 0.2em;position: relative;}#sk-container-id-2 div.sk-item {position: relative;z-index: 1;}#sk-container-id-2 div.sk-parallel {display: flex;align-items: stretch;justify-content: center;background-color: white;position: relative;}#sk-container-id-2 div.sk-item::before, #sk-container-id-2 div.sk-parallel-item::before {content: \"\";position: absolute;border-left: 1px solid gray;box-sizing: border-box;top: 0;bottom: 0;left: 50%;z-index: -1;}#sk-container-id-2 div.sk-parallel-item {display: flex;flex-direction: column;z-index: 1;position: relative;background-color: white;}#sk-container-id-2 div.sk-parallel-item:first-child::after {align-self: flex-end;width: 50%;}#sk-container-id-2 div.sk-parallel-item:last-child::after {align-self: flex-start;width: 50%;}#sk-container-id-2 div.sk-parallel-item:only-child::after {width: 0;}#sk-container-id-2 div.sk-dashed-wrapped {border: 1px dashed gray;margin: 0 0.4em 0.5em 0.4em;box-sizing: border-box;padding-bottom: 0.4em;background-color: white;}#sk-container-id-2 div.sk-label label {font-family: monospace;font-weight: bold;display: inline-block;line-height: 1.2em;}#sk-container-id-2 div.sk-label-container {text-align: center;}#sk-container-id-2 div.sk-container {/* jupyter's `normalize.less` sets `[hidden] { display: none; }` but bootstrap.min.css set `[hidden] { display: none !important; }` so we also need the `!important` here to be able to override the default hidden behavior on the sphinx rendered scikit-learn.org. See: https://github.com/scikit-learn/scikit-learn/issues/21755 */display: inline-block !important;position: relative;}#sk-container-id-2 div.sk-text-repr-fallback {display: none;}</style><div id=\"sk-container-id-2\" class=\"sk-top-container\"><div class=\"sk-text-repr-fallback\"><pre>Pipeline(steps=[(&#x27;data_preprocessing&#x27;,\n",
              "                 ColumnTransformer(transformers=[(&#x27;numerical_pre&#x27;,\n",
              "                                                  Pipeline(steps=[(&#x27;num_scaler&#x27;,\n",
              "                                                                   MinMaxScaler())]),\n",
              "                                                  [&#x27;time&#x27;, &#x27;log_votes&#x27;]),\n",
              "                                                 (&#x27;text_pre_0&#x27;,\n",
              "                                                  Pipeline(steps=[(&#x27;text_vect_0&#x27;,\n",
              "                                                                   CountVectorizer(binary=True,\n",
              "                                                                                   max_features=50))]),\n",
              "                                                  &#x27;summary&#x27;),\n",
              "                                                 (&#x27;text_pre_1&#x27;,\n",
              "                                                  Pipeline(steps=[(&#x27;text_vect_1&#x27;,\n",
              "                                                                   CountVectorizer(binary=True,\n",
              "                                                                                   max_features=150))]),\n",
              "                                                  &#x27;reviewText&#x27;)])),\n",
              "                (&#x27;logistic_regression&#x27;, LogisticRegression(C=0.1))])</pre><b>In a Jupyter environment, please rerun this cell to show the HTML representation or trust the notebook. <br />On GitHub, the HTML representation is unable to render, please try loading this page with nbviewer.org.</b></div><div class=\"sk-container\" hidden><div class=\"sk-item sk-dashed-wrapped\"><div class=\"sk-label-container\"><div class=\"sk-label sk-toggleable\"><input class=\"sk-toggleable__control sk-hidden--visually\" id=\"sk-estimator-id-10\" type=\"checkbox\" ><label for=\"sk-estimator-id-10\" class=\"sk-toggleable__label sk-toggleable__label-arrow\">Pipeline</label><div class=\"sk-toggleable__content\"><pre>Pipeline(steps=[(&#x27;data_preprocessing&#x27;,\n",
              "                 ColumnTransformer(transformers=[(&#x27;numerical_pre&#x27;,\n",
              "                                                  Pipeline(steps=[(&#x27;num_scaler&#x27;,\n",
              "                                                                   MinMaxScaler())]),\n",
              "                                                  [&#x27;time&#x27;, &#x27;log_votes&#x27;]),\n",
              "                                                 (&#x27;text_pre_0&#x27;,\n",
              "                                                  Pipeline(steps=[(&#x27;text_vect_0&#x27;,\n",
              "                                                                   CountVectorizer(binary=True,\n",
              "                                                                                   max_features=50))]),\n",
              "                                                  &#x27;summary&#x27;),\n",
              "                                                 (&#x27;text_pre_1&#x27;,\n",
              "                                                  Pipeline(steps=[(&#x27;text_vect_1&#x27;,\n",
              "                                                                   CountVectorizer(binary=True,\n",
              "                                                                                   max_features=150))]),\n",
              "                                                  &#x27;reviewText&#x27;)])),\n",
              "                (&#x27;logistic_regression&#x27;, LogisticRegression(C=0.1))])</pre></div></div></div><div class=\"sk-serial\"><div class=\"sk-item sk-dashed-wrapped\"><div class=\"sk-label-container\"><div class=\"sk-label sk-toggleable\"><input class=\"sk-toggleable__control sk-hidden--visually\" id=\"sk-estimator-id-11\" type=\"checkbox\" ><label for=\"sk-estimator-id-11\" class=\"sk-toggleable__label sk-toggleable__label-arrow\">data_preprocessing: ColumnTransformer</label><div class=\"sk-toggleable__content\"><pre>ColumnTransformer(transformers=[(&#x27;numerical_pre&#x27;,\n",
              "                                 Pipeline(steps=[(&#x27;num_scaler&#x27;,\n",
              "                                                  MinMaxScaler())]),\n",
              "                                 [&#x27;time&#x27;, &#x27;log_votes&#x27;]),\n",
              "                                (&#x27;text_pre_0&#x27;,\n",
              "                                 Pipeline(steps=[(&#x27;text_vect_0&#x27;,\n",
              "                                                  CountVectorizer(binary=True,\n",
              "                                                                  max_features=50))]),\n",
              "                                 &#x27;summary&#x27;),\n",
              "                                (&#x27;text_pre_1&#x27;,\n",
              "                                 Pipeline(steps=[(&#x27;text_vect_1&#x27;,\n",
              "                                                  CountVectorizer(binary=True,\n",
              "                                                                  max_features=150))]),\n",
              "                                 &#x27;reviewText&#x27;)])</pre></div></div></div><div class=\"sk-parallel\"><div class=\"sk-parallel-item\"><div class=\"sk-item\"><div class=\"sk-label-container\"><div class=\"sk-label sk-toggleable\"><input class=\"sk-toggleable__control sk-hidden--visually\" id=\"sk-estimator-id-12\" type=\"checkbox\" ><label for=\"sk-estimator-id-12\" class=\"sk-toggleable__label sk-toggleable__label-arrow\">numerical_pre</label><div class=\"sk-toggleable__content\"><pre>[&#x27;time&#x27;, &#x27;log_votes&#x27;]</pre></div></div></div><div class=\"sk-serial\"><div class=\"sk-item\"><div class=\"sk-serial\"><div class=\"sk-item\"><div class=\"sk-estimator sk-toggleable\"><input class=\"sk-toggleable__control sk-hidden--visually\" id=\"sk-estimator-id-13\" type=\"checkbox\" ><label for=\"sk-estimator-id-13\" class=\"sk-toggleable__label sk-toggleable__label-arrow\">MinMaxScaler</label><div class=\"sk-toggleable__content\"><pre>MinMaxScaler()</pre></div></div></div></div></div></div></div></div><div class=\"sk-parallel-item\"><div class=\"sk-item\"><div class=\"sk-label-container\"><div class=\"sk-label sk-toggleable\"><input class=\"sk-toggleable__control sk-hidden--visually\" id=\"sk-estimator-id-14\" type=\"checkbox\" ><label for=\"sk-estimator-id-14\" class=\"sk-toggleable__label sk-toggleable__label-arrow\">text_pre_0</label><div class=\"sk-toggleable__content\"><pre>summary</pre></div></div></div><div class=\"sk-serial\"><div class=\"sk-item\"><div class=\"sk-serial\"><div class=\"sk-item\"><div class=\"sk-estimator sk-toggleable\"><input class=\"sk-toggleable__control sk-hidden--visually\" id=\"sk-estimator-id-15\" type=\"checkbox\" ><label for=\"sk-estimator-id-15\" class=\"sk-toggleable__label sk-toggleable__label-arrow\">CountVectorizer</label><div class=\"sk-toggleable__content\"><pre>CountVectorizer(binary=True, max_features=50)</pre></div></div></div></div></div></div></div></div><div class=\"sk-parallel-item\"><div class=\"sk-item\"><div class=\"sk-label-container\"><div class=\"sk-label sk-toggleable\"><input class=\"sk-toggleable__control sk-hidden--visually\" id=\"sk-estimator-id-16\" type=\"checkbox\" ><label for=\"sk-estimator-id-16\" class=\"sk-toggleable__label sk-toggleable__label-arrow\">text_pre_1</label><div class=\"sk-toggleable__content\"><pre>reviewText</pre></div></div></div><div class=\"sk-serial\"><div class=\"sk-item\"><div class=\"sk-serial\"><div class=\"sk-item\"><div class=\"sk-estimator sk-toggleable\"><input class=\"sk-toggleable__control sk-hidden--visually\" id=\"sk-estimator-id-17\" type=\"checkbox\" ><label for=\"sk-estimator-id-17\" class=\"sk-toggleable__label sk-toggleable__label-arrow\">CountVectorizer</label><div class=\"sk-toggleable__content\"><pre>CountVectorizer(binary=True, max_features=150)</pre></div></div></div></div></div></div></div></div></div></div><div class=\"sk-item\"><div class=\"sk-estimator sk-toggleable\"><input class=\"sk-toggleable__control sk-hidden--visually\" id=\"sk-estimator-id-18\" type=\"checkbox\" ><label for=\"sk-estimator-id-18\" class=\"sk-toggleable__label sk-toggleable__label-arrow\">LogisticRegression</label><div class=\"sk-toggleable__content\"><pre>LogisticRegression(C=0.1)</pre></div></div></div></div></div></div></div>"
            ]
          },
          "metadata": {},
          "execution_count": 14
        }
      ],
      "source": [
        "# Fit the Pipeline to training data\n",
        "pipeline.fit(X_train, y_train.values)"
      ]
    },
    {
      "cell_type": "markdown",
      "metadata": {
        "id": "s4TI030OZ2EC"
      },
      "source": [
        "## 7. <a name=\"7\">Test the classifier</a>\n",
        "(<a href=\"#0\">Go to top</a>)\n",
        "\n",
        "Let's evaluate the performance of the trained classifier. We use __.predict()__ this time."
      ]
    },
    {
      "cell_type": "code",
      "execution_count": 15,
      "metadata": {
        "colab": {
          "base_uri": "https://localhost:8080/"
        },
        "id": "lWQnVtRoZ2EC",
        "outputId": "b3149745-aa9a-48d9-eaa7-04dd9e6fd6b6"
      },
      "outputs": [
        {
          "output_type": "stream",
          "name": "stdout",
          "text": [
            "[[1995  610]\n",
            " [ 450 3945]]\n",
            "              precision    recall  f1-score   support\n",
            "\n",
            "         0.0       0.82      0.77      0.79      2605\n",
            "         1.0       0.87      0.90      0.88      4395\n",
            "\n",
            "    accuracy                           0.85      7000\n",
            "   macro avg       0.84      0.83      0.84      7000\n",
            "weighted avg       0.85      0.85      0.85      7000\n",
            "\n",
            "Accuracy (validation): 0.8485714285714285\n"
          ]
        }
      ],
      "source": [
        "from sklearn.metrics import confusion_matrix, classification_report, accuracy_score\n",
        "\n",
        "# Use the fitted pipeline to make predictions on the validation dataset\n",
        "val_predictions = pipeline.predict(X_val)\n",
        "print(confusion_matrix(y_val.values, val_predictions))\n",
        "print(classification_report(y_val.values, val_predictions))\n",
        "print(\"Accuracy (validation):\", accuracy_score(y_val.values, val_predictions))"
      ]
    },
    {
      "cell_type": "markdown",
      "metadata": {
        "id": "sFxjtIspZ2ED"
      },
      "source": [
        "## 8. <a name=\"8\">Ideas for improvement: Probability threshold calibration (optional)</a>\n",
        "(<a href=\"#0\">Go to top</a>)\n",
        "\n",
        "Besides tuning __LogisticRegression__ hyperparameter values, one other path to improve a classifier's performance is to dig deeper into how the classifier actually assigns class membership.\n",
        "\n",
        "**Binary predictions versus probability predictions.** We often use __classifier.predict()__ to examine classifier binary predictions, while in fact the outputs of most classifiers are real-valued, not binary. For most classifiers in sklearn, the method __classifier.predict_proba()__ returns class probabilities as a two-dimensional numpy array of shape (n_samples, n_classes) where the classes are lexicographically ordered.\n",
        "\n",
        "For our example, let's look at the first 5 predictions we made, in binary format and in real-valued probability format:"
      ]
    },
    {
      "cell_type": "code",
      "execution_count": 16,
      "metadata": {
        "colab": {
          "base_uri": "https://localhost:8080/"
        },
        "id": "VtKP2xwHZ2ED",
        "outputId": "b3dc2886-a064-4a2d-fa0e-c2899a75d652"
      },
      "outputs": [
        {
          "output_type": "execute_result",
          "data": {
            "text/plain": [
              "array([1., 1., 1., 1., 0.])"
            ]
          },
          "metadata": {},
          "execution_count": 16
        }
      ],
      "source": [
        "pipeline.predict(X_val)[0:5]"
      ]
    },
    {
      "cell_type": "code",
      "execution_count": 17,
      "metadata": {
        "colab": {
          "base_uri": "https://localhost:8080/"
        },
        "id": "WsHauKS6Z2ED",
        "outputId": "b5cce4a2-6ad6-4edc-b4cd-8b6004c4dcc8"
      },
      "outputs": [
        {
          "output_type": "execute_result",
          "data": {
            "text/plain": [
              "array([[0.03677896, 0.96322104],\n",
              "       [0.03782395, 0.96217605],\n",
              "       [0.09222425, 0.90777575],\n",
              "       [0.01059353, 0.98940647],\n",
              "       [0.84317225, 0.15682775]])"
            ]
          },
          "metadata": {},
          "execution_count": 17
        }
      ],
      "source": [
        "pipeline.predict_proba(X_val)[0:5]"
      ]
    },
    {
      "cell_type": "markdown",
      "metadata": {
        "id": "8dSBRUqTZ2ED"
      },
      "source": [
        "**How are the predicted probabilities used to decide class membership?** On each row of predict_proba output, the probabilities values sum to 1. There are two columns, one for each response class: column 0 - predicted probability that each observation is a member of class 0; column 1 - predicted probability that each observation is a member of class 1. From the predicted probabilities, choose the class with the highest probability.\n",
        "\n",
        "The key here is that a **threshold of 0.5** is used by default (for binary problems) to convert predicted probabilities into class predictions: class 0, if predicted probability is less than 0.5; class 1, if predicted probability is greater than 0.5.\n",
        "\n",
        "**Can we improve classifier performance by changing the classification threshold?** Let's **adjust** the classification threshold to influence the performance of the classifier.\n"
      ]
    },
    {
      "cell_type": "markdown",
      "metadata": {
        "id": "-VlHN7k2Z2ED"
      },
      "source": [
        "### 8.1 Threshold calibration to improve model accuracy\n",
        "\n",
        "We calculate the accuracy using different values for the classification threshold, and pick the threshold that resulted in the highest accuracy."
      ]
    },
    {
      "cell_type": "code",
      "execution_count": 18,
      "metadata": {
        "colab": {
          "base_uri": "https://localhost:8080/",
          "height": 489
        },
        "id": "QfMLRimEZ2EE",
        "outputId": "1fcbcf63-9ce6-4616-dfe4-79e22715b520"
      },
      "outputs": [
        {
          "output_type": "stream",
          "name": "stdout",
          "text": [
            "Highest Accuracy on Validation: 0.8491428571428571 , Threshold for the highest Accuracy: 0.51\n"
          ]
        },
        {
          "output_type": "display_data",
          "data": {
            "text/plain": [
              "<Figure size 640x480 with 1 Axes>"
            ],
            "image/png": "[encoded data removed]"
          },
          "metadata": {}
        }
      ],
      "source": [
        "%matplotlib inline\n",
        "import numpy as np\n",
        "import matplotlib.pyplot as plt\n",
        "\n",
        "# Calculate the accuracy using different values for the classification threshold,\n",
        "# and pick the threshold that resulted in the highest accuracy.\n",
        "highest_accuracy = 0\n",
        "threshold_highest_accuracy = 0\n",
        "\n",
        "thresholds = np.arange(0,1,0.01)\n",
        "scores = []\n",
        "for t in thresholds:\n",
        "    # set threshold to 't' instead of 0.5\n",
        "    y_val_other = (pipeline.predict_proba(X_val)[:,1] >= t).astype(float)\n",
        "    score = accuracy_score(y_val, y_val_other)\n",
        "    scores.append(score)\n",
        "    if(score > highest_accuracy):\n",
        "        highest_accuracy = score\n",
        "        threshold_highest_accuracy = t\n",
        "print(\"Highest Accuracy on Validation:\", highest_accuracy, \\\n",
        "      \", Threshold for the highest Accuracy:\", threshold_highest_accuracy)\n",
        "\n",
        "# Let's plot the accuracy versus different choices of thresholds\n",
        "plt.plot([0.5, 0.5], [np.min(scores), np.max(scores)], linestyle='--')\n",
        "plt.plot(thresholds, scores, marker='.')\n",
        "plt.title('Accuracy versus different choices of thresholds')\n",
        "plt.xlabel('Threshold')\n",
        "plt.ylabel('Accuracy')\n",
        "plt.show()"
      ]
    },
    {
      "cell_type": "markdown",
      "metadata": {
        "id": "Ful1mq2iZ2EE"
      },
      "source": [
        "### 8.2 Threshold calibration to improve model F1 score\n",
        "\n",
        "Similarly, various choices of classification thresholds would affect the Precision and Recall metrics. Precision and Recall are usually trade offs of each other, so when you can improve both at the same time, your model's overall performance is undeniably improved. To choose a threshold that balances Precision and Recall, we can plot the Precision-Recall curve and pick the point with the highest F1 score."
      ]
    },
    {
      "cell_type": "code",
      "execution_count": 19,
      "metadata": {
        "id": "1K3ip_aeZ2EE"
      },
      "outputs": [],
      "source": [
        "%matplotlib inline\n",
        "import matplotlib.pyplot as plt\n",
        "from sklearn.metrics import precision_recall_curve\n",
        "\n",
        "# Calculate the precision and recall using different values for the classification threshold\n",
        "val_predictions_probs = pipeline.predict_proba(X_val)\n",
        "precisions, recalls, thresholds = precision_recall_curve(y_val, val_predictions_probs[:, 1])"
      ]
    },
    {
      "cell_type": "markdown",
      "metadata": {
        "id": "mzQO_hHqZ2EE"
      },
      "source": [
        "Using the Precision and Recall values from the curve above, we calculate the F1 scores using:\n",
        "\n",
        "$$\\text{F1_score} = \\frac{2*(\\text{Precision} * \\text{Recall})}{(\\text{Precision} + \\text{Recall})}$$\n",
        "\n",
        "and pick the threshold that gives the highest F1 score."
      ]
    },
    {
      "cell_type": "code",
      "execution_count": null,
      "metadata": {
        "id": "ckAAZa3yZ2EF",
        "outputId": "39270f14-3082-40e9-a2a9-03c46b378bc5"
      },
      "outputs": [
        {
          "name": "stdout",
          "output_type": "stream",
          "text": [
            "Highest F1 score on Validation: 0.8826827690317015 , Threshold for the highest F1 score: 0.4090877401871203\n"
          ]
        },
        {
          "data": {
            "image/png": "[encoded data removed]",
            "text/plain": [
              "<Figure size 640x480 with 1 Axes>"
            ]
          },
          "metadata": {},
          "output_type": "display_data"
        }
      ],
      "source": [
        "%matplotlib inline\n",
        "import numpy as np\n",
        "import matplotlib.pyplot as plt\n",
        "\n",
        "# Calculate the F1 score using different values for the classification threshold,\n",
        "# and pick the threshold that resulted in the highest F1 score.\n",
        "highest_f1 = 0\n",
        "threshold_highest_f1 = 0\n",
        "\n",
        "f1_scores = []\n",
        "for id, threhold in enumerate(thresholds):\n",
        "    f1_score = 2*precisions[id]*recalls[id]/(precisions[id]+recalls[id])\n",
        "    f1_scores.append(f1_score)\n",
        "    if(f1_score > highest_f1):\n",
        "        highest_f1 = f1_score\n",
        "        threshold_highest_f1 = threhold\n",
        "print(\"Highest F1 score on Validation:\", highest_f1, \\\n",
        "      \", Threshold for the highest F1 score:\", threshold_highest_f1)\n",
        "\n",
        "# Let's plot the F1 score versus different choices of thresholds\n",
        "plt.plot([0.5, 0.5], [np.min(f1_scores), np.max(f1_scores)], linestyle='--')\n",
        "plt.plot(thresholds, f1_scores, marker='.')\n",
        "plt.title('F1 Score versus different choices of thresholds')\n",
        "plt.xlabel('Threshold')\n",
        "plt.ylabel('F1 Score')\n",
        "plt.show()"
      ]
    }
  ],
  "metadata": {
    "kernelspec": {
      "display_name": "conda_pytorch_p39",
      "language": "python",
      "name": "conda_pytorch_p39"
    },
    "language_info": {
      "codemirror_mode": {
        "name": "ipython",
        "version": 3
      },
      "file_extension": ".py",
      "mimetype": "text/x-python",
      "name": "python",
      "nbconvert_exporter": "python",
      "pygments_lexer": "ipython3",
      "version": "3.9.13"
    },
    "colab": {
      "provenance": [],
      "gpuType": "T4",
      "include_colab_link": true
    },
    "accelerator": "GPU"
  },
  "nbformat": 4,
  "nbformat_minor": 0
}